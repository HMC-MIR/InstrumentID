{
 "cells": [
  {
   "cell_type": "markdown",
   "metadata": {},
   "source": [
    "# Plotting results"
   ]
  },
  {
   "cell_type": "markdown",
   "metadata": {},
   "source": [
    "This notebook contains the code for generating the bar plots of model performance for various chunk sizes. The graphs are generated using Plotnine, which is a Python data visualization package that replicates R's ggplot."
   ]
  },
  {
   "cell_type": "code",
   "execution_count": 1,
   "metadata": {},
   "outputs": [],
   "source": [
    "import pandas as pd\n",
    "from plotnine import *\n",
    "from pathlib import Path\n",
    "from pandas.api.types import CategoricalDtype\n",
    "import numpy as np"
   ]
  },
  {
   "cell_type": "code",
   "execution_count": 2,
   "metadata": {},
   "outputs": [],
   "source": [
    "data_path = Path('./results')"
   ]
  },
  {
   "cell_type": "code",
   "execution_count": 15,
   "metadata": {},
   "outputs": [],
   "source": [
    "colors = [\"#00BA38\", \"#619CFF\", \"#e60000\"]"
   ]
  },
  {
   "cell_type": "code",
   "execution_count": 16,
   "metadata": {},
   "outputs": [],
   "source": [
    "model_categories = CategoricalDtype(categories=[\"CNN\", \"AWD-LSTM\", \"RoBERTa\", \"GPT-2\"], ordered=True)"
   ]
  },
  {
   "cell_type": "markdown",
   "metadata": {},
   "source": [
    "### Plot of proxy task accuracy for various pretraining levels"
   ]
  },
  {
   "cell_type": "code",
   "execution_count": 17,
   "metadata": {},
   "outputs": [],
   "source": [
    "chunks_df = pd.read_csv(data_path/'accuracy_by_chunk_size.csv')"
   ]
  },
  {
   "cell_type": "code",
   "execution_count": 18,
   "metadata": {},
   "outputs": [
    {
     "data": {
      "text/html": [
       "<div>\n",
       "<style scoped>\n",
       "    .dataframe tbody tr th:only-of-type {\n",
       "        vertical-align: middle;\n",
       "    }\n",
       "\n",
       "    .dataframe tbody tr th {\n",
       "        vertical-align: top;\n",
       "    }\n",
       "\n",
       "    .dataframe thead th {\n",
       "        text-align: right;\n",
       "    }\n",
       "</style>\n",
       "<table border=\"1\" class=\"dataframe\">\n",
       "  <thead>\n",
       "    <tr style=\"text-align: right;\">\n",
       "      <th></th>\n",
       "      <th>Chunk</th>\n",
       "      <th>Pretraining amount</th>\n",
       "      <th>Model</th>\n",
       "      <th>Accuracy</th>\n",
       "    </tr>\n",
       "  </thead>\n",
       "  <tbody>\n",
       "    <tr>\n",
       "      <th>0</th>\n",
       "      <td>Fragment 64</td>\n",
       "      <td>None</td>\n",
       "      <td>CNN</td>\n",
       "      <td>37.34</td>\n",
       "    </tr>\n",
       "    <tr>\n",
       "      <th>1</th>\n",
       "      <td>Fragment 64</td>\n",
       "      <td>None</td>\n",
       "      <td>AWD-LSTM</td>\n",
       "      <td>39.75</td>\n",
       "    </tr>\n",
       "    <tr>\n",
       "      <th>2</th>\n",
       "      <td>Fragment 64</td>\n",
       "      <td>None</td>\n",
       "      <td>RoBERTa</td>\n",
       "      <td>34.50</td>\n",
       "    </tr>\n",
       "    <tr>\n",
       "      <th>3</th>\n",
       "      <td>Fragment 64</td>\n",
       "      <td>None</td>\n",
       "      <td>GPT-2</td>\n",
       "      <td>32.10</td>\n",
       "    </tr>\n",
       "    <tr>\n",
       "      <th>4</th>\n",
       "      <td>Fragment 64</td>\n",
       "      <td>Labeled</td>\n",
       "      <td>AWD-LSTM</td>\n",
       "      <td>42.71</td>\n",
       "    </tr>\n",
       "  </tbody>\n",
       "</table>\n",
       "</div>"
      ],
      "text/plain": [
       "         Chunk Pretraining amount     Model  Accuracy\n",
       "0  Fragment 64               None       CNN     37.34\n",
       "1  Fragment 64               None  AWD-LSTM     39.75\n",
       "2  Fragment 64               None   RoBERTa     34.50\n",
       "3  Fragment 64               None     GPT-2     32.10\n",
       "4  Fragment 64            Labeled  AWD-LSTM     42.71"
      ]
     },
     "execution_count": 18,
     "metadata": {},
     "output_type": "execute_result"
    }
   ],
   "source": [
    "chunks_df.head()"
   ]
  },
  {
   "cell_type": "code",
   "execution_count": 19,
   "metadata": {},
   "outputs": [],
   "source": [
    "# convert these columns from object type to category and impose an ordering for plotting\n",
    "model_categories = CategoricalDtype(categories=[\"CNN\", \"AWD-LSTM\", \"RoBERTa\", \"GPT-2\"], ordered=True)\n",
    "chunks_df.Model = chunks_df.Model.astype(model_categories)\n",
    "chunk_categories = CategoricalDtype(categories=[\"Fragment 64\", \"Fragment 128\", \"Fragment 256\"], ordered=True)\n",
    "chunks_df.Chunk = chunks_df.Chunk.astype(chunk_categories)\n",
    "pretraining_categories = CategoricalDtype(categories=[\"None\", \"Labeled\", \"Unlabeled\"], ordered=True)\n",
    "chunks_df['Pretraining amount'] = chunks_df['Pretraining amount'].astype(pretraining_categories)"
   ]
  },
  {
   "cell_type": "code",
   "execution_count": 20,
   "metadata": {},
   "outputs": [],
   "source": [
    "# generate abbreviated labels for each model\n",
    "model_to_name = {\"CNN\": \"CNN\", \"AWD-LSTM\":\"ALSTM\", \"RoBERTa\": \"RBRTa\", \"GPT-2\": \"GPT2\"}\n",
    "chunks_df.Model = chunks_df.Model.apply(lambda x: model_to_name[x])"
   ]
  },
  {
   "cell_type": "code",
   "execution_count": 22,
   "metadata": {},
   "outputs": [
    {
     "name": "stderr",
     "output_type": "stream",
     "text": [
      "/home/kji/.local/lib/python3.6/site-packages/plotnine/ggplot.py:729: PlotnineWarning: Saving 6.4 x 4.8 in image.\n",
      "  from_inches(height, units), units), PlotnineWarning)\n",
      "/home/kji/.local/lib/python3.6/site-packages/plotnine/ggplot.py:730: PlotnineWarning: Filename: ./accuracy_plot.png\n",
      "  warn('Filename: {}'.format(filename), PlotnineWarning)\n"
     ]
    }
   ],
   "source": [
    "# proxy task accuracies\n",
    "(ggplot(chunks_df, aes(x=\"Model\", y=\"Accuracy\", fill=\"Pretraining amount\")) +\n",
    "    geom_bar(width = 0.75, position=position_dodge2(preserve='single', width=0.95), stat='identity') +\n",
    "    scale_y_continuous(expand = [0, 0], breaks=range(0, 65, 10), limits = [0, 65]) +\n",
    "    scale_fill_manual(values=colors) +\n",
    "    facet_grid('. ~ Chunk') +\n",
    "    theme_bw() + \n",
    "    labs(y = \"Accuracy (%)\") +\n",
    "    theme(dpi=300, legend_position=(0.5, 0.03), legend_direction=\"horizontal\", legend_title_align='bottom', \n",
    "            legend_background=element_blank(),\n",
    "            legend_title = element_text(size=10),\n",
    "            strip_background = element_rect(fill=\"#ebebeb\"),\n",
    "            plot_title = element_text(size=14, colour='black', margin={'b': 12}),\n",
    "            axis_text_x = element_text(size = 8, colour='black'),\n",
    "            axis_text_y = element_text(size = 12, colour='black'), \n",
    "            axis_title_x = element_blank(),\n",
    "            axis_title_y = element_text(size = 12, margin={'r': 6})) +\n",
    "    guides(fill=guide_legend(title=\"Pretraining:\", title_position='left', label_position=\"right\"))).save('./accuracy_plot.png')"
   ]
  },
  {
   "cell_type": "markdown",
   "metadata": {},
   "source": [
    "### Plot of Macro F1 for various pretraining levels"
   ]
  },
  {
   "cell_type": "code",
   "execution_count": 34,
   "metadata": {},
   "outputs": [],
   "source": [
    "finalized_f1_df = pd.read_csv(data_path/'finalized_f1.csv')"
   ]
  },
  {
   "cell_type": "code",
   "execution_count": 35,
   "metadata": {},
   "outputs": [],
   "source": [
    "# convert these columns from object type to category and impose an ordering for plotting\n",
    "model_categories = CategoricalDtype(categories=[\"CNN\", \"AWD-LSTM\", \"RoBERTa\", \"GPT-2\"], ordered=True)\n",
    "finalized_f1_df.Model = finalized_f1_df.Model.astype(model_categories)\n",
    "chunk_categories = CategoricalDtype(categories=[\"Fragment 64\", \"Fragment 128\", \"Fragment 256\"], ordered=True)\n",
    "finalized_f1_df.Chunk = finalized_f1_df.Chunk.astype(chunk_categories)\n",
    "pretraining_categories = CategoricalDtype(categories=[\"None\", \"Labeled\", \"Unlabeled\"], ordered=True)\n",
    "finalized_f1_df['Pretraining'] = finalized_f1_df['Pretraining'].astype(pretraining_categories)"
   ]
  },
  {
   "cell_type": "code",
   "execution_count": 36,
   "metadata": {},
   "outputs": [],
   "source": [
    "# generate abbreviated labels for each model\n",
    "model_to_name = {\"CNN\": \"CNN\", \"AWD-LSTM\":\"ALSTM\", \"RoBERTa\": \"RBRTa\", \"GPT-2\": \"GPT2\"}\n",
    "finalized_f1_df.Model = finalized_f1_df.Model.apply(lambda x: model_to_name[x])"
   ]
  },
  {
   "cell_type": "code",
   "execution_count": 37,
   "metadata": {},
   "outputs": [
    {
     "data": {
      "text/html": [
       "<div>\n",
       "<style scoped>\n",
       "    .dataframe tbody tr th:only-of-type {\n",
       "        vertical-align: middle;\n",
       "    }\n",
       "\n",
       "    .dataframe tbody tr th {\n",
       "        vertical-align: top;\n",
       "    }\n",
       "\n",
       "    .dataframe thead th {\n",
       "        text-align: right;\n",
       "    }\n",
       "</style>\n",
       "<table border=\"1\" class=\"dataframe\">\n",
       "  <thead>\n",
       "    <tr style=\"text-align: right;\">\n",
       "      <th></th>\n",
       "      <th>Chunk</th>\n",
       "      <th>Pretraining</th>\n",
       "      <th>Model</th>\n",
       "      <th>Macro F1</th>\n",
       "    </tr>\n",
       "  </thead>\n",
       "  <tbody>\n",
       "    <tr>\n",
       "      <th>0</th>\n",
       "      <td>Fragment 64</td>\n",
       "      <td>None</td>\n",
       "      <td>CNN</td>\n",
       "      <td>0.3932</td>\n",
       "    </tr>\n",
       "    <tr>\n",
       "      <th>1</th>\n",
       "      <td>Fragment 64</td>\n",
       "      <td>None</td>\n",
       "      <td>ALSTM</td>\n",
       "      <td>0.3310</td>\n",
       "    </tr>\n",
       "    <tr>\n",
       "      <th>2</th>\n",
       "      <td>Fragment 64</td>\n",
       "      <td>None</td>\n",
       "      <td>RBRTa</td>\n",
       "      <td>0.4520</td>\n",
       "    </tr>\n",
       "    <tr>\n",
       "      <th>3</th>\n",
       "      <td>Fragment 64</td>\n",
       "      <td>None</td>\n",
       "      <td>GPT2</td>\n",
       "      <td>0.4410</td>\n",
       "    </tr>\n",
       "    <tr>\n",
       "      <th>4</th>\n",
       "      <td>Fragment 64</td>\n",
       "      <td>Labeled</td>\n",
       "      <td>ALSTM</td>\n",
       "      <td>0.5060</td>\n",
       "    </tr>\n",
       "  </tbody>\n",
       "</table>\n",
       "</div>"
      ],
      "text/plain": [
       "         Chunk Pretraining  Model  Macro F1\n",
       "0  Fragment 64        None    CNN    0.3932\n",
       "1  Fragment 64        None  ALSTM    0.3310\n",
       "2  Fragment 64        None  RBRTa    0.4520\n",
       "3  Fragment 64        None   GPT2    0.4410\n",
       "4  Fragment 64     Labeled  ALSTM    0.5060"
      ]
     },
     "execution_count": 37,
     "metadata": {},
     "output_type": "execute_result"
    }
   ],
   "source": [
    "finalized_f1_df.head()"
   ]
  },
  {
   "cell_type": "code",
   "execution_count": 38,
   "metadata": {},
   "outputs": [
    {
     "name": "stderr",
     "output_type": "stream",
     "text": [
      "/home/kji/.local/lib/python3.6/site-packages/plotnine/ggplot.py:729: PlotnineWarning: Saving 6.4 x 4.8 in image.\n",
      "  from_inches(height, units), units), PlotnineWarning)\n",
      "/home/kji/.local/lib/python3.6/site-packages/plotnine/ggplot.py:730: PlotnineWarning: Filename: ./f1_plot.png\n",
      "  warn('Filename: {}'.format(filename), PlotnineWarning)\n"
     ]
    }
   ],
   "source": [
    "# proxy task F1 scores\n",
    "(ggplot(finalized_f1_df, aes(x=\"Model\", y=\"Macro F1\", fill=\"Pretraining\")) +\n",
    "    geom_bar(width = 0.75, position=position_dodge2(preserve='single', width=0.95), stat='identity') +\n",
    "    scale_y_continuous(expand = [0, 0], breaks=np.arange(0.0, 0.75, 0.1), limits = [0, 0.71]) +\n",
    "    scale_fill_manual(values=colors) +\n",
    "    facet_grid('. ~ Chunk') +\n",
    "    theme_bw() + \n",
    "    labs(y = \"Macro F1\") +\n",
    "    theme(dpi=300, legend_position=(0.5, 0.03), legend_direction=\"horizontal\", legend_title_align='bottom', \n",
    "            legend_background=element_blank(),\n",
    "            legend_title = element_text(size=10),\n",
    "            strip_background = element_rect(fill=\"#ebebeb\"),\n",
    "            plot_title = element_text(size=14, colour='black', margin={'b': 12}),\n",
    "            axis_text_x = element_text(size = 8, colour='black'),\n",
    "            axis_text_y = element_text(size = 12, colour='black'), \n",
    "            axis_title_x = element_blank(),\n",
    "            axis_title_y = element_text(size = 12, margin={'r': 6})) +\n",
    "    guides(fill=guide_legend(title=\"Pretraining:\", title_position='left', label_position=\"right\"))).save('./f1_plot.png')"
   ]
  },
  {
   "cell_type": "code",
   "execution_count": null,
   "metadata": {},
   "outputs": [],
   "source": []
  }
 ],
 "metadata": {
  "kernelspec": {
   "display_name": "Python 3",
   "language": "python",
   "name": "python3"
  },
  "language_info": {
   "codemirror_mode": {
    "name": "ipython",
    "version": 3
   },
   "file_extension": ".py",
   "mimetype": "text/x-python",
   "name": "python",
   "nbconvert_exporter": "python",
   "pygments_lexer": "ipython3",
   "version": "3.6.7"
  }
 },
 "nbformat": 4,
 "nbformat_minor": 4
}
