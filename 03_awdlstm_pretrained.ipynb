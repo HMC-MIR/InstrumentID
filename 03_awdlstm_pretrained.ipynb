{
 "cells": [
  {
   "cell_type": "markdown",
   "metadata": {},
   "source": [
    "# AWD-LSTM with target language model pretraining"
   ]
  },
  {
   "cell_type": "markdown",
   "metadata": {},
   "source": [
    "In this notebook we train an AWD-LSTM model for the proxy task with language model pretraining on the target data.  This notebook has been adapted from the fast.ai [ULMFit tutorial](https://github.com/fastai/course-nlp/blob/master/nn-vietnamese.ipynb)."
   ]
  },
  {
   "cell_type": "code",
   "execution_count": 14,
   "metadata": {},
   "outputs": [],
   "source": [
    "%reload_ext autoreload\n",
    "%autoreload 2\n",
    "%matplotlib inline\n",
    "\n",
    "from fastai import *\n",
    "from fastai.text import *\n",
    "import glob\n",
    "import eval_models"
   ]
  },
  {
   "cell_type": "code",
   "execution_count": 15,
   "metadata": {},
   "outputs": [],
   "source": [
    "bs=48"
   ]
  },
  {
   "cell_type": "code",
   "execution_count": 16,
   "metadata": {},
   "outputs": [],
   "source": [
    "torch.cuda.set_device(0)"
   ]
  },
  {
   "cell_type": "code",
   "execution_count": 17,
   "metadata": {},
   "outputs": [],
   "source": [
    "data_path = Config.data_path()"
   ]
  },
  {
   "cell_type": "code",
   "execution_count": 18,
   "metadata": {},
   "outputs": [],
   "source": [
    "name = 'solo_bscore_lm'\n",
    "path = data_path/name\n",
    "path.mkdir(exist_ok=True, parents=True)"
   ]
  },
  {
   "cell_type": "markdown",
   "metadata": {
    "heading_collapsed": true
   },
   "source": [
    "### Target Language Model"
   ]
  },
  {
   "cell_type": "code",
   "execution_count": 19,
   "metadata": {},
   "outputs": [],
   "source": [
    "data = load_data(path, 'solo_lm_target_databunch', bs=bs)"
   ]
  },
  {
   "cell_type": "code",
   "execution_count": 20,
   "metadata": {},
   "outputs": [],
   "source": [
    "learn = language_model_learner(data, AWD_LSTM, drop_mult=0.5, pretrained=False)"
   ]
  },
  {
   "cell_type": "code",
   "execution_count": 8,
   "metadata": {},
   "outputs": [
    {
     "data": {
      "text/html": [
       "\n",
       "    <div>\n",
       "        <style>\n",
       "            /* Turns off some styling */\n",
       "            progress {\n",
       "                /* gets rid of default border in Firefox and Opera. */\n",
       "                border: none;\n",
       "                /* Needs to be in here for Safari polyfill so background images work as expected. */\n",
       "                background-size: auto;\n",
       "            }\n",
       "            .progress-bar-interrupted, .progress-bar-interrupted::-webkit-progress-bar {\n",
       "                background: #F44336;\n",
       "            }\n",
       "        </style>\n",
       "      <progress value='0' class='' max='1', style='width:300px; height:20px; vertical-align: middle;'></progress>\n",
       "      0.00% [0/1 00:00<00:00]\n",
       "    </div>\n",
       "    \n",
       "<table border=\"1\" class=\"dataframe\">\n",
       "  <thead>\n",
       "    <tr style=\"text-align: left;\">\n",
       "      <th>epoch</th>\n",
       "      <th>train_loss</th>\n",
       "      <th>valid_loss</th>\n",
       "      <th>accuracy</th>\n",
       "      <th>time</th>\n",
       "    </tr>\n",
       "  </thead>\n",
       "  <tbody>\n",
       "  </tbody>\n",
       "</table><p>\n",
       "\n",
       "    <div>\n",
       "        <style>\n",
       "            /* Turns off some styling */\n",
       "            progress {\n",
       "                /* gets rid of default border in Firefox and Opera. */\n",
       "                border: none;\n",
       "                /* Needs to be in here for Safari polyfill so background images work as expected. */\n",
       "                background-size: auto;\n",
       "            }\n",
       "            .progress-bar-interrupted, .progress-bar-interrupted::-webkit-progress-bar {\n",
       "                background: #F44336;\n",
       "            }\n",
       "        </style>\n",
       "      <progress value='89' class='' max='825', style='width:300px; height:20px; vertical-align: middle;'></progress>\n",
       "      10.79% [89/825 00:07<01:05 22.0469]\n",
       "    </div>\n",
       "    "
      ],
      "text/plain": [
       "<IPython.core.display.HTML object>"
      ]
     },
     "metadata": {},
     "output_type": "display_data"
    },
    {
     "name": "stdout",
     "output_type": "stream",
     "text": [
      "LR Finder is complete, type {learner_name}.recorder.plot() to see the graph.\n"
     ]
    }
   ],
   "source": [
    "learn.lr_find()"
   ]
  },
  {
   "cell_type": "code",
   "execution_count": 9,
   "metadata": {},
   "outputs": [
    {
     "name": "stdout",
     "output_type": "stream",
     "text": [
      "Min numerical gradient: 8.32E-04\n",
      "Min loss divided by 10: 1.00E-02\n"
     ]
    },
    {
     "data": {
      "image/png": "[encoded data removed]",
      "text/plain": [
       "<Figure size 432x288 with 1 Axes>"
      ]
     },
     "metadata": {
      "needs_background": "light"
     },
     "output_type": "display_data"
    }
   ],
   "source": [
    "learn.recorder.plot(suggestion=True)"
   ]
  },
  {
   "cell_type": "code",
   "execution_count": 14,
   "metadata": {},
   "outputs": [],
   "source": [
    "lr = 1e-3"
   ]
  },
  {
   "cell_type": "code",
   "execution_count": 15,
   "metadata": {},
   "outputs": [
    {
     "data": {
      "text/html": [
       "<table border=\"1\" class=\"dataframe\">\n",
       "  <thead>\n",
       "    <tr style=\"text-align: left;\">\n",
       "      <th>epoch</th>\n",
       "      <th>train_loss</th>\n",
       "      <th>valid_loss</th>\n",
       "      <th>accuracy</th>\n",
       "      <th>time</th>\n",
       "    </tr>\n",
       "  </thead>\n",
       "  <tbody>\n",
       "    <tr>\n",
       "      <td>0</td>\n",
       "      <td>2.953827</td>\n",
       "      <td>2.926140</td>\n",
       "      <td>0.233958</td>\n",
       "      <td>01:18</td>\n",
       "    </tr>\n",
       "    <tr>\n",
       "      <td>1</td>\n",
       "      <td>2.744340</td>\n",
       "      <td>2.688373</td>\n",
       "      <td>0.306787</td>\n",
       "      <td>01:19</td>\n",
       "    </tr>\n",
       "    <tr>\n",
       "      <td>2</td>\n",
       "      <td>2.374497</td>\n",
       "      <td>2.594703</td>\n",
       "      <td>0.332306</td>\n",
       "      <td>01:19</td>\n",
       "    </tr>\n",
       "    <tr>\n",
       "      <td>3</td>\n",
       "      <td>2.464595</td>\n",
       "      <td>2.543483</td>\n",
       "      <td>0.346484</td>\n",
       "      <td>01:20</td>\n",
       "    </tr>\n",
       "    <tr>\n",
       "      <td>4</td>\n",
       "      <td>2.446843</td>\n",
       "      <td>2.531484</td>\n",
       "      <td>0.349787</td>\n",
       "      <td>01:20</td>\n",
       "    </tr>\n",
       "  </tbody>\n",
       "</table>"
      ],
      "text/plain": [
       "<IPython.core.display.HTML object>"
      ]
     },
     "metadata": {},
     "output_type": "display_data"
    }
   ],
   "source": [
    "learn.unfreeze()\n",
    "learn.fit_one_cycle(5, lr, moms=(0.8,0.7))"
   ]
  },
  {
   "cell_type": "code",
   "execution_count": 16,
   "metadata": {},
   "outputs": [
    {
     "data": {
      "text/html": [
       "<table border=\"1\" class=\"dataframe\">\n",
       "  <thead>\n",
       "    <tr style=\"text-align: left;\">\n",
       "      <th>epoch</th>\n",
       "      <th>train_loss</th>\n",
       "      <th>valid_loss</th>\n",
       "      <th>accuracy</th>\n",
       "      <th>time</th>\n",
       "    </tr>\n",
       "  </thead>\n",
       "  <tbody>\n",
       "    <tr>\n",
       "      <td>0</td>\n",
       "      <td>2.477377</td>\n",
       "      <td>2.546544</td>\n",
       "      <td>0.346469</td>\n",
       "      <td>01:14</td>\n",
       "    </tr>\n",
       "    <tr>\n",
       "      <td>1</td>\n",
       "      <td>2.465889</td>\n",
       "      <td>2.549299</td>\n",
       "      <td>0.345104</td>\n",
       "      <td>01:18</td>\n",
       "    </tr>\n",
       "    <tr>\n",
       "      <td>2</td>\n",
       "      <td>2.515096</td>\n",
       "      <td>2.536434</td>\n",
       "      <td>0.348483</td>\n",
       "      <td>01:18</td>\n",
       "    </tr>\n",
       "    <tr>\n",
       "      <td>3</td>\n",
       "      <td>2.351502</td>\n",
       "      <td>2.519941</td>\n",
       "      <td>0.352757</td>\n",
       "      <td>01:18</td>\n",
       "    </tr>\n",
       "    <tr>\n",
       "      <td>4</td>\n",
       "      <td>2.287405</td>\n",
       "      <td>2.494745</td>\n",
       "      <td>0.359731</td>\n",
       "      <td>01:19</td>\n",
       "    </tr>\n",
       "    <tr>\n",
       "      <td>5</td>\n",
       "      <td>2.381039</td>\n",
       "      <td>2.480662</td>\n",
       "      <td>0.364315</td>\n",
       "      <td>01:19</td>\n",
       "    </tr>\n",
       "    <tr>\n",
       "      <td>6</td>\n",
       "      <td>2.220454</td>\n",
       "      <td>2.474400</td>\n",
       "      <td>0.365908</td>\n",
       "      <td>01:18</td>\n",
       "    </tr>\n",
       "    <tr>\n",
       "      <td>7</td>\n",
       "      <td>2.215421</td>\n",
       "      <td>2.473977</td>\n",
       "      <td>0.366483</td>\n",
       "      <td>01:18</td>\n",
       "    </tr>\n",
       "  </tbody>\n",
       "</table>"
      ],
      "text/plain": [
       "<IPython.core.display.HTML object>"
      ]
     },
     "metadata": {},
     "output_type": "display_data"
    }
   ],
   "source": [
    "learn.fit_one_cycle(8, lr, moms=(0.8,0.7))"
   ]
  },
  {
   "cell_type": "code",
   "execution_count": 21,
   "metadata": {},
   "outputs": [],
   "source": [
    "mdl_path = path/'models'\n",
    "mdl_path.mkdir(exist_ok=True)"
   ]
  },
  {
   "cell_type": "code",
   "execution_count": 22,
   "metadata": {},
   "outputs": [],
   "source": [
    "model_basename = 'awdlstm_train-target_lm'\n",
    "# learn.save(mdl_path/f'{model_basename}_wt', with_opt=False)\n",
    "# learn.data.vocab.save(mdl_path/f'{model_basename}_vocab.pkl')\n",
    "# learn.save_encoder(mdl_path/f'{model_basename}enc')"
   ]
  },
  {
   "cell_type": "markdown",
   "metadata": {},
   "source": [
    "### Train Classifier"
   ]
  },
  {
   "cell_type": "code",
   "execution_count": 41,
   "metadata": {},
   "outputs": [],
   "source": [
    "train_df = pd.read_csv(path/'train256.csv')\n",
    "valid_df = pd.read_csv(path/'valid256.csv')\n",
    "test_df = pd.read_csv(path/'test256.csv')"
   ]
  },
  {
   "cell_type": "code",
   "execution_count": 42,
   "metadata": {},
   "outputs": [
    {
     "data": {
      "text/html": [],
      "text/plain": [
       "<IPython.core.display.HTML object>"
      ]
     },
     "metadata": {},
     "output_type": "display_data"
    },
    {
     "data": {
      "text/html": [],
      "text/plain": [
       "<IPython.core.display.HTML object>"
      ]
     },
     "metadata": {},
     "output_type": "display_data"
    }
   ],
   "source": [
    "basicTokenizer = Tokenizer(pre_rules=[], post_rules=[])\n",
    "data_clas = TextDataBunch.from_df(path, train_df, valid_df, tokenizer=basicTokenizer,\n",
    "                                  vocab = data.vocab, bs=bs, num_workers=1)"
   ]
  },
  {
   "cell_type": "code",
   "execution_count": 43,
   "metadata": {},
   "outputs": [],
   "source": [
    "learn_c = text_classifier_learner(data_clas, AWD_LSTM, pretrained=False, drop_mult=0.5, \n",
    "                                  metrics=[accuracy, FBeta(average='macro', beta=1)])"
   ]
  },
  {
   "cell_type": "code",
   "execution_count": 44,
   "metadata": {},
   "outputs": [
    {
     "data": {
      "text/plain": [
       "RNNLearner(data=TextClasDataBunch;\n",
       "\n",
       "Train: LabelList (28800 items)\n",
       "x: TextList\n",
       "xxbos 0 2 4 4 8 8 2 2 2 2 8 2 557056 671744 2138112 512 4096 16384 32768 16384 32768 131072 131074 2048 32768 32768 524288 262145 131074 2 2 524288 65536 131072 1073872896 32768 4096 8192 8192 4096 8192 3145728 524288 1073741824 xxunk 192 256 4194304 8388608 196 2 xxunk 524288 4 67108864 268435497 8 33554432 16 8 16 67108864 67108928 536870912 67108880 536870985 67108880 32 192 134217856 603979776 671088640 512 134217728 671088656 132352 268435488 1342177280 268435460 268435456 20 268435460 xxunk 4 268435460 262144 1073807360 xxunk 1073741824 1073741844 262144 1073872896 xxunk 139264 1073872896 1073741828 2097152 131072 262144 262144 262144 262144 524288 262144 524288 1024 65536 131072 65536 131072 131072 131072 131072 327680 131072 131072 262144 65536 32768 65536 2048 131072 16384 32768 16384 526336 xxunk 164 2048 67110912 xxunk 2048 131072 16779264 xxunk 2048 33556480 xxunk 2048 16779264 687865930 16779264 687865930 16779264 687865930 16779264 687865930 16779264 687865930 67108864 xxunk 128 4096 8192 20480 8192 32768 16384 8192 4096 128 131072 2048 8389120 343935049 2048 xxunk 8 2048 4194816 xxunk 2048 8390656 xxunk 2048 8389120 343935049 2048 xxunk 2048 8389120 343935049 2048 8390656 xxunk 2048 8389120 343935049 2048 8388608 xxunk 64 131072 1024 268435968 xxunk 2048 8704 2048 2048 8192 32768 8192 1 16384 1073750016 xxunk 8192 32768 1073774592 1073774592 163840 1073872896 268435456 131072 8192 16384 2048 8192 256 4096 10240 4096 512 536872960 xxunk 2048 8192 262145 xxunk 32 16 262144 524288 8 10 2120 131072 32 0 67108865 536870977 2 134217733 xxunk 8 134217730 xxunk 6 134217728 xxunk xxunk 536870993 24 16 134217736,xxbos 0 xxunk 167936 8 128 16384 128 2097152 8192 64 32768 16384 64 147456 24 134217728 xxunk 134217736 536870994 1024 1 xxunk 134217736 1073741906 10 1 12 8192 131072 0 8 8 3 67108864 268435488 xxunk 32768 3 xxunk 17 268439552 xxunk 5120 524288 192 268435456 xxunk 8 16 268435456 xxunk 48 8 64 192 128 192 32 32 192 1 xxunk 1342177408 268435456 2097152 2 2049 536870914 536870912 36864 2 536870917 2376 32768 6 1 4 4 4096 2 1 2 2 74 8 320 4096 40 128 8 32 24576 4096 4 8 4 1 4 8388616 1107296258 4 4 8388612 xxunk 8388616 268435624 8 1024 32 67109024 1342177300 32 8 67108880 xxunk 16 67108864 268435489 8192 67108868 xxunk 1 2 2 12 33554504 268435624 87040 33554432 524288 4194304 524288 256 256 524288 256 536870913 16 33088 524288 1073741824 xxunk 526336 1024 2097152 131072 xxunk 1375731712 131072 33685504 1375731712 131072 33685504 1375731712 67371008 335544321 131072 67371008 335544321 131072 262144 131072 262144 131072 262144 131072 33152 2097152 1024 32 67108896 xxunk 134217728 xxunk 8192 134234112 xxunk 2138112 1048576 1048576 1572864 1048576 2048 4194304 1048832 524448 1048768 2048 2048 2048 16777216 xxunk 16777216 150994964 2097152 xxunk 2097152 xxunk 33554432 xxunk 33554432 268435529 xxunk 33554432 xxunk 2 1048576 16 64 64 256 160 64 278528 2048 2048 8704 2048 4096 xxunk xxunk 524288 xxunk 512 32 128 64 268435584 xxunk 128 128 268435712 xxunk 8192 4 3 xxunk 4097 32769 xxunk 1 xxunk 2 32768 536870912 xxunk 32 32 134217760 1342177298 32 134217760 1207959570 128 67108992 xxunk,xxbos 0 268435456 268435456 134217728 0 134217728 268435456 536870912 536870912 536870912 134217728 268435456 134217728 67108864 33554432 67108864 536870912 536870912 67108864 16777216 33554432 67108864 33554432 134217728 33554432 16777216 8388608 33554432 67108864 268435456 536870912 1073741824 541065216 1073741824 268435456 67108864 268435456 536870912 268435456 134217728 67108864 134217728 16777216 33554432 67108864 16777216 1 4 2 16 4 16 301989888 33554432 72 150994944 150994944 5120 49408 16777216 8388608 67108864 16777216 67108864 134217728 16777216 67108864 16777216 33554432 67108864 134217728 18433 1073741824 536870912 2 1073741824 536870912 1073741824 536870912 134217728 536870912 134217728 33554432 67108864 33554432 33554432 134217728 33554432 134217728 16777216 8388608 16777216 67108864 33554432 134217728 67108864 33554432 67108864 33554432 8388608 33554432 16777216 33554432 67108864 67108864 268435456 33554432 67108864 16777216 16777216 33554432 16777216 67108864 16777216 536870912 134217728 1073741824 1 536870912 268435456 134217728 134217728 134217728 268435456 1073741824 268435456 1073741824 1 1 1073741824 268435456 1073741824 268435456 134217728 33554432 8388608 16777216 262144 262144 524288 655360 294912 131072 2576 41024 557056 262144 524288 65536 262144 524288 2097152 16777216 33554432 134217728 537001984 134217728 536870912 536870912 268435456 1073741824 1 268435456 67108864 33554432 67108864 33554432 33554432 67108864 16777216 33554432 67108864 33554432 67108864 16777216 8388608 4194816 2097152 1048576 1048576 524288 262144 524288 1048576 1048576 4194304 12582912 16777216 4194304 4194304 1048576 131072 131072 917504 163840 65536 81920 32768 81920 2066 1073745920 98304 16384 524288 65536 262144 8388608 2097152 16777216 41943040 33554432 67108864 16777216 67108864 16777216 16777216 16777216 4194304 8388608 16777216 33554432 33554432 16777216 67108864 33554432 16777216 33554432 16777216 16777216 786432 1 1073741824 16777216 33554432 8388608 16777216 8388608 33554432 33554432 16777216 33554432 33554432 67108864 16777216 8388608 33554432 33554432 16777216 4194304 8388608 4194304 1048576 524288 524288 65536 589824,xxbos 1 xxunk 5242880 8388608 1048576 524288 131072 65536 16384 4096 4096 2048 1024 1342177280 512 256 1024 2048 65536 524288 3145728 4194304 16777216 786432 131072 67108880 2560 262160 16 1310848 268435456 67108864 134217728 335544320 67108864 1441792 2 16384 134217728 134217728 33554432 8388608 33554432 67108864 33554432 8388608 134217728 67108864 33554432 139264 512 16777216 67108864 33554432 67108864 655360 256 4 32 32 4194304 1048576 4194304 16777216 32 16 128 327680 64 16 64 8388608 4194304 8388608 2097152 1048576 16777216 150994944 67108864 150994944 41943040 8 4 4194304 2097152 1048576 33554432 25165824 46137344 310378496 469762048 67108864 xxunk 8 1207959568 2 8388640 16 8 2048 0 139264 2048 0 0 37888 134217728 8388608 134217728 67108864 16777216 8388608 16777216 8388608 4194304 1048576 2097152 1048576 262144 65536 0 0 65536 32768 0 393216 65536 524288 1048576 0 8388608 4194304 1048576 2097152 0 4194304 4194304 1048576 524288 131072 589824 536870912 65536 589824 524288 262144 524288 1572864 2097152 8320 1048576 524288 131072 65536 327680 131072 16384 16384 65536 458752 106496 65536 2053 16384 32768 131072 1048576 10485760 16777216 1048576 0 xxunk 33554432 16777216 4194304 1048576 2097152 1048576 4096 8192 32768 2048 32768 12288 4096 4096 4096 32768 9 0 1 4 1 1 5 4 134217728 1073741824 1 100663296 33554432 41943040 16777216 10485760 4194304 1280 16384 524288 32768 32768 32768 32768 xxunk 8 524288 8388608 268435456 536870912 1073741824 1 1073741824 64 1 5120 81920 16384 8192 9216 1024 5120 1024 512 128 512 256 64 64 64 32 128 64 128 512 1024 2048 1024 512 128 576 128 128 4 16 13631488 2097152 301989888,xxbos 2 2 1114112 4 8 2 2 2 0 2 4 4 8 8 2 2 2 2 8 2 557056 671744 2138112 512 4096 16384 32768 16384 32768 131072 131074 2048 32768 32768 524288 262145 131074 2 2 524288 65536 131072 1073872896 32768 4096 8192 8192 4096 8192 3145728 524288 1073741824 xxunk 192 256 4194304 8388608 196 2 xxunk 524288 4 67108864 268435497 8 33554432 16 8 16 67108864 67108928 536870912 67108880 536870985 67108880 32 192 134217856 603979776 671088640 512 134217728 671088656 132352 268435488 1342177280 268435460 268435456 20 268435460 xxunk 4 268435460 262144 1073807360 xxunk 1073741824 1073741844 262144 1073872896 xxunk 139264 1073872896 1073741828 2097152 131072 262144 262144 262144 262144 524288 262144 524288 1024 65536 131072 65536 131072 131072 131072 131072 327680 131072 131072 262144 65536 32768 65536 2048 131072 16384 32768 16384 526336 xxunk 164 2048 67110912 xxunk 2048 131072 16779264 xxunk 2048 33556480 xxunk 2048 16779264 687865930 16779264 687865930 16779264 687865930 16779264 687865930 16779264 687865930 67108864 xxunk 128 4096 8192 20480 8192 32768 16384 8192 4096 128 131072 2048 8389120 343935049 2048 xxunk 8 2048 4194816 xxunk 2048 8390656 xxunk 2048 8389120 343935049 2048 xxunk 2048 8389120 343935049 2048 8390656 xxunk 2048 8389120 343935049 2048 8388608 xxunk 64 131072 1024 268435968 xxunk 2048 8704 2048 2048 8192 32768 8192 1 16384 1073750016 xxunk 8192 32768 1073774592 1073774592 163840 1073872896 268435456 131072 8192 16384 2048 8192 256 4096 10240 4096 512 536872960 xxunk 2048 8192 262145 xxunk 32 16 262144 524288 8 10 2120 131072 32 0 67108865 536870977 2 134217733 xxunk 8 134217730 xxunk\n",
       "y: CategoryList\n",
       "clarinet,clarinet,clarinet,clarinet,clarinet\n",
       "Path: /home/kji/.fastai/data/solo_bscore_lm;\n",
       "\n",
       "Valid: LabelList (28800 items)\n",
       "x: TextList\n",
       "xxbos 0 2 16 64 256 2048 16384 32768 262144 1048576 8388608 16777216 33554432 4194304 524288 131072 32768 1024 128 16 8 1 0 0 0 1 8 32 128 1024 4096 32768 65536 524288 4194304 16842752 4096 33554432 33554432 8388608 1048576 262144 32768 16384 2048 288 16 8 0 0 8 32 128 512 8192 65536 32768 262144 9437184 33554432 33554432 8388608 4194304 9437184 4194304 1048576 294912 16384 4096 2048 288 16 8 2 0 0 0 0 2 4 32 2304 4096 32768 1310720 12582912 8388608 524288 2113536 4096 131072 2097152 2097152 1048576 524288 262144 1048576 524288 262144 65536 16384 4096 2048 512 2048 4096 16384 2048 4096 16384 65536 262144 524288 1048576 2097152 2138112 4096 2097152 1048576 1048576 524288 131072 1048576 524288 131072 32768 16384 4096 1024 256 1024 4096 16384 1024 4096 16384 32768 131072 524288 524288 1048576 1048576 1048576 524288 262144 131072 524288 262144 131072 32768 8192 2048 1024 256 1024 2048 8192 1024 2048 8192 32768 131072 262144 524288 524288 2113536 4096 524288 1048576 524288 524288 262144 65536 524288 262144 65536 16384 16384 8192 2048 512 128 512 2048 8192 512 2048 8192 16384 65536 262144 262144 524288 524288 262144 262144 131072 32768 262144 131072 32768 16384 4096 1024 256 64 256 1024 4096 256 1024 4096 16384 32768 131072 262144 262144 2113536 4096 262144 262144 131072 65536 32768 131072 65536 32768 8192 2048 512 256 64 256 512 2048 256 512 2048 8192 32768 65536 131072 262144 262144 131072 131072 65536 16384 131072 65536 16384 8192 2048 512 512 256,xxbos 0 4 1 256 8 32 16 2048 32 128 64 128 256 2048 4096 2134016 32768 8192 1024 4096 2048 8192 128 512 256 2048 32 128 64 256 8 32 16 64 1 4 2 256 8 8 2048 16 128 64 128 256 2048 2183168 2097152 524288 65536 262144 131072 524288 8192 32768 16384 524288 65536 262144 131072 524288 8192 32768 16384 131072 2048 8192 4096 16384 512 2048 1024 131072 2048 8192 4096 16384 512 2048 2183168 1024 16384 256 2048 1024 4096 32 128 64 16384 256 2048 1024 4096 32 128 64 4096 32 256 64 1024 16 64 16 4096 32 256 64 1024 16 64 2117632 32 128 4 16 8 1024 16 64 16 128 2 16 4 1024 16 64 32 4096 64 256 128 16384 512 2048 1024 4096 64 256 128 16384 512 2048 2179072 4096 1024 16384 512 2048 1024 131072 2048 8192 8192 16384 512 2048 1024 131072 2048 8192 4096 524288 8192 32768 16384 65536 131072 262144 524288 4096 8192 32768 16384 65536 131072 262144 2183168 2097152 524288 655360 8192 32768 16384 131072 2048 8192 20480 256 2048 1024 4096 320 64 1024 16 64 16 64 4 16 4 1024 16 64 4128 64 256 16512 512 2048 132096 2048 4096 8192 16384 131072 2162688 524288 4194304 524288 262144 262144 1048576 262144 131072 131072 524288 131072 32768 65536 262144 65536 16384 32768 131072 32768 8192 16384 65536 16384 4096 4096 16384 4096 2048 2048 8192 2048 1024 2162688 524288 4194304,xxbos 0 79691776 1073742850 12582912 536871424 1024 512 65536 1024 46137344 xxunk 67109120 16777216 xxunk 16777472 65536 xxunk xxunk 2097408 18874370 512 256 512 4096 10240 8192 8192 4194304 2050 xxunk 537923584 8192 6144 8192 2048 4096 65536 4096 8192 32768 8192 8192 16384 32768 8192 16384 32768 8192 16384 32768 25167872 256 256 2048 16 16 16384 67584 256 256 67584 16 16 67584 256 256 67584 256 0 256 xxunk 2097152 2097152 2097152 1048576 1048576 524288 262144 262144 131072 131072 65536 65536 32768 16384 32768 32768 65536 65536 131072 262144 262144 524288 524288 1048576 1048576 139264 8454144 278528 2097152 1048576 1048576 524288 262144 262144 131072 131072 65536 65536 32768 16384 16384 16384 32768 32768 65536 65536 131072 262144 262144 524288 524288 1048576 2117632 1048576 1048576 524288 262144 262144 131072 131072 65536 65536 32768 16384 16384 8192 16384 16384 32768 32768 65536 65536 131072 262144 262144 524288 524288 36864 1048576 524288 262144 262144 131072 131072 65536 65536 32768 16384 16384 8192 8192 8192 16384 16384 32768 32768 65536 65536 131072 262144 262144 524288 2113536 4096 524288 262144 262144 131072 131072 65536 65536 32768 16384 16384 8192 8192 4096 4096 8192 16384 16384 32768 32768 65536 65536 131072 262144 262144 20480 262144 262144 131072 131072 65536 65536 32768 16384 16384 8192 8192 4096 2048 4096 4096 8192 16384 16384 32768 32768 65536 65536 131072 262144 81920 262144 131072 131072 65536 65536 32768 16384 16384 8192 8192 4096 2048 2048 2048 4096 4096 8192 16384 16384 32768 32768 65536 65536 131072 2117632 131072 131072 65536 65536 32768 16384,xxbos 1 0 1 4 544 5120 32768 262144 262144 32768 65536 16384 2048 256 128 16 2 16 128 256 2048 16384 65536 262144 268976128 16777216 16777216 4194304 524288 65536 8192 4096 32 4 0 4 32 512 1024 8192 65536 524288 262144 262144 32768 4096 16384 2048 256 32 16 2 1 2 16 128 1024 4096 32768 4229120 512 262144 262144 65536 16384 2048 256 128 16 4 0 2 16 128 258 256 16384 65536 262144 262144 65536 32768 16384 65536 32768 16384 2048 256 128 32 16 2 0 0 0 0 2 16 34 32 256 2048 8192 16384 16384 269025280 8192 268435456 67108864 4194304 524288 32768 4096 512 8 1 0 2 0 1 64 1024 4096 32768 524288 4194304 33554432 33554432 4194304 524288 32768 4096 1024 32 4 1 8 0 1 8 512 4096 4096 65536 524288 33701888 4096 33554432 4194304 262144 32768 4096 256 32 8 0 0 0 0 2 8 128 2048 32768 131072 4194304 4194304 262144 32768 4096 256 32 4 0 0 1 0 0 8 128 1024 32768 262144 2097152 xxunk 16384 536870912 33554432 4194304 262144 32768 4096 256 32 4 0 0 0 4 32 256 4096 32768 262144 4194304 33554432 33554432 4194304 262144 32768 1024 32 4 1 0 0 8 32 256 4096 32768 262144 4194304 33619968 4096 33554432 33554432 4194304 524288 65536 32768 4096 1024 64 16 2 0 0 0 0 1 8 32 128 1024 8192 32768 65536 524288 4194304 4194304 4194304 524288 1048576 32768 4096,xxbos 1 1 1 4 2 4 8 16 16 16 32 32 32 64 64 128 2134016 128 64 128 128 128 256 256 1024 2048 2048 2048 4096 4096 4096 8192 8192 16384 16384 16384 32768 32768 32768 65536 65536 65536 131072 262144 262144 262144 524288 524288 524288 1048576 1048576 4194304 303104 2097152 16384 16384 16384 8192 8192 8192 4096 2048 2048 2048 1024 1024 1024 256 256 256 128 128 64 256 256 256 256 512 512 1024 1024 2048 2048 2048 4096 4096 4096 8192 16384 2117632 16384 8192 8192 8192 4096 4096 2048 2048 2048 1024 1024 1024 256 256 256 128 64 64 64 64 64 128 128 128 256 256 256 1024 2048 2048 2048 4096 4096 4096 8192 8192 2117632 8192 8192 8192 4096 2048 2048 2048 1024 1024 1024 256 512 256 256 128 64 64 64 32 128 64 128 256 256 256 256 512 512 1024 1024 2048 2048 2048 4096 8192 8192 2134016 8192 4096 4096 2048 2048 2048 1024 1024 1024 512 512 512 256 128 64 128 32 32 64 64 32 128 128 64 128 128 128 256 256 256 1024 2048 2048 2048 4096 4096 2134016 4096 2048 2048 2048 1024 1024 1024 256 256 256 128 256 64 64 64 32 32 32 16 32 64 32 64 64 128 128 128 512 512 512 1024 1024 2048 2048 2048 2113536 4096 2048 2048 2048 1024 1024 512 1024 1024 512 256 256 64 64 64 64 32 32 8\n",
       "y: CategoryList\n",
       "flute,flute,flute,flute,flute\n",
       "Path: /home/kji/.fastai/data/solo_bscore_lm;\n",
       "\n",
       "Test: None, model=SequentialRNN(\n",
       "  (0): MultiBatchEncoder(\n",
       "    (module): AWD_LSTM(\n",
       "      (encoder): Embedding(4616, 400, padding_idx=1)\n",
       "      (encoder_dp): EmbeddingDropout(\n",
       "        (emb): Embedding(4616, 400, padding_idx=1)\n",
       "      )\n",
       "      (rnns): ModuleList(\n",
       "        (0): WeightDropout(\n",
       "          (module): LSTM(400, 1152, batch_first=True)\n",
       "        )\n",
       "        (1): WeightDropout(\n",
       "          (module): LSTM(1152, 1152, batch_first=True)\n",
       "        )\n",
       "        (2): WeightDropout(\n",
       "          (module): LSTM(1152, 400, batch_first=True)\n",
       "        )\n",
       "      )\n",
       "      (input_dp): RNNDropout()\n",
       "      (hidden_dps): ModuleList(\n",
       "        (0): RNNDropout()\n",
       "        (1): RNNDropout()\n",
       "        (2): RNNDropout()\n",
       "      )\n",
       "    )\n",
       "  )\n",
       "  (1): PoolingLinearClassifier(\n",
       "    (layers): Sequential(\n",
       "      (0): BatchNorm1d(1200, eps=1e-05, momentum=0.1, affine=True, track_running_stats=True)\n",
       "      (1): Dropout(p=0.2, inplace=False)\n",
       "      (2): Linear(in_features=1200, out_features=50, bias=True)\n",
       "      (3): ReLU(inplace=True)\n",
       "      (4): BatchNorm1d(50, eps=1e-05, momentum=0.1, affine=True, track_running_stats=True)\n",
       "      (5): Dropout(p=0.1, inplace=False)\n",
       "      (6): Linear(in_features=50, out_features=8, bias=True)\n",
       "    )\n",
       "  )\n",
       "), opt_func=functools.partial(<class 'torch.optim.adam.Adam'>, betas=(0.9, 0.99)), loss_func=FlattenedLoss of CrossEntropyLoss(), metrics=[<function accuracy at 0x7f9404ddd2f0>, FBeta(average='macro', pos_label=1, eps=1e-09, beta=1)], true_wd=True, bn_wd=True, wd=0.01, train_bn=True, path=PosixPath('/home/kji/.fastai/data/solo_bscore_lm'), model_dir='models', callback_fns=[functools.partial(<class 'fastai.basic_train.Recorder'>, add_time=True, silent=False)], callbacks=[RNNTrainer\n",
       "learn: RNNLearner(data=TextClasDataBunch;\n",
       "\n",
       "Train: LabelList (28800 items)\n",
       "x: TextList\n",
       "xxbos 0 2 4 4 8 8 2 2 2 2 8 2 557056 671744 2138112 512 4096 16384 32768 16384 32768 131072 131074 2048 32768 32768 524288 262145 131074 2 2 524288 65536 131072 1073872896 32768 4096 8192 8192 4096 8192 3145728 524288 1073741824 xxunk 192 256 4194304 8388608 196 2 xxunk 524288 4 67108864 268435497 8 33554432 16 8 16 67108864 67108928 536870912 67108880 536870985 67108880 32 192 134217856 603979776 671088640 512 134217728 671088656 132352 268435488 1342177280 268435460 268435456 20 268435460 xxunk 4 268435460 262144 1073807360 xxunk 1073741824 1073741844 262144 1073872896 xxunk 139264 1073872896 1073741828 2097152 131072 262144 262144 262144 262144 524288 262144 524288 1024 65536 131072 65536 131072 131072 131072 131072 327680 131072 131072 262144 65536 32768 65536 2048 131072 16384 32768 16384 526336 xxunk 164 2048 67110912 xxunk 2048 131072 16779264 xxunk 2048 33556480 xxunk 2048 16779264 687865930 16779264 687865930 16779264 687865930 16779264 687865930 16779264 687865930 67108864 xxunk 128 4096 8192 20480 8192 32768 16384 8192 4096 128 131072 2048 8389120 343935049 2048 xxunk 8 2048 4194816 xxunk 2048 8390656 xxunk 2048 8389120 343935049 2048 xxunk 2048 8389120 343935049 2048 8390656 xxunk 2048 8389120 343935049 2048 8388608 xxunk 64 131072 1024 268435968 xxunk 2048 8704 2048 2048 8192 32768 8192 1 16384 1073750016 xxunk 8192 32768 1073774592 1073774592 163840 1073872896 268435456 131072 8192 16384 2048 8192 256 4096 10240 4096 512 536872960 xxunk 2048 8192 262145 xxunk 32 16 262144 524288 8 10 2120 131072 32 0 67108865 536870977 2 134217733 xxunk 8 134217730 xxunk 6 134217728 xxunk xxunk 536870993 24 16 134217736,xxbos 0 xxunk 167936 8 128 16384 128 2097152 8192 64 32768 16384 64 147456 24 134217728 xxunk 134217736 536870994 1024 1 xxunk 134217736 1073741906 10 1 12 8192 131072 0 8 8 3 67108864 268435488 xxunk 32768 3 xxunk 17 268439552 xxunk 5120 524288 192 268435456 xxunk 8 16 268435456 xxunk 48 8 64 192 128 192 32 32 192 1 xxunk 1342177408 268435456 2097152 2 2049 536870914 536870912 36864 2 536870917 2376 32768 6 1 4 4 4096 2 1 2 2 74 8 320 4096 40 128 8 32 24576 4096 4 8 4 1 4 8388616 1107296258 4 4 8388612 xxunk 8388616 268435624 8 1024 32 67109024 1342177300 32 8 67108880 xxunk 16 67108864 268435489 8192 67108868 xxunk 1 2 2 12 33554504 268435624 87040 33554432 524288 4194304 524288 256 256 524288 256 536870913 16 33088 524288 1073741824 xxunk 526336 1024 2097152 131072 xxunk 1375731712 131072 33685504 1375731712 131072 33685504 1375731712 67371008 335544321 131072 67371008 335544321 131072 262144 131072 262144 131072 262144 131072 33152 2097152 1024 32 67108896 xxunk 134217728 xxunk 8192 134234112 xxunk 2138112 1048576 1048576 1572864 1048576 2048 4194304 1048832 524448 1048768 2048 2048 2048 16777216 xxunk 16777216 150994964 2097152 xxunk 2097152 xxunk 33554432 xxunk 33554432 268435529 xxunk 33554432 xxunk 2 1048576 16 64 64 256 160 64 278528 2048 2048 8704 2048 4096 xxunk xxunk 524288 xxunk 512 32 128 64 268435584 xxunk 128 128 268435712 xxunk 8192 4 3 xxunk 4097 32769 xxunk 1 xxunk 2 32768 536870912 xxunk 32 32 134217760 1342177298 32 134217760 1207959570 128 67108992 xxunk,xxbos 0 268435456 268435456 134217728 0 134217728 268435456 536870912 536870912 536870912 134217728 268435456 134217728 67108864 33554432 67108864 536870912 536870912 67108864 16777216 33554432 67108864 33554432 134217728 33554432 16777216 8388608 33554432 67108864 268435456 536870912 1073741824 541065216 1073741824 268435456 67108864 268435456 536870912 268435456 134217728 67108864 134217728 16777216 33554432 67108864 16777216 1 4 2 16 4 16 301989888 33554432 72 150994944 150994944 5120 49408 16777216 8388608 67108864 16777216 67108864 134217728 16777216 67108864 16777216 33554432 67108864 134217728 18433 1073741824 536870912 2 1073741824 536870912 1073741824 536870912 134217728 536870912 134217728 33554432 67108864 33554432 33554432 134217728 33554432 134217728 16777216 8388608 16777216 67108864 33554432 134217728 67108864 33554432 67108864 33554432 8388608 33554432 16777216 33554432 67108864 67108864 268435456 33554432 67108864 16777216 16777216 33554432 16777216 67108864 16777216 536870912 134217728 1073741824 1 536870912 268435456 134217728 134217728 134217728 268435456 1073741824 268435456 1073741824 1 1 1073741824 268435456 1073741824 268435456 134217728 33554432 8388608 16777216 262144 262144 524288 655360 294912 131072 2576 41024 557056 262144 524288 65536 262144 524288 2097152 16777216 33554432 134217728 537001984 134217728 536870912 536870912 268435456 1073741824 1 268435456 67108864 33554432 67108864 33554432 33554432 67108864 16777216 33554432 67108864 33554432 67108864 16777216 8388608 4194816 2097152 1048576 1048576 524288 262144 524288 1048576 1048576 4194304 12582912 16777216 4194304 4194304 1048576 131072 131072 917504 163840 65536 81920 32768 81920 2066 1073745920 98304 16384 524288 65536 262144 8388608 2097152 16777216 41943040 33554432 67108864 16777216 67108864 16777216 16777216 16777216 4194304 8388608 16777216 33554432 33554432 16777216 67108864 33554432 16777216 33554432 16777216 16777216 786432 1 1073741824 16777216 33554432 8388608 16777216 8388608 33554432 33554432 16777216 33554432 33554432 67108864 16777216 8388608 33554432 33554432 16777216 4194304 8388608 4194304 1048576 524288 524288 65536 589824,xxbos 1 xxunk 5242880 8388608 1048576 524288 131072 65536 16384 4096 4096 2048 1024 1342177280 512 256 1024 2048 65536 524288 3145728 4194304 16777216 786432 131072 67108880 2560 262160 16 1310848 268435456 67108864 134217728 335544320 67108864 1441792 2 16384 134217728 134217728 33554432 8388608 33554432 67108864 33554432 8388608 134217728 67108864 33554432 139264 512 16777216 67108864 33554432 67108864 655360 256 4 32 32 4194304 1048576 4194304 16777216 32 16 128 327680 64 16 64 8388608 4194304 8388608 2097152 1048576 16777216 150994944 67108864 150994944 41943040 8 4 4194304 2097152 1048576 33554432 25165824 46137344 310378496 469762048 67108864 xxunk 8 1207959568 2 8388640 16 8 2048 0 139264 2048 0 0 37888 134217728 8388608 134217728 67108864 16777216 8388608 16777216 8388608 4194304 1048576 2097152 1048576 262144 65536 0 0 65536 32768 0 393216 65536 524288 1048576 0 8388608 4194304 1048576 2097152 0 4194304 4194304 1048576 524288 131072 589824 536870912 65536 589824 524288 262144 524288 1572864 2097152 8320 1048576 524288 131072 65536 327680 131072 16384 16384 65536 458752 106496 65536 2053 16384 32768 131072 1048576 10485760 16777216 1048576 0 xxunk 33554432 16777216 4194304 1048576 2097152 1048576 4096 8192 32768 2048 32768 12288 4096 4096 4096 32768 9 0 1 4 1 1 5 4 134217728 1073741824 1 100663296 33554432 41943040 16777216 10485760 4194304 1280 16384 524288 32768 32768 32768 32768 xxunk 8 524288 8388608 268435456 536870912 1073741824 1 1073741824 64 1 5120 81920 16384 8192 9216 1024 5120 1024 512 128 512 256 64 64 64 32 128 64 128 512 1024 2048 1024 512 128 576 128 128 4 16 13631488 2097152 301989888,xxbos 2 2 1114112 4 8 2 2 2 0 2 4 4 8 8 2 2 2 2 8 2 557056 671744 2138112 512 4096 16384 32768 16384 32768 131072 131074 2048 32768 32768 524288 262145 131074 2 2 524288 65536 131072 1073872896 32768 4096 8192 8192 4096 8192 3145728 524288 1073741824 xxunk 192 256 4194304 8388608 196 2 xxunk 524288 4 67108864 268435497 8 33554432 16 8 16 67108864 67108928 536870912 67108880 536870985 67108880 32 192 134217856 603979776 671088640 512 134217728 671088656 132352 268435488 1342177280 268435460 268435456 20 268435460 xxunk 4 268435460 262144 1073807360 xxunk 1073741824 1073741844 262144 1073872896 xxunk 139264 1073872896 1073741828 2097152 131072 262144 262144 262144 262144 524288 262144 524288 1024 65536 131072 65536 131072 131072 131072 131072 327680 131072 131072 262144 65536 32768 65536 2048 131072 16384 32768 16384 526336 xxunk 164 2048 67110912 xxunk 2048 131072 16779264 xxunk 2048 33556480 xxunk 2048 16779264 687865930 16779264 687865930 16779264 687865930 16779264 687865930 16779264 687865930 67108864 xxunk 128 4096 8192 20480 8192 32768 16384 8192 4096 128 131072 2048 8389120 343935049 2048 xxunk 8 2048 4194816 xxunk 2048 8390656 xxunk 2048 8389120 343935049 2048 xxunk 2048 8389120 343935049 2048 8390656 xxunk 2048 8389120 343935049 2048 8388608 xxunk 64 131072 1024 268435968 xxunk 2048 8704 2048 2048 8192 32768 8192 1 16384 1073750016 xxunk 8192 32768 1073774592 1073774592 163840 1073872896 268435456 131072 8192 16384 2048 8192 256 4096 10240 4096 512 536872960 xxunk 2048 8192 262145 xxunk 32 16 262144 524288 8 10 2120 131072 32 0 67108865 536870977 2 134217733 xxunk 8 134217730 xxunk\n",
       "y: CategoryList\n",
       "clarinet,clarinet,clarinet,clarinet,clarinet\n",
       "Path: /home/kji/.fastai/data/solo_bscore_lm;\n",
       "\n",
       "Valid: LabelList (28800 items)\n",
       "x: TextList\n",
       "xxbos 0 2 16 64 256 2048 16384 32768 262144 1048576 8388608 16777216 33554432 4194304 524288 131072 32768 1024 128 16 8 1 0 0 0 1 8 32 128 1024 4096 32768 65536 524288 4194304 16842752 4096 33554432 33554432 8388608 1048576 262144 32768 16384 2048 288 16 8 0 0 8 32 128 512 8192 65536 32768 262144 9437184 33554432 33554432 8388608 4194304 9437184 4194304 1048576 294912 16384 4096 2048 288 16 8 2 0 0 0 0 2 4 32 2304 4096 32768 1310720 12582912 8388608 524288 2113536 4096 131072 2097152 2097152 1048576 524288 262144 1048576 524288 262144 65536 16384 4096 2048 512 2048 4096 16384 2048 4096 16384 65536 262144 524288 1048576 2097152 2138112 4096 2097152 1048576 1048576 524288 131072 1048576 524288 131072 32768 16384 4096 1024 256 1024 4096 16384 1024 4096 16384 32768 131072 524288 524288 1048576 1048576 1048576 524288 262144 131072 524288 262144 131072 32768 8192 2048 1024 256 1024 2048 8192 1024 2048 8192 32768 131072 262144 524288 524288 2113536 4096 524288 1048576 524288 524288 262144 65536 524288 262144 65536 16384 16384 8192 2048 512 128 512 2048 8192 512 2048 8192 16384 65536 262144 262144 524288 524288 262144 262144 131072 32768 262144 131072 32768 16384 4096 1024 256 64 256 1024 4096 256 1024 4096 16384 32768 131072 262144 262144 2113536 4096 262144 262144 131072 65536 32768 131072 65536 32768 8192 2048 512 256 64 256 512 2048 256 512 2048 8192 32768 65536 131072 262144 262144 131072 131072 65536 16384 131072 65536 16384 8192 2048 512 512 256,xxbos 0 4 1 256 8 32 16 2048 32 128 64 128 256 2048 4096 2134016 32768 8192 1024 4096 2048 8192 128 512 256 2048 32 128 64 256 8 32 16 64 1 4 2 256 8 8 2048 16 128 64 128 256 2048 2183168 2097152 524288 65536 262144 131072 524288 8192 32768 16384 524288 65536 262144 131072 524288 8192 32768 16384 131072 2048 8192 4096 16384 512 2048 1024 131072 2048 8192 4096 16384 512 2048 2183168 1024 16384 256 2048 1024 4096 32 128 64 16384 256 2048 1024 4096 32 128 64 4096 32 256 64 1024 16 64 16 4096 32 256 64 1024 16 64 2117632 32 128 4 16 8 1024 16 64 16 128 2 16 4 1024 16 64 32 4096 64 256 128 16384 512 2048 1024 4096 64 256 128 16384 512 2048 2179072 4096 1024 16384 512 2048 1024 131072 2048 8192 8192 16384 512 2048 1024 131072 2048 8192 4096 524288 8192 32768 16384 65536 131072 262144 524288 4096 8192 32768 16384 65536 131072 262144 2183168 2097152 524288 655360 8192 32768 16384 131072 2048 8192 20480 256 2048 1024 4096 320 64 1024 16 64 16 64 4 16 4 1024 16 64 4128 64 256 16512 512 2048 132096 2048 4096 8192 16384 131072 2162688 524288 4194304 524288 262144 262144 1048576 262144 131072 131072 524288 131072 32768 65536 262144 65536 16384 32768 131072 32768 8192 16384 65536 16384 4096 4096 16384 4096 2048 2048 8192 2048 1024 2162688 524288 4194304,xxbos 0 79691776 1073742850 12582912 536871424 1024 512 65536 1024 46137344 xxunk 67109120 16777216 xxunk 16777472 65536 xxunk xxunk 2097408 18874370 512 256 512 4096 10240 8192 8192 4194304 2050 xxunk 537923584 8192 6144 8192 2048 4096 65536 4096 8192 32768 8192 8192 16384 32768 8192 16384 32768 8192 16384 32768 25167872 256 256 2048 16 16 16384 67584 256 256 67584 16 16 67584 256 256 67584 256 0 256 xxunk 2097152 2097152 2097152 1048576 1048576 524288 262144 262144 131072 131072 65536 65536 32768 16384 32768 32768 65536 65536 131072 262144 262144 524288 524288 1048576 1048576 139264 8454144 278528 2097152 1048576 1048576 524288 262144 262144 131072 131072 65536 65536 32768 16384 16384 16384 32768 32768 65536 65536 131072 262144 262144 524288 524288 1048576 2117632 1048576 1048576 524288 262144 262144 131072 131072 65536 65536 32768 16384 16384 8192 16384 16384 32768 32768 65536 65536 131072 262144 262144 524288 524288 36864 1048576 524288 262144 262144 131072 131072 65536 65536 32768 16384 16384 8192 8192 8192 16384 16384 32768 32768 65536 65536 131072 262144 262144 524288 2113536 4096 524288 262144 262144 131072 131072 65536 65536 32768 16384 16384 8192 8192 4096 4096 8192 16384 16384 32768 32768 65536 65536 131072 262144 262144 20480 262144 262144 131072 131072 65536 65536 32768 16384 16384 8192 8192 4096 2048 4096 4096 8192 16384 16384 32768 32768 65536 65536 131072 262144 81920 262144 131072 131072 65536 65536 32768 16384 16384 8192 8192 4096 2048 2048 2048 4096 4096 8192 16384 16384 32768 32768 65536 65536 131072 2117632 131072 131072 65536 65536 32768 16384,xxbos 1 0 1 4 544 5120 32768 262144 262144 32768 65536 16384 2048 256 128 16 2 16 128 256 2048 16384 65536 262144 268976128 16777216 16777216 4194304 524288 65536 8192 4096 32 4 0 4 32 512 1024 8192 65536 524288 262144 262144 32768 4096 16384 2048 256 32 16 2 1 2 16 128 1024 4096 32768 4229120 512 262144 262144 65536 16384 2048 256 128 16 4 0 2 16 128 258 256 16384 65536 262144 262144 65536 32768 16384 65536 32768 16384 2048 256 128 32 16 2 0 0 0 0 2 16 34 32 256 2048 8192 16384 16384 269025280 8192 268435456 67108864 4194304 524288 32768 4096 512 8 1 0 2 0 1 64 1024 4096 32768 524288 4194304 33554432 33554432 4194304 524288 32768 4096 1024 32 4 1 8 0 1 8 512 4096 4096 65536 524288 33701888 4096 33554432 4194304 262144 32768 4096 256 32 8 0 0 0 0 2 8 128 2048 32768 131072 4194304 4194304 262144 32768 4096 256 32 4 0 0 1 0 0 8 128 1024 32768 262144 2097152 xxunk 16384 536870912 33554432 4194304 262144 32768 4096 256 32 4 0 0 0 4 32 256 4096 32768 262144 4194304 33554432 33554432 4194304 262144 32768 1024 32 4 1 0 0 8 32 256 4096 32768 262144 4194304 33619968 4096 33554432 33554432 4194304 524288 65536 32768 4096 1024 64 16 2 0 0 0 0 1 8 32 128 1024 8192 32768 65536 524288 4194304 4194304 4194304 524288 1048576 32768 4096,xxbos 1 1 1 4 2 4 8 16 16 16 32 32 32 64 64 128 2134016 128 64 128 128 128 256 256 1024 2048 2048 2048 4096 4096 4096 8192 8192 16384 16384 16384 32768 32768 32768 65536 65536 65536 131072 262144 262144 262144 524288 524288 524288 1048576 1048576 4194304 303104 2097152 16384 16384 16384 8192 8192 8192 4096 2048 2048 2048 1024 1024 1024 256 256 256 128 128 64 256 256 256 256 512 512 1024 1024 2048 2048 2048 4096 4096 4096 8192 16384 2117632 16384 8192 8192 8192 4096 4096 2048 2048 2048 1024 1024 1024 256 256 256 128 64 64 64 64 64 128 128 128 256 256 256 1024 2048 2048 2048 4096 4096 4096 8192 8192 2117632 8192 8192 8192 4096 2048 2048 2048 1024 1024 1024 256 512 256 256 128 64 64 64 32 128 64 128 256 256 256 256 512 512 1024 1024 2048 2048 2048 4096 8192 8192 2134016 8192 4096 4096 2048 2048 2048 1024 1024 1024 512 512 512 256 128 64 128 32 32 64 64 32 128 128 64 128 128 128 256 256 256 1024 2048 2048 2048 4096 4096 2134016 4096 2048 2048 2048 1024 1024 1024 256 256 256 128 256 64 64 64 32 32 32 16 32 64 32 64 64 128 128 128 512 512 512 1024 1024 2048 2048 2048 2113536 4096 2048 2048 2048 1024 1024 512 1024 1024 512 256 256 64 64 64 64 32 32 8\n",
       "y: CategoryList\n",
       "flute,flute,flute,flute,flute\n",
       "Path: /home/kji/.fastai/data/solo_bscore_lm;\n",
       "\n",
       "Test: None, model=SequentialRNN(\n",
       "  (0): MultiBatchEncoder(\n",
       "    (module): AWD_LSTM(\n",
       "      (encoder): Embedding(4616, 400, padding_idx=1)\n",
       "      (encoder_dp): EmbeddingDropout(\n",
       "        (emb): Embedding(4616, 400, padding_idx=1)\n",
       "      )\n",
       "      (rnns): ModuleList(\n",
       "        (0): WeightDropout(\n",
       "          (module): LSTM(400, 1152, batch_first=True)\n",
       "        )\n",
       "        (1): WeightDropout(\n",
       "          (module): LSTM(1152, 1152, batch_first=True)\n",
       "        )\n",
       "        (2): WeightDropout(\n",
       "          (module): LSTM(1152, 400, batch_first=True)\n",
       "        )\n",
       "      )\n",
       "      (input_dp): RNNDropout()\n",
       "      (hidden_dps): ModuleList(\n",
       "        (0): RNNDropout()\n",
       "        (1): RNNDropout()\n",
       "        (2): RNNDropout()\n",
       "      )\n",
       "    )\n",
       "  )\n",
       "  (1): PoolingLinearClassifier(\n",
       "    (layers): Sequential(\n",
       "      (0): BatchNorm1d(1200, eps=1e-05, momentum=0.1, affine=True, track_running_stats=True)\n",
       "      (1): Dropout(p=0.2, inplace=False)\n",
       "      (2): Linear(in_features=1200, out_features=50, bias=True)\n",
       "      (3): ReLU(inplace=True)\n",
       "      (4): BatchNorm1d(50, eps=1e-05, momentum=0.1, affine=True, track_running_stats=True)\n",
       "      (5): Dropout(p=0.1, inplace=False)\n",
       "      (6): Linear(in_features=50, out_features=8, bias=True)\n",
       "    )\n",
       "  )\n",
       "), opt_func=functools.partial(<class 'torch.optim.adam.Adam'>, betas=(0.9, 0.99)), loss_func=FlattenedLoss of CrossEntropyLoss(), metrics=[<function accuracy at 0x7f9404ddd2f0>, FBeta(average='macro', pos_label=1, eps=1e-09, beta=1)], true_wd=True, bn_wd=True, wd=0.01, train_bn=True, path=PosixPath('/home/kji/.fastai/data/solo_bscore_lm'), model_dir='models', callback_fns=[functools.partial(<class 'fastai.basic_train.Recorder'>, add_time=True, silent=False)], callbacks=[...], layer_groups=[Sequential(\n",
       "  (0): Embedding(4616, 400, padding_idx=1)\n",
       "  (1): EmbeddingDropout(\n",
       "    (emb): Embedding(4616, 400, padding_idx=1)\n",
       "  )\n",
       "), Sequential(\n",
       "  (0): WeightDropout(\n",
       "    (module): LSTM(400, 1152, batch_first=True)\n",
       "  )\n",
       "  (1): RNNDropout()\n",
       "), Sequential(\n",
       "  (0): WeightDropout(\n",
       "    (module): LSTM(1152, 1152, batch_first=True)\n",
       "  )\n",
       "  (1): RNNDropout()\n",
       "), Sequential(\n",
       "  (0): WeightDropout(\n",
       "    (module): LSTM(1152, 400, batch_first=True)\n",
       "  )\n",
       "  (1): RNNDropout()\n",
       "), Sequential(\n",
       "  (0): PoolingLinearClassifier(\n",
       "    (layers): Sequential(\n",
       "      (0): BatchNorm1d(1200, eps=1e-05, momentum=0.1, affine=True, track_running_stats=True)\n",
       "      (1): Dropout(p=0.2, inplace=False)\n",
       "      (2): Linear(in_features=1200, out_features=50, bias=True)\n",
       "      (3): ReLU(inplace=True)\n",
       "      (4): BatchNorm1d(50, eps=1e-05, momentum=0.1, affine=True, track_running_stats=True)\n",
       "      (5): Dropout(p=0.1, inplace=False)\n",
       "      (6): Linear(in_features=50, out_features=8, bias=True)\n",
       "    )\n",
       "  )\n",
       ")], add_time=True, silent=False)\n",
       "alpha: 2.0\n",
       "beta: 1.0], layer_groups=[Sequential(\n",
       "  (0): Embedding(4616, 400, padding_idx=1)\n",
       "  (1): EmbeddingDropout(\n",
       "    (emb): Embedding(4616, 400, padding_idx=1)\n",
       "  )\n",
       "), Sequential(\n",
       "  (0): WeightDropout(\n",
       "    (module): LSTM(400, 1152, batch_first=True)\n",
       "  )\n",
       "  (1): RNNDropout()\n",
       "), Sequential(\n",
       "  (0): WeightDropout(\n",
       "    (module): LSTM(1152, 1152, batch_first=True)\n",
       "  )\n",
       "  (1): RNNDropout()\n",
       "), Sequential(\n",
       "  (0): WeightDropout(\n",
       "    (module): LSTM(1152, 400, batch_first=True)\n",
       "  )\n",
       "  (1): RNNDropout()\n",
       "), Sequential(\n",
       "  (0): PoolingLinearClassifier(\n",
       "    (layers): Sequential(\n",
       "      (0): BatchNorm1d(1200, eps=1e-05, momentum=0.1, affine=True, track_running_stats=True)\n",
       "      (1): Dropout(p=0.2, inplace=False)\n",
       "      (2): Linear(in_features=1200, out_features=50, bias=True)\n",
       "      (3): ReLU(inplace=True)\n",
       "      (4): BatchNorm1d(50, eps=1e-05, momentum=0.1, affine=True, track_running_stats=True)\n",
       "      (5): Dropout(p=0.1, inplace=False)\n",
       "      (6): Linear(in_features=50, out_features=8, bias=True)\n",
       "    )\n",
       "  )\n",
       ")], add_time=True, silent=False)"
      ]
     },
     "execution_count": 44,
     "metadata": {},
     "output_type": "execute_result"
    }
   ],
   "source": [
    "learn_c.load_encoder(f'{model_basename}enc')"
   ]
  },
  {
   "cell_type": "code",
   "execution_count": 37,
   "metadata": {},
   "outputs": [],
   "source": [
    "learn_c.freeze()"
   ]
  },
  {
   "cell_type": "code",
   "execution_count": 38,
   "metadata": {},
   "outputs": [
    {
     "data": {
      "text/html": [
       "\n",
       "    <div>\n",
       "        <style>\n",
       "            /* Turns off some styling */\n",
       "            progress {\n",
       "                /* gets rid of default border in Firefox and Opera. */\n",
       "                border: none;\n",
       "                /* Needs to be in here for Safari polyfill so background images work as expected. */\n",
       "                background-size: auto;\n",
       "            }\n",
       "            .progress-bar-interrupted, .progress-bar-interrupted::-webkit-progress-bar {\n",
       "                background: #F44336;\n",
       "            }\n",
       "        </style>\n",
       "      <progress value='0' class='' max='1', style='width:300px; height:20px; vertical-align: middle;'></progress>\n",
       "      0.00% [0/1 00:00<00:00]\n",
       "    </div>\n",
       "    \n",
       "<table border=\"1\" class=\"dataframe\">\n",
       "  <thead>\n",
       "    <tr style=\"text-align: left;\">\n",
       "      <th>epoch</th>\n",
       "      <th>train_loss</th>\n",
       "      <th>valid_loss</th>\n",
       "      <th>accuracy</th>\n",
       "      <th>f_beta</th>\n",
       "      <th>time</th>\n",
       "    </tr>\n",
       "  </thead>\n",
       "  <tbody>\n",
       "  </tbody>\n",
       "</table><p>\n",
       "\n",
       "    <div>\n",
       "        <style>\n",
       "            /* Turns off some styling */\n",
       "            progress {\n",
       "                /* gets rid of default border in Firefox and Opera. */\n",
       "                border: none;\n",
       "                /* Needs to be in here for Safari polyfill so background images work as expected. */\n",
       "                background-size: auto;\n",
       "            }\n",
       "            .progress-bar-interrupted, .progress-bar-interrupted::-webkit-progress-bar {\n",
       "                background: #F44336;\n",
       "            }\n",
       "        </style>\n",
       "      <progress value='95' class='' max='400', style='width:300px; height:20px; vertical-align: middle;'></progress>\n",
       "      23.75% [95/400 00:27<01:29 6.1334]\n",
       "    </div>\n",
       "    "
      ],
      "text/plain": [
       "<IPython.core.display.HTML object>"
      ]
     },
     "metadata": {},
     "output_type": "display_data"
    },
    {
     "name": "stdout",
     "output_type": "stream",
     "text": [
      "LR Finder is complete, type {learner_name}.recorder.plot() to see the graph.\n"
     ]
    }
   ],
   "source": [
    "learn_c.lr_find()"
   ]
  },
  {
   "cell_type": "code",
   "execution_count": 39,
   "metadata": {},
   "outputs": [
    {
     "name": "stdout",
     "output_type": "stream",
     "text": [
      "Min numerical gradient: 5.25E-03\n",
      "Min loss divided by 10: 4.37E-02\n"
     ]
    },
    {
     "data": {
      "image/png": "[encoded data removed]",
      "text/plain": [
       "<Figure size 432x288 with 1 Axes>"
      ]
     },
     "metadata": {
      "needs_background": "light"
     },
     "output_type": "display_data"
    }
   ],
   "source": [
    "learn_c.recorder.plot(suggestion=True)"
   ]
  },
  {
   "cell_type": "code",
   "execution_count": 40,
   "metadata": {},
   "outputs": [],
   "source": [
    "lr = 1e-3"
   ]
  },
  {
   "cell_type": "code",
   "execution_count": 41,
   "metadata": {},
   "outputs": [
    {
     "data": {
      "text/html": [
       "<table border=\"1\" class=\"dataframe\">\n",
       "  <thead>\n",
       "    <tr style=\"text-align: left;\">\n",
       "      <th>epoch</th>\n",
       "      <th>train_loss</th>\n",
       "      <th>valid_loss</th>\n",
       "      <th>accuracy</th>\n",
       "      <th>f_beta</th>\n",
       "      <th>time</th>\n",
       "    </tr>\n",
       "  </thead>\n",
       "  <tbody>\n",
       "    <tr>\n",
       "      <td>0</td>\n",
       "      <td>1.023192</td>\n",
       "      <td>1.414698</td>\n",
       "      <td>0.538958</td>\n",
       "      <td>0.533854</td>\n",
       "      <td>02:45</td>\n",
       "    </tr>\n",
       "    <tr>\n",
       "      <td>1</td>\n",
       "      <td>0.793407</td>\n",
       "      <td>1.402570</td>\n",
       "      <td>0.537344</td>\n",
       "      <td>0.532997</td>\n",
       "      <td>02:53</td>\n",
       "    </tr>\n",
       "    <tr>\n",
       "      <td>2</td>\n",
       "      <td>0.715749</td>\n",
       "      <td>1.379340</td>\n",
       "      <td>0.553802</td>\n",
       "      <td>0.547814</td>\n",
       "      <td>02:52</td>\n",
       "    </tr>\n",
       "  </tbody>\n",
       "</table>"
      ],
      "text/plain": [
       "<IPython.core.display.HTML object>"
      ]
     },
     "metadata": {},
     "output_type": "display_data"
    }
   ],
   "source": [
    "learn_c.fit_one_cycle(3, lr, moms=(0.8,0.7))"
   ]
  },
  {
   "cell_type": "code",
   "execution_count": 42,
   "metadata": {},
   "outputs": [
    {
     "data": {
      "text/html": [
       "\n",
       "    <div>\n",
       "        <style>\n",
       "            /* Turns off some styling */\n",
       "            progress {\n",
       "                /* gets rid of default border in Firefox and Opera. */\n",
       "                border: none;\n",
       "                /* Needs to be in here for Safari polyfill so background images work as expected. */\n",
       "                background-size: auto;\n",
       "            }\n",
       "            .progress-bar-interrupted, .progress-bar-interrupted::-webkit-progress-bar {\n",
       "                background: #F44336;\n",
       "            }\n",
       "        </style>\n",
       "      <progress value='1' class='' max='2', style='width:300px; height:20px; vertical-align: middle;'></progress>\n",
       "      50.00% [1/2 02:53<02:53]\n",
       "    </div>\n",
       "    \n",
       "<table border=\"1\" class=\"dataframe\">\n",
       "  <thead>\n",
       "    <tr style=\"text-align: left;\">\n",
       "      <th>epoch</th>\n",
       "      <th>train_loss</th>\n",
       "      <th>valid_loss</th>\n",
       "      <th>accuracy</th>\n",
       "      <th>f_beta</th>\n",
       "      <th>time</th>\n",
       "    </tr>\n",
       "  </thead>\n",
       "  <tbody>\n",
       "    <tr>\n",
       "      <td>0</td>\n",
       "      <td>0.558320</td>\n",
       "      <td>1.494895</td>\n",
       "      <td>0.539844</td>\n",
       "      <td>0.535927</td>\n",
       "      <td>02:53</td>\n",
       "    </tr>\n",
       "  </tbody>\n",
       "</table><p>\n",
       "\n",
       "    <div>\n",
       "        <style>\n",
       "            /* Turns off some styling */\n",
       "            progress {\n",
       "                /* gets rid of default border in Firefox and Opera. */\n",
       "                border: none;\n",
       "                /* Needs to be in here for Safari polyfill so background images work as expected. */\n",
       "                background-size: auto;\n",
       "            }\n",
       "            .progress-bar-interrupted, .progress-bar-interrupted::-webkit-progress-bar {\n",
       "                background: #F44336;\n",
       "            }\n",
       "        </style>\n",
       "      <progress value='179' class='' max='400', style='width:300px; height:20px; vertical-align: middle;'></progress>\n",
       "      44.75% [179/400 00:56<01:09 0.4152]\n",
       "    </div>\n",
       "    "
      ],
      "text/plain": [
       "<IPython.core.display.HTML object>"
      ]
     },
     "metadata": {},
     "output_type": "display_data"
    },
    {
     "ename": "KeyboardInterrupt",
     "evalue": "",
     "output_type": "error",
     "traceback": [
      "\u001b[0;31m---------------------------------------------------------------------------\u001b[0m",
      "\u001b[0;31mKeyboardInterrupt\u001b[0m                         Traceback (most recent call last)",
      "\u001b[0;32m<ipython-input-42-532298662ae3>\u001b[0m in \u001b[0;36m<module>\u001b[0;34m\u001b[0m\n\u001b[1;32m      1\u001b[0m \u001b[0mlearn_c\u001b[0m\u001b[0;34m.\u001b[0m\u001b[0mfreeze_to\u001b[0m\u001b[0;34m(\u001b[0m\u001b[0;34m-\u001b[0m\u001b[0;36m2\u001b[0m\u001b[0;34m)\u001b[0m\u001b[0;34m\u001b[0m\u001b[0;34m\u001b[0m\u001b[0m\n\u001b[0;32m----> 2\u001b[0;31m \u001b[0mlearn_c\u001b[0m\u001b[0;34m.\u001b[0m\u001b[0mfit_one_cycle\u001b[0m\u001b[0;34m(\u001b[0m\u001b[0;36m2\u001b[0m\u001b[0;34m,\u001b[0m \u001b[0mslice\u001b[0m\u001b[0;34m(\u001b[0m\u001b[0mlr\u001b[0m\u001b[0;34m/\u001b[0m\u001b[0;34m(\u001b[0m\u001b[0;36m2.6\u001b[0m\u001b[0;34m**\u001b[0m\u001b[0;36m4\u001b[0m\u001b[0;34m)\u001b[0m\u001b[0;34m,\u001b[0m\u001b[0mlr\u001b[0m\u001b[0;34m)\u001b[0m\u001b[0;34m,\u001b[0m \u001b[0mmoms\u001b[0m\u001b[0;34m=\u001b[0m\u001b[0;34m(\u001b[0m\u001b[0;36m0.8\u001b[0m\u001b[0;34m,\u001b[0m\u001b[0;36m0.7\u001b[0m\u001b[0;34m)\u001b[0m\u001b[0;34m)\u001b[0m\u001b[0;34m\u001b[0m\u001b[0;34m\u001b[0m\u001b[0m\n\u001b[0m",
      "\u001b[0;32m~/.local/lib/python3.6/site-packages/fastai/train.py\u001b[0m in \u001b[0;36mfit_one_cycle\u001b[0;34m(learn, cyc_len, max_lr, moms, div_factor, pct_start, final_div, wd, callbacks, tot_epochs, start_epoch)\u001b[0m\n\u001b[1;32m     21\u001b[0m     callbacks.append(OneCycleScheduler(learn, max_lr, moms=moms, div_factor=div_factor, pct_start=pct_start,\n\u001b[1;32m     22\u001b[0m                                        final_div=final_div, tot_epochs=tot_epochs, start_epoch=start_epoch))\n\u001b[0;32m---> 23\u001b[0;31m     \u001b[0mlearn\u001b[0m\u001b[0;34m.\u001b[0m\u001b[0mfit\u001b[0m\u001b[0;34m(\u001b[0m\u001b[0mcyc_len\u001b[0m\u001b[0;34m,\u001b[0m \u001b[0mmax_lr\u001b[0m\u001b[0;34m,\u001b[0m \u001b[0mwd\u001b[0m\u001b[0;34m=\u001b[0m\u001b[0mwd\u001b[0m\u001b[0;34m,\u001b[0m \u001b[0mcallbacks\u001b[0m\u001b[0;34m=\u001b[0m\u001b[0mcallbacks\u001b[0m\u001b[0;34m)\u001b[0m\u001b[0;34m\u001b[0m\u001b[0;34m\u001b[0m\u001b[0m\n\u001b[0m\u001b[1;32m     24\u001b[0m \u001b[0;34m\u001b[0m\u001b[0m\n\u001b[1;32m     25\u001b[0m def fit_fc(learn:Learner, tot_epochs:int=1, lr:float=defaults.lr,  moms:Tuple[float,float]=(0.95,0.85), start_pct:float=0.72,\n",
      "\u001b[0;32m~/.local/lib/python3.6/site-packages/fastai/basic_train.py\u001b[0m in \u001b[0;36mfit\u001b[0;34m(self, epochs, lr, wd, callbacks)\u001b[0m\n\u001b[1;32m    198\u001b[0m         \u001b[0;32melse\u001b[0m\u001b[0;34m:\u001b[0m \u001b[0mself\u001b[0m\u001b[0;34m.\u001b[0m\u001b[0mopt\u001b[0m\u001b[0;34m.\u001b[0m\u001b[0mlr\u001b[0m\u001b[0;34m,\u001b[0m\u001b[0mself\u001b[0m\u001b[0;34m.\u001b[0m\u001b[0mopt\u001b[0m\u001b[0;34m.\u001b[0m\u001b[0mwd\u001b[0m \u001b[0;34m=\u001b[0m \u001b[0mlr\u001b[0m\u001b[0;34m,\u001b[0m\u001b[0mwd\u001b[0m\u001b[0;34m\u001b[0m\u001b[0;34m\u001b[0m\u001b[0m\n\u001b[1;32m    199\u001b[0m         \u001b[0mcallbacks\u001b[0m \u001b[0;34m=\u001b[0m \u001b[0;34m[\u001b[0m\u001b[0mcb\u001b[0m\u001b[0;34m(\u001b[0m\u001b[0mself\u001b[0m\u001b[0;34m)\u001b[0m \u001b[0;32mfor\u001b[0m \u001b[0mcb\u001b[0m \u001b[0;32min\u001b[0m \u001b[0mself\u001b[0m\u001b[0;34m.\u001b[0m\u001b[0mcallback_fns\u001b[0m \u001b[0;34m+\u001b[0m \u001b[0mlistify\u001b[0m\u001b[0;34m(\u001b[0m\u001b[0mdefaults\u001b[0m\u001b[0;34m.\u001b[0m\u001b[0mextra_callback_fns\u001b[0m\u001b[0;34m)\u001b[0m\u001b[0;34m]\u001b[0m \u001b[0;34m+\u001b[0m \u001b[0mlistify\u001b[0m\u001b[0;34m(\u001b[0m\u001b[0mcallbacks\u001b[0m\u001b[0;34m)\u001b[0m\u001b[0;34m\u001b[0m\u001b[0;34m\u001b[0m\u001b[0m\n\u001b[0;32m--> 200\u001b[0;31m         \u001b[0mfit\u001b[0m\u001b[0;34m(\u001b[0m\u001b[0mepochs\u001b[0m\u001b[0;34m,\u001b[0m \u001b[0mself\u001b[0m\u001b[0;34m,\u001b[0m \u001b[0mmetrics\u001b[0m\u001b[0;34m=\u001b[0m\u001b[0mself\u001b[0m\u001b[0;34m.\u001b[0m\u001b[0mmetrics\u001b[0m\u001b[0;34m,\u001b[0m \u001b[0mcallbacks\u001b[0m\u001b[0;34m=\u001b[0m\u001b[0mself\u001b[0m\u001b[0;34m.\u001b[0m\u001b[0mcallbacks\u001b[0m\u001b[0;34m+\u001b[0m\u001b[0mcallbacks\u001b[0m\u001b[0;34m)\u001b[0m\u001b[0;34m\u001b[0m\u001b[0;34m\u001b[0m\u001b[0m\n\u001b[0m\u001b[1;32m    201\u001b[0m \u001b[0;34m\u001b[0m\u001b[0m\n\u001b[1;32m    202\u001b[0m     \u001b[0;32mdef\u001b[0m \u001b[0mcreate_opt\u001b[0m\u001b[0;34m(\u001b[0m\u001b[0mself\u001b[0m\u001b[0;34m,\u001b[0m \u001b[0mlr\u001b[0m\u001b[0;34m:\u001b[0m\u001b[0mFloats\u001b[0m\u001b[0;34m,\u001b[0m \u001b[0mwd\u001b[0m\u001b[0;34m:\u001b[0m\u001b[0mFloats\u001b[0m\u001b[0;34m=\u001b[0m\u001b[0;36m0.\u001b[0m\u001b[0;34m)\u001b[0m\u001b[0;34m->\u001b[0m\u001b[0;32mNone\u001b[0m\u001b[0;34m:\u001b[0m\u001b[0;34m\u001b[0m\u001b[0;34m\u001b[0m\u001b[0m\n",
      "\u001b[0;32m~/.local/lib/python3.6/site-packages/fastai/basic_train.py\u001b[0m in \u001b[0;36mfit\u001b[0;34m(epochs, learn, callbacks, metrics)\u001b[0m\n\u001b[1;32m     99\u001b[0m             \u001b[0;32mfor\u001b[0m \u001b[0mxb\u001b[0m\u001b[0;34m,\u001b[0m\u001b[0myb\u001b[0m \u001b[0;32min\u001b[0m \u001b[0mprogress_bar\u001b[0m\u001b[0;34m(\u001b[0m\u001b[0mlearn\u001b[0m\u001b[0;34m.\u001b[0m\u001b[0mdata\u001b[0m\u001b[0;34m.\u001b[0m\u001b[0mtrain_dl\u001b[0m\u001b[0;34m,\u001b[0m \u001b[0mparent\u001b[0m\u001b[0;34m=\u001b[0m\u001b[0mpbar\u001b[0m\u001b[0;34m)\u001b[0m\u001b[0;34m:\u001b[0m\u001b[0;34m\u001b[0m\u001b[0;34m\u001b[0m\u001b[0m\n\u001b[1;32m    100\u001b[0m                 \u001b[0mxb\u001b[0m\u001b[0;34m,\u001b[0m \u001b[0myb\u001b[0m \u001b[0;34m=\u001b[0m \u001b[0mcb_handler\u001b[0m\u001b[0;34m.\u001b[0m\u001b[0mon_batch_begin\u001b[0m\u001b[0;34m(\u001b[0m\u001b[0mxb\u001b[0m\u001b[0;34m,\u001b[0m \u001b[0myb\u001b[0m\u001b[0;34m)\u001b[0m\u001b[0;34m\u001b[0m\u001b[0;34m\u001b[0m\u001b[0m\n\u001b[0;32m--> 101\u001b[0;31m                 \u001b[0mloss\u001b[0m \u001b[0;34m=\u001b[0m \u001b[0mloss_batch\u001b[0m\u001b[0;34m(\u001b[0m\u001b[0mlearn\u001b[0m\u001b[0;34m.\u001b[0m\u001b[0mmodel\u001b[0m\u001b[0;34m,\u001b[0m \u001b[0mxb\u001b[0m\u001b[0;34m,\u001b[0m \u001b[0myb\u001b[0m\u001b[0;34m,\u001b[0m \u001b[0mlearn\u001b[0m\u001b[0;34m.\u001b[0m\u001b[0mloss_func\u001b[0m\u001b[0;34m,\u001b[0m \u001b[0mlearn\u001b[0m\u001b[0;34m.\u001b[0m\u001b[0mopt\u001b[0m\u001b[0;34m,\u001b[0m \u001b[0mcb_handler\u001b[0m\u001b[0;34m)\u001b[0m\u001b[0;34m\u001b[0m\u001b[0;34m\u001b[0m\u001b[0m\n\u001b[0m\u001b[1;32m    102\u001b[0m                 \u001b[0;32mif\u001b[0m \u001b[0mcb_handler\u001b[0m\u001b[0;34m.\u001b[0m\u001b[0mon_batch_end\u001b[0m\u001b[0;34m(\u001b[0m\u001b[0mloss\u001b[0m\u001b[0;34m)\u001b[0m\u001b[0;34m:\u001b[0m \u001b[0;32mbreak\u001b[0m\u001b[0;34m\u001b[0m\u001b[0;34m\u001b[0m\u001b[0m\n\u001b[1;32m    103\u001b[0m \u001b[0;34m\u001b[0m\u001b[0m\n",
      "\u001b[0;32m~/.local/lib/python3.6/site-packages/fastai/basic_train.py\u001b[0m in \u001b[0;36mloss_batch\u001b[0;34m(model, xb, yb, loss_func, opt, cb_handler)\u001b[0m\n\u001b[1;32m     32\u001b[0m     \u001b[0;32mif\u001b[0m \u001b[0mopt\u001b[0m \u001b[0;32mis\u001b[0m \u001b[0;32mnot\u001b[0m \u001b[0;32mNone\u001b[0m\u001b[0;34m:\u001b[0m\u001b[0;34m\u001b[0m\u001b[0;34m\u001b[0m\u001b[0m\n\u001b[1;32m     33\u001b[0m         \u001b[0mloss\u001b[0m\u001b[0;34m,\u001b[0m\u001b[0mskip_bwd\u001b[0m \u001b[0;34m=\u001b[0m \u001b[0mcb_handler\u001b[0m\u001b[0;34m.\u001b[0m\u001b[0mon_backward_begin\u001b[0m\u001b[0;34m(\u001b[0m\u001b[0mloss\u001b[0m\u001b[0;34m)\u001b[0m\u001b[0;34m\u001b[0m\u001b[0;34m\u001b[0m\u001b[0m\n\u001b[0;32m---> 34\u001b[0;31m         \u001b[0;32mif\u001b[0m \u001b[0;32mnot\u001b[0m \u001b[0mskip_bwd\u001b[0m\u001b[0;34m:\u001b[0m                     \u001b[0mloss\u001b[0m\u001b[0;34m.\u001b[0m\u001b[0mbackward\u001b[0m\u001b[0;34m(\u001b[0m\u001b[0;34m)\u001b[0m\u001b[0;34m\u001b[0m\u001b[0;34m\u001b[0m\u001b[0m\n\u001b[0m\u001b[1;32m     35\u001b[0m         \u001b[0;32mif\u001b[0m \u001b[0;32mnot\u001b[0m \u001b[0mcb_handler\u001b[0m\u001b[0;34m.\u001b[0m\u001b[0mon_backward_end\u001b[0m\u001b[0;34m(\u001b[0m\u001b[0;34m)\u001b[0m\u001b[0;34m:\u001b[0m \u001b[0mopt\u001b[0m\u001b[0;34m.\u001b[0m\u001b[0mstep\u001b[0m\u001b[0;34m(\u001b[0m\u001b[0;34m)\u001b[0m\u001b[0;34m\u001b[0m\u001b[0;34m\u001b[0m\u001b[0m\n\u001b[1;32m     36\u001b[0m         \u001b[0;32mif\u001b[0m \u001b[0;32mnot\u001b[0m \u001b[0mcb_handler\u001b[0m\u001b[0;34m.\u001b[0m\u001b[0mon_step_end\u001b[0m\u001b[0;34m(\u001b[0m\u001b[0;34m)\u001b[0m\u001b[0;34m:\u001b[0m     \u001b[0mopt\u001b[0m\u001b[0;34m.\u001b[0m\u001b[0mzero_grad\u001b[0m\u001b[0;34m(\u001b[0m\u001b[0;34m)\u001b[0m\u001b[0;34m\u001b[0m\u001b[0;34m\u001b[0m\u001b[0m\n",
      "\u001b[0;32m~/.local/lib/python3.6/site-packages/torch/tensor.py\u001b[0m in \u001b[0;36mbackward\u001b[0;34m(self, gradient, retain_graph, create_graph)\u001b[0m\n\u001b[1;32m    193\u001b[0m                 \u001b[0mproducts\u001b[0m\u001b[0;34m.\u001b[0m \u001b[0mDefaults\u001b[0m \u001b[0mto\u001b[0m\u001b[0;31m \u001b[0m\u001b[0;31m`\u001b[0m\u001b[0;31m`\u001b[0m\u001b[0;32mFalse\u001b[0m\u001b[0;31m`\u001b[0m\u001b[0;31m`\u001b[0m\u001b[0;34m.\u001b[0m\u001b[0;34m\u001b[0m\u001b[0;34m\u001b[0m\u001b[0m\n\u001b[1;32m    194\u001b[0m         \"\"\"\n\u001b[0;32m--> 195\u001b[0;31m         \u001b[0mtorch\u001b[0m\u001b[0;34m.\u001b[0m\u001b[0mautograd\u001b[0m\u001b[0;34m.\u001b[0m\u001b[0mbackward\u001b[0m\u001b[0;34m(\u001b[0m\u001b[0mself\u001b[0m\u001b[0;34m,\u001b[0m \u001b[0mgradient\u001b[0m\u001b[0;34m,\u001b[0m \u001b[0mretain_graph\u001b[0m\u001b[0;34m,\u001b[0m \u001b[0mcreate_graph\u001b[0m\u001b[0;34m)\u001b[0m\u001b[0;34m\u001b[0m\u001b[0;34m\u001b[0m\u001b[0m\n\u001b[0m\u001b[1;32m    196\u001b[0m \u001b[0;34m\u001b[0m\u001b[0m\n\u001b[1;32m    197\u001b[0m     \u001b[0;32mdef\u001b[0m \u001b[0mregister_hook\u001b[0m\u001b[0;34m(\u001b[0m\u001b[0mself\u001b[0m\u001b[0;34m,\u001b[0m \u001b[0mhook\u001b[0m\u001b[0;34m)\u001b[0m\u001b[0;34m:\u001b[0m\u001b[0;34m\u001b[0m\u001b[0;34m\u001b[0m\u001b[0m\n",
      "\u001b[0;32m~/.local/lib/python3.6/site-packages/torch/autograd/__init__.py\u001b[0m in \u001b[0;36mbackward\u001b[0;34m(tensors, grad_tensors, retain_graph, create_graph, grad_variables)\u001b[0m\n\u001b[1;32m     97\u001b[0m     Variable._execution_engine.run_backward(\n\u001b[1;32m     98\u001b[0m         \u001b[0mtensors\u001b[0m\u001b[0;34m,\u001b[0m \u001b[0mgrad_tensors\u001b[0m\u001b[0;34m,\u001b[0m \u001b[0mretain_graph\u001b[0m\u001b[0;34m,\u001b[0m \u001b[0mcreate_graph\u001b[0m\u001b[0;34m,\u001b[0m\u001b[0;34m\u001b[0m\u001b[0;34m\u001b[0m\u001b[0m\n\u001b[0;32m---> 99\u001b[0;31m         allow_unreachable=True)  # allow_unreachable flag\n\u001b[0m\u001b[1;32m    100\u001b[0m \u001b[0;34m\u001b[0m\u001b[0m\n\u001b[1;32m    101\u001b[0m \u001b[0;34m\u001b[0m\u001b[0m\n",
      "\u001b[0;31mKeyboardInterrupt\u001b[0m: "
     ]
    }
   ],
   "source": [
    "learn_c.freeze_to(-2)\n",
    "learn_c.fit_one_cycle(2, slice(lr/(2.6**4),lr), moms=(0.8,0.7))"
   ]
  },
  {
   "cell_type": "code",
   "execution_count": 36,
   "metadata": {},
   "outputs": [
    {
     "data": {
      "text/html": [
       "<table border=\"1\" class=\"dataframe\">\n",
       "  <thead>\n",
       "    <tr style=\"text-align: left;\">\n",
       "      <th>epoch</th>\n",
       "      <th>train_loss</th>\n",
       "      <th>valid_loss</th>\n",
       "      <th>accuracy</th>\n",
       "      <th>f_beta</th>\n",
       "      <th>time</th>\n",
       "    </tr>\n",
       "  </thead>\n",
       "  <tbody>\n",
       "    <tr>\n",
       "      <td>0</td>\n",
       "      <td>0.911577</td>\n",
       "      <td>1.709535</td>\n",
       "      <td>0.431458</td>\n",
       "      <td>0.427551</td>\n",
       "      <td>00:45</td>\n",
       "    </tr>\n",
       "    <tr>\n",
       "      <td>1</td>\n",
       "      <td>0.818969</td>\n",
       "      <td>1.756906</td>\n",
       "      <td>0.428594</td>\n",
       "      <td>0.424851</td>\n",
       "      <td>00:45</td>\n",
       "    </tr>\n",
       "  </tbody>\n",
       "</table>"
      ],
      "text/plain": [
       "<IPython.core.display.HTML object>"
      ]
     },
     "metadata": {},
     "output_type": "display_data"
    }
   ],
   "source": [
    "learn_c.freeze_to(-3)\n",
    "learn_c.fit_one_cycle(2, slice(lr/2/(2.6**4),lr/2), moms=(0.8,0.7))"
   ]
  },
  {
   "cell_type": "code",
   "execution_count": 37,
   "metadata": {},
   "outputs": [
    {
     "data": {
      "text/html": [
       "<table border=\"1\" class=\"dataframe\">\n",
       "  <thead>\n",
       "    <tr style=\"text-align: left;\">\n",
       "      <th>epoch</th>\n",
       "      <th>train_loss</th>\n",
       "      <th>valid_loss</th>\n",
       "      <th>accuracy</th>\n",
       "      <th>f_beta</th>\n",
       "      <th>time</th>\n",
       "    </tr>\n",
       "  </thead>\n",
       "  <tbody>\n",
       "    <tr>\n",
       "      <td>0</td>\n",
       "      <td>0.771038</td>\n",
       "      <td>1.756197</td>\n",
       "      <td>0.429115</td>\n",
       "      <td>0.422765</td>\n",
       "      <td>00:45</td>\n",
       "    </tr>\n",
       "  </tbody>\n",
       "</table>"
      ],
      "text/plain": [
       "<IPython.core.display.HTML object>"
      ]
     },
     "metadata": {},
     "output_type": "display_data"
    }
   ],
   "source": [
    "learn_c.unfreeze()\n",
    "learn_c.fit_one_cycle(1, slice(lr/10/(2.6**4),lr/10), moms=(0.8,0.7))"
   ]
  },
  {
   "cell_type": "code",
   "execution_count": 45,
   "metadata": {},
   "outputs": [],
   "source": [
    "learn_c.save(mdl_path/'awdlstm_train-target_clas_256')"
   ]
  },
  {
   "cell_type": "code",
   "execution_count": 45,
   "metadata": {},
   "outputs": [
    {
     "data": {
      "text/plain": [
       "RNNLearner(data=TextClasDataBunch;\n",
       "\n",
       "Train: LabelList (28800 items)\n",
       "x: TextList\n",
       "xxbos 0 2 4 4 8 8 2 2 2 2 8 2 557056 671744 2138112 512 4096 16384 32768 16384 32768 131072 131074 2048 32768 32768 524288 262145 131074 2 2 524288 65536 131072 1073872896 32768 4096 8192 8192 4096 8192 3145728 524288 1073741824 xxunk 192 256 4194304 8388608 196 2 xxunk 524288 4 67108864 268435497 8 33554432 16 8 16 67108864 67108928 536870912 67108880 536870985 67108880 32 192 134217856 603979776 671088640 512 134217728 671088656 132352 268435488 1342177280 268435460 268435456 20 268435460 xxunk 4 268435460 262144 1073807360 xxunk 1073741824 1073741844 262144 1073872896 xxunk 139264 1073872896 1073741828 2097152 131072 262144 262144 262144 262144 524288 262144 524288 1024 65536 131072 65536 131072 131072 131072 131072 327680 131072 131072 262144 65536 32768 65536 2048 131072 16384 32768 16384 526336 xxunk 164 2048 67110912 xxunk 2048 131072 16779264 xxunk 2048 33556480 xxunk 2048 16779264 687865930 16779264 687865930 16779264 687865930 16779264 687865930 16779264 687865930 67108864 xxunk 128 4096 8192 20480 8192 32768 16384 8192 4096 128 131072 2048 8389120 343935049 2048 xxunk 8 2048 4194816 xxunk 2048 8390656 xxunk 2048 8389120 343935049 2048 xxunk 2048 8389120 343935049 2048 8390656 xxunk 2048 8389120 343935049 2048 8388608 xxunk 64 131072 1024 268435968 xxunk 2048 8704 2048 2048 8192 32768 8192 1 16384 1073750016 xxunk 8192 32768 1073774592 1073774592 163840 1073872896 268435456 131072 8192 16384 2048 8192 256 4096 10240 4096 512 536872960 xxunk 2048 8192 262145 xxunk 32 16 262144 524288 8 10 2120 131072 32 0 67108865 536870977 2 134217733 xxunk 8 134217730 xxunk 6 134217728 xxunk xxunk 536870993 24 16 134217736,xxbos 0 xxunk 167936 8 128 16384 128 2097152 8192 64 32768 16384 64 147456 24 134217728 xxunk 134217736 536870994 1024 1 xxunk 134217736 1073741906 10 1 12 8192 131072 0 8 8 3 67108864 268435488 xxunk 32768 3 xxunk 17 268439552 xxunk 5120 524288 192 268435456 xxunk 8 16 268435456 xxunk 48 8 64 192 128 192 32 32 192 1 xxunk 1342177408 268435456 2097152 2 2049 536870914 536870912 36864 2 536870917 2376 32768 6 1 4 4 4096 2 1 2 2 74 8 320 4096 40 128 8 32 24576 4096 4 8 4 1 4 8388616 1107296258 4 4 8388612 xxunk 8388616 268435624 8 1024 32 67109024 1342177300 32 8 67108880 xxunk 16 67108864 268435489 8192 67108868 xxunk 1 2 2 12 33554504 268435624 87040 33554432 524288 4194304 524288 256 256 524288 256 536870913 16 33088 524288 1073741824 xxunk 526336 1024 2097152 131072 xxunk 1375731712 131072 33685504 1375731712 131072 33685504 1375731712 67371008 335544321 131072 67371008 335544321 131072 262144 131072 262144 131072 262144 131072 33152 2097152 1024 32 67108896 xxunk 134217728 xxunk 8192 134234112 xxunk 2138112 1048576 1048576 1572864 1048576 2048 4194304 1048832 524448 1048768 2048 2048 2048 16777216 xxunk 16777216 150994964 2097152 xxunk 2097152 xxunk 33554432 xxunk 33554432 268435529 xxunk 33554432 xxunk 2 1048576 16 64 64 256 160 64 278528 2048 2048 8704 2048 4096 xxunk xxunk 524288 xxunk 512 32 128 64 268435584 xxunk 128 128 268435712 xxunk 8192 4 3 xxunk 4097 32769 xxunk 1 xxunk 2 32768 536870912 xxunk 32 32 134217760 1342177298 32 134217760 1207959570 128 67108992 xxunk,xxbos 0 268435456 268435456 134217728 0 134217728 268435456 536870912 536870912 536870912 134217728 268435456 134217728 67108864 33554432 67108864 536870912 536870912 67108864 16777216 33554432 67108864 33554432 134217728 33554432 16777216 8388608 33554432 67108864 268435456 536870912 1073741824 541065216 1073741824 268435456 67108864 268435456 536870912 268435456 134217728 67108864 134217728 16777216 33554432 67108864 16777216 1 4 2 16 4 16 301989888 33554432 72 150994944 150994944 5120 49408 16777216 8388608 67108864 16777216 67108864 134217728 16777216 67108864 16777216 33554432 67108864 134217728 18433 1073741824 536870912 2 1073741824 536870912 1073741824 536870912 134217728 536870912 134217728 33554432 67108864 33554432 33554432 134217728 33554432 134217728 16777216 8388608 16777216 67108864 33554432 134217728 67108864 33554432 67108864 33554432 8388608 33554432 16777216 33554432 67108864 67108864 268435456 33554432 67108864 16777216 16777216 33554432 16777216 67108864 16777216 536870912 134217728 1073741824 1 536870912 268435456 134217728 134217728 134217728 268435456 1073741824 268435456 1073741824 1 1 1073741824 268435456 1073741824 268435456 134217728 33554432 8388608 16777216 262144 262144 524288 655360 294912 131072 2576 41024 557056 262144 524288 65536 262144 524288 2097152 16777216 33554432 134217728 537001984 134217728 536870912 536870912 268435456 1073741824 1 268435456 67108864 33554432 67108864 33554432 33554432 67108864 16777216 33554432 67108864 33554432 67108864 16777216 8388608 4194816 2097152 1048576 1048576 524288 262144 524288 1048576 1048576 4194304 12582912 16777216 4194304 4194304 1048576 131072 131072 917504 163840 65536 81920 32768 81920 2066 1073745920 98304 16384 524288 65536 262144 8388608 2097152 16777216 41943040 33554432 67108864 16777216 67108864 16777216 16777216 16777216 4194304 8388608 16777216 33554432 33554432 16777216 67108864 33554432 16777216 33554432 16777216 16777216 786432 1 1073741824 16777216 33554432 8388608 16777216 8388608 33554432 33554432 16777216 33554432 33554432 67108864 16777216 8388608 33554432 33554432 16777216 4194304 8388608 4194304 1048576 524288 524288 65536 589824,xxbos 1 xxunk 5242880 8388608 1048576 524288 131072 65536 16384 4096 4096 2048 1024 1342177280 512 256 1024 2048 65536 524288 3145728 4194304 16777216 786432 131072 67108880 2560 262160 16 1310848 268435456 67108864 134217728 335544320 67108864 1441792 2 16384 134217728 134217728 33554432 8388608 33554432 67108864 33554432 8388608 134217728 67108864 33554432 139264 512 16777216 67108864 33554432 67108864 655360 256 4 32 32 4194304 1048576 4194304 16777216 32 16 128 327680 64 16 64 8388608 4194304 8388608 2097152 1048576 16777216 150994944 67108864 150994944 41943040 8 4 4194304 2097152 1048576 33554432 25165824 46137344 310378496 469762048 67108864 xxunk 8 1207959568 2 8388640 16 8 2048 0 139264 2048 0 0 37888 134217728 8388608 134217728 67108864 16777216 8388608 16777216 8388608 4194304 1048576 2097152 1048576 262144 65536 0 0 65536 32768 0 393216 65536 524288 1048576 0 8388608 4194304 1048576 2097152 0 4194304 4194304 1048576 524288 131072 589824 536870912 65536 589824 524288 262144 524288 1572864 2097152 8320 1048576 524288 131072 65536 327680 131072 16384 16384 65536 458752 106496 65536 2053 16384 32768 131072 1048576 10485760 16777216 1048576 0 xxunk 33554432 16777216 4194304 1048576 2097152 1048576 4096 8192 32768 2048 32768 12288 4096 4096 4096 32768 9 0 1 4 1 1 5 4 134217728 1073741824 1 100663296 33554432 41943040 16777216 10485760 4194304 1280 16384 524288 32768 32768 32768 32768 xxunk 8 524288 8388608 268435456 536870912 1073741824 1 1073741824 64 1 5120 81920 16384 8192 9216 1024 5120 1024 512 128 512 256 64 64 64 32 128 64 128 512 1024 2048 1024 512 128 576 128 128 4 16 13631488 2097152 301989888,xxbos 2 2 1114112 4 8 2 2 2 0 2 4 4 8 8 2 2 2 2 8 2 557056 671744 2138112 512 4096 16384 32768 16384 32768 131072 131074 2048 32768 32768 524288 262145 131074 2 2 524288 65536 131072 1073872896 32768 4096 8192 8192 4096 8192 3145728 524288 1073741824 xxunk 192 256 4194304 8388608 196 2 xxunk 524288 4 67108864 268435497 8 33554432 16 8 16 67108864 67108928 536870912 67108880 536870985 67108880 32 192 134217856 603979776 671088640 512 134217728 671088656 132352 268435488 1342177280 268435460 268435456 20 268435460 xxunk 4 268435460 262144 1073807360 xxunk 1073741824 1073741844 262144 1073872896 xxunk 139264 1073872896 1073741828 2097152 131072 262144 262144 262144 262144 524288 262144 524288 1024 65536 131072 65536 131072 131072 131072 131072 327680 131072 131072 262144 65536 32768 65536 2048 131072 16384 32768 16384 526336 xxunk 164 2048 67110912 xxunk 2048 131072 16779264 xxunk 2048 33556480 xxunk 2048 16779264 687865930 16779264 687865930 16779264 687865930 16779264 687865930 16779264 687865930 67108864 xxunk 128 4096 8192 20480 8192 32768 16384 8192 4096 128 131072 2048 8389120 343935049 2048 xxunk 8 2048 4194816 xxunk 2048 8390656 xxunk 2048 8389120 343935049 2048 xxunk 2048 8389120 343935049 2048 8390656 xxunk 2048 8389120 343935049 2048 8388608 xxunk 64 131072 1024 268435968 xxunk 2048 8704 2048 2048 8192 32768 8192 1 16384 1073750016 xxunk 8192 32768 1073774592 1073774592 163840 1073872896 268435456 131072 8192 16384 2048 8192 256 4096 10240 4096 512 536872960 xxunk 2048 8192 262145 xxunk 32 16 262144 524288 8 10 2120 131072 32 0 67108865 536870977 2 134217733 xxunk 8 134217730 xxunk\n",
       "y: CategoryList\n",
       "clarinet,clarinet,clarinet,clarinet,clarinet\n",
       "Path: /home/kji/.fastai/data/solo_bscore_lm;\n",
       "\n",
       "Valid: LabelList (28800 items)\n",
       "x: TextList\n",
       "xxbos 0 2 16 64 256 2048 16384 32768 262144 1048576 8388608 16777216 33554432 4194304 524288 131072 32768 1024 128 16 8 1 0 0 0 1 8 32 128 1024 4096 32768 65536 524288 4194304 16842752 4096 33554432 33554432 8388608 1048576 262144 32768 16384 2048 288 16 8 0 0 8 32 128 512 8192 65536 32768 262144 9437184 33554432 33554432 8388608 4194304 9437184 4194304 1048576 294912 16384 4096 2048 288 16 8 2 0 0 0 0 2 4 32 2304 4096 32768 1310720 12582912 8388608 524288 2113536 4096 131072 2097152 2097152 1048576 524288 262144 1048576 524288 262144 65536 16384 4096 2048 512 2048 4096 16384 2048 4096 16384 65536 262144 524288 1048576 2097152 2138112 4096 2097152 1048576 1048576 524288 131072 1048576 524288 131072 32768 16384 4096 1024 256 1024 4096 16384 1024 4096 16384 32768 131072 524288 524288 1048576 1048576 1048576 524288 262144 131072 524288 262144 131072 32768 8192 2048 1024 256 1024 2048 8192 1024 2048 8192 32768 131072 262144 524288 524288 2113536 4096 524288 1048576 524288 524288 262144 65536 524288 262144 65536 16384 16384 8192 2048 512 128 512 2048 8192 512 2048 8192 16384 65536 262144 262144 524288 524288 262144 262144 131072 32768 262144 131072 32768 16384 4096 1024 256 64 256 1024 4096 256 1024 4096 16384 32768 131072 262144 262144 2113536 4096 262144 262144 131072 65536 32768 131072 65536 32768 8192 2048 512 256 64 256 512 2048 256 512 2048 8192 32768 65536 131072 262144 262144 131072 131072 65536 16384 131072 65536 16384 8192 2048 512 512 256,xxbos 0 4 1 256 8 32 16 2048 32 128 64 128 256 2048 4096 2134016 32768 8192 1024 4096 2048 8192 128 512 256 2048 32 128 64 256 8 32 16 64 1 4 2 256 8 8 2048 16 128 64 128 256 2048 2183168 2097152 524288 65536 262144 131072 524288 8192 32768 16384 524288 65536 262144 131072 524288 8192 32768 16384 131072 2048 8192 4096 16384 512 2048 1024 131072 2048 8192 4096 16384 512 2048 2183168 1024 16384 256 2048 1024 4096 32 128 64 16384 256 2048 1024 4096 32 128 64 4096 32 256 64 1024 16 64 16 4096 32 256 64 1024 16 64 2117632 32 128 4 16 8 1024 16 64 16 128 2 16 4 1024 16 64 32 4096 64 256 128 16384 512 2048 1024 4096 64 256 128 16384 512 2048 2179072 4096 1024 16384 512 2048 1024 131072 2048 8192 8192 16384 512 2048 1024 131072 2048 8192 4096 524288 8192 32768 16384 65536 131072 262144 524288 4096 8192 32768 16384 65536 131072 262144 2183168 2097152 524288 655360 8192 32768 16384 131072 2048 8192 20480 256 2048 1024 4096 320 64 1024 16 64 16 64 4 16 4 1024 16 64 4128 64 256 16512 512 2048 132096 2048 4096 8192 16384 131072 2162688 524288 4194304 524288 262144 262144 1048576 262144 131072 131072 524288 131072 32768 65536 262144 65536 16384 32768 131072 32768 8192 16384 65536 16384 4096 4096 16384 4096 2048 2048 8192 2048 1024 2162688 524288 4194304,xxbos 0 79691776 1073742850 12582912 536871424 1024 512 65536 1024 46137344 xxunk 67109120 16777216 xxunk 16777472 65536 xxunk xxunk 2097408 18874370 512 256 512 4096 10240 8192 8192 4194304 2050 xxunk 537923584 8192 6144 8192 2048 4096 65536 4096 8192 32768 8192 8192 16384 32768 8192 16384 32768 8192 16384 32768 25167872 256 256 2048 16 16 16384 67584 256 256 67584 16 16 67584 256 256 67584 256 0 256 xxunk 2097152 2097152 2097152 1048576 1048576 524288 262144 262144 131072 131072 65536 65536 32768 16384 32768 32768 65536 65536 131072 262144 262144 524288 524288 1048576 1048576 139264 8454144 278528 2097152 1048576 1048576 524288 262144 262144 131072 131072 65536 65536 32768 16384 16384 16384 32768 32768 65536 65536 131072 262144 262144 524288 524288 1048576 2117632 1048576 1048576 524288 262144 262144 131072 131072 65536 65536 32768 16384 16384 8192 16384 16384 32768 32768 65536 65536 131072 262144 262144 524288 524288 36864 1048576 524288 262144 262144 131072 131072 65536 65536 32768 16384 16384 8192 8192 8192 16384 16384 32768 32768 65536 65536 131072 262144 262144 524288 2113536 4096 524288 262144 262144 131072 131072 65536 65536 32768 16384 16384 8192 8192 4096 4096 8192 16384 16384 32768 32768 65536 65536 131072 262144 262144 20480 262144 262144 131072 131072 65536 65536 32768 16384 16384 8192 8192 4096 2048 4096 4096 8192 16384 16384 32768 32768 65536 65536 131072 262144 81920 262144 131072 131072 65536 65536 32768 16384 16384 8192 8192 4096 2048 2048 2048 4096 4096 8192 16384 16384 32768 32768 65536 65536 131072 2117632 131072 131072 65536 65536 32768 16384,xxbos 1 0 1 4 544 5120 32768 262144 262144 32768 65536 16384 2048 256 128 16 2 16 128 256 2048 16384 65536 262144 268976128 16777216 16777216 4194304 524288 65536 8192 4096 32 4 0 4 32 512 1024 8192 65536 524288 262144 262144 32768 4096 16384 2048 256 32 16 2 1 2 16 128 1024 4096 32768 4229120 512 262144 262144 65536 16384 2048 256 128 16 4 0 2 16 128 258 256 16384 65536 262144 262144 65536 32768 16384 65536 32768 16384 2048 256 128 32 16 2 0 0 0 0 2 16 34 32 256 2048 8192 16384 16384 269025280 8192 268435456 67108864 4194304 524288 32768 4096 512 8 1 0 2 0 1 64 1024 4096 32768 524288 4194304 33554432 33554432 4194304 524288 32768 4096 1024 32 4 1 8 0 1 8 512 4096 4096 65536 524288 33701888 4096 33554432 4194304 262144 32768 4096 256 32 8 0 0 0 0 2 8 128 2048 32768 131072 4194304 4194304 262144 32768 4096 256 32 4 0 0 1 0 0 8 128 1024 32768 262144 2097152 xxunk 16384 536870912 33554432 4194304 262144 32768 4096 256 32 4 0 0 0 4 32 256 4096 32768 262144 4194304 33554432 33554432 4194304 262144 32768 1024 32 4 1 0 0 8 32 256 4096 32768 262144 4194304 33619968 4096 33554432 33554432 4194304 524288 65536 32768 4096 1024 64 16 2 0 0 0 0 1 8 32 128 1024 8192 32768 65536 524288 4194304 4194304 4194304 524288 1048576 32768 4096,xxbos 1 1 1 4 2 4 8 16 16 16 32 32 32 64 64 128 2134016 128 64 128 128 128 256 256 1024 2048 2048 2048 4096 4096 4096 8192 8192 16384 16384 16384 32768 32768 32768 65536 65536 65536 131072 262144 262144 262144 524288 524288 524288 1048576 1048576 4194304 303104 2097152 16384 16384 16384 8192 8192 8192 4096 2048 2048 2048 1024 1024 1024 256 256 256 128 128 64 256 256 256 256 512 512 1024 1024 2048 2048 2048 4096 4096 4096 8192 16384 2117632 16384 8192 8192 8192 4096 4096 2048 2048 2048 1024 1024 1024 256 256 256 128 64 64 64 64 64 128 128 128 256 256 256 1024 2048 2048 2048 4096 4096 4096 8192 8192 2117632 8192 8192 8192 4096 2048 2048 2048 1024 1024 1024 256 512 256 256 128 64 64 64 32 128 64 128 256 256 256 256 512 512 1024 1024 2048 2048 2048 4096 8192 8192 2134016 8192 4096 4096 2048 2048 2048 1024 1024 1024 512 512 512 256 128 64 128 32 32 64 64 32 128 128 64 128 128 128 256 256 256 1024 2048 2048 2048 4096 4096 2134016 4096 2048 2048 2048 1024 1024 1024 256 256 256 128 256 64 64 64 32 32 32 16 32 64 32 64 64 128 128 128 512 512 512 1024 1024 2048 2048 2048 2113536 4096 2048 2048 2048 1024 1024 512 1024 1024 512 256 256 64 64 64 64 32 32 8\n",
       "y: CategoryList\n",
       "flute,flute,flute,flute,flute\n",
       "Path: /home/kji/.fastai/data/solo_bscore_lm;\n",
       "\n",
       "Test: None, model=SequentialRNN(\n",
       "  (0): MultiBatchEncoder(\n",
       "    (module): AWD_LSTM(\n",
       "      (encoder): Embedding(4616, 400, padding_idx=1)\n",
       "      (encoder_dp): EmbeddingDropout(\n",
       "        (emb): Embedding(4616, 400, padding_idx=1)\n",
       "      )\n",
       "      (rnns): ModuleList(\n",
       "        (0): WeightDropout(\n",
       "          (module): LSTM(400, 1152, batch_first=True)\n",
       "        )\n",
       "        (1): WeightDropout(\n",
       "          (module): LSTM(1152, 1152, batch_first=True)\n",
       "        )\n",
       "        (2): WeightDropout(\n",
       "          (module): LSTM(1152, 400, batch_first=True)\n",
       "        )\n",
       "      )\n",
       "      (input_dp): RNNDropout()\n",
       "      (hidden_dps): ModuleList(\n",
       "        (0): RNNDropout()\n",
       "        (1): RNNDropout()\n",
       "        (2): RNNDropout()\n",
       "      )\n",
       "    )\n",
       "  )\n",
       "  (1): PoolingLinearClassifier(\n",
       "    (layers): Sequential(\n",
       "      (0): BatchNorm1d(1200, eps=1e-05, momentum=0.1, affine=True, track_running_stats=True)\n",
       "      (1): Dropout(p=0.2, inplace=False)\n",
       "      (2): Linear(in_features=1200, out_features=50, bias=True)\n",
       "      (3): ReLU(inplace=True)\n",
       "      (4): BatchNorm1d(50, eps=1e-05, momentum=0.1, affine=True, track_running_stats=True)\n",
       "      (5): Dropout(p=0.1, inplace=False)\n",
       "      (6): Linear(in_features=50, out_features=8, bias=True)\n",
       "    )\n",
       "  )\n",
       "), opt_func=functools.partial(<class 'torch.optim.adam.Adam'>, betas=(0.9, 0.99)), loss_func=FlattenedLoss of CrossEntropyLoss(), metrics=[<function accuracy at 0x7f9404ddd2f0>, FBeta(average='macro', pos_label=1, eps=1e-09, beta=1)], true_wd=True, bn_wd=True, wd=0.01, train_bn=True, path=PosixPath('/home/kji/.fastai/data/solo_bscore_lm'), model_dir='models', callback_fns=[functools.partial(<class 'fastai.basic_train.Recorder'>, add_time=True, silent=False)], callbacks=[RNNTrainer\n",
       "learn: RNNLearner(data=TextClasDataBunch;\n",
       "\n",
       "Train: LabelList (28800 items)\n",
       "x: TextList\n",
       "xxbos 0 2 4 4 8 8 2 2 2 2 8 2 557056 671744 2138112 512 4096 16384 32768 16384 32768 131072 131074 2048 32768 32768 524288 262145 131074 2 2 524288 65536 131072 1073872896 32768 4096 8192 8192 4096 8192 3145728 524288 1073741824 xxunk 192 256 4194304 8388608 196 2 xxunk 524288 4 67108864 268435497 8 33554432 16 8 16 67108864 67108928 536870912 67108880 536870985 67108880 32 192 134217856 603979776 671088640 512 134217728 671088656 132352 268435488 1342177280 268435460 268435456 20 268435460 xxunk 4 268435460 262144 1073807360 xxunk 1073741824 1073741844 262144 1073872896 xxunk 139264 1073872896 1073741828 2097152 131072 262144 262144 262144 262144 524288 262144 524288 1024 65536 131072 65536 131072 131072 131072 131072 327680 131072 131072 262144 65536 32768 65536 2048 131072 16384 32768 16384 526336 xxunk 164 2048 67110912 xxunk 2048 131072 16779264 xxunk 2048 33556480 xxunk 2048 16779264 687865930 16779264 687865930 16779264 687865930 16779264 687865930 16779264 687865930 67108864 xxunk 128 4096 8192 20480 8192 32768 16384 8192 4096 128 131072 2048 8389120 343935049 2048 xxunk 8 2048 4194816 xxunk 2048 8390656 xxunk 2048 8389120 343935049 2048 xxunk 2048 8389120 343935049 2048 8390656 xxunk 2048 8389120 343935049 2048 8388608 xxunk 64 131072 1024 268435968 xxunk 2048 8704 2048 2048 8192 32768 8192 1 16384 1073750016 xxunk 8192 32768 1073774592 1073774592 163840 1073872896 268435456 131072 8192 16384 2048 8192 256 4096 10240 4096 512 536872960 xxunk 2048 8192 262145 xxunk 32 16 262144 524288 8 10 2120 131072 32 0 67108865 536870977 2 134217733 xxunk 8 134217730 xxunk 6 134217728 xxunk xxunk 536870993 24 16 134217736,xxbos 0 xxunk 167936 8 128 16384 128 2097152 8192 64 32768 16384 64 147456 24 134217728 xxunk 134217736 536870994 1024 1 xxunk 134217736 1073741906 10 1 12 8192 131072 0 8 8 3 67108864 268435488 xxunk 32768 3 xxunk 17 268439552 xxunk 5120 524288 192 268435456 xxunk 8 16 268435456 xxunk 48 8 64 192 128 192 32 32 192 1 xxunk 1342177408 268435456 2097152 2 2049 536870914 536870912 36864 2 536870917 2376 32768 6 1 4 4 4096 2 1 2 2 74 8 320 4096 40 128 8 32 24576 4096 4 8 4 1 4 8388616 1107296258 4 4 8388612 xxunk 8388616 268435624 8 1024 32 67109024 1342177300 32 8 67108880 xxunk 16 67108864 268435489 8192 67108868 xxunk 1 2 2 12 33554504 268435624 87040 33554432 524288 4194304 524288 256 256 524288 256 536870913 16 33088 524288 1073741824 xxunk 526336 1024 2097152 131072 xxunk 1375731712 131072 33685504 1375731712 131072 33685504 1375731712 67371008 335544321 131072 67371008 335544321 131072 262144 131072 262144 131072 262144 131072 33152 2097152 1024 32 67108896 xxunk 134217728 xxunk 8192 134234112 xxunk 2138112 1048576 1048576 1572864 1048576 2048 4194304 1048832 524448 1048768 2048 2048 2048 16777216 xxunk 16777216 150994964 2097152 xxunk 2097152 xxunk 33554432 xxunk 33554432 268435529 xxunk 33554432 xxunk 2 1048576 16 64 64 256 160 64 278528 2048 2048 8704 2048 4096 xxunk xxunk 524288 xxunk 512 32 128 64 268435584 xxunk 128 128 268435712 xxunk 8192 4 3 xxunk 4097 32769 xxunk 1 xxunk 2 32768 536870912 xxunk 32 32 134217760 1342177298 32 134217760 1207959570 128 67108992 xxunk,xxbos 0 268435456 268435456 134217728 0 134217728 268435456 536870912 536870912 536870912 134217728 268435456 134217728 67108864 33554432 67108864 536870912 536870912 67108864 16777216 33554432 67108864 33554432 134217728 33554432 16777216 8388608 33554432 67108864 268435456 536870912 1073741824 541065216 1073741824 268435456 67108864 268435456 536870912 268435456 134217728 67108864 134217728 16777216 33554432 67108864 16777216 1 4 2 16 4 16 301989888 33554432 72 150994944 150994944 5120 49408 16777216 8388608 67108864 16777216 67108864 134217728 16777216 67108864 16777216 33554432 67108864 134217728 18433 1073741824 536870912 2 1073741824 536870912 1073741824 536870912 134217728 536870912 134217728 33554432 67108864 33554432 33554432 134217728 33554432 134217728 16777216 8388608 16777216 67108864 33554432 134217728 67108864 33554432 67108864 33554432 8388608 33554432 16777216 33554432 67108864 67108864 268435456 33554432 67108864 16777216 16777216 33554432 16777216 67108864 16777216 536870912 134217728 1073741824 1 536870912 268435456 134217728 134217728 134217728 268435456 1073741824 268435456 1073741824 1 1 1073741824 268435456 1073741824 268435456 134217728 33554432 8388608 16777216 262144 262144 524288 655360 294912 131072 2576 41024 557056 262144 524288 65536 262144 524288 2097152 16777216 33554432 134217728 537001984 134217728 536870912 536870912 268435456 1073741824 1 268435456 67108864 33554432 67108864 33554432 33554432 67108864 16777216 33554432 67108864 33554432 67108864 16777216 8388608 4194816 2097152 1048576 1048576 524288 262144 524288 1048576 1048576 4194304 12582912 16777216 4194304 4194304 1048576 131072 131072 917504 163840 65536 81920 32768 81920 2066 1073745920 98304 16384 524288 65536 262144 8388608 2097152 16777216 41943040 33554432 67108864 16777216 67108864 16777216 16777216 16777216 4194304 8388608 16777216 33554432 33554432 16777216 67108864 33554432 16777216 33554432 16777216 16777216 786432 1 1073741824 16777216 33554432 8388608 16777216 8388608 33554432 33554432 16777216 33554432 33554432 67108864 16777216 8388608 33554432 33554432 16777216 4194304 8388608 4194304 1048576 524288 524288 65536 589824,xxbos 1 xxunk 5242880 8388608 1048576 524288 131072 65536 16384 4096 4096 2048 1024 1342177280 512 256 1024 2048 65536 524288 3145728 4194304 16777216 786432 131072 67108880 2560 262160 16 1310848 268435456 67108864 134217728 335544320 67108864 1441792 2 16384 134217728 134217728 33554432 8388608 33554432 67108864 33554432 8388608 134217728 67108864 33554432 139264 512 16777216 67108864 33554432 67108864 655360 256 4 32 32 4194304 1048576 4194304 16777216 32 16 128 327680 64 16 64 8388608 4194304 8388608 2097152 1048576 16777216 150994944 67108864 150994944 41943040 8 4 4194304 2097152 1048576 33554432 25165824 46137344 310378496 469762048 67108864 xxunk 8 1207959568 2 8388640 16 8 2048 0 139264 2048 0 0 37888 134217728 8388608 134217728 67108864 16777216 8388608 16777216 8388608 4194304 1048576 2097152 1048576 262144 65536 0 0 65536 32768 0 393216 65536 524288 1048576 0 8388608 4194304 1048576 2097152 0 4194304 4194304 1048576 524288 131072 589824 536870912 65536 589824 524288 262144 524288 1572864 2097152 8320 1048576 524288 131072 65536 327680 131072 16384 16384 65536 458752 106496 65536 2053 16384 32768 131072 1048576 10485760 16777216 1048576 0 xxunk 33554432 16777216 4194304 1048576 2097152 1048576 4096 8192 32768 2048 32768 12288 4096 4096 4096 32768 9 0 1 4 1 1 5 4 134217728 1073741824 1 100663296 33554432 41943040 16777216 10485760 4194304 1280 16384 524288 32768 32768 32768 32768 xxunk 8 524288 8388608 268435456 536870912 1073741824 1 1073741824 64 1 5120 81920 16384 8192 9216 1024 5120 1024 512 128 512 256 64 64 64 32 128 64 128 512 1024 2048 1024 512 128 576 128 128 4 16 13631488 2097152 301989888,xxbos 2 2 1114112 4 8 2 2 2 0 2 4 4 8 8 2 2 2 2 8 2 557056 671744 2138112 512 4096 16384 32768 16384 32768 131072 131074 2048 32768 32768 524288 262145 131074 2 2 524288 65536 131072 1073872896 32768 4096 8192 8192 4096 8192 3145728 524288 1073741824 xxunk 192 256 4194304 8388608 196 2 xxunk 524288 4 67108864 268435497 8 33554432 16 8 16 67108864 67108928 536870912 67108880 536870985 67108880 32 192 134217856 603979776 671088640 512 134217728 671088656 132352 268435488 1342177280 268435460 268435456 20 268435460 xxunk 4 268435460 262144 1073807360 xxunk 1073741824 1073741844 262144 1073872896 xxunk 139264 1073872896 1073741828 2097152 131072 262144 262144 262144 262144 524288 262144 524288 1024 65536 131072 65536 131072 131072 131072 131072 327680 131072 131072 262144 65536 32768 65536 2048 131072 16384 32768 16384 526336 xxunk 164 2048 67110912 xxunk 2048 131072 16779264 xxunk 2048 33556480 xxunk 2048 16779264 687865930 16779264 687865930 16779264 687865930 16779264 687865930 16779264 687865930 67108864 xxunk 128 4096 8192 20480 8192 32768 16384 8192 4096 128 131072 2048 8389120 343935049 2048 xxunk 8 2048 4194816 xxunk 2048 8390656 xxunk 2048 8389120 343935049 2048 xxunk 2048 8389120 343935049 2048 8390656 xxunk 2048 8389120 343935049 2048 8388608 xxunk 64 131072 1024 268435968 xxunk 2048 8704 2048 2048 8192 32768 8192 1 16384 1073750016 xxunk 8192 32768 1073774592 1073774592 163840 1073872896 268435456 131072 8192 16384 2048 8192 256 4096 10240 4096 512 536872960 xxunk 2048 8192 262145 xxunk 32 16 262144 524288 8 10 2120 131072 32 0 67108865 536870977 2 134217733 xxunk 8 134217730 xxunk\n",
       "y: CategoryList\n",
       "clarinet,clarinet,clarinet,clarinet,clarinet\n",
       "Path: /home/kji/.fastai/data/solo_bscore_lm;\n",
       "\n",
       "Valid: LabelList (28800 items)\n",
       "x: TextList\n",
       "xxbos 0 2 16 64 256 2048 16384 32768 262144 1048576 8388608 16777216 33554432 4194304 524288 131072 32768 1024 128 16 8 1 0 0 0 1 8 32 128 1024 4096 32768 65536 524288 4194304 16842752 4096 33554432 33554432 8388608 1048576 262144 32768 16384 2048 288 16 8 0 0 8 32 128 512 8192 65536 32768 262144 9437184 33554432 33554432 8388608 4194304 9437184 4194304 1048576 294912 16384 4096 2048 288 16 8 2 0 0 0 0 2 4 32 2304 4096 32768 1310720 12582912 8388608 524288 2113536 4096 131072 2097152 2097152 1048576 524288 262144 1048576 524288 262144 65536 16384 4096 2048 512 2048 4096 16384 2048 4096 16384 65536 262144 524288 1048576 2097152 2138112 4096 2097152 1048576 1048576 524288 131072 1048576 524288 131072 32768 16384 4096 1024 256 1024 4096 16384 1024 4096 16384 32768 131072 524288 524288 1048576 1048576 1048576 524288 262144 131072 524288 262144 131072 32768 8192 2048 1024 256 1024 2048 8192 1024 2048 8192 32768 131072 262144 524288 524288 2113536 4096 524288 1048576 524288 524288 262144 65536 524288 262144 65536 16384 16384 8192 2048 512 128 512 2048 8192 512 2048 8192 16384 65536 262144 262144 524288 524288 262144 262144 131072 32768 262144 131072 32768 16384 4096 1024 256 64 256 1024 4096 256 1024 4096 16384 32768 131072 262144 262144 2113536 4096 262144 262144 131072 65536 32768 131072 65536 32768 8192 2048 512 256 64 256 512 2048 256 512 2048 8192 32768 65536 131072 262144 262144 131072 131072 65536 16384 131072 65536 16384 8192 2048 512 512 256,xxbos 0 4 1 256 8 32 16 2048 32 128 64 128 256 2048 4096 2134016 32768 8192 1024 4096 2048 8192 128 512 256 2048 32 128 64 256 8 32 16 64 1 4 2 256 8 8 2048 16 128 64 128 256 2048 2183168 2097152 524288 65536 262144 131072 524288 8192 32768 16384 524288 65536 262144 131072 524288 8192 32768 16384 131072 2048 8192 4096 16384 512 2048 1024 131072 2048 8192 4096 16384 512 2048 2183168 1024 16384 256 2048 1024 4096 32 128 64 16384 256 2048 1024 4096 32 128 64 4096 32 256 64 1024 16 64 16 4096 32 256 64 1024 16 64 2117632 32 128 4 16 8 1024 16 64 16 128 2 16 4 1024 16 64 32 4096 64 256 128 16384 512 2048 1024 4096 64 256 128 16384 512 2048 2179072 4096 1024 16384 512 2048 1024 131072 2048 8192 8192 16384 512 2048 1024 131072 2048 8192 4096 524288 8192 32768 16384 65536 131072 262144 524288 4096 8192 32768 16384 65536 131072 262144 2183168 2097152 524288 655360 8192 32768 16384 131072 2048 8192 20480 256 2048 1024 4096 320 64 1024 16 64 16 64 4 16 4 1024 16 64 4128 64 256 16512 512 2048 132096 2048 4096 8192 16384 131072 2162688 524288 4194304 524288 262144 262144 1048576 262144 131072 131072 524288 131072 32768 65536 262144 65536 16384 32768 131072 32768 8192 16384 65536 16384 4096 4096 16384 4096 2048 2048 8192 2048 1024 2162688 524288 4194304,xxbos 0 79691776 1073742850 12582912 536871424 1024 512 65536 1024 46137344 xxunk 67109120 16777216 xxunk 16777472 65536 xxunk xxunk 2097408 18874370 512 256 512 4096 10240 8192 8192 4194304 2050 xxunk 537923584 8192 6144 8192 2048 4096 65536 4096 8192 32768 8192 8192 16384 32768 8192 16384 32768 8192 16384 32768 25167872 256 256 2048 16 16 16384 67584 256 256 67584 16 16 67584 256 256 67584 256 0 256 xxunk 2097152 2097152 2097152 1048576 1048576 524288 262144 262144 131072 131072 65536 65536 32768 16384 32768 32768 65536 65536 131072 262144 262144 524288 524288 1048576 1048576 139264 8454144 278528 2097152 1048576 1048576 524288 262144 262144 131072 131072 65536 65536 32768 16384 16384 16384 32768 32768 65536 65536 131072 262144 262144 524288 524288 1048576 2117632 1048576 1048576 524288 262144 262144 131072 131072 65536 65536 32768 16384 16384 8192 16384 16384 32768 32768 65536 65536 131072 262144 262144 524288 524288 36864 1048576 524288 262144 262144 131072 131072 65536 65536 32768 16384 16384 8192 8192 8192 16384 16384 32768 32768 65536 65536 131072 262144 262144 524288 2113536 4096 524288 262144 262144 131072 131072 65536 65536 32768 16384 16384 8192 8192 4096 4096 8192 16384 16384 32768 32768 65536 65536 131072 262144 262144 20480 262144 262144 131072 131072 65536 65536 32768 16384 16384 8192 8192 4096 2048 4096 4096 8192 16384 16384 32768 32768 65536 65536 131072 262144 81920 262144 131072 131072 65536 65536 32768 16384 16384 8192 8192 4096 2048 2048 2048 4096 4096 8192 16384 16384 32768 32768 65536 65536 131072 2117632 131072 131072 65536 65536 32768 16384,xxbos 1 0 1 4 544 5120 32768 262144 262144 32768 65536 16384 2048 256 128 16 2 16 128 256 2048 16384 65536 262144 268976128 16777216 16777216 4194304 524288 65536 8192 4096 32 4 0 4 32 512 1024 8192 65536 524288 262144 262144 32768 4096 16384 2048 256 32 16 2 1 2 16 128 1024 4096 32768 4229120 512 262144 262144 65536 16384 2048 256 128 16 4 0 2 16 128 258 256 16384 65536 262144 262144 65536 32768 16384 65536 32768 16384 2048 256 128 32 16 2 0 0 0 0 2 16 34 32 256 2048 8192 16384 16384 269025280 8192 268435456 67108864 4194304 524288 32768 4096 512 8 1 0 2 0 1 64 1024 4096 32768 524288 4194304 33554432 33554432 4194304 524288 32768 4096 1024 32 4 1 8 0 1 8 512 4096 4096 65536 524288 33701888 4096 33554432 4194304 262144 32768 4096 256 32 8 0 0 0 0 2 8 128 2048 32768 131072 4194304 4194304 262144 32768 4096 256 32 4 0 0 1 0 0 8 128 1024 32768 262144 2097152 xxunk 16384 536870912 33554432 4194304 262144 32768 4096 256 32 4 0 0 0 4 32 256 4096 32768 262144 4194304 33554432 33554432 4194304 262144 32768 1024 32 4 1 0 0 8 32 256 4096 32768 262144 4194304 33619968 4096 33554432 33554432 4194304 524288 65536 32768 4096 1024 64 16 2 0 0 0 0 1 8 32 128 1024 8192 32768 65536 524288 4194304 4194304 4194304 524288 1048576 32768 4096,xxbos 1 1 1 4 2 4 8 16 16 16 32 32 32 64 64 128 2134016 128 64 128 128 128 256 256 1024 2048 2048 2048 4096 4096 4096 8192 8192 16384 16384 16384 32768 32768 32768 65536 65536 65536 131072 262144 262144 262144 524288 524288 524288 1048576 1048576 4194304 303104 2097152 16384 16384 16384 8192 8192 8192 4096 2048 2048 2048 1024 1024 1024 256 256 256 128 128 64 256 256 256 256 512 512 1024 1024 2048 2048 2048 4096 4096 4096 8192 16384 2117632 16384 8192 8192 8192 4096 4096 2048 2048 2048 1024 1024 1024 256 256 256 128 64 64 64 64 64 128 128 128 256 256 256 1024 2048 2048 2048 4096 4096 4096 8192 8192 2117632 8192 8192 8192 4096 2048 2048 2048 1024 1024 1024 256 512 256 256 128 64 64 64 32 128 64 128 256 256 256 256 512 512 1024 1024 2048 2048 2048 4096 8192 8192 2134016 8192 4096 4096 2048 2048 2048 1024 1024 1024 512 512 512 256 128 64 128 32 32 64 64 32 128 128 64 128 128 128 256 256 256 1024 2048 2048 2048 4096 4096 2134016 4096 2048 2048 2048 1024 1024 1024 256 256 256 128 256 64 64 64 32 32 32 16 32 64 32 64 64 128 128 128 512 512 512 1024 1024 2048 2048 2048 2113536 4096 2048 2048 2048 1024 1024 512 1024 1024 512 256 256 64 64 64 64 32 32 8\n",
       "y: CategoryList\n",
       "flute,flute,flute,flute,flute\n",
       "Path: /home/kji/.fastai/data/solo_bscore_lm;\n",
       "\n",
       "Test: None, model=SequentialRNN(\n",
       "  (0): MultiBatchEncoder(\n",
       "    (module): AWD_LSTM(\n",
       "      (encoder): Embedding(4616, 400, padding_idx=1)\n",
       "      (encoder_dp): EmbeddingDropout(\n",
       "        (emb): Embedding(4616, 400, padding_idx=1)\n",
       "      )\n",
       "      (rnns): ModuleList(\n",
       "        (0): WeightDropout(\n",
       "          (module): LSTM(400, 1152, batch_first=True)\n",
       "        )\n",
       "        (1): WeightDropout(\n",
       "          (module): LSTM(1152, 1152, batch_first=True)\n",
       "        )\n",
       "        (2): WeightDropout(\n",
       "          (module): LSTM(1152, 400, batch_first=True)\n",
       "        )\n",
       "      )\n",
       "      (input_dp): RNNDropout()\n",
       "      (hidden_dps): ModuleList(\n",
       "        (0): RNNDropout()\n",
       "        (1): RNNDropout()\n",
       "        (2): RNNDropout()\n",
       "      )\n",
       "    )\n",
       "  )\n",
       "  (1): PoolingLinearClassifier(\n",
       "    (layers): Sequential(\n",
       "      (0): BatchNorm1d(1200, eps=1e-05, momentum=0.1, affine=True, track_running_stats=True)\n",
       "      (1): Dropout(p=0.2, inplace=False)\n",
       "      (2): Linear(in_features=1200, out_features=50, bias=True)\n",
       "      (3): ReLU(inplace=True)\n",
       "      (4): BatchNorm1d(50, eps=1e-05, momentum=0.1, affine=True, track_running_stats=True)\n",
       "      (5): Dropout(p=0.1, inplace=False)\n",
       "      (6): Linear(in_features=50, out_features=8, bias=True)\n",
       "    )\n",
       "  )\n",
       "), opt_func=functools.partial(<class 'torch.optim.adam.Adam'>, betas=(0.9, 0.99)), loss_func=FlattenedLoss of CrossEntropyLoss(), metrics=[<function accuracy at 0x7f9404ddd2f0>, FBeta(average='macro', pos_label=1, eps=1e-09, beta=1)], true_wd=True, bn_wd=True, wd=0.01, train_bn=True, path=PosixPath('/home/kji/.fastai/data/solo_bscore_lm'), model_dir='models', callback_fns=[functools.partial(<class 'fastai.basic_train.Recorder'>, add_time=True, silent=False)], callbacks=[...], layer_groups=[Sequential(\n",
       "  (0): Embedding(4616, 400, padding_idx=1)\n",
       "  (1): EmbeddingDropout(\n",
       "    (emb): Embedding(4616, 400, padding_idx=1)\n",
       "  )\n",
       "), Sequential(\n",
       "  (0): WeightDropout(\n",
       "    (module): LSTM(400, 1152, batch_first=True)\n",
       "  )\n",
       "  (1): RNNDropout()\n",
       "), Sequential(\n",
       "  (0): WeightDropout(\n",
       "    (module): LSTM(1152, 1152, batch_first=True)\n",
       "  )\n",
       "  (1): RNNDropout()\n",
       "), Sequential(\n",
       "  (0): WeightDropout(\n",
       "    (module): LSTM(1152, 400, batch_first=True)\n",
       "  )\n",
       "  (1): RNNDropout()\n",
       "), Sequential(\n",
       "  (0): PoolingLinearClassifier(\n",
       "    (layers): Sequential(\n",
       "      (0): BatchNorm1d(1200, eps=1e-05, momentum=0.1, affine=True, track_running_stats=True)\n",
       "      (1): Dropout(p=0.2, inplace=False)\n",
       "      (2): Linear(in_features=1200, out_features=50, bias=True)\n",
       "      (3): ReLU(inplace=True)\n",
       "      (4): BatchNorm1d(50, eps=1e-05, momentum=0.1, affine=True, track_running_stats=True)\n",
       "      (5): Dropout(p=0.1, inplace=False)\n",
       "      (6): Linear(in_features=50, out_features=8, bias=True)\n",
       "    )\n",
       "  )\n",
       ")], add_time=True, silent=False)\n",
       "alpha: 2.0\n",
       "beta: 1.0], layer_groups=[Sequential(\n",
       "  (0): Embedding(4616, 400, padding_idx=1)\n",
       "  (1): EmbeddingDropout(\n",
       "    (emb): Embedding(4616, 400, padding_idx=1)\n",
       "  )\n",
       "), Sequential(\n",
       "  (0): WeightDropout(\n",
       "    (module): LSTM(400, 1152, batch_first=True)\n",
       "  )\n",
       "  (1): RNNDropout()\n",
       "), Sequential(\n",
       "  (0): WeightDropout(\n",
       "    (module): LSTM(1152, 1152, batch_first=True)\n",
       "  )\n",
       "  (1): RNNDropout()\n",
       "), Sequential(\n",
       "  (0): WeightDropout(\n",
       "    (module): LSTM(1152, 400, batch_first=True)\n",
       "  )\n",
       "  (1): RNNDropout()\n",
       "), Sequential(\n",
       "  (0): PoolingLinearClassifier(\n",
       "    (layers): Sequential(\n",
       "      (0): BatchNorm1d(1200, eps=1e-05, momentum=0.1, affine=True, track_running_stats=True)\n",
       "      (1): Dropout(p=0.2, inplace=False)\n",
       "      (2): Linear(in_features=1200, out_features=50, bias=True)\n",
       "      (3): ReLU(inplace=True)\n",
       "      (4): BatchNorm1d(50, eps=1e-05, momentum=0.1, affine=True, track_running_stats=True)\n",
       "      (5): Dropout(p=0.1, inplace=False)\n",
       "      (6): Linear(in_features=50, out_features=8, bias=True)\n",
       "    )\n",
       "  )\n",
       ")], add_time=True, silent=False)"
      ]
     },
     "execution_count": 45,
     "metadata": {},
     "output_type": "execute_result"
    }
   ],
   "source": [
    "learn_c.load(mdl_path/'awdlstm_train-target_clas_256')"
   ]
  },
  {
   "cell_type": "markdown",
   "metadata": {},
   "source": [
    "### Evaluate Classifier"
   ]
  },
  {
   "cell_type": "markdown",
   "metadata": {},
   "source": [
    "Evaluate on the proxy task -- classifying fixed-length chunks of bootleg score features."
   ]
  },
  {
   "cell_type": "code",
   "execution_count": 43,
   "metadata": {},
   "outputs": [
    {
     "data": {
      "text/html": [],
      "text/plain": [
       "<IPython.core.display.HTML object>"
      ]
     },
     "metadata": {},
     "output_type": "display_data"
    },
    {
     "data": {
      "text/html": [],
      "text/plain": [
       "<IPython.core.display.HTML object>"
      ]
     },
     "metadata": {},
     "output_type": "display_data"
    }
   ],
   "source": [
    "data_clas_test = TextDataBunch.from_df(path, train_df, test_df, tokenizer=basicTokenizer, \n",
    "                                       vocab=data.vocab, bs=bs, num_workers=1)"
   ]
  },
  {
   "cell_type": "code",
   "execution_count": 44,
   "metadata": {},
   "outputs": [
    {
     "data": {
      "text/html": [],
      "text/plain": [
       "<IPython.core.display.HTML object>"
      ]
     },
     "metadata": {},
     "output_type": "display_data"
    },
    {
     "data": {
      "text/plain": [
       "[1.3859369, tensor(0.5715), tensor(0.5634)]"
      ]
     },
     "execution_count": 44,
     "metadata": {},
     "output_type": "execute_result"
    }
   ],
   "source": [
    "learn_c.validate(data_clas_test.valid_dl)"
   ]
  },
  {
   "cell_type": "markdown",
   "metadata": {},
   "source": [
    "Evaluate on the original task -- classifying pages of sheet music.  We can evaluate our models in two ways:\n",
    "- applying the model to a variable length sequence\n",
    "- applying the model to multiple fixed-length windows and averaging the predictions\n",
    "\n",
    "First we evaluate the model on variable length inputs.  Report results with and without applying priors."
   ]
  },
  {
   "cell_type": "code",
   "execution_count": 28,
   "metadata": {},
   "outputs": [],
   "source": [
    "train_fullpage_df = pd.read_csv(path/'train.fullpage.csv')\n",
    "valid_fullpage_df = pd.read_csv(path/'valid.fullpage.csv')\n",
    "test_fullpage_df = pd.read_csv(path/'test.fullpage.csv')"
   ]
  },
  {
   "cell_type": "code",
   "execution_count": 29,
   "metadata": {},
   "outputs": [
    {
     "data": {
      "text/html": [],
      "text/plain": [
       "<IPython.core.display.HTML object>"
      ]
     },
     "metadata": {},
     "output_type": "display_data"
    },
    {
     "data": {
      "text/html": [],
      "text/plain": [
       "<IPython.core.display.HTML object>"
      ]
     },
     "metadata": {},
     "output_type": "display_data"
    },
    {
     "data": {
      "text/html": [],
      "text/plain": [
       "<IPython.core.display.HTML object>"
      ]
     },
     "metadata": {},
     "output_type": "display_data"
    },
    {
     "data": {
      "text/html": [],
      "text/plain": [
       "<IPython.core.display.HTML object>"
      ]
     },
     "metadata": {},
     "output_type": "display_data"
    },
    {
     "data": {
      "text/plain": [
       "((0.3886851668357849, 0.3556835949420929),\n",
       " (0.38555957007453934, 0.3704958270832662))"
      ]
     },
     "execution_count": 29,
     "metadata": {},
     "output_type": "execute_result"
    }
   ],
   "source": [
    "(acc, acc_with_prior), (f1, f1_with_prior) = eval_models.calcAccuracy_fullpage(learn_c, path, train_fullpage_df, valid_fullpage_df, test_fullpage_df)\n",
    "(acc, acc_with_prior), (f1, f1_with_prior)"
   ]
  },
  {
   "cell_type": "markdown",
   "metadata": {},
   "source": [
    "Now we evaluate the model by considering multiple fixed-length windows and averaging the predictions."
   ]
  },
  {
   "cell_type": "code",
   "execution_count": 46,
   "metadata": {},
   "outputs": [],
   "source": [
    "test_ensemble_df = pd.read_csv(path/'test.ensemble256.csv')"
   ]
  },
  {
   "cell_type": "code",
   "execution_count": 47,
   "metadata": {},
   "outputs": [
    {
     "data": {
      "text/html": [],
      "text/plain": [
       "<IPython.core.display.HTML object>"
      ]
     },
     "metadata": {},
     "output_type": "display_data"
    },
    {
     "data": {
      "text/html": [],
      "text/plain": [
       "<IPython.core.display.HTML object>"
      ]
     },
     "metadata": {},
     "output_type": "display_data"
    },
    {
     "data": {
      "text/html": [],
      "text/plain": [
       "<IPython.core.display.HTML object>"
      ]
     },
     "metadata": {},
     "output_type": "display_data"
    },
    {
     "data": {
      "text/html": [],
      "text/plain": [
       "<IPython.core.display.HTML object>"
      ]
     },
     "metadata": {},
     "output_type": "display_data"
    },
    {
     "data": {
      "text/plain": [
       "((0.6216041445732117, 0.626778781414032),\n",
       " (0.5952193974326432, 0.6004805317496889))"
      ]
     },
     "execution_count": 47,
     "metadata": {},
     "output_type": "execute_result"
    }
   ],
   "source": [
    "(acc, acc_with_prior), (f1, f1_with_prior) = eval_models.calcAccuracy_fullpage(learn_c, path, train_fullpage_df, valid_fullpage_df, test_ensemble_df, ensembled=True)\n",
    "(acc, acc_with_prior), (f1, f1_with_prior)"
   ]
  },
  {
   "cell_type": "markdown",
   "metadata": {},
   "source": [
    "### Error Analysis"
   ]
  },
  {
   "cell_type": "code",
   "execution_count": 26,
   "metadata": {},
   "outputs": [
    {
     "data": {
      "text/html": [],
      "text/plain": [
       "<IPython.core.display.HTML object>"
      ]
     },
     "metadata": {},
     "output_type": "display_data"
    }
   ],
   "source": [
    "interp = ClassificationInterpretation.from_learner(learn_c)"
   ]
  },
  {
   "cell_type": "code",
   "execution_count": 27,
   "metadata": {},
   "outputs": [
    {
     "data": {
      "image/png": "[encoded data removed]",
      "text/plain": [
       "<Figure size 864x864 with 1 Axes>"
      ]
     },
     "metadata": {
      "needs_background": "light"
     },
     "output_type": "display_data"
    }
   ],
   "source": [
    "interp.plot_confusion_matrix(figsize=(12,12))"
   ]
  },
  {
   "cell_type": "code",
   "execution_count": null,
   "metadata": {},
   "outputs": [],
   "source": []
  }
 ],
 "metadata": {
  "kernelspec": {
   "display_name": "Python 3",
   "language": "python",
   "name": "python3"
  },
  "language_info": {
   "codemirror_mode": {
    "name": "ipython",
    "version": 3
   },
   "file_extension": ".py",
   "mimetype": "text/x-python",
   "name": "python",
   "nbconvert_exporter": "python",
   "pygments_lexer": "ipython3",
   "version": "3.6.7"
  },
  "toc": {
   "base_numbering": 1,
   "nav_menu": {},
   "number_sections": false,
   "sideBar": true,
   "skip_h1_title": true,
   "title_cell": "Table of Contents",
   "title_sidebar": "Contents",
   "toc_cell": false,
   "toc_position": {},
   "toc_section_display": true,
   "toc_window_display": false
  }
 },
 "nbformat": 4,
 "nbformat_minor": 2
}
