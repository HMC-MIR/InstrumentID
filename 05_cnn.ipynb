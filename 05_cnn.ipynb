{
 "cells": [
  {
   "cell_type": "markdown",
   "metadata": {},
   "source": [
    "# CNN Classifier"
   ]
  },
  {
   "cell_type": "markdown",
   "metadata": {},
   "source": [
    "In this notebook we will train a CNN classifier for the proxy task."
   ]
  },
  {
   "cell_type": "code",
   "execution_count": 1,
   "metadata": {},
   "outputs": [],
   "source": [
    "%matplotlib inline\n",
    "%load_ext autoreload\n",
    "%autoreload 2"
   ]
  },
  {
   "cell_type": "code",
   "execution_count": 2,
   "metadata": {},
   "outputs": [],
   "source": [
    "from fastai import *\n",
    "from fastai.vision import *\n",
    "from fastai.torch_core import uniform_int\n",
    "import PIL\n",
    "import glob\n",
    "import re\n",
    "from eval_models import *\n",
    "from collections import Counter"
   ]
  },
  {
   "cell_type": "markdown",
   "metadata": {},
   "source": [
    "### Create directory structure in ImageNet format"
   ]
  },
  {
   "cell_type": "markdown",
   "metadata": {},
   "source": [
    "We will represent the chunked bootleg score features as binary images.  This will allow us to take advantage of the tools in the fastai library."
   ]
  },
  {
   "cell_type": "code",
   "execution_count": 3,
   "metadata": {},
   "outputs": [],
   "source": [
    "data_path = Config.data_path()\n",
    "name = 'solo_bscore_lm'\n",
    "path = data_path/name"
   ]
  },
  {
   "cell_type": "code",
   "execution_count": 5,
   "metadata": {},
   "outputs": [],
   "source": [
    "instruments = [\"trumpet\", \"viola\", \"flute\", \"violin\", \"cello\", \"guitar\", \"oboe\", \"clarinet\"]"
   ]
  },
  {
   "cell_type": "code",
   "execution_count": 6,
   "metadata": {},
   "outputs": [],
   "source": [
    "def decToBinary(feature_list):\n",
    "    feature_list = np.array([int(num.strip()) for num in feature_list.split()])\n",
    "    result = feature_list[:, np.newaxis] >> np.arange(31) & 1\n",
    "    return np.transpose(result)"
   ]
  },
  {
   "cell_type": "code",
   "execution_count": 7,
   "metadata": {},
   "outputs": [],
   "source": [
    "def createDirectoryStructure(file, instruments, dirType, outdir):\n",
    "    df = pd.read_csv(file)\n",
    "    for i in instruments:\n",
    "        instrument_dir = f'{outdir}/{dirType}/{i}/'\n",
    "        os.makedirs(instrument_dir, exist_ok = True)\n",
    "    i = 0\n",
    "    for row in df.itertuples(index=False):\n",
    "        instrument, fragment = row.label, row.text\n",
    "        img = decToBinary(fragment)\n",
    "        outfile = f'{outdir}/{dirType}/{instrument}/{dirType}_{i}.png'\n",
    "        saveToPng(img, outfile)\n",
    "        i += 1"
   ]
  },
  {
   "cell_type": "code",
   "execution_count": 8,
   "metadata": {},
   "outputs": [],
   "source": [
    "def saveToPng(img, outfile):\n",
    "    img = np.uint8(img.astype(np.float) * 255)\n",
    "    pim = PIL.Image.fromarray(img)\n",
    "    pim.save(outfile)"
   ]
  },
  {
   "cell_type": "code",
   "execution_count": 47,
   "metadata": {},
   "outputs": [],
   "source": [
    "chunksz = 256\n",
    "train_file = path/'train256.csv'\n",
    "valid_file = path/'valid256.csv'\n",
    "test_file = path/'test256.csv'\n",
    "chunk_data_dir = f'data/score_feat_imagenet_chunk{chunksz}'"
   ]
  },
  {
   "cell_type": "code",
   "execution_count": 48,
   "metadata": {},
   "outputs": [],
   "source": [
    "createDirectoryStructure(train_file, instruments, 'train', chunk_data_dir)\n",
    "createDirectoryStructure(valid_file, instruments, 'valid', chunk_data_dir)\n",
    "createDirectoryStructure(test_file, instruments, 'test', chunk_data_dir)"
   ]
  },
  {
   "cell_type": "markdown",
   "metadata": {},
   "source": [
    "We can do the same with the full page bootleg score features.  Since each page contains a different number of features, we will determine the maximum size and zero-pad all images."
   ]
  },
  {
   "cell_type": "code",
   "execution_count": 11,
   "metadata": {},
   "outputs": [],
   "source": [
    "def getFullPageTensorData(root_dir, dirType):\n",
    "    max_len = calcTensorDims(root_dir)\n",
    "    X = []\n",
    "    y = []\n",
    "    for pieceDir in root_dir.rglob(\"*.bscore\"): \n",
    "        instrument = pieceDir.parts[-1].split('_')[0]\n",
    "        with open(pieceDir, 'rb') as f:\n",
    "            data = pickle.load(f)\n",
    "            for page in data:\n",
    "                if page:\n",
    "                    page_length = len(page)\n",
    "                    if page_length > 3:\n",
    "                        cur_img = np.zeros(max_len, dtype = int)\n",
    "                        cur_img[0: page_length] = np.array(page)\n",
    "                        X.append(' '.join([str(num) for num in cur_img]))\n",
    "                        y.append(instrument)\n",
    "    X = np.array(X)\n",
    "    y = np.array(y)\n",
    "    df = pd.DataFrame({'label': y, 'text': X})\n",
    "    df.to_csv(f\"fullpage_{dirType}.csv\")"
   ]
  },
  {
   "cell_type": "code",
   "execution_count": 12,
   "metadata": {},
   "outputs": [],
   "source": [
    "def calcTensorDims(root_dir):\n",
    "    '''Determines the dimensions of the tensor needed to store all full page bootleg score features.'''\n",
    "    maxlen = 0\n",
    "    for pieceDir in root_dir.rglob(\"*.bscore\"): \n",
    "        with open(pieceDir, 'rb') as f: # m: bootleg score matrix for a single page\n",
    "            data = pickle.load(f)\n",
    "            if data:\n",
    "                longest_page = max(data, key = len)\n",
    "                maxlen = max(len(longest_page), maxlen)\n",
    "    return maxlen"
   ]
  },
  {
   "cell_type": "code",
   "execution_count": 36,
   "metadata": {},
   "outputs": [],
   "source": [
    "root_dir = Path('/home/kji/InstrumentID/bootleg_data-v1/all/')\n",
    "train_file = 'fullpage_train.csv'\n",
    "valid_file = 'fullpage_valid.csv'\n",
    "test_file = 'fullpage_test.csv'\n",
    "fullpage_data_dir = 'data/score_feat_imagenet_fullpage'"
   ]
  },
  {
   "cell_type": "code",
   "execution_count": 289,
   "metadata": {},
   "outputs": [],
   "source": [
    "getFullPageTensorData(root_dir, 'train')\n",
    "getFullPageTensorData(root_dir, 'valid')\n",
    "getFullPageTensorData(root_dir, 'test')"
   ]
  },
  {
   "cell_type": "code",
   "execution_count": 290,
   "metadata": {},
   "outputs": [],
   "source": [
    "createDirectoryStructure(train_file, instruments, 'train', fullpage_data_dir)\n",
    "createDirectoryStructure(valid_file, instruments, 'valid', fullpage_data_dir)\n",
    "createDirectoryStructure(test_file, instruments, 'test', fullpage_data_dir)"
   ]
  },
  {
   "cell_type": "markdown",
   "metadata": {},
   "source": [
    "### Train model"
   ]
  },
  {
   "cell_type": "markdown",
   "metadata": {},
   "source": [
    "Perform random crops and pitch shifts for data augmentation."
   ]
  },
  {
   "cell_type": "code",
   "execution_count": 49,
   "metadata": {},
   "outputs": [],
   "source": [
    "def _rand_shift(x, shift:uniform_int=0):\n",
    "    \"Cyclically shift the image in the vertical direction.\"\n",
    "    shifted = np.roll(np.array(x), shift, axis=1)\n",
    "    return tensor(np.ascontiguousarray(shifted))\n",
    "rand_shift = TfmPixel(_rand_shift)\n",
    "tfms_train = [crop(size=(31,64), row_pct=0.5, col_pct=(0,1)), rand_shift(shift=(-3,3))] # random crop + shift\n",
    "tfms_eval = [crop(size=(31,64), row_pct=0.5, col_pct=0.5)] # middle crop, no shift"
   ]
  },
  {
   "cell_type": "code",
   "execution_count": 50,
   "metadata": {},
   "outputs": [],
   "source": [
    "bs = 512\n",
    "#data = ImageDataBunch.from_folder(chunk_data_dir, test='test', ds_tfms = (tfms_train, tfms_eval), bs=bs)\n",
    "data = ImageDataBunch.from_folder(chunk_data_dir, test='test', bs=bs) # no transforms to match other results\n",
    "getattr(data, 'train_dl').x.convert_mode = \"L\" # read images as grayscale\n",
    "getattr(data, 'valid_dl').x.convert_mode = \"L\"\n",
    "getattr(data, 'test_dl').x.convert_mode = \"L\""
   ]
  },
  {
   "cell_type": "code",
   "execution_count": 51,
   "metadata": {},
   "outputs": [],
   "source": [
    "class CNNModel(nn.Module):\n",
    "    def __init__(self):\n",
    "        super(CNNModel, self).__init__()\n",
    "        self.conv1 = nn.Conv2d(1, 64, (8,3))\n",
    "        self.conv2 = nn.Conv2d(64, 300, (13,1))\n",
    "        self.avgpool = nn.AdaptiveAvgPool2d((1, 1))\n",
    "        self.fc = nn.Linear(300, 8)\n",
    "\n",
    "    def forward(self, x):\n",
    "        x = self.conv1(x)\n",
    "        x = F.relu(x)\n",
    "        x = self.conv2(x)\n",
    "        x = F.relu(x)\n",
    "        x = self.avgpool(x)\n",
    "        x = torch.flatten(x, 1)\n",
    "        x = self.fc(x)\n",
    "        return x"
   ]
  },
  {
   "cell_type": "code",
   "execution_count": 52,
   "metadata": {},
   "outputs": [],
   "source": [
    "model = CNNModel()\n",
    "learner = Learner(data, model, metrics=[accuracy, FBeta(average='macro', beta=1)])"
   ]
  },
  {
   "cell_type": "code",
   "execution_count": 53,
   "metadata": {},
   "outputs": [
    {
     "data": {
      "text/html": [
       "\n",
       "    <div>\n",
       "        <style>\n",
       "            /* Turns off some styling */\n",
       "            progress {\n",
       "                /* gets rid of default border in Firefox and Opera. */\n",
       "                border: none;\n",
       "                /* Needs to be in here for Safari polyfill so background images work as expected. */\n",
       "                background-size: auto;\n",
       "            }\n",
       "            .progress-bar-interrupted, .progress-bar-interrupted::-webkit-progress-bar {\n",
       "                background: #F44336;\n",
       "            }\n",
       "        </style>\n",
       "      <progress value='2' class='' max='3', style='width:300px; height:20px; vertical-align: middle;'></progress>\n",
       "      66.67% [2/3 01:18<00:39]\n",
       "    </div>\n",
       "    \n",
       "<table border=\"1\" class=\"dataframe\">\n",
       "  <thead>\n",
       "    <tr style=\"text-align: left;\">\n",
       "      <th>epoch</th>\n",
       "      <th>train_loss</th>\n",
       "      <th>valid_loss</th>\n",
       "      <th>accuracy</th>\n",
       "      <th>f_beta</th>\n",
       "      <th>time</th>\n",
       "    </tr>\n",
       "  </thead>\n",
       "  <tbody>\n",
       "    <tr>\n",
       "      <td>0</td>\n",
       "      <td>2.080270</td>\n",
       "      <td>#na#</td>\n",
       "      <td>00:39</td>\n",
       "    </tr>\n",
       "    <tr>\n",
       "      <td>1</td>\n",
       "      <td>2.080219</td>\n",
       "      <td>#na#</td>\n",
       "      <td>00:38</td>\n",
       "    </tr>\n",
       "  </tbody>\n",
       "</table><p>\n",
       "\n",
       "    <div>\n",
       "        <style>\n",
       "            /* Turns off some styling */\n",
       "            progress {\n",
       "                /* gets rid of default border in Firefox and Opera. */\n",
       "                border: none;\n",
       "                /* Needs to be in here for Safari polyfill so background images work as expected. */\n",
       "                background-size: auto;\n",
       "            }\n",
       "            .progress-bar-interrupted, .progress-bar-interrupted::-webkit-progress-bar {\n",
       "                background: #F44336;\n",
       "            }\n",
       "        </style>\n",
       "      <progress value='25' class='' max='37', style='width:300px; height:20px; vertical-align: middle;'></progress>\n",
       "      67.57% [25/37 00:26<00:12 2.2601]\n",
       "    </div>\n",
       "    "
      ],
      "text/plain": [
       "<IPython.core.display.HTML object>"
      ]
     },
     "metadata": {},
     "output_type": "display_data"
    },
    {
     "name": "stdout",
     "output_type": "stream",
     "text": [
      "LR Finder is complete, type {learner_name}.recorder.plot() to see the graph.\n"
     ]
    }
   ],
   "source": [
    "learner.lr_find()"
   ]
  },
  {
   "cell_type": "code",
   "execution_count": 54,
   "metadata": {},
   "outputs": [
    {
     "name": "stdout",
     "output_type": "stream",
     "text": [
      "Min numerical gradient: 3.63E-01\n",
      "Min loss divided by 10: 1.10E-03\n"
     ]
    },
    {
     "data": {
      "image/png": "[encoded data removed]",
      "text/plain": [
       "<Figure size 432x288 with 1 Axes>"
      ]
     },
     "metadata": {
      "needs_background": "light"
     },
     "output_type": "display_data"
    }
   ],
   "source": [
    "learner.recorder.plot(suggestion=True)"
   ]
  },
  {
   "cell_type": "code",
   "execution_count": 55,
   "metadata": {},
   "outputs": [],
   "source": [
    "lr = 1e-3"
   ]
  },
  {
   "cell_type": "code",
   "execution_count": 56,
   "metadata": {},
   "outputs": [
    {
     "data": {
      "text/html": [
       "<table border=\"1\" class=\"dataframe\">\n",
       "  <thead>\n",
       "    <tr style=\"text-align: left;\">\n",
       "      <th>epoch</th>\n",
       "      <th>train_loss</th>\n",
       "      <th>valid_loss</th>\n",
       "      <th>accuracy</th>\n",
       "      <th>f_beta</th>\n",
       "      <th>time</th>\n",
       "    </tr>\n",
       "  </thead>\n",
       "  <tbody>\n",
       "    <tr>\n",
       "      <td>0</td>\n",
       "      <td>2.077953</td>\n",
       "      <td>2.075323</td>\n",
       "      <td>0.154219</td>\n",
       "      <td>0.068437</td>\n",
       "      <td>00:46</td>\n",
       "    </tr>\n",
       "    <tr>\n",
       "      <td>1</td>\n",
       "      <td>2.073239</td>\n",
       "      <td>2.064458</td>\n",
       "      <td>0.233958</td>\n",
       "      <td>0.164181</td>\n",
       "      <td>00:46</td>\n",
       "    </tr>\n",
       "    <tr>\n",
       "      <td>2</td>\n",
       "      <td>2.057324</td>\n",
       "      <td>2.019700</td>\n",
       "      <td>0.284740</td>\n",
       "      <td>0.238233</td>\n",
       "      <td>00:46</td>\n",
       "    </tr>\n",
       "    <tr>\n",
       "      <td>3</td>\n",
       "      <td>2.004790</td>\n",
       "      <td>1.905010</td>\n",
       "      <td>0.329219</td>\n",
       "      <td>0.248403</td>\n",
       "      <td>00:46</td>\n",
       "    </tr>\n",
       "    <tr>\n",
       "      <td>4</td>\n",
       "      <td>1.931635</td>\n",
       "      <td>1.847982</td>\n",
       "      <td>0.336510</td>\n",
       "      <td>0.278954</td>\n",
       "      <td>00:45</td>\n",
       "    </tr>\n",
       "    <tr>\n",
       "      <td>5</td>\n",
       "      <td>1.871760</td>\n",
       "      <td>1.803937</td>\n",
       "      <td>0.367188</td>\n",
       "      <td>0.274204</td>\n",
       "      <td>00:46</td>\n",
       "    </tr>\n",
       "    <tr>\n",
       "      <td>6</td>\n",
       "      <td>1.820925</td>\n",
       "      <td>1.751314</td>\n",
       "      <td>0.388542</td>\n",
       "      <td>0.315442</td>\n",
       "      <td>00:46</td>\n",
       "    </tr>\n",
       "    <tr>\n",
       "      <td>7</td>\n",
       "      <td>1.773802</td>\n",
       "      <td>1.710230</td>\n",
       "      <td>0.393958</td>\n",
       "      <td>0.349124</td>\n",
       "      <td>00:46</td>\n",
       "    </tr>\n",
       "    <tr>\n",
       "      <td>8</td>\n",
       "      <td>1.735421</td>\n",
       "      <td>1.679990</td>\n",
       "      <td>0.397656</td>\n",
       "      <td>0.351774</td>\n",
       "      <td>00:46</td>\n",
       "    </tr>\n",
       "    <tr>\n",
       "      <td>9</td>\n",
       "      <td>1.704970</td>\n",
       "      <td>1.656629</td>\n",
       "      <td>0.397396</td>\n",
       "      <td>0.352306</td>\n",
       "      <td>00:45</td>\n",
       "    </tr>\n",
       "    <tr>\n",
       "      <td>10</td>\n",
       "      <td>1.681510</td>\n",
       "      <td>1.639941</td>\n",
       "      <td>0.423750</td>\n",
       "      <td>0.391966</td>\n",
       "      <td>00:46</td>\n",
       "    </tr>\n",
       "    <tr>\n",
       "      <td>11</td>\n",
       "      <td>1.659679</td>\n",
       "      <td>1.625895</td>\n",
       "      <td>0.417865</td>\n",
       "      <td>0.358665</td>\n",
       "      <td>00:46</td>\n",
       "    </tr>\n",
       "    <tr>\n",
       "      <td>12</td>\n",
       "      <td>1.640905</td>\n",
       "      <td>1.611371</td>\n",
       "      <td>0.412344</td>\n",
       "      <td>0.347906</td>\n",
       "      <td>00:46</td>\n",
       "    </tr>\n",
       "    <tr>\n",
       "      <td>13</td>\n",
       "      <td>1.624507</td>\n",
       "      <td>1.608536</td>\n",
       "      <td>0.415625</td>\n",
       "      <td>0.380284</td>\n",
       "      <td>00:46</td>\n",
       "    </tr>\n",
       "    <tr>\n",
       "      <td>14</td>\n",
       "      <td>1.608208</td>\n",
       "      <td>1.600724</td>\n",
       "      <td>0.418906</td>\n",
       "      <td>0.384468</td>\n",
       "      <td>00:46</td>\n",
       "    </tr>\n",
       "    <tr>\n",
       "      <td>15</td>\n",
       "      <td>1.596189</td>\n",
       "      <td>1.581124</td>\n",
       "      <td>0.427604</td>\n",
       "      <td>0.378855</td>\n",
       "      <td>00:46</td>\n",
       "    </tr>\n",
       "    <tr>\n",
       "      <td>16</td>\n",
       "      <td>1.585233</td>\n",
       "      <td>1.576437</td>\n",
       "      <td>0.426719</td>\n",
       "      <td>0.382135</td>\n",
       "      <td>00:46</td>\n",
       "    </tr>\n",
       "    <tr>\n",
       "      <td>17</td>\n",
       "      <td>1.575184</td>\n",
       "      <td>1.586471</td>\n",
       "      <td>0.422708</td>\n",
       "      <td>0.377068</td>\n",
       "      <td>00:46</td>\n",
       "    </tr>\n",
       "    <tr>\n",
       "      <td>18</td>\n",
       "      <td>1.566849</td>\n",
       "      <td>1.562844</td>\n",
       "      <td>0.428854</td>\n",
       "      <td>0.388931</td>\n",
       "      <td>00:46</td>\n",
       "    </tr>\n",
       "    <tr>\n",
       "      <td>19</td>\n",
       "      <td>1.557756</td>\n",
       "      <td>1.557232</td>\n",
       "      <td>0.435313</td>\n",
       "      <td>0.392812</td>\n",
       "      <td>00:46</td>\n",
       "    </tr>\n",
       "    <tr>\n",
       "      <td>20</td>\n",
       "      <td>1.551770</td>\n",
       "      <td>1.562388</td>\n",
       "      <td>0.427344</td>\n",
       "      <td>0.375739</td>\n",
       "      <td>00:46</td>\n",
       "    </tr>\n",
       "    <tr>\n",
       "      <td>21</td>\n",
       "      <td>1.545453</td>\n",
       "      <td>1.553805</td>\n",
       "      <td>0.447031</td>\n",
       "      <td>0.414173</td>\n",
       "      <td>00:46</td>\n",
       "    </tr>\n",
       "    <tr>\n",
       "      <td>22</td>\n",
       "      <td>1.538604</td>\n",
       "      <td>1.555165</td>\n",
       "      <td>0.443073</td>\n",
       "      <td>0.410617</td>\n",
       "      <td>00:46</td>\n",
       "    </tr>\n",
       "    <tr>\n",
       "      <td>23</td>\n",
       "      <td>1.537904</td>\n",
       "      <td>1.549493</td>\n",
       "      <td>0.447917</td>\n",
       "      <td>0.416467</td>\n",
       "      <td>00:46</td>\n",
       "    </tr>\n",
       "    <tr>\n",
       "      <td>24</td>\n",
       "      <td>1.533514</td>\n",
       "      <td>1.549213</td>\n",
       "      <td>0.445260</td>\n",
       "      <td>0.413321</td>\n",
       "      <td>00:46</td>\n",
       "    </tr>\n",
       "    <tr>\n",
       "      <td>25</td>\n",
       "      <td>1.531324</td>\n",
       "      <td>1.551330</td>\n",
       "      <td>0.438594</td>\n",
       "      <td>0.400778</td>\n",
       "      <td>00:46</td>\n",
       "    </tr>\n",
       "    <tr>\n",
       "      <td>26</td>\n",
       "      <td>1.528063</td>\n",
       "      <td>1.549580</td>\n",
       "      <td>0.440677</td>\n",
       "      <td>0.407087</td>\n",
       "      <td>00:46</td>\n",
       "    </tr>\n",
       "    <tr>\n",
       "      <td>27</td>\n",
       "      <td>1.525403</td>\n",
       "      <td>1.550616</td>\n",
       "      <td>0.444271</td>\n",
       "      <td>0.412923</td>\n",
       "      <td>00:46</td>\n",
       "    </tr>\n",
       "    <tr>\n",
       "      <td>28</td>\n",
       "      <td>1.524743</td>\n",
       "      <td>1.548771</td>\n",
       "      <td>0.442396</td>\n",
       "      <td>0.406917</td>\n",
       "      <td>00:46</td>\n",
       "    </tr>\n",
       "    <tr>\n",
       "      <td>29</td>\n",
       "      <td>1.524064</td>\n",
       "      <td>1.548415</td>\n",
       "      <td>0.442396</td>\n",
       "      <td>0.407552</td>\n",
       "      <td>00:46</td>\n",
       "    </tr>\n",
       "  </tbody>\n",
       "</table>"
      ],
      "text/plain": [
       "<IPython.core.display.HTML object>"
      ]
     },
     "metadata": {},
     "output_type": "display_data"
    }
   ],
   "source": [
    "learner.fit_one_cycle(30, lr)"
   ]
  },
  {
   "cell_type": "code",
   "execution_count": 21,
   "metadata": {},
   "outputs": [
    {
     "data": {
      "text/html": [
       "<table border=\"1\" class=\"dataframe\">\n",
       "  <thead>\n",
       "    <tr style=\"text-align: left;\">\n",
       "      <th>epoch</th>\n",
       "      <th>train_loss</th>\n",
       "      <th>valid_loss</th>\n",
       "      <th>accuracy</th>\n",
       "      <th>f_beta</th>\n",
       "      <th>time</th>\n",
       "    </tr>\n",
       "  </thead>\n",
       "  <tbody>\n",
       "    <tr>\n",
       "      <td>0</td>\n",
       "      <td>1.656427</td>\n",
       "      <td>1.660029</td>\n",
       "      <td>0.390260</td>\n",
       "      <td>0.350773</td>\n",
       "      <td>00:20</td>\n",
       "    </tr>\n",
       "    <tr>\n",
       "      <td>1</td>\n",
       "      <td>1.655558</td>\n",
       "      <td>1.663371</td>\n",
       "      <td>0.391510</td>\n",
       "      <td>0.348521</td>\n",
       "      <td>00:20</td>\n",
       "    </tr>\n",
       "    <tr>\n",
       "      <td>2</td>\n",
       "      <td>1.656680</td>\n",
       "      <td>1.664301</td>\n",
       "      <td>0.391667</td>\n",
       "      <td>0.364618</td>\n",
       "      <td>00:20</td>\n",
       "    </tr>\n",
       "    <tr>\n",
       "      <td>3</td>\n",
       "      <td>1.651951</td>\n",
       "      <td>1.647981</td>\n",
       "      <td>0.392760</td>\n",
       "      <td>0.357627</td>\n",
       "      <td>00:21</td>\n",
       "    </tr>\n",
       "    <tr>\n",
       "      <td>4</td>\n",
       "      <td>1.644988</td>\n",
       "      <td>1.646042</td>\n",
       "      <td>0.398750</td>\n",
       "      <td>0.373838</td>\n",
       "      <td>00:21</td>\n",
       "    </tr>\n",
       "    <tr>\n",
       "      <td>5</td>\n",
       "      <td>1.636398</td>\n",
       "      <td>1.646151</td>\n",
       "      <td>0.395625</td>\n",
       "      <td>0.357844</td>\n",
       "      <td>00:21</td>\n",
       "    </tr>\n",
       "    <tr>\n",
       "      <td>6</td>\n",
       "      <td>1.629771</td>\n",
       "      <td>1.642348</td>\n",
       "      <td>0.399323</td>\n",
       "      <td>0.369896</td>\n",
       "      <td>00:21</td>\n",
       "    </tr>\n",
       "    <tr>\n",
       "      <td>7</td>\n",
       "      <td>1.624169</td>\n",
       "      <td>1.637997</td>\n",
       "      <td>0.398177</td>\n",
       "      <td>0.352478</td>\n",
       "      <td>00:21</td>\n",
       "    </tr>\n",
       "    <tr>\n",
       "      <td>8</td>\n",
       "      <td>1.619605</td>\n",
       "      <td>1.635210</td>\n",
       "      <td>0.400156</td>\n",
       "      <td>0.359905</td>\n",
       "      <td>00:21</td>\n",
       "    </tr>\n",
       "    <tr>\n",
       "      <td>9</td>\n",
       "      <td>1.615345</td>\n",
       "      <td>1.633649</td>\n",
       "      <td>0.400573</td>\n",
       "      <td>0.364418</td>\n",
       "      <td>00:21</td>\n",
       "    </tr>\n",
       "  </tbody>\n",
       "</table>"
      ],
      "text/plain": [
       "<IPython.core.display.HTML object>"
      ]
     },
     "metadata": {},
     "output_type": "display_data"
    }
   ],
   "source": [
    "learner.fit_one_cycle(10, lr)"
   ]
  },
  {
   "cell_type": "code",
   "execution_count": 25,
   "metadata": {},
   "outputs": [
    {
     "data": {
      "text/html": [
       "<table border=\"1\" class=\"dataframe\">\n",
       "  <thead>\n",
       "    <tr style=\"text-align: left;\">\n",
       "      <th>epoch</th>\n",
       "      <th>train_loss</th>\n",
       "      <th>valid_loss</th>\n",
       "      <th>accuracy</th>\n",
       "      <th>f_beta</th>\n",
       "      <th>time</th>\n",
       "    </tr>\n",
       "  </thead>\n",
       "  <tbody>\n",
       "    <tr>\n",
       "      <td>0</td>\n",
       "      <td>1.556744</td>\n",
       "      <td>1.608210</td>\n",
       "      <td>0.409583</td>\n",
       "      <td>0.382548</td>\n",
       "      <td>00:21</td>\n",
       "    </tr>\n",
       "    <tr>\n",
       "      <td>1</td>\n",
       "      <td>1.555422</td>\n",
       "      <td>1.609150</td>\n",
       "      <td>0.407552</td>\n",
       "      <td>0.378679</td>\n",
       "      <td>00:21</td>\n",
       "    </tr>\n",
       "    <tr>\n",
       "      <td>2</td>\n",
       "      <td>1.557344</td>\n",
       "      <td>1.608234</td>\n",
       "      <td>0.410260</td>\n",
       "      <td>0.384807</td>\n",
       "      <td>00:21</td>\n",
       "    </tr>\n",
       "    <tr>\n",
       "      <td>3</td>\n",
       "      <td>1.556641</td>\n",
       "      <td>1.613426</td>\n",
       "      <td>0.405313</td>\n",
       "      <td>0.372943</td>\n",
       "      <td>00:21</td>\n",
       "    </tr>\n",
       "    <tr>\n",
       "      <td>4</td>\n",
       "      <td>1.558518</td>\n",
       "      <td>1.609791</td>\n",
       "      <td>0.407656</td>\n",
       "      <td>0.376826</td>\n",
       "      <td>00:21</td>\n",
       "    </tr>\n",
       "    <tr>\n",
       "      <td>5</td>\n",
       "      <td>1.558015</td>\n",
       "      <td>1.608347</td>\n",
       "      <td>0.410104</td>\n",
       "      <td>0.380094</td>\n",
       "      <td>00:21</td>\n",
       "    </tr>\n",
       "    <tr>\n",
       "      <td>6</td>\n",
       "      <td>1.557474</td>\n",
       "      <td>1.605707</td>\n",
       "      <td>0.408958</td>\n",
       "      <td>0.379865</td>\n",
       "      <td>00:21</td>\n",
       "    </tr>\n",
       "    <tr>\n",
       "      <td>7</td>\n",
       "      <td>1.554912</td>\n",
       "      <td>1.605479</td>\n",
       "      <td>0.412344</td>\n",
       "      <td>0.387300</td>\n",
       "      <td>00:21</td>\n",
       "    </tr>\n",
       "    <tr>\n",
       "      <td>8</td>\n",
       "      <td>1.554260</td>\n",
       "      <td>1.606076</td>\n",
       "      <td>0.409792</td>\n",
       "      <td>0.380823</td>\n",
       "      <td>00:21</td>\n",
       "    </tr>\n",
       "    <tr>\n",
       "      <td>9</td>\n",
       "      <td>1.553283</td>\n",
       "      <td>1.606335</td>\n",
       "      <td>0.412292</td>\n",
       "      <td>0.387246</td>\n",
       "      <td>00:21</td>\n",
       "    </tr>\n",
       "    <tr>\n",
       "      <td>10</td>\n",
       "      <td>1.551392</td>\n",
       "      <td>1.606166</td>\n",
       "      <td>0.409896</td>\n",
       "      <td>0.383881</td>\n",
       "      <td>00:21</td>\n",
       "    </tr>\n",
       "    <tr>\n",
       "      <td>11</td>\n",
       "      <td>1.554184</td>\n",
       "      <td>1.606691</td>\n",
       "      <td>0.410417</td>\n",
       "      <td>0.385026</td>\n",
       "      <td>00:21</td>\n",
       "    </tr>\n",
       "    <tr>\n",
       "      <td>12</td>\n",
       "      <td>1.553118</td>\n",
       "      <td>1.605201</td>\n",
       "      <td>0.411146</td>\n",
       "      <td>0.384149</td>\n",
       "      <td>00:21</td>\n",
       "    </tr>\n",
       "    <tr>\n",
       "      <td>13</td>\n",
       "      <td>1.552201</td>\n",
       "      <td>1.605300</td>\n",
       "      <td>0.411094</td>\n",
       "      <td>0.385111</td>\n",
       "      <td>00:21</td>\n",
       "    </tr>\n",
       "    <tr>\n",
       "      <td>14</td>\n",
       "      <td>1.553175</td>\n",
       "      <td>1.605333</td>\n",
       "      <td>0.411042</td>\n",
       "      <td>0.385006</td>\n",
       "      <td>00:21</td>\n",
       "    </tr>\n",
       "  </tbody>\n",
       "</table>"
      ],
      "text/plain": [
       "<IPython.core.display.HTML object>"
      ]
     },
     "metadata": {},
     "output_type": "display_data"
    }
   ],
   "source": [
    "learner.fit_one_cycle(15, lr/10)"
   ]
  },
  {
   "cell_type": "code",
   "execution_count": 22,
   "metadata": {},
   "outputs": [
    {
     "data": {
      "text/html": [
       "<table border=\"1\" class=\"dataframe\">\n",
       "  <thead>\n",
       "    <tr style=\"text-align: left;\">\n",
       "      <th>epoch</th>\n",
       "      <th>train_loss</th>\n",
       "      <th>valid_loss</th>\n",
       "      <th>accuracy</th>\n",
       "      <th>f_beta</th>\n",
       "      <th>time</th>\n",
       "    </tr>\n",
       "  </thead>\n",
       "  <tbody>\n",
       "    <tr>\n",
       "      <td>0</td>\n",
       "      <td>1.613068</td>\n",
       "      <td>1.633848</td>\n",
       "      <td>0.401458</td>\n",
       "      <td>0.366010</td>\n",
       "      <td>00:20</td>\n",
       "    </tr>\n",
       "    <tr>\n",
       "      <td>1</td>\n",
       "      <td>1.613429</td>\n",
       "      <td>1.634591</td>\n",
       "      <td>0.400573</td>\n",
       "      <td>0.363813</td>\n",
       "      <td>00:20</td>\n",
       "    </tr>\n",
       "    <tr>\n",
       "      <td>2</td>\n",
       "      <td>1.618042</td>\n",
       "      <td>1.653380</td>\n",
       "      <td>0.389271</td>\n",
       "      <td>0.347322</td>\n",
       "      <td>00:20</td>\n",
       "    </tr>\n",
       "    <tr>\n",
       "      <td>3</td>\n",
       "      <td>1.614708</td>\n",
       "      <td>1.628104</td>\n",
       "      <td>0.398542</td>\n",
       "      <td>0.356856</td>\n",
       "      <td>00:21</td>\n",
       "    </tr>\n",
       "    <tr>\n",
       "      <td>4</td>\n",
       "      <td>1.608737</td>\n",
       "      <td>1.624843</td>\n",
       "      <td>0.396667</td>\n",
       "      <td>0.356984</td>\n",
       "      <td>00:21</td>\n",
       "    </tr>\n",
       "    <tr>\n",
       "      <td>5</td>\n",
       "      <td>1.603397</td>\n",
       "      <td>1.642029</td>\n",
       "      <td>0.400729</td>\n",
       "      <td>0.372312</td>\n",
       "      <td>00:21</td>\n",
       "    </tr>\n",
       "    <tr>\n",
       "      <td>6</td>\n",
       "      <td>1.596787</td>\n",
       "      <td>1.626879</td>\n",
       "      <td>0.403958</td>\n",
       "      <td>0.369449</td>\n",
       "      <td>00:21</td>\n",
       "    </tr>\n",
       "    <tr>\n",
       "      <td>7</td>\n",
       "      <td>1.591358</td>\n",
       "      <td>1.621721</td>\n",
       "      <td>0.401979</td>\n",
       "      <td>0.359602</td>\n",
       "      <td>00:21</td>\n",
       "    </tr>\n",
       "    <tr>\n",
       "      <td>8</td>\n",
       "      <td>1.586120</td>\n",
       "      <td>1.621060</td>\n",
       "      <td>0.406667</td>\n",
       "      <td>0.374957</td>\n",
       "      <td>00:21</td>\n",
       "    </tr>\n",
       "    <tr>\n",
       "      <td>9</td>\n",
       "      <td>1.582226</td>\n",
       "      <td>1.619501</td>\n",
       "      <td>0.407656</td>\n",
       "      <td>0.377097</td>\n",
       "      <td>00:21</td>\n",
       "    </tr>\n",
       "  </tbody>\n",
       "</table>"
      ],
      "text/plain": [
       "<IPython.core.display.HTML object>"
      ]
     },
     "metadata": {},
     "output_type": "display_data"
    }
   ],
   "source": [
    "learner.fit_one_cycle(10, lr)"
   ]
  },
  {
   "cell_type": "code",
   "execution_count": 23,
   "metadata": {},
   "outputs": [
    {
     "data": {
      "text/html": [
       "<table border=\"1\" class=\"dataframe\">\n",
       "  <thead>\n",
       "    <tr style=\"text-align: left;\">\n",
       "      <th>epoch</th>\n",
       "      <th>train_loss</th>\n",
       "      <th>valid_loss</th>\n",
       "      <th>accuracy</th>\n",
       "      <th>f_beta</th>\n",
       "      <th>time</th>\n",
       "    </tr>\n",
       "  </thead>\n",
       "  <tbody>\n",
       "    <tr>\n",
       "      <td>0</td>\n",
       "      <td>1.578397</td>\n",
       "      <td>1.621930</td>\n",
       "      <td>0.406198</td>\n",
       "      <td>0.371814</td>\n",
       "      <td>00:20</td>\n",
       "    </tr>\n",
       "    <tr>\n",
       "      <td>1</td>\n",
       "      <td>1.581553</td>\n",
       "      <td>1.625184</td>\n",
       "      <td>0.401146</td>\n",
       "      <td>0.361521</td>\n",
       "      <td>00:20</td>\n",
       "    </tr>\n",
       "    <tr>\n",
       "      <td>2</td>\n",
       "      <td>1.589736</td>\n",
       "      <td>1.620938</td>\n",
       "      <td>0.402187</td>\n",
       "      <td>0.359284</td>\n",
       "      <td>00:21</td>\n",
       "    </tr>\n",
       "    <tr>\n",
       "      <td>3</td>\n",
       "      <td>1.587564</td>\n",
       "      <td>1.631726</td>\n",
       "      <td>0.397240</td>\n",
       "      <td>0.352510</td>\n",
       "      <td>00:21</td>\n",
       "    </tr>\n",
       "    <tr>\n",
       "      <td>4</td>\n",
       "      <td>1.585158</td>\n",
       "      <td>1.635487</td>\n",
       "      <td>0.392865</td>\n",
       "      <td>0.333768</td>\n",
       "      <td>00:21</td>\n",
       "    </tr>\n",
       "    <tr>\n",
       "      <td>5</td>\n",
       "      <td>1.579958</td>\n",
       "      <td>1.613111</td>\n",
       "      <td>0.405469</td>\n",
       "      <td>0.385170</td>\n",
       "      <td>00:21</td>\n",
       "    </tr>\n",
       "    <tr>\n",
       "      <td>6</td>\n",
       "      <td>1.571244</td>\n",
       "      <td>1.615398</td>\n",
       "      <td>0.409323</td>\n",
       "      <td>0.388240</td>\n",
       "      <td>00:21</td>\n",
       "    </tr>\n",
       "    <tr>\n",
       "      <td>7</td>\n",
       "      <td>1.566547</td>\n",
       "      <td>1.612665</td>\n",
       "      <td>0.410156</td>\n",
       "      <td>0.384706</td>\n",
       "      <td>00:21</td>\n",
       "    </tr>\n",
       "    <tr>\n",
       "      <td>8</td>\n",
       "      <td>1.562326</td>\n",
       "      <td>1.608316</td>\n",
       "      <td>0.406354</td>\n",
       "      <td>0.371935</td>\n",
       "      <td>00:21</td>\n",
       "    </tr>\n",
       "    <tr>\n",
       "      <td>9</td>\n",
       "      <td>1.558881</td>\n",
       "      <td>1.608689</td>\n",
       "      <td>0.409687</td>\n",
       "      <td>0.381276</td>\n",
       "      <td>00:21</td>\n",
       "    </tr>\n",
       "  </tbody>\n",
       "</table>"
      ],
      "text/plain": [
       "<IPython.core.display.HTML object>"
      ]
     },
     "metadata": {},
     "output_type": "display_data"
    }
   ],
   "source": [
    "learner.fit_one_cycle(10, lr)"
   ]
  },
  {
   "cell_type": "code",
   "execution_count": 57,
   "metadata": {},
   "outputs": [],
   "source": [
    "learner.save('cnn_clas_256')\n",
    "# learner.load('cnn_clas')"
   ]
  },
  {
   "cell_type": "markdown",
   "metadata": {},
   "source": [
    "### Set up full-page classifiers"
   ]
  },
  {
   "cell_type": "markdown",
   "metadata": {},
   "source": [
    "To handle the full page classification task, we need to create wrapper models that can process variable length bootleg scores."
   ]
  },
  {
   "cell_type": "code",
   "execution_count": 58,
   "metadata": {},
   "outputs": [],
   "source": [
    "class FullPageClassifier_cropped(nn.Module):\n",
    "    def __init__(self, pretrainedModel):\n",
    "        super(FullPageClassifier_cropped, self).__init__()\n",
    "        self.model = pretrainedModel\n",
    "\n",
    "    def forward(self, x):\n",
    "        bs, c, h, len_padded = x.shape\n",
    "        assert bs == 1 # must be 1, since each image will be cropped differently\n",
    "        assert c == 1\n",
    "        assert h == 31\n",
    "        assert len_padded >= 3\n",
    "        len_actual = torch.nonzero(x.sum(dim=2).squeeze() != 0)[-1,0]\n",
    "        try:\n",
    "            out = self.model(x[:,:,:,0:len_actual])\n",
    "            return out\n",
    "        except RuntimeError:\n",
    "            print(np.count_nonzero(x.cpu()))\n",
    "            print(len_actual)"
   ]
  },
  {
   "cell_type": "code",
   "execution_count": 59,
   "metadata": {},
   "outputs": [],
   "source": [
    "class FullPageClassifier_ensembled(nn.Module):\n",
    "    def __init__(self, pretrainedModel, chunklen, hop = None):\n",
    "        super(FullPageClassifier_ensembled, self).__init__()\n",
    "        self.model = pretrainedModel\n",
    "        self.chunklen = chunklen\n",
    "        self.hop = chunklen//2 if hop is None else hop\n",
    "\n",
    "    def forward(self, x):\n",
    "        bs, c, h, len_padded = x.shape\n",
    "        assert bs == 1 # must be 1, since each image will be cropped differently\n",
    "        assert c == 1\n",
    "        assert h == 31\n",
    "        assert len_padded >= 3\n",
    "        l = torch.nonzero(x.sum(dim=2).squeeze() != 0)[-1,0] + 1\n",
    "        startIdxs = np.arange(0, max(l-self.chunklen+1,1), self.hop)\n",
    "        assert len(startIdxs) > 0\n",
    "        bs_new = len(startIdxs)\n",
    "        x_crops = torch.zeros(bs_new, c, h, self.chunklen)\n",
    "        for i, startIdx in enumerate(startIdxs):\n",
    "            x_crops[i,:,:,:] = x[0,:,:,startIdx:startIdx+self.chunklen]\n",
    "        x_crops = x_crops.cuda()\n",
    "        out = self.model(x_crops).mean(dim=0, keepdims=True)\n",
    "        return out"
   ]
  },
  {
   "cell_type": "markdown",
   "metadata": {},
   "source": [
    "And here are some helper functions to evaluate these models on full page bootleg scores."
   ]
  },
  {
   "cell_type": "code",
   "execution_count": 60,
   "metadata": {},
   "outputs": [],
   "source": [
    "def calcPagePrior_from_piecedirs(csv_file):\n",
    "    mapping = {instrument: i for i, instrument in enumerate(learner.data.classes)}\n",
    "    df = pd.read_csv(csv_file)\n",
    "    numClasses = len(instruments)\n",
    "    counts = Counter(df.label)\n",
    "    result = np.zeros(numClasses)\n",
    "    for instrument in instruments:\n",
    "        index = mapping[instrument]\n",
    "        result[index] = counts[instrument]\n",
    "    result = result / np.sum(result)\n",
    "    return result"
   ]
  },
  {
   "cell_type": "code",
   "execution_count": 61,
   "metadata": {},
   "outputs": [],
   "source": [
    "def evaluate_cnn_fullpage(learner, priors):\n",
    "    '''Calculate evaluation metrics for CNN model on full page classification task.'''\n",
    "\n",
    "    # get predictions on full page bootleg scores                                                                              \n",
    "    probs, y = learner.get_preds(ds_type=DatasetType.Valid)\n",
    "\n",
    "    # ground truth labels                                                                                                      \n",
    "    gt = torch.from_numpy(learner.data.valid_ds.y.items)\n",
    "\n",
    "    # apply priors                                                                                                             \n",
    "    priors = torch.from_numpy(priors.reshape((1,-1)))\n",
    "    probs_with_priors = torch.mul(probs, priors)\n",
    "\n",
    "    # calc accuracy                                                                                                            \n",
    "    acc = accuracy(probs, gt).item()\n",
    "    acc_with_prior = accuracy(probs_with_priors, gt).item()\n",
    "\n",
    "    # calc macroF1                                                                                                             \n",
    "    f1 = macroF1(probs, gt)\n",
    "    f1_with_prior = macroF1(probs_with_priors, gt)\n",
    "\n",
    "    return (acc, acc_with_prior), (f1, f1_with_prior)"
   ]
  },
  {
   "cell_type": "markdown",
   "metadata": {},
   "source": [
    "### Evaluate Classifier"
   ]
  },
  {
   "cell_type": "markdown",
   "metadata": {},
   "source": [
    "Evaluate on the proxy task -- classifying fixed-length chunks of bootleg score features."
   ]
  },
  {
   "cell_type": "code",
   "execution_count": 62,
   "metadata": {},
   "outputs": [],
   "source": [
    "bs=512\n",
    "data_test = ImageDataBunch.from_folder(chunk_data_dir, valid='test', bs=bs)\n",
    "getattr(data_test, 'train_dl').x.convert_mode = \"L\" # read images as grayscale\n",
    "getattr(data_test, 'valid_dl').x.convert_mode = \"L\""
   ]
  },
  {
   "cell_type": "code",
   "execution_count": 63,
   "metadata": {},
   "outputs": [
    {
     "data": {
      "text/html": [],
      "text/plain": [
       "<IPython.core.display.HTML object>"
      ]
     },
     "metadata": {},
     "output_type": "display_data"
    },
    {
     "data": {
      "text/plain": [
       "[1.6835045, tensor(0.3928), tensor(0.3657)]"
      ]
     },
     "execution_count": 63,
     "metadata": {},
     "output_type": "execute_result"
    }
   ],
   "source": [
    "learner.validate(data_test.valid_dl, metrics=[accuracy, FBeta(average='macro', beta=1)])"
   ]
  },
  {
   "cell_type": "markdown",
   "metadata": {},
   "source": [
    "Evaluate on the original task -- classifying pages of sheet music.  We can evaluate our models in two ways:\n",
    "- applying the model to a variable length sequence\n",
    "- applying the model to multiple fixed-length windows and averaging the predictions\n",
    "\n",
    "First we evaluate the model on variable length inputs.  Report results with and without applying priors."
   ]
  },
  {
   "cell_type": "code",
   "execution_count": 64,
   "metadata": {},
   "outputs": [],
   "source": [
    "bs = 1 # batch size must be 1 since each image is cropped differently                                                      \n",
    "data_test = ImageDataBunch.from_folder(fullpage_data_dir, valid='test', bs=bs)\n",
    "getattr(data_test, 'train_dl').x.convert_mode = \"L\" # read images as grayscale                                             \n",
    "getattr(data_test, 'valid_dl').x.convert_mode = \"L\""
   ]
  },
  {
   "cell_type": "code",
   "execution_count": 65,
   "metadata": {},
   "outputs": [],
   "source": [
    "model_fullpage_cropped = FullPageClassifier_cropped(learner.model)"
   ]
  },
  {
   "cell_type": "code",
   "execution_count": 66,
   "metadata": {},
   "outputs": [],
   "source": [
    "learner_single = Learner(data_test, model_fullpage_cropped)"
   ]
  },
  {
   "cell_type": "code",
   "execution_count": 67,
   "metadata": {},
   "outputs": [],
   "source": [
    "train_df = pd.read_csv('fullpage_train.csv')\n",
    "valid_df = pd.read_csv('fullpage_valid.csv')\n",
    "merged = pd.concat([train_df, valid_df])\n",
    "merged.to_csv(\"fullpage_merged.csv\")"
   ]
  },
  {
   "cell_type": "code",
   "execution_count": 68,
   "metadata": {},
   "outputs": [],
   "source": [
    "priors = calcPagePrior_from_piecedirs(\"fullpage_merged.csv\")"
   ]
  },
  {
   "cell_type": "code",
   "execution_count": 69,
   "metadata": {},
   "outputs": [
    {
     "data": {
      "text/html": [],
      "text/plain": [
       "<IPython.core.display.HTML object>"
      ]
     },
     "metadata": {},
     "output_type": "display_data"
    },
    {
     "data": {
      "text/plain": [
       "((0.426775187253952, 0.4970051646232605),\n",
       " (0.3142920809340591, 0.26487497158164236))"
      ]
     },
     "execution_count": 69,
     "metadata": {},
     "output_type": "execute_result"
    }
   ],
   "source": [
    "(acc, acc_with_prior), (f1, f1_with_prior) = evaluate_cnn_fullpage(learner_single, priors)\n",
    "(acc, acc_with_prior), (f1, f1_with_prior)"
   ]
  },
  {
   "cell_type": "markdown",
   "metadata": {},
   "source": [
    "Now we evaluate the model by considering multiple fixed-length windows and averaging the predictions."
   ]
  },
  {
   "cell_type": "code",
   "execution_count": 70,
   "metadata": {},
   "outputs": [],
   "source": [
    "model_fullpage_ensembled = FullPageClassifier_ensembled(learner.model, chunksz)"
   ]
  },
  {
   "cell_type": "code",
   "execution_count": 71,
   "metadata": {},
   "outputs": [],
   "source": [
    "learner_ensembled = Learner(data_test, model_fullpage_ensembled)"
   ]
  },
  {
   "cell_type": "code",
   "execution_count": 72,
   "metadata": {},
   "outputs": [
    {
     "data": {
      "text/html": [],
      "text/plain": [
       "<IPython.core.display.HTML object>"
      ]
     },
     "metadata": {},
     "output_type": "display_data"
    },
    {
     "data": {
      "text/plain": [
       "((0.5567484498023987, 0.5705521702766418),\n",
       " (0.518328159390815, 0.4784590229586475))"
      ]
     },
     "execution_count": 72,
     "metadata": {},
     "output_type": "execute_result"
    }
   ],
   "source": [
    "(acc, acc_with_prior), (f1, f1_with_prior) = evaluate_cnn_fullpage(learner_ensembled, priors)\n",
    "(acc, acc_with_prior), (f1, f1_with_prior)"
   ]
  },
  {
   "cell_type": "markdown",
   "metadata": {},
   "source": [
    "### Error Analysis"
   ]
  },
  {
   "cell_type": "markdown",
   "metadata": {},
   "source": [
    "Investigate most commonly confused pairs at the fragment level."
   ]
  },
  {
   "cell_type": "code",
   "execution_count": 45,
   "metadata": {},
   "outputs": [
    {
     "data": {
      "text/html": [],
      "text/plain": [
       "<IPython.core.display.HTML object>"
      ]
     },
     "metadata": {},
     "output_type": "display_data"
    }
   ],
   "source": [
    "interp = ClassificationInterpretation.from_learner(learner)"
   ]
  },
  {
   "cell_type": "code",
   "execution_count": 46,
   "metadata": {},
   "outputs": [
    {
     "data": {
      "image/png": "[encoded data removed]",
      "text/plain": [
       "<Figure size 864x864 with 1 Axes>"
      ]
     },
     "metadata": {
      "needs_background": "light"
     },
     "output_type": "display_data"
    }
   ],
   "source": [
    "interp.plot_confusion_matrix(figsize=(12,12))"
   ]
  },
  {
   "cell_type": "code",
   "execution_count": null,
   "metadata": {},
   "outputs": [],
   "source": []
  }
 ],
 "metadata": {
  "kernelspec": {
   "display_name": "Python 3",
   "language": "python",
   "name": "python3"
  },
  "language_info": {
   "codemirror_mode": {
    "name": "ipython",
    "version": 3
   },
   "file_extension": ".py",
   "mimetype": "text/x-python",
   "name": "python",
   "nbconvert_exporter": "python",
   "pygments_lexer": "ipython3",
   "version": "3.6.7"
  }
 },
 "nbformat": 4,
 "nbformat_minor": 2
}
