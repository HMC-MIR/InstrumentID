{
 "cells": [
  {
   "cell_type": "markdown",
   "metadata": {},
   "source": [
    "# AWD-LSTM (ULMFit)"
   ]
  },
  {
   "cell_type": "markdown",
   "metadata": {},
   "source": [
    "In this notebook we train an AWD-LSTM model for the proxy task with language model pretraining on IMSLP and language model fine-tuning on the target data.  This notebook has been adapted from the fast.ai [ULMFit tutorial](https://github.com/fastai/course-nlp/blob/master/nn-vietnamese.ipynb)."
   ]
  },
  {
   "cell_type": "code",
   "execution_count": 20,
   "metadata": {},
   "outputs": [],
   "source": [
    "%reload_ext autoreload\n",
    "%autoreload 2\n",
    "%matplotlib inline\n",
    "\n",
    "from fastai import *\n",
    "from fastai.text import *\n",
    "import glob\n",
    "import eval_models"
   ]
  },
  {
   "cell_type": "code",
   "execution_count": 21,
   "metadata": {},
   "outputs": [],
   "source": [
    "bs=48"
   ]
  },
  {
   "cell_type": "code",
   "execution_count": 22,
   "metadata": {},
   "outputs": [],
   "source": [
    "torch.cuda.set_device(0)"
   ]
  },
  {
   "cell_type": "code",
   "execution_count": 23,
   "metadata": {},
   "outputs": [],
   "source": [
    "data_path = Config.data_path()"
   ]
  },
  {
   "cell_type": "code",
   "execution_count": 24,
   "metadata": {},
   "outputs": [],
   "source": [
    "name = 'solo_bscore_lm'\n",
    "path = data_path/name\n",
    "path.mkdir(exist_ok=True, parents=True)"
   ]
  },
  {
   "cell_type": "markdown",
   "metadata": {
    "heading_collapsed": true
   },
   "source": [
    "### IMSLP Language Model"
   ]
  },
  {
   "cell_type": "code",
   "execution_count": 25,
   "metadata": {
    "hidden": true
   },
   "outputs": [],
   "source": [
    "data = load_data(path, 'solo_lm_all_databunch', bs=bs)"
   ]
  },
  {
   "cell_type": "code",
   "execution_count": 26,
   "metadata": {
    "hidden": true,
    "scrolled": false
   },
   "outputs": [],
   "source": [
    "learn = language_model_learner(data, AWD_LSTM, drop_mult=0.5, pretrained=False)"
   ]
  },
  {
   "cell_type": "code",
   "execution_count": 8,
   "metadata": {},
   "outputs": [
    {
     "data": {
      "text/html": [
       "\n",
       "    <div>\n",
       "        <style>\n",
       "            /* Turns off some styling */\n",
       "            progress {\n",
       "                /* gets rid of default border in Firefox and Opera. */\n",
       "                border: none;\n",
       "                /* Needs to be in here for Safari polyfill so background images work as expected. */\n",
       "                background-size: auto;\n",
       "            }\n",
       "            .progress-bar-interrupted, .progress-bar-interrupted::-webkit-progress-bar {\n",
       "                background: #F44336;\n",
       "            }\n",
       "        </style>\n",
       "      <progress value='0' class='' max='1', style='width:300px; height:20px; vertical-align: middle;'></progress>\n",
       "      0.00% [0/1 00:00<00:00]\n",
       "    </div>\n",
       "    \n",
       "<table border=\"1\" class=\"dataframe\">\n",
       "  <thead>\n",
       "    <tr style=\"text-align: left;\">\n",
       "      <th>epoch</th>\n",
       "      <th>train_loss</th>\n",
       "      <th>valid_loss</th>\n",
       "      <th>accuracy</th>\n",
       "      <th>time</th>\n",
       "    </tr>\n",
       "  </thead>\n",
       "  <tbody>\n",
       "  </tbody>\n",
       "</table><p>\n",
       "\n",
       "    <div>\n",
       "        <style>\n",
       "            /* Turns off some styling */\n",
       "            progress {\n",
       "                /* gets rid of default border in Firefox and Opera. */\n",
       "                border: none;\n",
       "                /* Needs to be in here for Safari polyfill so background images work as expected. */\n",
       "                background-size: auto;\n",
       "            }\n",
       "            .progress-bar-interrupted, .progress-bar-interrupted::-webkit-progress-bar {\n",
       "                background: #F44336;\n",
       "            }\n",
       "        </style>\n",
       "      <progress value='88' class='' max='1525', style='width:300px; height:20px; vertical-align: middle;'></progress>\n",
       "      5.77% [88/1525 00:08<02:15 23.1319]\n",
       "    </div>\n",
       "    "
      ],
      "text/plain": [
       "<IPython.core.display.HTML object>"
      ]
     },
     "metadata": {},
     "output_type": "display_data"
    },
    {
     "name": "stdout",
     "output_type": "stream",
     "text": [
      "LR Finder is complete, type {learner_name}.recorder.plot() to see the graph.\n"
     ]
    }
   ],
   "source": [
    "learn.lr_find()"
   ]
  },
  {
   "cell_type": "code",
   "execution_count": 9,
   "metadata": {},
   "outputs": [
    {
     "name": "stdout",
     "output_type": "stream",
     "text": [
      "Min numerical gradient: 1.20E-03\n",
      "Min loss divided by 10: 8.32E-03\n"
     ]
    },
    {
     "data": {
      "image/png": "[encoded data removed]",
      "text/plain": [
       "<Figure size 432x288 with 1 Axes>"
      ]
     },
     "metadata": {
      "needs_background": "light"
     },
     "output_type": "display_data"
    }
   ],
   "source": [
    "learn.recorder.plot(suggestion=True)"
   ]
  },
  {
   "cell_type": "code",
   "execution_count": 13,
   "metadata": {
    "hidden": true
   },
   "outputs": [],
   "source": [
    "lr = 1e-3"
   ]
  },
  {
   "cell_type": "code",
   "execution_count": 14,
   "metadata": {
    "hidden": true
   },
   "outputs": [
    {
     "data": {
      "text/html": [
       "<table border=\"1\" class=\"dataframe\">\n",
       "  <thead>\n",
       "    <tr style=\"text-align: left;\">\n",
       "      <th>epoch</th>\n",
       "      <th>train_loss</th>\n",
       "      <th>valid_loss</th>\n",
       "      <th>accuracy</th>\n",
       "      <th>time</th>\n",
       "    </tr>\n",
       "  </thead>\n",
       "  <tbody>\n",
       "    <tr>\n",
       "      <td>0</td>\n",
       "      <td>3.374655</td>\n",
       "      <td>3.289169</td>\n",
       "      <td>0.225215</td>\n",
       "      <td>02:31</td>\n",
       "    </tr>\n",
       "    <tr>\n",
       "      <td>1</td>\n",
       "      <td>2.978145</td>\n",
       "      <td>2.958840</td>\n",
       "      <td>0.305043</td>\n",
       "      <td>02:33</td>\n",
       "    </tr>\n",
       "    <tr>\n",
       "      <td>2</td>\n",
       "      <td>2.992476</td>\n",
       "      <td>2.823904</td>\n",
       "      <td>0.335085</td>\n",
       "      <td>02:33</td>\n",
       "    </tr>\n",
       "    <tr>\n",
       "      <td>3</td>\n",
       "      <td>2.695225</td>\n",
       "      <td>2.764270</td>\n",
       "      <td>0.349103</td>\n",
       "      <td>02:33</td>\n",
       "    </tr>\n",
       "    <tr>\n",
       "      <td>4</td>\n",
       "      <td>2.703622</td>\n",
       "      <td>2.722916</td>\n",
       "      <td>0.357887</td>\n",
       "      <td>02:32</td>\n",
       "    </tr>\n",
       "    <tr>\n",
       "      <td>5</td>\n",
       "      <td>2.662319</td>\n",
       "      <td>2.694435</td>\n",
       "      <td>0.365111</td>\n",
       "      <td>02:32</td>\n",
       "    </tr>\n",
       "    <tr>\n",
       "      <td>6</td>\n",
       "      <td>2.627836</td>\n",
       "      <td>2.680061</td>\n",
       "      <td>0.368412</td>\n",
       "      <td>02:33</td>\n",
       "    </tr>\n",
       "    <tr>\n",
       "      <td>7</td>\n",
       "      <td>2.583837</td>\n",
       "      <td>2.677022</td>\n",
       "      <td>0.369194</td>\n",
       "      <td>02:33</td>\n",
       "    </tr>\n",
       "  </tbody>\n",
       "</table>"
      ],
      "text/plain": [
       "<IPython.core.display.HTML object>"
      ]
     },
     "metadata": {},
     "output_type": "display_data"
    }
   ],
   "source": [
    "learn.unfreeze()\n",
    "learn.fit_one_cycle(8, lr, moms=(0.8,0.7))"
   ]
  },
  {
   "cell_type": "code",
   "execution_count": 18,
   "metadata": {},
   "outputs": [
    {
     "data": {
      "text/html": [
       "<table border=\"1\" class=\"dataframe\">\n",
       "  <thead>\n",
       "    <tr style=\"text-align: left;\">\n",
       "      <th>epoch</th>\n",
       "      <th>train_loss</th>\n",
       "      <th>valid_loss</th>\n",
       "      <th>accuracy</th>\n",
       "      <th>time</th>\n",
       "    </tr>\n",
       "  </thead>\n",
       "  <tbody>\n",
       "    <tr>\n",
       "      <td>0</td>\n",
       "      <td>2.835981</td>\n",
       "      <td>2.883918</td>\n",
       "      <td>0.325464</td>\n",
       "      <td>02:31</td>\n",
       "    </tr>\n",
       "    <tr>\n",
       "      <td>1</td>\n",
       "      <td>2.937948</td>\n",
       "      <td>2.823506</td>\n",
       "      <td>0.338540</td>\n",
       "      <td>02:36</td>\n",
       "    </tr>\n",
       "    <tr>\n",
       "      <td>2</td>\n",
       "      <td>2.867607</td>\n",
       "      <td>2.800894</td>\n",
       "      <td>0.343650</td>\n",
       "      <td>02:35</td>\n",
       "    </tr>\n",
       "  </tbody>\n",
       "</table>"
      ],
      "text/plain": [
       "<IPython.core.display.HTML object>"
      ]
     },
     "metadata": {},
     "output_type": "display_data"
    }
   ],
   "source": [
    "learn.fit_one_cycle(3, lr, moms=(0.8,0.7))"
   ]
  },
  {
   "cell_type": "code",
   "execution_count": 27,
   "metadata": {},
   "outputs": [],
   "source": [
    "mdl_path = path/'models'\n",
    "mdl_path.mkdir(exist_ok=True, parents=True)"
   ]
  },
  {
   "cell_type": "code",
   "execution_count": 28,
   "metadata": {
    "hidden": true
   },
   "outputs": [],
   "source": [
    "model_basename = 'awdlstm_train-all_lm'\n",
    "# learn.save(mdl_path/f'{model_basename}_wt', with_opt=False)\n",
    "# learn.data.vocab.save(mdl_path/f'{model_basename}_vocab.pkl')"
   ]
  },
  {
   "cell_type": "markdown",
   "metadata": {},
   "source": [
    "### Finetune Language Model"
   ]
  },
  {
   "cell_type": "code",
   "execution_count": 29,
   "metadata": {},
   "outputs": [],
   "source": [
    "data_target_lm = load_data(path, 'solo_lm_target_databunch', bs=bs)"
   ]
  },
  {
   "cell_type": "code",
   "execution_count": 30,
   "metadata": {},
   "outputs": [],
   "source": [
    "lm_fns = [mdl_path/f'{model_basename}_wt', mdl_path/f'{model_basename}_vocab']\n",
    "learn_lm = language_model_learner(data_target_lm, AWD_LSTM, pretrained_fnames=lm_fns, drop_mult=1.0)"
   ]
  },
  {
   "cell_type": "code",
   "execution_count": 19,
   "metadata": {},
   "outputs": [
    {
     "data": {
      "text/html": [
       "\n",
       "    <div>\n",
       "        <style>\n",
       "            /* Turns off some styling */\n",
       "            progress {\n",
       "                /* gets rid of default border in Firefox and Opera. */\n",
       "                border: none;\n",
       "                /* Needs to be in here for Safari polyfill so background images work as expected. */\n",
       "                background-size: auto;\n",
       "            }\n",
       "            .progress-bar-interrupted, .progress-bar-interrupted::-webkit-progress-bar {\n",
       "                background: #F44336;\n",
       "            }\n",
       "        </style>\n",
       "      <progress value='0' class='' max='1', style='width:300px; height:20px; vertical-align: middle;'></progress>\n",
       "      0.00% [0/1 00:00<00:00]\n",
       "    </div>\n",
       "    \n",
       "<table border=\"1\" class=\"dataframe\">\n",
       "  <thead>\n",
       "    <tr style=\"text-align: left;\">\n",
       "      <th>epoch</th>\n",
       "      <th>train_loss</th>\n",
       "      <th>valid_loss</th>\n",
       "      <th>accuracy</th>\n",
       "      <th>time</th>\n",
       "    </tr>\n",
       "  </thead>\n",
       "  <tbody>\n",
       "  </tbody>\n",
       "</table><p>\n",
       "\n",
       "    <div>\n",
       "        <style>\n",
       "            /* Turns off some styling */\n",
       "            progress {\n",
       "                /* gets rid of default border in Firefox and Opera. */\n",
       "                border: none;\n",
       "                /* Needs to be in here for Safari polyfill so background images work as expected. */\n",
       "                background-size: auto;\n",
       "            }\n",
       "            .progress-bar-interrupted, .progress-bar-interrupted::-webkit-progress-bar {\n",
       "                background: #F44336;\n",
       "            }\n",
       "        </style>\n",
       "      <progress value='99' class='' max='825', style='width:300px; height:20px; vertical-align: middle;'></progress>\n",
       "      12.00% [99/825 00:08<01:01 7.1710]\n",
       "    </div>\n",
       "    "
      ],
      "text/plain": [
       "<IPython.core.display.HTML object>"
      ]
     },
     "metadata": {},
     "output_type": "display_data"
    },
    {
     "name": "stdout",
     "output_type": "stream",
     "text": [
      "LR Finder is complete, type {learner_name}.recorder.plot() to see the graph.\n"
     ]
    }
   ],
   "source": [
    "learn_lm.lr_find()"
   ]
  },
  {
   "cell_type": "code",
   "execution_count": 20,
   "metadata": {},
   "outputs": [
    {
     "name": "stdout",
     "output_type": "stream",
     "text": [
      "Min numerical gradient: 1.74E-05\n",
      "Min loss divided by 10: 3.31E-03\n"
     ]
    },
    {
     "data": {
      "image/png": "[encoded data removed]",
      "text/plain": [
       "<Figure size 432x288 with 1 Axes>"
      ]
     },
     "metadata": {
      "needs_background": "light"
     },
     "output_type": "display_data"
    }
   ],
   "source": [
    "learn_lm.recorder.plot(suggestion=True)"
   ]
  },
  {
   "cell_type": "code",
   "execution_count": 21,
   "metadata": {},
   "outputs": [],
   "source": [
    "lr = 1e-3"
   ]
  },
  {
   "cell_type": "code",
   "execution_count": 22,
   "metadata": {},
   "outputs": [
    {
     "data": {
      "text/html": [
       "<table border=\"1\" class=\"dataframe\">\n",
       "  <thead>\n",
       "    <tr style=\"text-align: left;\">\n",
       "      <th>epoch</th>\n",
       "      <th>train_loss</th>\n",
       "      <th>valid_loss</th>\n",
       "      <th>accuracy</th>\n",
       "      <th>time</th>\n",
       "    </tr>\n",
       "  </thead>\n",
       "  <tbody>\n",
       "    <tr>\n",
       "      <td>0</td>\n",
       "      <td>2.436598</td>\n",
       "      <td>2.414826</td>\n",
       "      <td>0.376923</td>\n",
       "      <td>01:17</td>\n",
       "    </tr>\n",
       "    <tr>\n",
       "      <td>1</td>\n",
       "      <td>2.303451</td>\n",
       "      <td>2.396038</td>\n",
       "      <td>0.379779</td>\n",
       "      <td>01:18</td>\n",
       "    </tr>\n",
       "  </tbody>\n",
       "</table>"
      ],
      "text/plain": [
       "<IPython.core.display.HTML object>"
      ]
     },
     "metadata": {},
     "output_type": "display_data"
    }
   ],
   "source": [
    "learn_lm.fit_one_cycle(2, lr*10, moms=(0.8,0.7))"
   ]
  },
  {
   "cell_type": "code",
   "execution_count": 23,
   "metadata": {},
   "outputs": [
    {
     "data": {
      "text/html": [
       "<table border=\"1\" class=\"dataframe\">\n",
       "  <thead>\n",
       "    <tr style=\"text-align: left;\">\n",
       "      <th>epoch</th>\n",
       "      <th>train_loss</th>\n",
       "      <th>valid_loss</th>\n",
       "      <th>accuracy</th>\n",
       "      <th>time</th>\n",
       "    </tr>\n",
       "  </thead>\n",
       "  <tbody>\n",
       "    <tr>\n",
       "      <td>0</td>\n",
       "      <td>2.349253</td>\n",
       "      <td>2.408618</td>\n",
       "      <td>0.376138</td>\n",
       "      <td>01:17</td>\n",
       "    </tr>\n",
       "    <tr>\n",
       "      <td>1</td>\n",
       "      <td>2.420698</td>\n",
       "      <td>2.442538</td>\n",
       "      <td>0.368216</td>\n",
       "      <td>01:19</td>\n",
       "    </tr>\n",
       "    <tr>\n",
       "      <td>2</td>\n",
       "      <td>2.407464</td>\n",
       "      <td>2.439741</td>\n",
       "      <td>0.369129</td>\n",
       "      <td>01:19</td>\n",
       "    </tr>\n",
       "    <tr>\n",
       "      <td>3</td>\n",
       "      <td>2.251931</td>\n",
       "      <td>2.433525</td>\n",
       "      <td>0.370827</td>\n",
       "      <td>01:19</td>\n",
       "    </tr>\n",
       "    <tr>\n",
       "      <td>4</td>\n",
       "      <td>2.179138</td>\n",
       "      <td>2.423472</td>\n",
       "      <td>0.374250</td>\n",
       "      <td>01:19</td>\n",
       "    </tr>\n",
       "    <tr>\n",
       "      <td>5</td>\n",
       "      <td>2.258566</td>\n",
       "      <td>2.412134</td>\n",
       "      <td>0.377226</td>\n",
       "      <td>01:19</td>\n",
       "    </tr>\n",
       "    <tr>\n",
       "      <td>6</td>\n",
       "      <td>2.378371</td>\n",
       "      <td>2.406523</td>\n",
       "      <td>0.379085</td>\n",
       "      <td>01:20</td>\n",
       "    </tr>\n",
       "    <tr>\n",
       "      <td>7</td>\n",
       "      <td>2.277710</td>\n",
       "      <td>2.404756</td>\n",
       "      <td>0.379978</td>\n",
       "      <td>01:19</td>\n",
       "    </tr>\n",
       "  </tbody>\n",
       "</table>"
      ],
      "text/plain": [
       "<IPython.core.display.HTML object>"
      ]
     },
     "metadata": {},
     "output_type": "display_data"
    }
   ],
   "source": [
    "learn_lm.unfreeze()\n",
    "learn_lm.fit_one_cycle(8, lr, moms=(0.8,0.7))"
   ]
  },
  {
   "cell_type": "code",
   "execution_count": 24,
   "metadata": {},
   "outputs": [
    {
     "data": {
      "text/html": [
       "<table border=\"1\" class=\"dataframe\">\n",
       "  <thead>\n",
       "    <tr style=\"text-align: left;\">\n",
       "      <th>epoch</th>\n",
       "      <th>train_loss</th>\n",
       "      <th>valid_loss</th>\n",
       "      <th>accuracy</th>\n",
       "      <th>time</th>\n",
       "    </tr>\n",
       "  </thead>\n",
       "  <tbody>\n",
       "    <tr>\n",
       "      <td>0</td>\n",
       "      <td>2.327704</td>\n",
       "      <td>2.411097</td>\n",
       "      <td>0.377448</td>\n",
       "      <td>01:15</td>\n",
       "    </tr>\n",
       "    <tr>\n",
       "      <td>1</td>\n",
       "      <td>2.275454</td>\n",
       "      <td>2.437909</td>\n",
       "      <td>0.371507</td>\n",
       "      <td>01:17</td>\n",
       "    </tr>\n",
       "    <tr>\n",
       "      <td>2</td>\n",
       "      <td>2.311932</td>\n",
       "      <td>2.439316</td>\n",
       "      <td>0.371680</td>\n",
       "      <td>01:18</td>\n",
       "    </tr>\n",
       "    <tr>\n",
       "      <td>3</td>\n",
       "      <td>2.236418</td>\n",
       "      <td>2.436617</td>\n",
       "      <td>0.372050</td>\n",
       "      <td>01:18</td>\n",
       "    </tr>\n",
       "    <tr>\n",
       "      <td>4</td>\n",
       "      <td>2.365329</td>\n",
       "      <td>2.428766</td>\n",
       "      <td>0.374983</td>\n",
       "      <td>01:18</td>\n",
       "    </tr>\n",
       "    <tr>\n",
       "      <td>5</td>\n",
       "      <td>2.099770</td>\n",
       "      <td>2.425408</td>\n",
       "      <td>0.377670</td>\n",
       "      <td>01:18</td>\n",
       "    </tr>\n",
       "    <tr>\n",
       "      <td>6</td>\n",
       "      <td>2.193305</td>\n",
       "      <td>2.421324</td>\n",
       "      <td>0.378989</td>\n",
       "      <td>01:19</td>\n",
       "    </tr>\n",
       "    <tr>\n",
       "      <td>7</td>\n",
       "      <td>2.091573</td>\n",
       "      <td>2.422706</td>\n",
       "      <td>0.379196</td>\n",
       "      <td>01:18</td>\n",
       "    </tr>\n",
       "  </tbody>\n",
       "</table>"
      ],
      "text/plain": [
       "<IPython.core.display.HTML object>"
      ]
     },
     "metadata": {},
     "output_type": "display_data"
    }
   ],
   "source": [
    "learn_lm.fit_one_cycle(8, lr, moms=(0.8,0.7))"
   ]
  },
  {
   "cell_type": "code",
   "execution_count": 31,
   "metadata": {},
   "outputs": [],
   "source": [
    "ftmodel_basename = 'awdlstm_train-all_finetune-target_lm'\n",
    "# learn_lm.save(ftmodel_basename)\n",
    "# learn_lm.save_encoder(f'{ftmodel_basename}enc')"
   ]
  },
  {
   "cell_type": "markdown",
   "metadata": {},
   "source": [
    "### Train Classifier"
   ]
  },
  {
   "cell_type": "code",
   "execution_count": 47,
   "metadata": {},
   "outputs": [],
   "source": [
    "train_df = pd.read_csv(path/'train256.csv')\n",
    "valid_df = pd.read_csv(path/'valid256.csv')\n",
    "test_df = pd.read_csv(path/'test256.csv')"
   ]
  },
  {
   "cell_type": "code",
   "execution_count": 48,
   "metadata": {},
   "outputs": [
    {
     "data": {
      "text/html": [],
      "text/plain": [
       "<IPython.core.display.HTML object>"
      ]
     },
     "metadata": {},
     "output_type": "display_data"
    },
    {
     "data": {
      "text/html": [],
      "text/plain": [
       "<IPython.core.display.HTML object>"
      ]
     },
     "metadata": {},
     "output_type": "display_data"
    }
   ],
   "source": [
    "basicTokenizer = Tokenizer(pre_rules=[], post_rules=[])\n",
    "data_clas = TextDataBunch.from_df(path, train_df, valid_df, tokenizer=basicTokenizer,\n",
    "                                  vocab = data_target_lm.vocab, bs=bs, num_workers=1)"
   ]
  },
  {
   "cell_type": "code",
   "execution_count": 49,
   "metadata": {},
   "outputs": [],
   "source": [
    "learn_c = text_classifier_learner(data_clas, AWD_LSTM, pretrained=False, drop_mult=0.5, \n",
    "                                  metrics=[accuracy, FBeta(average='macro', beta=1)])\n",
    "learn_c.load_encoder(f'{ftmodel_basename}enc')\n",
    "learn_c.freeze()"
   ]
  },
  {
   "cell_type": "code",
   "execution_count": 19,
   "metadata": {},
   "outputs": [
    {
     "data": {
      "text/plain": [
       "4616"
      ]
     },
     "execution_count": 19,
     "metadata": {},
     "output_type": "execute_result"
    }
   ],
   "source": [
    "len(learn_c.data.vocab.itos)"
   ]
  },
  {
   "cell_type": "code",
   "execution_count": 17,
   "metadata": {},
   "outputs": [
    {
     "data": {
      "text/html": [
       "\n",
       "    <div>\n",
       "        <style>\n",
       "            /* Turns off some styling */\n",
       "            progress {\n",
       "                /* gets rid of default border in Firefox and Opera. */\n",
       "                border: none;\n",
       "                /* Needs to be in here for Safari polyfill so background images work as expected. */\n",
       "                background-size: auto;\n",
       "            }\n",
       "            .progress-bar-interrupted, .progress-bar-interrupted::-webkit-progress-bar {\n",
       "                background: #F44336;\n",
       "            }\n",
       "        </style>\n",
       "      <progress value='0' class='' max='1', style='width:300px; height:20px; vertical-align: middle;'></progress>\n",
       "      0.00% [0/1 00:00<00:00]\n",
       "    </div>\n",
       "    \n",
       "<table border=\"1\" class=\"dataframe\">\n",
       "  <thead>\n",
       "    <tr style=\"text-align: left;\">\n",
       "      <th>epoch</th>\n",
       "      <th>train_loss</th>\n",
       "      <th>valid_loss</th>\n",
       "      <th>accuracy</th>\n",
       "      <th>f_beta</th>\n",
       "      <th>time</th>\n",
       "    </tr>\n",
       "  </thead>\n",
       "  <tbody>\n",
       "  </tbody>\n",
       "</table><p>\n",
       "\n",
       "    <div>\n",
       "        <style>\n",
       "            /* Turns off some styling */\n",
       "            progress {\n",
       "                /* gets rid of default border in Firefox and Opera. */\n",
       "                border: none;\n",
       "                /* Needs to be in here for Safari polyfill so background images work as expected. */\n",
       "                background-size: auto;\n",
       "            }\n",
       "            .progress-bar-interrupted, .progress-bar-interrupted::-webkit-progress-bar {\n",
       "                background: #F44336;\n",
       "            }\n",
       "        </style>\n",
       "      <progress value='94' class='' max='400', style='width:300px; height:20px; vertical-align: middle;'></progress>\n",
       "      23.50% [94/400 00:27<01:30 4.9171]\n",
       "    </div>\n",
       "    "
      ],
      "text/plain": [
       "<IPython.core.display.HTML object>"
      ]
     },
     "metadata": {},
     "output_type": "display_data"
    },
    {
     "name": "stdout",
     "output_type": "stream",
     "text": [
      "LR Finder is complete, type {learner_name}.recorder.plot() to see the graph.\n"
     ]
    }
   ],
   "source": [
    "learn_c.lr_find()"
   ]
  },
  {
   "cell_type": "code",
   "execution_count": 18,
   "metadata": {},
   "outputs": [
    {
     "name": "stdout",
     "output_type": "stream",
     "text": [
      "Min numerical gradient: 2.29E-02\n",
      "Min loss divided by 10: 2.51E-02\n"
     ]
    },
    {
     "data": {
      "image/png": "[encoded data removed]",
      "text/plain": [
       "<Figure size 432x288 with 1 Axes>"
      ]
     },
     "metadata": {
      "needs_background": "light"
     },
     "output_type": "display_data"
    }
   ],
   "source": [
    "learn_c.recorder.plot(suggestion=True)"
   ]
  },
  {
   "cell_type": "code",
   "execution_count": 19,
   "metadata": {},
   "outputs": [],
   "source": [
    "lr = 1e-3"
   ]
  },
  {
   "cell_type": "code",
   "execution_count": 20,
   "metadata": {},
   "outputs": [
    {
     "data": {
      "text/html": [
       "<table border=\"1\" class=\"dataframe\">\n",
       "  <thead>\n",
       "    <tr style=\"text-align: left;\">\n",
       "      <th>epoch</th>\n",
       "      <th>train_loss</th>\n",
       "      <th>valid_loss</th>\n",
       "      <th>accuracy</th>\n",
       "      <th>f_beta</th>\n",
       "      <th>time</th>\n",
       "    </tr>\n",
       "  </thead>\n",
       "  <tbody>\n",
       "    <tr>\n",
       "      <td>0</td>\n",
       "      <td>0.896140</td>\n",
       "      <td>1.365712</td>\n",
       "      <td>0.537917</td>\n",
       "      <td>0.533202</td>\n",
       "      <td>02:48</td>\n",
       "    </tr>\n",
       "    <tr>\n",
       "      <td>1</td>\n",
       "      <td>0.720968</td>\n",
       "      <td>1.396436</td>\n",
       "      <td>0.540000</td>\n",
       "      <td>0.535099</td>\n",
       "      <td>02:52</td>\n",
       "    </tr>\n",
       "  </tbody>\n",
       "</table>"
      ],
      "text/plain": [
       "<IPython.core.display.HTML object>"
      ]
     },
     "metadata": {},
     "output_type": "display_data"
    }
   ],
   "source": [
    "learn_c.fit_one_cycle(2, lr, moms=(0.8,0.7))"
   ]
  },
  {
   "cell_type": "code",
   "execution_count": 33,
   "metadata": {},
   "outputs": [
    {
     "data": {
      "text/html": [
       "<table border=\"1\" class=\"dataframe\">\n",
       "  <thead>\n",
       "    <tr style=\"text-align: left;\">\n",
       "      <th>epoch</th>\n",
       "      <th>train_loss</th>\n",
       "      <th>valid_loss</th>\n",
       "      <th>accuracy</th>\n",
       "      <th>f_beta</th>\n",
       "      <th>time</th>\n",
       "    </tr>\n",
       "  </thead>\n",
       "  <tbody>\n",
       "    <tr>\n",
       "      <td>0</td>\n",
       "      <td>1.277214</td>\n",
       "      <td>1.584312</td>\n",
       "      <td>0.440625</td>\n",
       "      <td>0.428329</td>\n",
       "      <td>00:44</td>\n",
       "    </tr>\n",
       "    <tr>\n",
       "      <td>1</td>\n",
       "      <td>1.257404</td>\n",
       "      <td>1.594135</td>\n",
       "      <td>0.438802</td>\n",
       "      <td>0.434272</td>\n",
       "      <td>00:45</td>\n",
       "    </tr>\n",
       "    <tr>\n",
       "      <td>2</td>\n",
       "      <td>1.185317</td>\n",
       "      <td>1.591894</td>\n",
       "      <td>0.439844</td>\n",
       "      <td>0.434538</td>\n",
       "      <td>00:44</td>\n",
       "    </tr>\n",
       "    <tr>\n",
       "      <td>3</td>\n",
       "      <td>1.139858</td>\n",
       "      <td>1.595444</td>\n",
       "      <td>0.441406</td>\n",
       "      <td>0.436438</td>\n",
       "      <td>00:44</td>\n",
       "    </tr>\n",
       "  </tbody>\n",
       "</table>"
      ],
      "text/plain": [
       "<IPython.core.display.HTML object>"
      ]
     },
     "metadata": {},
     "output_type": "display_data"
    }
   ],
   "source": [
    "learn_c.fit_one_cycle(4, lr, moms=(0.8,0.7))"
   ]
  },
  {
   "cell_type": "code",
   "execution_count": 26,
   "metadata": {},
   "outputs": [
    {
     "data": {
      "text/html": [
       "<table border=\"1\" class=\"dataframe\">\n",
       "  <thead>\n",
       "    <tr style=\"text-align: left;\">\n",
       "      <th>epoch</th>\n",
       "      <th>train_loss</th>\n",
       "      <th>valid_loss</th>\n",
       "      <th>accuracy</th>\n",
       "      <th>f_beta</th>\n",
       "      <th>time</th>\n",
       "    </tr>\n",
       "  </thead>\n",
       "  <tbody>\n",
       "    <tr>\n",
       "      <td>0</td>\n",
       "      <td>0.890200</td>\n",
       "      <td>1.533923</td>\n",
       "      <td>0.490833</td>\n",
       "      <td>0.487089</td>\n",
       "      <td>01:22</td>\n",
       "    </tr>\n",
       "    <tr>\n",
       "      <td>1</td>\n",
       "      <td>0.726067</td>\n",
       "      <td>1.626671</td>\n",
       "      <td>0.484948</td>\n",
       "      <td>0.480452</td>\n",
       "      <td>01:25</td>\n",
       "    </tr>\n",
       "  </tbody>\n",
       "</table>"
      ],
      "text/plain": [
       "<IPython.core.display.HTML object>"
      ]
     },
     "metadata": {},
     "output_type": "display_data"
    }
   ],
   "source": [
    "learn_c.freeze_to(-2)\n",
    "learn_c.fit_one_cycle(2, slice(lr/(2.6**4),lr), moms=(0.8,0.7))"
   ]
  },
  {
   "cell_type": "code",
   "execution_count": 27,
   "metadata": {},
   "outputs": [
    {
     "data": {
      "text/html": [
       "<table border=\"1\" class=\"dataframe\">\n",
       "  <thead>\n",
       "    <tr style=\"text-align: left;\">\n",
       "      <th>epoch</th>\n",
       "      <th>train_loss</th>\n",
       "      <th>valid_loss</th>\n",
       "      <th>accuracy</th>\n",
       "      <th>f_beta</th>\n",
       "      <th>time</th>\n",
       "    </tr>\n",
       "  </thead>\n",
       "  <tbody>\n",
       "    <tr>\n",
       "      <td>0</td>\n",
       "      <td>0.648694</td>\n",
       "      <td>1.654029</td>\n",
       "      <td>0.477656</td>\n",
       "      <td>0.472151</td>\n",
       "      <td>01:28</td>\n",
       "    </tr>\n",
       "  </tbody>\n",
       "</table>"
      ],
      "text/plain": [
       "<IPython.core.display.HTML object>"
      ]
     },
     "metadata": {},
     "output_type": "display_data"
    }
   ],
   "source": [
    "learn_c.unfreeze()\n",
    "learn_c.fit_one_cycle(1, slice(lr/10/(2.6**4),lr/10), moms=(0.8,0.7))"
   ]
  },
  {
   "cell_type": "code",
   "execution_count": 21,
   "metadata": {},
   "outputs": [],
   "source": [
    "learn_c.save('awdlstm_train-imslp_finetune-target_clas_256')"
   ]
  },
  {
   "cell_type": "code",
   "execution_count": 50,
   "metadata": {},
   "outputs": [
    {
     "data": {
      "text/plain": [
       "RNNLearner(data=TextClasDataBunch;\n",
       "\n",
       "Train: LabelList (28800 items)\n",
       "x: TextList\n",
       "xxbos 0 2 4 4 8 8 2 2 2 2 8 2 557056 671744 2138112 512 4096 16384 32768 16384 32768 131072 131074 2048 32768 32768 524288 262145 131074 2 2 524288 65536 131072 1073872896 32768 4096 8192 8192 4096 8192 3145728 524288 1073741824 xxunk 192 256 4194304 8388608 196 2 xxunk 524288 4 67108864 268435497 8 33554432 16 8 16 67108864 67108928 536870912 67108880 536870985 67108880 32 192 134217856 603979776 671088640 512 134217728 671088656 132352 268435488 1342177280 268435460 268435456 20 268435460 xxunk 4 268435460 262144 1073807360 xxunk 1073741824 1073741844 262144 1073872896 xxunk 139264 1073872896 1073741828 2097152 131072 262144 262144 262144 262144 524288 262144 524288 1024 65536 131072 65536 131072 131072 131072 131072 327680 131072 131072 262144 65536 32768 65536 2048 131072 16384 32768 16384 526336 xxunk 164 2048 67110912 xxunk 2048 131072 16779264 xxunk 2048 33556480 xxunk 2048 16779264 687865930 16779264 687865930 16779264 687865930 16779264 687865930 16779264 687865930 67108864 xxunk 128 4096 8192 20480 8192 32768 16384 8192 4096 128 131072 2048 8389120 343935049 2048 xxunk 8 2048 4194816 xxunk 2048 8390656 xxunk 2048 8389120 343935049 2048 xxunk 2048 8389120 343935049 2048 8390656 xxunk 2048 8389120 343935049 2048 8388608 xxunk 64 131072 1024 268435968 xxunk 2048 8704 2048 2048 8192 32768 8192 1 16384 1073750016 xxunk 8192 32768 1073774592 1073774592 163840 1073872896 268435456 131072 8192 16384 2048 8192 256 4096 10240 4096 512 536872960 xxunk 2048 8192 262145 xxunk 32 16 262144 524288 8 10 2120 131072 32 0 67108865 536870977 2 134217733 xxunk 8 134217730 xxunk 6 134217728 xxunk xxunk 536870993 24 16 134217736,xxbos 0 xxunk 167936 8 128 16384 128 2097152 8192 64 32768 16384 64 147456 24 134217728 xxunk 134217736 536870994 1024 1 xxunk 134217736 1073741906 10 1 12 8192 131072 0 8 8 3 67108864 268435488 xxunk 32768 3 xxunk 17 268439552 xxunk 5120 524288 192 268435456 xxunk 8 16 268435456 xxunk 48 8 64 192 128 192 32 32 192 1 xxunk 1342177408 268435456 2097152 2 2049 536870914 536870912 36864 2 536870917 2376 32768 6 1 4 4 4096 2 1 2 2 74 8 320 4096 40 128 8 32 24576 4096 4 8 4 1 4 8388616 1107296258 4 4 8388612 xxunk 8388616 268435624 8 1024 32 67109024 1342177300 32 8 67108880 xxunk 16 67108864 268435489 8192 67108868 xxunk 1 2 2 12 33554504 268435624 87040 33554432 524288 4194304 524288 256 256 524288 256 536870913 16 33088 524288 1073741824 xxunk 526336 1024 2097152 131072 xxunk 1375731712 131072 33685504 1375731712 131072 33685504 1375731712 67371008 335544321 131072 67371008 335544321 131072 262144 131072 262144 131072 262144 131072 33152 2097152 1024 32 67108896 xxunk 134217728 xxunk 8192 134234112 xxunk 2138112 1048576 1048576 1572864 1048576 2048 4194304 1048832 524448 1048768 2048 2048 2048 16777216 xxunk 16777216 150994964 2097152 xxunk 2097152 xxunk 33554432 xxunk 33554432 268435529 xxunk 33554432 xxunk 2 1048576 16 64 64 256 160 64 278528 2048 2048 8704 2048 4096 xxunk xxunk 524288 xxunk 512 32 128 64 268435584 xxunk 128 128 268435712 xxunk 8192 4 3 xxunk 4097 32769 xxunk 1 xxunk 2 32768 536870912 xxunk 32 32 134217760 1342177298 32 134217760 1207959570 128 67108992 xxunk,xxbos 0 268435456 268435456 134217728 0 134217728 268435456 536870912 536870912 536870912 134217728 268435456 134217728 67108864 33554432 67108864 536870912 536870912 67108864 16777216 33554432 67108864 33554432 134217728 33554432 16777216 8388608 33554432 67108864 268435456 536870912 1073741824 541065216 1073741824 268435456 67108864 268435456 536870912 268435456 134217728 67108864 134217728 16777216 33554432 67108864 16777216 1 4 2 16 4 16 301989888 33554432 72 150994944 150994944 5120 49408 16777216 8388608 67108864 16777216 67108864 134217728 16777216 67108864 16777216 33554432 67108864 134217728 18433 1073741824 536870912 2 1073741824 536870912 1073741824 536870912 134217728 536870912 134217728 33554432 67108864 33554432 33554432 134217728 33554432 134217728 16777216 8388608 16777216 67108864 33554432 134217728 67108864 33554432 67108864 33554432 8388608 33554432 16777216 33554432 67108864 67108864 268435456 33554432 67108864 16777216 16777216 33554432 16777216 67108864 16777216 536870912 134217728 1073741824 1 536870912 268435456 134217728 134217728 134217728 268435456 1073741824 268435456 1073741824 1 1 1073741824 268435456 1073741824 268435456 134217728 33554432 8388608 16777216 262144 262144 524288 655360 294912 131072 2576 41024 557056 262144 524288 65536 262144 524288 2097152 16777216 33554432 134217728 537001984 134217728 536870912 536870912 268435456 1073741824 1 268435456 67108864 33554432 67108864 33554432 33554432 67108864 16777216 33554432 67108864 33554432 67108864 16777216 8388608 4194816 2097152 1048576 1048576 524288 262144 524288 1048576 1048576 4194304 12582912 16777216 4194304 4194304 1048576 131072 131072 917504 163840 65536 81920 32768 81920 2066 1073745920 98304 16384 524288 65536 262144 8388608 2097152 16777216 41943040 33554432 67108864 16777216 67108864 16777216 16777216 16777216 4194304 8388608 16777216 33554432 33554432 16777216 67108864 33554432 16777216 33554432 16777216 16777216 786432 1 1073741824 16777216 33554432 8388608 16777216 8388608 33554432 33554432 16777216 33554432 33554432 67108864 16777216 8388608 33554432 33554432 16777216 4194304 8388608 4194304 1048576 524288 524288 65536 589824,xxbos 1 xxunk 5242880 8388608 1048576 524288 131072 65536 16384 4096 4096 2048 1024 1342177280 512 256 1024 2048 65536 524288 3145728 4194304 16777216 786432 131072 67108880 2560 262160 16 1310848 268435456 67108864 134217728 335544320 67108864 1441792 2 16384 134217728 134217728 33554432 8388608 33554432 67108864 33554432 8388608 134217728 67108864 33554432 139264 512 16777216 67108864 33554432 67108864 655360 256 4 32 32 4194304 1048576 4194304 16777216 32 16 128 327680 64 16 64 8388608 4194304 8388608 2097152 1048576 16777216 150994944 67108864 150994944 41943040 8 4 4194304 2097152 1048576 33554432 25165824 46137344 310378496 469762048 67108864 xxunk 8 1207959568 2 8388640 16 8 2048 0 139264 2048 0 0 37888 134217728 8388608 134217728 67108864 16777216 8388608 16777216 8388608 4194304 1048576 2097152 1048576 262144 65536 0 0 65536 32768 0 393216 65536 524288 1048576 0 8388608 4194304 1048576 2097152 0 4194304 4194304 1048576 524288 131072 589824 536870912 65536 589824 524288 262144 524288 1572864 2097152 8320 1048576 524288 131072 65536 327680 131072 16384 16384 65536 458752 106496 65536 2053 16384 32768 131072 1048576 10485760 16777216 1048576 0 xxunk 33554432 16777216 4194304 1048576 2097152 1048576 4096 8192 32768 2048 32768 12288 4096 4096 4096 32768 9 0 1 4 1 1 5 4 134217728 1073741824 1 100663296 33554432 41943040 16777216 10485760 4194304 1280 16384 524288 32768 32768 32768 32768 xxunk 8 524288 8388608 268435456 536870912 1073741824 1 1073741824 64 1 5120 81920 16384 8192 9216 1024 5120 1024 512 128 512 256 64 64 64 32 128 64 128 512 1024 2048 1024 512 128 576 128 128 4 16 13631488 2097152 301989888,xxbos 2 2 1114112 4 8 2 2 2 0 2 4 4 8 8 2 2 2 2 8 2 557056 671744 2138112 512 4096 16384 32768 16384 32768 131072 131074 2048 32768 32768 524288 262145 131074 2 2 524288 65536 131072 1073872896 32768 4096 8192 8192 4096 8192 3145728 524288 1073741824 xxunk 192 256 4194304 8388608 196 2 xxunk 524288 4 67108864 268435497 8 33554432 16 8 16 67108864 67108928 536870912 67108880 536870985 67108880 32 192 134217856 603979776 671088640 512 134217728 671088656 132352 268435488 1342177280 268435460 268435456 20 268435460 xxunk 4 268435460 262144 1073807360 xxunk 1073741824 1073741844 262144 1073872896 xxunk 139264 1073872896 1073741828 2097152 131072 262144 262144 262144 262144 524288 262144 524288 1024 65536 131072 65536 131072 131072 131072 131072 327680 131072 131072 262144 65536 32768 65536 2048 131072 16384 32768 16384 526336 xxunk 164 2048 67110912 xxunk 2048 131072 16779264 xxunk 2048 33556480 xxunk 2048 16779264 687865930 16779264 687865930 16779264 687865930 16779264 687865930 16779264 687865930 67108864 xxunk 128 4096 8192 20480 8192 32768 16384 8192 4096 128 131072 2048 8389120 343935049 2048 xxunk 8 2048 4194816 xxunk 2048 8390656 xxunk 2048 8389120 343935049 2048 xxunk 2048 8389120 343935049 2048 8390656 xxunk 2048 8389120 343935049 2048 8388608 xxunk 64 131072 1024 268435968 xxunk 2048 8704 2048 2048 8192 32768 8192 1 16384 1073750016 xxunk 8192 32768 1073774592 1073774592 163840 1073872896 268435456 131072 8192 16384 2048 8192 256 4096 10240 4096 512 536872960 xxunk 2048 8192 262145 xxunk 32 16 262144 524288 8 10 2120 131072 32 0 67108865 536870977 2 134217733 xxunk 8 134217730 xxunk\n",
       "y: CategoryList\n",
       "clarinet,clarinet,clarinet,clarinet,clarinet\n",
       "Path: /home/kji/.fastai/data/solo_bscore_lm;\n",
       "\n",
       "Valid: LabelList (28800 items)\n",
       "x: TextList\n",
       "xxbos 0 2 16 64 256 2048 16384 32768 262144 1048576 8388608 16777216 33554432 4194304 524288 131072 32768 1024 128 16 8 1 0 0 0 1 8 32 128 1024 4096 32768 65536 524288 4194304 16842752 4096 33554432 33554432 8388608 1048576 262144 32768 16384 2048 288 16 8 0 0 8 32 128 512 8192 65536 32768 262144 9437184 33554432 33554432 8388608 4194304 9437184 4194304 1048576 294912 16384 4096 2048 288 16 8 2 0 0 0 0 2 4 32 2304 4096 32768 1310720 12582912 8388608 524288 2113536 4096 131072 2097152 2097152 1048576 524288 262144 1048576 524288 262144 65536 16384 4096 2048 512 2048 4096 16384 2048 4096 16384 65536 262144 524288 1048576 2097152 2138112 4096 2097152 1048576 1048576 524288 131072 1048576 524288 131072 32768 16384 4096 1024 256 1024 4096 16384 1024 4096 16384 32768 131072 524288 524288 1048576 1048576 1048576 524288 262144 131072 524288 262144 131072 32768 8192 2048 1024 256 1024 2048 8192 1024 2048 8192 32768 131072 262144 524288 524288 2113536 4096 524288 1048576 524288 524288 262144 65536 524288 262144 65536 16384 16384 8192 2048 512 128 512 2048 8192 512 2048 8192 16384 65536 262144 262144 524288 524288 262144 262144 131072 32768 262144 131072 32768 16384 4096 1024 256 64 256 1024 4096 256 1024 4096 16384 32768 131072 262144 262144 2113536 4096 262144 262144 131072 65536 32768 131072 65536 32768 8192 2048 512 256 64 256 512 2048 256 512 2048 8192 32768 65536 131072 262144 262144 131072 131072 65536 16384 131072 65536 16384 8192 2048 512 512 256,xxbos 0 4 1 256 8 32 16 2048 32 128 64 128 256 2048 4096 2134016 32768 8192 1024 4096 2048 8192 128 512 256 2048 32 128 64 256 8 32 16 64 1 4 2 256 8 8 2048 16 128 64 128 256 2048 2183168 2097152 524288 65536 262144 131072 524288 8192 32768 16384 524288 65536 262144 131072 524288 8192 32768 16384 131072 2048 8192 4096 16384 512 2048 1024 131072 2048 8192 4096 16384 512 2048 2183168 1024 16384 256 2048 1024 4096 32 128 64 16384 256 2048 1024 4096 32 128 64 4096 32 256 64 1024 16 64 16 4096 32 256 64 1024 16 64 2117632 32 128 4 16 8 1024 16 64 16 128 2 16 4 1024 16 64 32 4096 64 256 128 16384 512 2048 1024 4096 64 256 128 16384 512 2048 2179072 4096 1024 16384 512 2048 1024 131072 2048 8192 8192 16384 512 2048 1024 131072 2048 8192 4096 524288 8192 32768 16384 65536 131072 262144 524288 4096 8192 32768 16384 65536 131072 262144 2183168 2097152 524288 655360 8192 32768 16384 131072 2048 8192 20480 256 2048 1024 4096 320 64 1024 16 64 16 64 4 16 4 1024 16 64 4128 64 256 16512 512 2048 132096 2048 4096 8192 16384 131072 2162688 524288 4194304 524288 262144 262144 1048576 262144 131072 131072 524288 131072 32768 65536 262144 65536 16384 32768 131072 32768 8192 16384 65536 16384 4096 4096 16384 4096 2048 2048 8192 2048 1024 2162688 524288 4194304,xxbos 0 79691776 1073742850 12582912 536871424 1024 512 65536 1024 46137344 xxunk 67109120 16777216 xxunk 16777472 65536 xxunk xxunk 2097408 18874370 512 256 512 4096 10240 8192 8192 4194304 2050 xxunk 537923584 8192 6144 8192 2048 4096 65536 4096 8192 32768 8192 8192 16384 32768 8192 16384 32768 8192 16384 32768 25167872 256 256 2048 16 16 16384 67584 256 256 67584 16 16 67584 256 256 67584 256 0 256 xxunk 2097152 2097152 2097152 1048576 1048576 524288 262144 262144 131072 131072 65536 65536 32768 16384 32768 32768 65536 65536 131072 262144 262144 524288 524288 1048576 1048576 139264 8454144 278528 2097152 1048576 1048576 524288 262144 262144 131072 131072 65536 65536 32768 16384 16384 16384 32768 32768 65536 65536 131072 262144 262144 524288 524288 1048576 2117632 1048576 1048576 524288 262144 262144 131072 131072 65536 65536 32768 16384 16384 8192 16384 16384 32768 32768 65536 65536 131072 262144 262144 524288 524288 36864 1048576 524288 262144 262144 131072 131072 65536 65536 32768 16384 16384 8192 8192 8192 16384 16384 32768 32768 65536 65536 131072 262144 262144 524288 2113536 4096 524288 262144 262144 131072 131072 65536 65536 32768 16384 16384 8192 8192 4096 4096 8192 16384 16384 32768 32768 65536 65536 131072 262144 262144 20480 262144 262144 131072 131072 65536 65536 32768 16384 16384 8192 8192 4096 2048 4096 4096 8192 16384 16384 32768 32768 65536 65536 131072 262144 81920 262144 131072 131072 65536 65536 32768 16384 16384 8192 8192 4096 2048 2048 2048 4096 4096 8192 16384 16384 32768 32768 65536 65536 131072 2117632 131072 131072 65536 65536 32768 16384,xxbos 1 0 1 4 544 5120 32768 262144 262144 32768 65536 16384 2048 256 128 16 2 16 128 256 2048 16384 65536 262144 268976128 16777216 16777216 4194304 524288 65536 8192 4096 32 4 0 4 32 512 1024 8192 65536 524288 262144 262144 32768 4096 16384 2048 256 32 16 2 1 2 16 128 1024 4096 32768 4229120 512 262144 262144 65536 16384 2048 256 128 16 4 0 2 16 128 258 256 16384 65536 262144 262144 65536 32768 16384 65536 32768 16384 2048 256 128 32 16 2 0 0 0 0 2 16 34 32 256 2048 8192 16384 16384 269025280 8192 268435456 67108864 4194304 524288 32768 4096 512 8 1 0 2 0 1 64 1024 4096 32768 524288 4194304 33554432 33554432 4194304 524288 32768 4096 1024 32 4 1 8 0 1 8 512 4096 4096 65536 524288 33701888 4096 33554432 4194304 262144 32768 4096 256 32 8 0 0 0 0 2 8 128 2048 32768 131072 4194304 4194304 262144 32768 4096 256 32 4 0 0 1 0 0 8 128 1024 32768 262144 2097152 xxunk 16384 536870912 33554432 4194304 262144 32768 4096 256 32 4 0 0 0 4 32 256 4096 32768 262144 4194304 33554432 33554432 4194304 262144 32768 1024 32 4 1 0 0 8 32 256 4096 32768 262144 4194304 33619968 4096 33554432 33554432 4194304 524288 65536 32768 4096 1024 64 16 2 0 0 0 0 1 8 32 128 1024 8192 32768 65536 524288 4194304 4194304 4194304 524288 1048576 32768 4096,xxbos 1 1 1 4 2 4 8 16 16 16 32 32 32 64 64 128 2134016 128 64 128 128 128 256 256 1024 2048 2048 2048 4096 4096 4096 8192 8192 16384 16384 16384 32768 32768 32768 65536 65536 65536 131072 262144 262144 262144 524288 524288 524288 1048576 1048576 4194304 303104 2097152 16384 16384 16384 8192 8192 8192 4096 2048 2048 2048 1024 1024 1024 256 256 256 128 128 64 256 256 256 256 512 512 1024 1024 2048 2048 2048 4096 4096 4096 8192 16384 2117632 16384 8192 8192 8192 4096 4096 2048 2048 2048 1024 1024 1024 256 256 256 128 64 64 64 64 64 128 128 128 256 256 256 1024 2048 2048 2048 4096 4096 4096 8192 8192 2117632 8192 8192 8192 4096 2048 2048 2048 1024 1024 1024 256 512 256 256 128 64 64 64 32 128 64 128 256 256 256 256 512 512 1024 1024 2048 2048 2048 4096 8192 8192 2134016 8192 4096 4096 2048 2048 2048 1024 1024 1024 512 512 512 256 128 64 128 32 32 64 64 32 128 128 64 128 128 128 256 256 256 1024 2048 2048 2048 4096 4096 2134016 4096 2048 2048 2048 1024 1024 1024 256 256 256 128 256 64 64 64 32 32 32 16 32 64 32 64 64 128 128 128 512 512 512 1024 1024 2048 2048 2048 2113536 4096 2048 2048 2048 1024 1024 512 1024 1024 512 256 256 64 64 64 64 32 32 8\n",
       "y: CategoryList\n",
       "flute,flute,flute,flute,flute\n",
       "Path: /home/kji/.fastai/data/solo_bscore_lm;\n",
       "\n",
       "Test: None, model=SequentialRNN(\n",
       "  (0): MultiBatchEncoder(\n",
       "    (module): AWD_LSTM(\n",
       "      (encoder): Embedding(4616, 400, padding_idx=1)\n",
       "      (encoder_dp): EmbeddingDropout(\n",
       "        (emb): Embedding(4616, 400, padding_idx=1)\n",
       "      )\n",
       "      (rnns): ModuleList(\n",
       "        (0): WeightDropout(\n",
       "          (module): LSTM(400, 1152, batch_first=True)\n",
       "        )\n",
       "        (1): WeightDropout(\n",
       "          (module): LSTM(1152, 1152, batch_first=True)\n",
       "        )\n",
       "        (2): WeightDropout(\n",
       "          (module): LSTM(1152, 400, batch_first=True)\n",
       "        )\n",
       "      )\n",
       "      (input_dp): RNNDropout()\n",
       "      (hidden_dps): ModuleList(\n",
       "        (0): RNNDropout()\n",
       "        (1): RNNDropout()\n",
       "        (2): RNNDropout()\n",
       "      )\n",
       "    )\n",
       "  )\n",
       "  (1): PoolingLinearClassifier(\n",
       "    (layers): Sequential(\n",
       "      (0): BatchNorm1d(1200, eps=1e-05, momentum=0.1, affine=True, track_running_stats=True)\n",
       "      (1): Dropout(p=0.2, inplace=False)\n",
       "      (2): Linear(in_features=1200, out_features=50, bias=True)\n",
       "      (3): ReLU(inplace=True)\n",
       "      (4): BatchNorm1d(50, eps=1e-05, momentum=0.1, affine=True, track_running_stats=True)\n",
       "      (5): Dropout(p=0.1, inplace=False)\n",
       "      (6): Linear(in_features=50, out_features=8, bias=True)\n",
       "    )\n",
       "  )\n",
       "), opt_func=functools.partial(<class 'torch.optim.adam.Adam'>, betas=(0.9, 0.99)), loss_func=FlattenedLoss of CrossEntropyLoss(), metrics=[<function accuracy at 0x7f9f14a662f0>, FBeta(average='macro', pos_label=1, eps=1e-09, beta=1)], true_wd=True, bn_wd=True, wd=0.01, train_bn=True, path=PosixPath('/home/kji/.fastai/data/solo_bscore_lm'), model_dir='models', callback_fns=[functools.partial(<class 'fastai.basic_train.Recorder'>, add_time=True, silent=False)], callbacks=[RNNTrainer\n",
       "learn: RNNLearner(data=TextClasDataBunch;\n",
       "\n",
       "Train: LabelList (28800 items)\n",
       "x: TextList\n",
       "xxbos 0 2 4 4 8 8 2 2 2 2 8 2 557056 671744 2138112 512 4096 16384 32768 16384 32768 131072 131074 2048 32768 32768 524288 262145 131074 2 2 524288 65536 131072 1073872896 32768 4096 8192 8192 4096 8192 3145728 524288 1073741824 xxunk 192 256 4194304 8388608 196 2 xxunk 524288 4 67108864 268435497 8 33554432 16 8 16 67108864 67108928 536870912 67108880 536870985 67108880 32 192 134217856 603979776 671088640 512 134217728 671088656 132352 268435488 1342177280 268435460 268435456 20 268435460 xxunk 4 268435460 262144 1073807360 xxunk 1073741824 1073741844 262144 1073872896 xxunk 139264 1073872896 1073741828 2097152 131072 262144 262144 262144 262144 524288 262144 524288 1024 65536 131072 65536 131072 131072 131072 131072 327680 131072 131072 262144 65536 32768 65536 2048 131072 16384 32768 16384 526336 xxunk 164 2048 67110912 xxunk 2048 131072 16779264 xxunk 2048 33556480 xxunk 2048 16779264 687865930 16779264 687865930 16779264 687865930 16779264 687865930 16779264 687865930 67108864 xxunk 128 4096 8192 20480 8192 32768 16384 8192 4096 128 131072 2048 8389120 343935049 2048 xxunk 8 2048 4194816 xxunk 2048 8390656 xxunk 2048 8389120 343935049 2048 xxunk 2048 8389120 343935049 2048 8390656 xxunk 2048 8389120 343935049 2048 8388608 xxunk 64 131072 1024 268435968 xxunk 2048 8704 2048 2048 8192 32768 8192 1 16384 1073750016 xxunk 8192 32768 1073774592 1073774592 163840 1073872896 268435456 131072 8192 16384 2048 8192 256 4096 10240 4096 512 536872960 xxunk 2048 8192 262145 xxunk 32 16 262144 524288 8 10 2120 131072 32 0 67108865 536870977 2 134217733 xxunk 8 134217730 xxunk 6 134217728 xxunk xxunk 536870993 24 16 134217736,xxbos 0 xxunk 167936 8 128 16384 128 2097152 8192 64 32768 16384 64 147456 24 134217728 xxunk 134217736 536870994 1024 1 xxunk 134217736 1073741906 10 1 12 8192 131072 0 8 8 3 67108864 268435488 xxunk 32768 3 xxunk 17 268439552 xxunk 5120 524288 192 268435456 xxunk 8 16 268435456 xxunk 48 8 64 192 128 192 32 32 192 1 xxunk 1342177408 268435456 2097152 2 2049 536870914 536870912 36864 2 536870917 2376 32768 6 1 4 4 4096 2 1 2 2 74 8 320 4096 40 128 8 32 24576 4096 4 8 4 1 4 8388616 1107296258 4 4 8388612 xxunk 8388616 268435624 8 1024 32 67109024 1342177300 32 8 67108880 xxunk 16 67108864 268435489 8192 67108868 xxunk 1 2 2 12 33554504 268435624 87040 33554432 524288 4194304 524288 256 256 524288 256 536870913 16 33088 524288 1073741824 xxunk 526336 1024 2097152 131072 xxunk 1375731712 131072 33685504 1375731712 131072 33685504 1375731712 67371008 335544321 131072 67371008 335544321 131072 262144 131072 262144 131072 262144 131072 33152 2097152 1024 32 67108896 xxunk 134217728 xxunk 8192 134234112 xxunk 2138112 1048576 1048576 1572864 1048576 2048 4194304 1048832 524448 1048768 2048 2048 2048 16777216 xxunk 16777216 150994964 2097152 xxunk 2097152 xxunk 33554432 xxunk 33554432 268435529 xxunk 33554432 xxunk 2 1048576 16 64 64 256 160 64 278528 2048 2048 8704 2048 4096 xxunk xxunk 524288 xxunk 512 32 128 64 268435584 xxunk 128 128 268435712 xxunk 8192 4 3 xxunk 4097 32769 xxunk 1 xxunk 2 32768 536870912 xxunk 32 32 134217760 1342177298 32 134217760 1207959570 128 67108992 xxunk,xxbos 0 268435456 268435456 134217728 0 134217728 268435456 536870912 536870912 536870912 134217728 268435456 134217728 67108864 33554432 67108864 536870912 536870912 67108864 16777216 33554432 67108864 33554432 134217728 33554432 16777216 8388608 33554432 67108864 268435456 536870912 1073741824 541065216 1073741824 268435456 67108864 268435456 536870912 268435456 134217728 67108864 134217728 16777216 33554432 67108864 16777216 1 4 2 16 4 16 301989888 33554432 72 150994944 150994944 5120 49408 16777216 8388608 67108864 16777216 67108864 134217728 16777216 67108864 16777216 33554432 67108864 134217728 18433 1073741824 536870912 2 1073741824 536870912 1073741824 536870912 134217728 536870912 134217728 33554432 67108864 33554432 33554432 134217728 33554432 134217728 16777216 8388608 16777216 67108864 33554432 134217728 67108864 33554432 67108864 33554432 8388608 33554432 16777216 33554432 67108864 67108864 268435456 33554432 67108864 16777216 16777216 33554432 16777216 67108864 16777216 536870912 134217728 1073741824 1 536870912 268435456 134217728 134217728 134217728 268435456 1073741824 268435456 1073741824 1 1 1073741824 268435456 1073741824 268435456 134217728 33554432 8388608 16777216 262144 262144 524288 655360 294912 131072 2576 41024 557056 262144 524288 65536 262144 524288 2097152 16777216 33554432 134217728 537001984 134217728 536870912 536870912 268435456 1073741824 1 268435456 67108864 33554432 67108864 33554432 33554432 67108864 16777216 33554432 67108864 33554432 67108864 16777216 8388608 4194816 2097152 1048576 1048576 524288 262144 524288 1048576 1048576 4194304 12582912 16777216 4194304 4194304 1048576 131072 131072 917504 163840 65536 81920 32768 81920 2066 1073745920 98304 16384 524288 65536 262144 8388608 2097152 16777216 41943040 33554432 67108864 16777216 67108864 16777216 16777216 16777216 4194304 8388608 16777216 33554432 33554432 16777216 67108864 33554432 16777216 33554432 16777216 16777216 786432 1 1073741824 16777216 33554432 8388608 16777216 8388608 33554432 33554432 16777216 33554432 33554432 67108864 16777216 8388608 33554432 33554432 16777216 4194304 8388608 4194304 1048576 524288 524288 65536 589824,xxbos 1 xxunk 5242880 8388608 1048576 524288 131072 65536 16384 4096 4096 2048 1024 1342177280 512 256 1024 2048 65536 524288 3145728 4194304 16777216 786432 131072 67108880 2560 262160 16 1310848 268435456 67108864 134217728 335544320 67108864 1441792 2 16384 134217728 134217728 33554432 8388608 33554432 67108864 33554432 8388608 134217728 67108864 33554432 139264 512 16777216 67108864 33554432 67108864 655360 256 4 32 32 4194304 1048576 4194304 16777216 32 16 128 327680 64 16 64 8388608 4194304 8388608 2097152 1048576 16777216 150994944 67108864 150994944 41943040 8 4 4194304 2097152 1048576 33554432 25165824 46137344 310378496 469762048 67108864 xxunk 8 1207959568 2 8388640 16 8 2048 0 139264 2048 0 0 37888 134217728 8388608 134217728 67108864 16777216 8388608 16777216 8388608 4194304 1048576 2097152 1048576 262144 65536 0 0 65536 32768 0 393216 65536 524288 1048576 0 8388608 4194304 1048576 2097152 0 4194304 4194304 1048576 524288 131072 589824 536870912 65536 589824 524288 262144 524288 1572864 2097152 8320 1048576 524288 131072 65536 327680 131072 16384 16384 65536 458752 106496 65536 2053 16384 32768 131072 1048576 10485760 16777216 1048576 0 xxunk 33554432 16777216 4194304 1048576 2097152 1048576 4096 8192 32768 2048 32768 12288 4096 4096 4096 32768 9 0 1 4 1 1 5 4 134217728 1073741824 1 100663296 33554432 41943040 16777216 10485760 4194304 1280 16384 524288 32768 32768 32768 32768 xxunk 8 524288 8388608 268435456 536870912 1073741824 1 1073741824 64 1 5120 81920 16384 8192 9216 1024 5120 1024 512 128 512 256 64 64 64 32 128 64 128 512 1024 2048 1024 512 128 576 128 128 4 16 13631488 2097152 301989888,xxbos 2 2 1114112 4 8 2 2 2 0 2 4 4 8 8 2 2 2 2 8 2 557056 671744 2138112 512 4096 16384 32768 16384 32768 131072 131074 2048 32768 32768 524288 262145 131074 2 2 524288 65536 131072 1073872896 32768 4096 8192 8192 4096 8192 3145728 524288 1073741824 xxunk 192 256 4194304 8388608 196 2 xxunk 524288 4 67108864 268435497 8 33554432 16 8 16 67108864 67108928 536870912 67108880 536870985 67108880 32 192 134217856 603979776 671088640 512 134217728 671088656 132352 268435488 1342177280 268435460 268435456 20 268435460 xxunk 4 268435460 262144 1073807360 xxunk 1073741824 1073741844 262144 1073872896 xxunk 139264 1073872896 1073741828 2097152 131072 262144 262144 262144 262144 524288 262144 524288 1024 65536 131072 65536 131072 131072 131072 131072 327680 131072 131072 262144 65536 32768 65536 2048 131072 16384 32768 16384 526336 xxunk 164 2048 67110912 xxunk 2048 131072 16779264 xxunk 2048 33556480 xxunk 2048 16779264 687865930 16779264 687865930 16779264 687865930 16779264 687865930 16779264 687865930 67108864 xxunk 128 4096 8192 20480 8192 32768 16384 8192 4096 128 131072 2048 8389120 343935049 2048 xxunk 8 2048 4194816 xxunk 2048 8390656 xxunk 2048 8389120 343935049 2048 xxunk 2048 8389120 343935049 2048 8390656 xxunk 2048 8389120 343935049 2048 8388608 xxunk 64 131072 1024 268435968 xxunk 2048 8704 2048 2048 8192 32768 8192 1 16384 1073750016 xxunk 8192 32768 1073774592 1073774592 163840 1073872896 268435456 131072 8192 16384 2048 8192 256 4096 10240 4096 512 536872960 xxunk 2048 8192 262145 xxunk 32 16 262144 524288 8 10 2120 131072 32 0 67108865 536870977 2 134217733 xxunk 8 134217730 xxunk\n",
       "y: CategoryList\n",
       "clarinet,clarinet,clarinet,clarinet,clarinet\n",
       "Path: /home/kji/.fastai/data/solo_bscore_lm;\n",
       "\n",
       "Valid: LabelList (28800 items)\n",
       "x: TextList\n",
       "xxbos 0 2 16 64 256 2048 16384 32768 262144 1048576 8388608 16777216 33554432 4194304 524288 131072 32768 1024 128 16 8 1 0 0 0 1 8 32 128 1024 4096 32768 65536 524288 4194304 16842752 4096 33554432 33554432 8388608 1048576 262144 32768 16384 2048 288 16 8 0 0 8 32 128 512 8192 65536 32768 262144 9437184 33554432 33554432 8388608 4194304 9437184 4194304 1048576 294912 16384 4096 2048 288 16 8 2 0 0 0 0 2 4 32 2304 4096 32768 1310720 12582912 8388608 524288 2113536 4096 131072 2097152 2097152 1048576 524288 262144 1048576 524288 262144 65536 16384 4096 2048 512 2048 4096 16384 2048 4096 16384 65536 262144 524288 1048576 2097152 2138112 4096 2097152 1048576 1048576 524288 131072 1048576 524288 131072 32768 16384 4096 1024 256 1024 4096 16384 1024 4096 16384 32768 131072 524288 524288 1048576 1048576 1048576 524288 262144 131072 524288 262144 131072 32768 8192 2048 1024 256 1024 2048 8192 1024 2048 8192 32768 131072 262144 524288 524288 2113536 4096 524288 1048576 524288 524288 262144 65536 524288 262144 65536 16384 16384 8192 2048 512 128 512 2048 8192 512 2048 8192 16384 65536 262144 262144 524288 524288 262144 262144 131072 32768 262144 131072 32768 16384 4096 1024 256 64 256 1024 4096 256 1024 4096 16384 32768 131072 262144 262144 2113536 4096 262144 262144 131072 65536 32768 131072 65536 32768 8192 2048 512 256 64 256 512 2048 256 512 2048 8192 32768 65536 131072 262144 262144 131072 131072 65536 16384 131072 65536 16384 8192 2048 512 512 256,xxbos 0 4 1 256 8 32 16 2048 32 128 64 128 256 2048 4096 2134016 32768 8192 1024 4096 2048 8192 128 512 256 2048 32 128 64 256 8 32 16 64 1 4 2 256 8 8 2048 16 128 64 128 256 2048 2183168 2097152 524288 65536 262144 131072 524288 8192 32768 16384 524288 65536 262144 131072 524288 8192 32768 16384 131072 2048 8192 4096 16384 512 2048 1024 131072 2048 8192 4096 16384 512 2048 2183168 1024 16384 256 2048 1024 4096 32 128 64 16384 256 2048 1024 4096 32 128 64 4096 32 256 64 1024 16 64 16 4096 32 256 64 1024 16 64 2117632 32 128 4 16 8 1024 16 64 16 128 2 16 4 1024 16 64 32 4096 64 256 128 16384 512 2048 1024 4096 64 256 128 16384 512 2048 2179072 4096 1024 16384 512 2048 1024 131072 2048 8192 8192 16384 512 2048 1024 131072 2048 8192 4096 524288 8192 32768 16384 65536 131072 262144 524288 4096 8192 32768 16384 65536 131072 262144 2183168 2097152 524288 655360 8192 32768 16384 131072 2048 8192 20480 256 2048 1024 4096 320 64 1024 16 64 16 64 4 16 4 1024 16 64 4128 64 256 16512 512 2048 132096 2048 4096 8192 16384 131072 2162688 524288 4194304 524288 262144 262144 1048576 262144 131072 131072 524288 131072 32768 65536 262144 65536 16384 32768 131072 32768 8192 16384 65536 16384 4096 4096 16384 4096 2048 2048 8192 2048 1024 2162688 524288 4194304,xxbos 0 79691776 1073742850 12582912 536871424 1024 512 65536 1024 46137344 xxunk 67109120 16777216 xxunk 16777472 65536 xxunk xxunk 2097408 18874370 512 256 512 4096 10240 8192 8192 4194304 2050 xxunk 537923584 8192 6144 8192 2048 4096 65536 4096 8192 32768 8192 8192 16384 32768 8192 16384 32768 8192 16384 32768 25167872 256 256 2048 16 16 16384 67584 256 256 67584 16 16 67584 256 256 67584 256 0 256 xxunk 2097152 2097152 2097152 1048576 1048576 524288 262144 262144 131072 131072 65536 65536 32768 16384 32768 32768 65536 65536 131072 262144 262144 524288 524288 1048576 1048576 139264 8454144 278528 2097152 1048576 1048576 524288 262144 262144 131072 131072 65536 65536 32768 16384 16384 16384 32768 32768 65536 65536 131072 262144 262144 524288 524288 1048576 2117632 1048576 1048576 524288 262144 262144 131072 131072 65536 65536 32768 16384 16384 8192 16384 16384 32768 32768 65536 65536 131072 262144 262144 524288 524288 36864 1048576 524288 262144 262144 131072 131072 65536 65536 32768 16384 16384 8192 8192 8192 16384 16384 32768 32768 65536 65536 131072 262144 262144 524288 2113536 4096 524288 262144 262144 131072 131072 65536 65536 32768 16384 16384 8192 8192 4096 4096 8192 16384 16384 32768 32768 65536 65536 131072 262144 262144 20480 262144 262144 131072 131072 65536 65536 32768 16384 16384 8192 8192 4096 2048 4096 4096 8192 16384 16384 32768 32768 65536 65536 131072 262144 81920 262144 131072 131072 65536 65536 32768 16384 16384 8192 8192 4096 2048 2048 2048 4096 4096 8192 16384 16384 32768 32768 65536 65536 131072 2117632 131072 131072 65536 65536 32768 16384,xxbos 1 0 1 4 544 5120 32768 262144 262144 32768 65536 16384 2048 256 128 16 2 16 128 256 2048 16384 65536 262144 268976128 16777216 16777216 4194304 524288 65536 8192 4096 32 4 0 4 32 512 1024 8192 65536 524288 262144 262144 32768 4096 16384 2048 256 32 16 2 1 2 16 128 1024 4096 32768 4229120 512 262144 262144 65536 16384 2048 256 128 16 4 0 2 16 128 258 256 16384 65536 262144 262144 65536 32768 16384 65536 32768 16384 2048 256 128 32 16 2 0 0 0 0 2 16 34 32 256 2048 8192 16384 16384 269025280 8192 268435456 67108864 4194304 524288 32768 4096 512 8 1 0 2 0 1 64 1024 4096 32768 524288 4194304 33554432 33554432 4194304 524288 32768 4096 1024 32 4 1 8 0 1 8 512 4096 4096 65536 524288 33701888 4096 33554432 4194304 262144 32768 4096 256 32 8 0 0 0 0 2 8 128 2048 32768 131072 4194304 4194304 262144 32768 4096 256 32 4 0 0 1 0 0 8 128 1024 32768 262144 2097152 xxunk 16384 536870912 33554432 4194304 262144 32768 4096 256 32 4 0 0 0 4 32 256 4096 32768 262144 4194304 33554432 33554432 4194304 262144 32768 1024 32 4 1 0 0 8 32 256 4096 32768 262144 4194304 33619968 4096 33554432 33554432 4194304 524288 65536 32768 4096 1024 64 16 2 0 0 0 0 1 8 32 128 1024 8192 32768 65536 524288 4194304 4194304 4194304 524288 1048576 32768 4096,xxbos 1 1 1 4 2 4 8 16 16 16 32 32 32 64 64 128 2134016 128 64 128 128 128 256 256 1024 2048 2048 2048 4096 4096 4096 8192 8192 16384 16384 16384 32768 32768 32768 65536 65536 65536 131072 262144 262144 262144 524288 524288 524288 1048576 1048576 4194304 303104 2097152 16384 16384 16384 8192 8192 8192 4096 2048 2048 2048 1024 1024 1024 256 256 256 128 128 64 256 256 256 256 512 512 1024 1024 2048 2048 2048 4096 4096 4096 8192 16384 2117632 16384 8192 8192 8192 4096 4096 2048 2048 2048 1024 1024 1024 256 256 256 128 64 64 64 64 64 128 128 128 256 256 256 1024 2048 2048 2048 4096 4096 4096 8192 8192 2117632 8192 8192 8192 4096 2048 2048 2048 1024 1024 1024 256 512 256 256 128 64 64 64 32 128 64 128 256 256 256 256 512 512 1024 1024 2048 2048 2048 4096 8192 8192 2134016 8192 4096 4096 2048 2048 2048 1024 1024 1024 512 512 512 256 128 64 128 32 32 64 64 32 128 128 64 128 128 128 256 256 256 1024 2048 2048 2048 4096 4096 2134016 4096 2048 2048 2048 1024 1024 1024 256 256 256 128 256 64 64 64 32 32 32 16 32 64 32 64 64 128 128 128 512 512 512 1024 1024 2048 2048 2048 2113536 4096 2048 2048 2048 1024 1024 512 1024 1024 512 256 256 64 64 64 64 32 32 8\n",
       "y: CategoryList\n",
       "flute,flute,flute,flute,flute\n",
       "Path: /home/kji/.fastai/data/solo_bscore_lm;\n",
       "\n",
       "Test: None, model=SequentialRNN(\n",
       "  (0): MultiBatchEncoder(\n",
       "    (module): AWD_LSTM(\n",
       "      (encoder): Embedding(4616, 400, padding_idx=1)\n",
       "      (encoder_dp): EmbeddingDropout(\n",
       "        (emb): Embedding(4616, 400, padding_idx=1)\n",
       "      )\n",
       "      (rnns): ModuleList(\n",
       "        (0): WeightDropout(\n",
       "          (module): LSTM(400, 1152, batch_first=True)\n",
       "        )\n",
       "        (1): WeightDropout(\n",
       "          (module): LSTM(1152, 1152, batch_first=True)\n",
       "        )\n",
       "        (2): WeightDropout(\n",
       "          (module): LSTM(1152, 400, batch_first=True)\n",
       "        )\n",
       "      )\n",
       "      (input_dp): RNNDropout()\n",
       "      (hidden_dps): ModuleList(\n",
       "        (0): RNNDropout()\n",
       "        (1): RNNDropout()\n",
       "        (2): RNNDropout()\n",
       "      )\n",
       "    )\n",
       "  )\n",
       "  (1): PoolingLinearClassifier(\n",
       "    (layers): Sequential(\n",
       "      (0): BatchNorm1d(1200, eps=1e-05, momentum=0.1, affine=True, track_running_stats=True)\n",
       "      (1): Dropout(p=0.2, inplace=False)\n",
       "      (2): Linear(in_features=1200, out_features=50, bias=True)\n",
       "      (3): ReLU(inplace=True)\n",
       "      (4): BatchNorm1d(50, eps=1e-05, momentum=0.1, affine=True, track_running_stats=True)\n",
       "      (5): Dropout(p=0.1, inplace=False)\n",
       "      (6): Linear(in_features=50, out_features=8, bias=True)\n",
       "    )\n",
       "  )\n",
       "), opt_func=functools.partial(<class 'torch.optim.adam.Adam'>, betas=(0.9, 0.99)), loss_func=FlattenedLoss of CrossEntropyLoss(), metrics=[<function accuracy at 0x7f9f14a662f0>, FBeta(average='macro', pos_label=1, eps=1e-09, beta=1)], true_wd=True, bn_wd=True, wd=0.01, train_bn=True, path=PosixPath('/home/kji/.fastai/data/solo_bscore_lm'), model_dir='models', callback_fns=[functools.partial(<class 'fastai.basic_train.Recorder'>, add_time=True, silent=False)], callbacks=[...], layer_groups=[Sequential(\n",
       "  (0): Embedding(4616, 400, padding_idx=1)\n",
       "  (1): EmbeddingDropout(\n",
       "    (emb): Embedding(4616, 400, padding_idx=1)\n",
       "  )\n",
       "), Sequential(\n",
       "  (0): WeightDropout(\n",
       "    (module): LSTM(400, 1152, batch_first=True)\n",
       "  )\n",
       "  (1): RNNDropout()\n",
       "), Sequential(\n",
       "  (0): WeightDropout(\n",
       "    (module): LSTM(1152, 1152, batch_first=True)\n",
       "  )\n",
       "  (1): RNNDropout()\n",
       "), Sequential(\n",
       "  (0): WeightDropout(\n",
       "    (module): LSTM(1152, 400, batch_first=True)\n",
       "  )\n",
       "  (1): RNNDropout()\n",
       "), Sequential(\n",
       "  (0): PoolingLinearClassifier(\n",
       "    (layers): Sequential(\n",
       "      (0): BatchNorm1d(1200, eps=1e-05, momentum=0.1, affine=True, track_running_stats=True)\n",
       "      (1): Dropout(p=0.2, inplace=False)\n",
       "      (2): Linear(in_features=1200, out_features=50, bias=True)\n",
       "      (3): ReLU(inplace=True)\n",
       "      (4): BatchNorm1d(50, eps=1e-05, momentum=0.1, affine=True, track_running_stats=True)\n",
       "      (5): Dropout(p=0.1, inplace=False)\n",
       "      (6): Linear(in_features=50, out_features=8, bias=True)\n",
       "    )\n",
       "  )\n",
       ")], add_time=True, silent=False)\n",
       "alpha: 2.0\n",
       "beta: 1.0], layer_groups=[Sequential(\n",
       "  (0): Embedding(4616, 400, padding_idx=1)\n",
       "  (1): EmbeddingDropout(\n",
       "    (emb): Embedding(4616, 400, padding_idx=1)\n",
       "  )\n",
       "), Sequential(\n",
       "  (0): WeightDropout(\n",
       "    (module): LSTM(400, 1152, batch_first=True)\n",
       "  )\n",
       "  (1): RNNDropout()\n",
       "), Sequential(\n",
       "  (0): WeightDropout(\n",
       "    (module): LSTM(1152, 1152, batch_first=True)\n",
       "  )\n",
       "  (1): RNNDropout()\n",
       "), Sequential(\n",
       "  (0): WeightDropout(\n",
       "    (module): LSTM(1152, 400, batch_first=True)\n",
       "  )\n",
       "  (1): RNNDropout()\n",
       "), Sequential(\n",
       "  (0): PoolingLinearClassifier(\n",
       "    (layers): Sequential(\n",
       "      (0): BatchNorm1d(1200, eps=1e-05, momentum=0.1, affine=True, track_running_stats=True)\n",
       "      (1): Dropout(p=0.2, inplace=False)\n",
       "      (2): Linear(in_features=1200, out_features=50, bias=True)\n",
       "      (3): ReLU(inplace=True)\n",
       "      (4): BatchNorm1d(50, eps=1e-05, momentum=0.1, affine=True, track_running_stats=True)\n",
       "      (5): Dropout(p=0.1, inplace=False)\n",
       "      (6): Linear(in_features=50, out_features=8, bias=True)\n",
       "    )\n",
       "  )\n",
       ")], add_time=True, silent=False)"
      ]
     },
     "execution_count": 50,
     "metadata": {},
     "output_type": "execute_result"
    }
   ],
   "source": [
    "learn_c.load('awdlstm_train-imslp_finetune-target_clas_256')"
   ]
  },
  {
   "cell_type": "markdown",
   "metadata": {},
   "source": [
    "### Evaluate Classifier"
   ]
  },
  {
   "cell_type": "markdown",
   "metadata": {},
   "source": [
    "Evaluate on the proxy task -- classifying fixed-length chunks of bootleg score features."
   ]
  },
  {
   "cell_type": "code",
   "execution_count": 24,
   "metadata": {},
   "outputs": [
    {
     "data": {
      "text/html": [],
      "text/plain": [
       "<IPython.core.display.HTML object>"
      ]
     },
     "metadata": {},
     "output_type": "display_data"
    },
    {
     "data": {
      "text/html": [],
      "text/plain": [
       "<IPython.core.display.HTML object>"
      ]
     },
     "metadata": {},
     "output_type": "display_data"
    }
   ],
   "source": [
    "data_clas_test = TextDataBunch.from_df(path, train_df, test_df, tokenizer=basicTokenizer,\n",
    "                                       vocab = data_target_lm.vocab, bs=bs, num_workers=1)"
   ]
  },
  {
   "cell_type": "code",
   "execution_count": 25,
   "metadata": {},
   "outputs": [
    {
     "data": {
      "text/html": [],
      "text/plain": [
       "<IPython.core.display.HTML object>"
      ]
     },
     "metadata": {},
     "output_type": "display_data"
    },
    {
     "data": {
      "text/plain": [
       "[1.3873215, tensor(0.4951), tensor(0.4963)]"
      ]
     },
     "execution_count": 25,
     "metadata": {},
     "output_type": "execute_result"
    }
   ],
   "source": [
    "learn_c.validate(data_clas_test.valid_dl)"
   ]
  },
  {
   "cell_type": "markdown",
   "metadata": {},
   "source": [
    "Evaluate on the original task -- classifying pages of sheet music.  We can evaluate our models in two ways:\n",
    "- applying the model to a variable length sequence\n",
    "- applying the model to multiple fixed-length windows and averaging the predictions\n",
    "\n",
    "First we evaluate the model on variable length inputs.  Report results with and without applying priors.\n"
   ]
  },
  {
   "cell_type": "code",
   "execution_count": 38,
   "metadata": {},
   "outputs": [],
   "source": [
    "train_fullpage_df = pd.read_csv(path/'train.fullpage.csv')\n",
    "valid_fullpage_df = pd.read_csv(path/'valid.fullpage.csv')\n",
    "test_fullpage_df = pd.read_csv(path/'test.fullpage.csv')"
   ]
  },
  {
   "cell_type": "code",
   "execution_count": 25,
   "metadata": {},
   "outputs": [
    {
     "data": {
      "text/html": [],
      "text/plain": [
       "<IPython.core.display.HTML object>"
      ]
     },
     "metadata": {},
     "output_type": "display_data"
    },
    {
     "data": {
      "text/html": [],
      "text/plain": [
       "<IPython.core.display.HTML object>"
      ]
     },
     "metadata": {},
     "output_type": "display_data"
    },
    {
     "data": {
      "text/html": [],
      "text/plain": [
       "<IPython.core.display.HTML object>"
      ]
     },
     "metadata": {},
     "output_type": "display_data"
    },
    {
     "data": {
      "text/html": [],
      "text/plain": [
       "<IPython.core.display.HTML object>"
      ]
     },
     "metadata": {},
     "output_type": "display_data"
    },
    {
     "data": {
      "text/plain": [
       "((0.46987950801849365, 0.4457831382751465),\n",
       " (0.46684442453687924, 0.4528893246848211))"
      ]
     },
     "execution_count": 25,
     "metadata": {},
     "output_type": "execute_result"
    }
   ],
   "source": [
    "(acc, acc_with_prior), (f1, f1_with_prior) = eval_models.calcAccuracy_fullpage(learn_c, path, train_fullpage_df, valid_fullpage_df, test_fullpage_df)\n",
    "(acc, acc_with_prior), (f1, f1_with_prior)"
   ]
  },
  {
   "cell_type": "markdown",
   "metadata": {},
   "source": [
    "Now we evaluate the model by considering multiple fixed-length windows and averaging the predictions."
   ]
  },
  {
   "cell_type": "code",
   "execution_count": 51,
   "metadata": {},
   "outputs": [],
   "source": [
    "test_ensemble_df = pd.read_csv(path/'test.ensemble256.csv')"
   ]
  },
  {
   "cell_type": "code",
   "execution_count": 52,
   "metadata": {},
   "outputs": [
    {
     "data": {
      "text/html": [],
      "text/plain": [
       "<IPython.core.display.HTML object>"
      ]
     },
     "metadata": {},
     "output_type": "display_data"
    },
    {
     "data": {
      "text/html": [],
      "text/plain": [
       "<IPython.core.display.HTML object>"
      ]
     },
     "metadata": {},
     "output_type": "display_data"
    },
    {
     "data": {
      "text/html": [],
      "text/plain": [
       "<IPython.core.display.HTML object>"
      ]
     },
     "metadata": {},
     "output_type": "display_data"
    },
    {
     "data": {
      "text/html": [],
      "text/plain": [
       "<IPython.core.display.HTML object>"
      ]
     },
     "metadata": {},
     "output_type": "display_data"
    },
    {
     "data": {
      "text/plain": [
       "((0.5692108869552612, 0.5866752862930298),\n",
       " (0.5499971270170205, 0.5563226331779004))"
      ]
     },
     "execution_count": 52,
     "metadata": {},
     "output_type": "execute_result"
    }
   ],
   "source": [
    "(acc, acc_with_prior), (f1, f1_with_prior) = eval_models.calcAccuracy_fullpage(learn_c, path, train_fullpage_df, valid_fullpage_df, test_ensemble_df, ensembled=True)\n",
    "(acc, acc_with_prior), (f1, f1_with_prior)"
   ]
  },
  {
   "cell_type": "markdown",
   "metadata": {},
   "source": [
    "### Error Analysis"
   ]
  },
  {
   "cell_type": "code",
   "execution_count": 26,
   "metadata": {},
   "outputs": [
    {
     "data": {
      "text/html": [],
      "text/plain": [
       "<IPython.core.display.HTML object>"
      ]
     },
     "metadata": {},
     "output_type": "display_data"
    }
   ],
   "source": [
    "interp = ClassificationInterpretation.from_learner(learn_c)"
   ]
  },
  {
   "cell_type": "code",
   "execution_count": 27,
   "metadata": {},
   "outputs": [
    {
     "data": {
      "image/png": "[encoded data removed]",
      "text/plain": [
       "<Figure size 864x864 with 1 Axes>"
      ]
     },
     "metadata": {
      "needs_background": "light"
     },
     "output_type": "display_data"
    }
   ],
   "source": [
    "interp.plot_confusion_matrix(figsize=(12,12))"
   ]
  },
  {
   "cell_type": "code",
   "execution_count": null,
   "metadata": {},
   "outputs": [],
   "source": []
  }
 ],
 "metadata": {
  "kernelspec": {
   "display_name": "Python 3",
   "language": "python",
   "name": "python3"
  },
  "language_info": {
   "codemirror_mode": {
    "name": "ipython",
    "version": 3
   },
   "file_extension": ".py",
   "mimetype": "text/x-python",
   "name": "python",
   "nbconvert_exporter": "python",
   "pygments_lexer": "ipython3",
   "version": "3.6.7"
  },
  "toc": {
   "base_numbering": 1,
   "nav_menu": {},
   "number_sections": false,
   "sideBar": true,
   "skip_h1_title": true,
   "title_cell": "Table of Contents",
   "title_sidebar": "Contents",
   "toc_cell": false,
   "toc_position": {},
   "toc_section_display": true,
   "toc_window_display": false
  }
 },
 "nbformat": 4,
 "nbformat_minor": 2
}
