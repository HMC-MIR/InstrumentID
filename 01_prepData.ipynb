{
 "cells": [
  {
   "cell_type": "markdown",
   "metadata": {},
   "source": [
    "# 1. Create bash script to copy instrument PDFs"
   ]
  },
  {
   "cell_type": "code",
   "execution_count": 34,
   "metadata": {},
   "outputs": [],
   "source": [
    "import os\n",
    "import glob\n",
    "from bs4 import BeautifulSoup\n",
    "import re\n",
    "import PyPDF2\n",
    "import shutil\n",
    "import random\n",
    "from collections import defaultdict\n",
    "from pathlib import Path\n",
    "import string"
   ]
  },
  {
   "cell_type": "code",
   "execution_count": 35,
   "metadata": {},
   "outputs": [],
   "source": [
    "def isValidPDF(infile):\n",
    "    isValid = True\n",
    "    try:\n",
    "        PyPDF2.PdfFileReader(open(infile, \"rb\"))\n",
    "    except:\n",
    "        isValid = False\n",
    "    return isValid"
   ]
  },
  {
   "cell_type": "code",
   "execution_count": 36,
   "metadata": {},
   "outputs": [],
   "source": [
    "def parsePdfInfo(string):\n",
    "    # an example pdf info string:\n",
    "    # '*#400812 - 22.72MB, 8 pp. - 0.0/10\\n\\n2\\n4\\n6\\n8\\n10\\n\\n (-) - V/V/V - 2151×⇩ - Piupianissimo'\n",
    "    string = string.replace('\\n','')\n",
    "    m = re.search('#(\\d+)\\s', string)\n",
    "    pdf_id = m.group(1)\n",
    "    m = re.search('-\\s(\\d+)×', string)\n",
    "    if m:\n",
    "        num_downloads = int(m.group(1))\n",
    "    else:\n",
    "        num_downloads = 0 # no downloads field\n",
    "    return pdf_id, num_downloads"
   ]
  },
  {
   "cell_type": "code",
   "execution_count": 37,
   "metadata": {},
   "outputs": [],
   "source": [
    "def parseHtml(html_file):\n",
    "    with open(html_file,'r') as f:\n",
    "        text = f.read()\n",
    "    soup = BeautifulSoup(text, 'html.parser')\n",
    "    return soup"
   ]
  },
  {
   "cell_type": "code",
   "execution_count": 38,
   "metadata": {},
   "outputs": [],
   "source": [
    "def extractScoreInfo(node):\n",
    "    \n",
    "    # read all table entries\n",
    "    d = defaultdict(str)\n",
    "    for row in node.find(\"table\").find(\"table\").findAll(\"tr\"):\n",
    "        row_header = row.find(\"th\").text.strip().lower()\n",
    "        row_field = row.find(\"td\").text.strip().lower()\n",
    "        d[row_header] = row_field\n",
    "#         print('{}|{}'.format(row_header, row_field))\n",
    "    \n",
    "    # extract relevant fields\n",
    "    publisherInfo = d['publisher. info.']\n",
    "    copyright = d['copyright']\n",
    "    \n",
    "    # check if valid\n",
    "    isPublicDomain = ('public domain' in copyright) and ('non-pd' not in copyright)\n",
    "    isCreativeCommons = 'creative commons' in copyright\n",
    "    isShareable = isPublicDomain or isCreativeCommons\n",
    "    isManuscript = 'manuscript' in publisherInfo\n",
    "    \n",
    "    return isShareable, isManuscript"
   ]
  },
  {
   "cell_type": "code",
   "execution_count": 47,
   "metadata": {},
   "outputs": [],
   "source": [
    "def is_solo_piece(soup, instruments):\n",
    "    try:\n",
    "        category_tags = soup.find(class_ = \"wp_header\").find(\"table\").findAll(\"span\", class_ = \"plainlinks\")\n",
    "    except:\n",
    "        return (False, \"\")\n",
    "    for tag in category_tags:\n",
    "        category = tag.text  # we want categories of the form \"For (instrument)\"\n",
    "        if category.startswith(\"For\"):\n",
    "            words = category.lower().split()\n",
    "            if len(words) == 2 and words[1] in instruments:\n",
    "                return (True, words[1])\n",
    "             # augment data with trumpet + piano, trumpet + orchestra data\n",
    "            if category in [\"For trumpet, piano\", \"For trumpet, orchestra\"]: \n",
    "                return (True, \"trumpet\")\n",
    "            if category == \"For oboe, orchestra\":\n",
    "                return (True, \"oboe\")\n",
    "    \n",
    "    return (False, \"\")"
   ]
  },
  {
   "cell_type": "code",
   "execution_count": 48,
   "metadata": {},
   "outputs": [],
   "source": [
    "def selectSinglePDF(html_file):\n",
    "    '''\n",
    "    Selects a single PDF file from an html metadata file.  First check if the piece category is one of the desired, categories, then\n",
    "    filter the list of pdfs to ensure that the piece has a suitable copyright and is not a manuscript,and finally,\n",
    "    within the remainining options select the most popular (i.e. most downloaded) score.  \n",
    "    \n",
    "    Returns the full path to the selected pdf file and the instrument. If no valid pdfs are found, returns None.\n",
    "    '''    # get pdf ids, number of downloads\n",
    "    soup = parseHtml(html_file)\n",
    "    is_solo, instrument = is_solo_piece(soup, instruments)\n",
    "    if not is_solo:\n",
    "        return \"\", \"\"\n",
    "    scores_list = soup.find_all(class_ = 'we')\n",
    "    if scores_list is None: # no scores\n",
    "        return \"\", \"\"\n",
    "    tuples = [] # populate with (pdf_id, num_downloads)\n",
    "    for i, child in enumerate(scores_list): # list of scores\n",
    "        try:\n",
    "            isShareable, isManuscript = extractScoreInfo(child) # copyright ok & not a manuscript\n",
    "        except: # incorrectly formatted entry -- skip\n",
    "            continue\n",
    "        for pdf_div_tag in child.find_all(\"div\", recursive=False): # may have multiple pdfs\n",
    "            try:\n",
    "                title = pdf_div_tag.find(\"span\", {\"title\": \"Download this file\"}).text.lower()\n",
    "            except:\n",
    "                continue\n",
    "            we_file_info2 = pdf_div_tag.find(class_='we_file_info2')\n",
    "            if we_file_info2 is not None: # sometimes there are div tags with additional information\n",
    "                pdf_id, num_downloads = parsePdfInfo(we_file_info2.text)\n",
    "                tuples.append((pdf_id, num_downloads, isShareable, not isManuscript))\n",
    "    # sort by downloads, verify that PDF can be read\n",
    "    valid_list = []\n",
    "    tuples.sort(key = lambda x: x[1], reverse = True)\n",
    "    piece_dir = html_file[:-9]\n",
    "    for (pdf_id, num_downloads, isPublicDomain, notManuscript) in tuples:\n",
    "        fullpath = '{}/{}.pdf'.format(piece_dir, pdf_id)\n",
    "        # make sure pieces are publicly available and are not manuscripts\n",
    "        # return the PDF with the most downloads\n",
    "        if isPublicDomain and notManuscript and isValidPDF(fullpath):\n",
    "            return fullpath, instrument.split()[0]    # make sure oboe/trumpet + others map to the correct instrument\n",
    "    return \"\", \"\""
   ]
  },
  {
   "cell_type": "code",
   "execution_count": 49,
   "metadata": {},
   "outputs": [],
   "source": [
    "instruments = [\"cello\", \"clarinet\", \"flute\", \"oboe\", \"trumpet\", \"viola\", \"violin\", \"guitar\"]"
   ]
  },
  {
   "cell_type": "code",
   "execution_count": 50,
   "metadata": {},
   "outputs": [],
   "source": [
    "outfile = '/home/kji/InstrumentID/copy_executed.sh'\n",
    "imslp_dir = Path('/data/Datasets/imslp/score_scrape/results/composer/')\n",
    "data_dir = '/home/kji/InstrumentID/data/all/'"
   ]
  },
  {
   "cell_type": "code",
   "execution_count": 24,
   "metadata": {},
   "outputs": [],
   "source": [
    "# imslp_dir = Path(\"/data/Datasets/imslp/score_scrape/results/composer/Rondeau,_Michel/Trumpet_Sonata_No.3_in_E_minor_\")"
   ]
  },
  {
   "cell_type": "code",
   "execution_count": null,
   "metadata": {},
   "outputs": [],
   "source": [
    "# if not os.path.exists(outfile):\n",
    "    with open(outfile, 'w') as f:\n",
    "        instrument_counts = defaultdict(int)\n",
    "        for file in imslp_dir.rglob(\"html.txt\"):\n",
    "            file = str(file)\n",
    "            orig_path, instrument = selectSinglePDF(file)\n",
    "            if orig_path != \"\":\n",
    "                instrument_counts[instrument] += 1\n",
    "                new_path = f\"{data_dir}{instrument}/{instrument}_{instrument_counts[instrument]}.pdf\"\n",
    "                f.write(f\"cp {orig_path} {new_path}\\n\")"
   ]
  },
  {
   "cell_type": "markdown",
   "metadata": {},
   "source": [
    "# 2. Execute the bash script to populate directories"
   ]
  },
  {
   "cell_type": "markdown",
   "metadata": {},
   "source": [
    "Execute the script ```copy_executed.sh``` using ```bash copy_executed.sh```."
   ]
  },
  {
   "cell_type": "code",
   "execution_count": null,
   "metadata": {},
   "outputs": [],
   "source": [
    "cp /data/Datasets/imslp/score_scrape/results/composer/La_Laurencie,_Lionel_de/L%27%C3%A9cole_fran%C3%A7aise_de_violon,_de_Lully_%C3%A0_Viotti_%C3%A9tudes_d%27histoire_et_d%27esth%C3%A9tique_/71976.pdf /home/kji/InstrumentID/data/all/violin/violin_90"
   ]
  },
  {
   "cell_type": "code",
   "execution_count": null,
   "metadata": {},
   "outputs": [],
   "source": [
    "/data/Datasets/imslp/score_scrape/results/composer/Zimmermann_(guitar_composer),_H./L%C3%A4ndler_/44206.pdf /home/kji/InstrumentID/data/all/guitar/guitar_529"
   ]
  },
  {
   "cell_type": "markdown",
   "metadata": {},
   "source": [
    "# 3. Randomly select 75 PDFs per instrument to be manually labeled"
   ]
  },
  {
   "cell_type": "code",
   "execution_count": 52,
   "metadata": {},
   "outputs": [],
   "source": [
    "dest_dir = '/home/kji/InstrumentID/data/labeled/'\n",
    "samples = 75\n",
    "random.seed(2)"
   ]
  },
  {
   "cell_type": "code",
   "execution_count": 68,
   "metadata": {},
   "outputs": [],
   "source": [
    "def random_instrument_sample(src_dir, dest_dir, num_samples):\n",
    "    filenames = random.sample(os.listdir(src_dir), num_samples)\n",
    "    filenames = os.listdir(dest_dir)\n",
    "    for name in filenames:\n",
    "        src_path = os.path.join(src_dir, name)\n",
    "        shutil.copy(src_path, dest_dir)"
   ]
  },
  {
   "cell_type": "code",
   "execution_count": 69,
   "metadata": {},
   "outputs": [
    {
     "name": "stdout",
     "output_type": "stream",
     "text": [
      "['cello_221.pdf', 'cello_218.pdf', 'cello_15.pdf', 'cello_24.pdf', 'cello_22.pdf', 'cello_93.pdf', 'cello_214.pdf', 'cello_44.pdf', 'cello_189.pdf', 'cello_208.pdf', 'cello_172.pdf', 'cello_79.pdf', 'cello_65.pdf', 'cello_156.pdf', 'cello_55.pdf', 'cello_213.pdf', 'cello_10.pdf', 'cello_149.pdf', 'cello_175.pdf', 'cello_41.pdf', 'cello_111.pdf', 'cello_164.pdf', 'cello_101.pdf', 'cello_186.pdf', 'cello_131.pdf', 'cello_96.pdf', 'cello_140.pdf', 'cello_114.pdf', 'cello_129.pdf', 'cello_69.pdf', 'cello_210.pdf', 'cello_8.pdf', 'cello_94.pdf', 'cello_120.pdf', 'cello_82.pdf', 'cello_98.pdf', 'cello_109.pdf', 'cello_135.pdf', 'cello_43.pdf', 'cello_144.pdf', 'cello_46.pdf', 'cello_61.pdf', 'cello_60.pdf', 'cello_7.pdf', 'cello_203.pdf', 'cello_84.pdf', 'cello_45.pdf', 'cello_35.pdf', 'cello_202.pdf', 'cello_178.pdf', 'cello_226.pdf', 'cello_132.pdf', 'cello_173.pdf', 'cello_187.pdf', 'cello_47.pdf', 'cello_115.pdf', 'cello_107.pdf', 'cello_225.pdf', 'cello_194.pdf', 'cello_152.pdf', 'cello_91.pdf', 'cello_176.pdf', 'cello_171.pdf', 'cello_42.pdf', 'cello_103.pdf', 'cello_119.pdf', 'cello_136.pdf', 'cello_64.pdf', 'cello_126.pdf', 'cello_72.pdf', 'cello_128.pdf', 'cello_198.pdf', 'cello_217.pdf', 'cello_166.pdf', 'cello_117.pdf']\n",
      "['clarinet_60.pdf', 'clarinet_45.pdf', 'clarinet_73.pdf', 'clarinet_72.pdf', 'clarinet_59.pdf', 'clarinet_63.pdf', 'clarinet_29.pdf', 'clarinet_42.pdf', 'clarinet_22.pdf', 'clarinet_35.pdf', 'clarinet_62.pdf', 'clarinet_40.pdf', 'clarinet_39.pdf', 'clarinet_66.pdf', 'clarinet_52.pdf', 'clarinet_46.pdf', 'clarinet_54.pdf', 'clarinet_33.pdf', 'clarinet_36.pdf', 'clarinet_34.pdf', 'clarinet_74.pdf', 'clarinet_69.pdf', 'clarinet_65.pdf', 'clarinet_38.pdf', 'clarinet_27.pdf', 'clarinet_20.pdf', 'clarinet_47.pdf', 'clarinet_14.pdf', 'clarinet_32.pdf', 'clarinet_56.pdf', 'clarinet_24.pdf', 'clarinet_44.pdf', 'clarinet_76.pdf', 'clarinet_5.pdf', 'clarinet_68.pdf', 'clarinet_1.pdf', 'clarinet_13.pdf', 'clarinet_7.pdf', 'clarinet_4.pdf', 'clarinet_37.pdf', 'clarinet_53.pdf', 'clarinet_18.pdf', 'clarinet_15.pdf', 'clarinet_64.pdf', 'clarinet_9.pdf', 'clarinet_28.pdf', 'clarinet_48.pdf', 'clarinet_8.pdf', 'clarinet_71.pdf', 'clarinet_50.pdf', 'clarinet_2.pdf', 'clarinet_49.pdf', 'clarinet_23.pdf', 'clarinet_26.pdf', 'clarinet_61.pdf', 'clarinet_12.pdf', 'clarinet_21.pdf', 'clarinet_6.pdf', 'clarinet_70.pdf', 'clarinet_41.pdf', 'clarinet_3.pdf', 'clarinet_55.pdf', 'clarinet_57.pdf', 'clarinet_17.pdf', 'clarinet_75.pdf', 'clarinet_51.pdf', 'clarinet_19.pdf', 'clarinet_43.pdf', 'clarinet_16.pdf', 'clarinet_31.pdf', 'clarinet_25.pdf', 'clarinet_10.pdf', 'clarinet_11.pdf', 'clarinet_30.pdf', 'clarinet_58.pdf']\n",
      "['flute_64.pdf', 'flute_39.pdf', 'flute_10.pdf', 'flute_2.pdf', 'flute_89.pdf', 'flute_158.pdf', 'flute_161.pdf', 'flute_29.pdf', 'flute_74.pdf', 'flute_87.pdf', 'flute_126.pdf', 'flute_8.pdf', 'flute_79.pdf', 'flute_115.pdf', 'flute_142.pdf', 'flute_155.pdf', 'flute_12.pdf', 'flute_68.pdf', 'flute_103.pdf', 'flute_160.pdf', 'flute_40.pdf', 'flute_122.pdf', 'flute_58.pdf', 'flute_24.pdf', 'flute_81.pdf', 'flute_27.pdf', 'flute_7.pdf', 'flute_178.pdf', 'flute_33.pdf', 'flute_133.pdf', 'flute_150.pdf', 'flute_101.pdf', 'flute_125.pdf', 'flute_132.pdf', 'flute_84.pdf', 'flute_37.pdf', 'flute_88.pdf', 'flute_67.pdf', 'flute_174.pdf', 'flute_108.pdf', 'flute_5.pdf', 'flute_143.pdf', 'flute_36.pdf', 'flute_15.pdf', 'flute_65.pdf', 'flute_9.pdf', 'flute_34.pdf', 'flute_42.pdf', 'flute_44.pdf', 'flute_25.pdf', 'flute_117.pdf', 'flute_60.pdf', 'flute_131.pdf', 'flute_146.pdf', 'flute_191.pdf', 'flute_140.pdf', 'flute_114.pdf', 'flute_19.pdf', 'flute_147.pdf', 'flute_21.pdf', 'flute_59.pdf', 'flute_93.pdf', 'flute_66.pdf', 'flute_109.pdf', 'flute_149.pdf', 'flute_153.pdf', 'flute_97.pdf', 'flute_1.pdf', 'flute_20.pdf', 'flute_151.pdf', 'flute_50.pdf', 'flute_53.pdf', 'flute_186.pdf', 'flute_148.pdf', 'flute_129.pdf']\n",
      "['oboe_12.pdf', 'oboe_31.pdf', 'oboe_14.pdf', 'oboe_13.pdf', 'oboe_3.pdf', 'oboe_24.pdf', 'oboe_30.pdf', 'oboe_79.pdf', 'oboe_28.pdf', 'oboe_4.pdf', 'oboe_67.pdf', 'oboe_60.pdf', 'oboe_59.pdf', 'oboe_40.pdf', 'oboe_49.pdf', 'oboe_73.pdf', 'oboe_27.pdf', 'oboe_56.pdf', 'oboe_66.pdf', 'oboe_33.pdf', 'oboe_2.pdf', 'oboe_38.pdf', 'oboe_70.pdf', 'oboe_72.pdf', 'oboe_57.pdf', 'oboe_65.pdf', 'oboe_34.pdf', 'oboe_69.pdf', 'oboe_81.pdf', 'oboe_7.pdf', 'oboe_43.pdf', 'oboe_80.pdf', 'oboe_76.pdf', 'oboe_61.pdf', 'oboe_55.pdf', 'oboe_8.pdf', 'oboe_68.pdf', 'oboe_71.pdf', 'oboe_19.pdf', 'oboe_44.pdf', 'oboe_20.pdf', 'oboe_48.pdf', 'oboe_64.pdf', 'oboe_52.pdf', 'oboe_54.pdf', 'oboe_41.pdf', 'oboe_78.pdf', 'oboe_45.pdf', 'oboe_29.pdf', 'oboe_58.pdf', 'oboe_74.pdf', 'oboe_21.pdf', 'oboe_16.pdf', 'oboe_15.pdf', 'oboe_37.pdf', 'oboe_51.pdf', 'oboe_36.pdf', 'oboe_77.pdf', 'oboe_1.pdf', 'oboe_10.pdf', 'oboe_23.pdf', 'oboe_53.pdf', 'oboe_22.pdf', 'oboe_42.pdf', 'oboe_46.pdf', 'oboe_62.pdf', 'oboe_32.pdf', 'oboe_47.pdf', 'oboe_26.pdf', 'oboe_6.pdf', 'oboe_39.pdf', 'oboe_17.pdf', 'oboe_18.pdf', 'oboe_25.pdf', 'oboe_63.pdf']\n",
      "['trumpet_16.pdf', 'trumpet_33.pdf', 'trumpet_84.pdf', 'trumpet_82.pdf', 'trumpet_11.pdf', 'trumpet_79.pdf', 'trumpet_43.pdf', 'trumpet_51.pdf', 'trumpet_28.pdf', 'trumpet_14.pdf', 'trumpet_4.pdf', 'trumpet_61.pdf', 'trumpet_6.pdf', 'trumpet_64.pdf', 'trumpet_38.pdf', 'trumpet_46.pdf', 'trumpet_59.pdf', 'trumpet_19.pdf', 'trumpet_48.pdf', 'trumpet_35.pdf', 'trumpet_62.pdf', 'trumpet_34.pdf', 'trumpet_56.pdf', 'trumpet_31.pdf', 'trumpet_47.pdf', 'trumpet_60.pdf', 'trumpet_52.pdf', 'trumpet_27.pdf', 'trumpet_32.pdf', 'trumpet_54.pdf', 'trumpet_44.pdf', 'trumpet_67.pdf', 'trumpet_26.pdf', 'trumpet_15.pdf', 'trumpet_80.pdf', 'trumpet_71.pdf', 'trumpet_39.pdf', 'trumpet_17.pdf', 'trumpet_36.pdf', 'trumpet_76.pdf', 'trumpet_55.pdf', 'trumpet_72.pdf', 'trumpet_70.pdf', 'trumpet_37.pdf', 'trumpet_7.pdf', 'trumpet_5.pdf', 'trumpet_23.pdf', 'trumpet_12.pdf', 'trumpet_65.pdf', 'trumpet_10.pdf', 'trumpet_57.pdf', 'trumpet_66.pdf', 'trumpet_78.pdf', 'trumpet_30.pdf', 'trumpet_29.pdf', 'trumpet_22.pdf', 'trumpet_58.pdf', 'trumpet_21.pdf', 'trumpet_2.pdf', 'trumpet_83.pdf', 'trumpet_69.pdf', 'trumpet_13.pdf', 'trumpet_8.pdf', 'trumpet_50.pdf', 'trumpet_77.pdf', 'trumpet_49.pdf', 'trumpet_68.pdf', 'trumpet_24.pdf', 'trumpet_74.pdf', 'trumpet_3.pdf', 'trumpet_9.pdf', 'trumpet_42.pdf', 'trumpet_40.pdf', 'trumpet_45.pdf', 'trumpet_53.pdf']\n",
      "['viola_67.pdf', 'viola_32.pdf', 'viola_66.pdf', 'viola_33.pdf', 'viola_22.pdf', 'viola_21.pdf', 'viola_60.pdf', 'viola_31.pdf', 'viola_52.pdf', 'viola_46.pdf', 'viola_19.pdf', 'viola_77.pdf', 'viola_57.pdf', 'viola_4.pdf', 'viola_50.pdf', 'viola_24.pdf', 'viola_51.pdf', 'viola_81.pdf', 'viola_7.pdf', 'viola_62.pdf', 'viola_18.pdf', 'viola_26.pdf', 'viola_17.pdf', 'viola_74.pdf', 'viola_47.pdf', 'viola_27.pdf', 'viola_72.pdf', 'viola_42.pdf', 'viola_76.pdf', 'viola_68.pdf', 'viola_36.pdf', 'viola_79.pdf', 'viola_71.pdf', 'viola_48.pdf', 'viola_43.pdf', 'viola_6.pdf', 'viola_59.pdf', 'viola_15.pdf', 'viola_35.pdf', 'viola_40.pdf', 'viola_13.pdf', 'viola_64.pdf', 'viola_25.pdf', 'viola_1.pdf', 'viola_78.pdf', 'viola_30.pdf', 'viola_34.pdf', 'viola_38.pdf', 'viola_12.pdf', 'viola_65.pdf', 'viola_2.pdf', 'viola_56.pdf', 'viola_55.pdf', 'viola_37.pdf', 'viola_54.pdf', 'viola_73.pdf', 'viola_20.pdf', 'viola_49.pdf', 'viola_53.pdf', 'viola_70.pdf', 'viola_82.pdf', 'viola_63.pdf', 'viola_41.pdf', 'viola_9.pdf', 'viola_28.pdf', 'viola_39.pdf', 'viola_16.pdf', 'viola_5.pdf', 'viola_44.pdf', 'viola_10.pdf', 'viola_11.pdf', 'viola_75.pdf', 'viola_8.pdf', 'viola_61.pdf', 'viola_58.pdf']\n",
      "['violin_179.pdf', 'violin_479.pdf', 'violin_211.pdf', 'violin_75.pdf', 'violin_359.pdf', 'violin_4.pdf', 'violin_498.pdf', 'violin_68.pdf', 'violin_497.pdf', 'violin_343.pdf', 'violin_471.pdf', 'violin_274.pdf', 'violin_515.pdf', 'violin_472.pdf', 'violin_29.pdf', 'violin_82.pdf', 'violin_356.pdf', 'violin_415.pdf', 'violin_262.pdf', 'violin_140.pdf', 'violin_56.pdf', 'violin_168.pdf', 'violin_512.pdf', 'violin_391.pdf', 'violin_476.pdf', 'violin_302.pdf', 'violin_161.pdf', 'violin_11.pdf', 'violin_290.pdf', 'violin_2.pdf', 'violin_376.pdf', 'violin_35.pdf', 'violin_392.pdf', 'violin_454.pdf', 'violin_316.pdf', 'violin_511.pdf', 'violin_138.pdf', 'violin_496.pdf', 'violin_310.pdf', 'violin_79.pdf', 'violin_265.pdf', 'violin_321.pdf', 'violin_312.pdf', 'violin_342.pdf', 'violin_320.pdf', 'violin_403.pdf', 'violin_97.pdf', 'violin_216.pdf', 'violin_401.pdf', 'violin_155.pdf', 'violin_517.pdf', 'violin_93.pdf', 'violin_42.pdf', 'violin_239.pdf', 'violin_469.pdf', 'violin_238.pdf', 'violin_285.pdf', 'violin_63.pdf', 'violin_116.pdf', 'violin_389.pdf', 'violin_374.pdf', 'violin_219.pdf', 'violin_327.pdf', 'violin_365.pdf', 'violin_80.pdf', 'violin_372.pdf', 'violin_172.pdf', 'violin_510.pdf', 'violin_453.pdf', 'violin_299.pdf', 'violin_473.pdf', 'violin_139.pdf', 'violin_222.pdf', 'violin_280.pdf', 'violin_335.pdf']\n"
     ]
    },
    {
     "name": "stdout",
     "output_type": "stream",
     "text": [
      "['guitar_326.pdf', 'guitar_204.pdf', 'guitar_488.pdf', 'guitar_961.pdf', 'guitar_389.pdf', 'guitar_1390.pdf', 'guitar_766.pdf', 'guitar_380.pdf', 'guitar_730.pdf', 'guitar_288.pdf', 'guitar_278.pdf', 'guitar_478.pdf', 'guitar_551.pdf', 'guitar_1128.pdf', 'guitar_1297.pdf', 'guitar_775.pdf', 'guitar_820.pdf', 'guitar_701.pdf', 'guitar_575.pdf', 'guitar_1475.pdf', 'guitar_1219.pdf', 'guitar_1030.pdf', 'guitar_1190.pdf', 'guitar_1414.pdf', 'guitar_1500.pdf', 'guitar_657.pdf', 'guitar_819.pdf', 'guitar_1462.pdf', 'guitar_1443.pdf', 'guitar_1295.pdf', 'guitar_1468.pdf', 'guitar_598.pdf', 'guitar_1090.pdf', 'guitar_1275.pdf', 'guitar_1305.pdf', 'guitar_1374.pdf', 'guitar_149.pdf', 'guitar_753.pdf', 'guitar_632.pdf', 'guitar_810.pdf', 'guitar_992.pdf', 'guitar_358.pdf', 'guitar_529.pdf', 'guitar_725.pdf', 'guitar_903.pdf', 'guitar_977.pdf', 'guitar_180.pdf', 'guitar_382.pdf', 'guitar_645.pdf', 'guitar_777.pdf', 'guitar_261.pdf', 'guitar_58.pdf', 'guitar_214.pdf', 'guitar_719.pdf', 'guitar_343.pdf', 'guitar_736.pdf', 'guitar_158.pdf', 'guitar_1335.pdf', 'guitar_894.pdf', 'guitar_18.pdf', 'guitar_1112.pdf', 'guitar_485.pdf', 'guitar_1218.pdf', 'guitar_799.pdf', 'guitar_1109.pdf', 'guitar_583.pdf', 'guitar_1307.pdf', 'guitar_309.pdf', 'guitar_737.pdf', 'guitar_648.pdf', 'guitar_414.pdf', 'guitar_1021.pdf', 'guitar_195.pdf', 'guitar_292.pdf', 'guitar_419.pdf']\n"
     ]
    }
   ],
   "source": [
    "for instrument in instruments:\n",
    "    src_dir = data_dir + instrument\n",
    "    dest = dest_dir + instrument\n",
    "    random_instrument_sample(src_dir, dest, samples)"
   ]
  },
  {
   "cell_type": "code",
   "execution_count": null,
   "metadata": {},
   "outputs": [],
   "source": []
  }
 ],
 "metadata": {
  "kernelspec": {
   "display_name": "Python 3",
   "language": "python",
   "name": "python3"
  },
  "language_info": {
   "codemirror_mode": {
    "name": "ipython",
    "version": 3
   },
   "file_extension": ".py",
   "mimetype": "text/x-python",
   "name": "python",
   "nbconvert_exporter": "python",
   "pygments_lexer": "ipython3",
   "version": "3.6.7"
  }
 },
 "nbformat": 4,
 "nbformat_minor": 4
}
