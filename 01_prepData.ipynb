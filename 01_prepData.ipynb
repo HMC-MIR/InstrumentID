{
 "cells": [
  {
   "cell_type": "markdown",
   "metadata": {},
   "source": [
    "# 1. Create bash script to copy instrument PDFs"
   ]
  },
  {
   "cell_type": "code",
   "execution_count": 9,
   "metadata": {},
   "outputs": [],
   "source": [
    "import os\n",
    "import glob\n",
    "from bs4 import BeautifulSoup\n",
    "import re\n",
    "import PyPDF2\n",
    "import shutil\n",
    "import random\n",
    "from collections import defaultdict\n",
    "from pathlib import Path\n",
    "import string"
   ]
  },
  {
   "cell_type": "code",
   "execution_count": 10,
   "metadata": {},
   "outputs": [],
   "source": [
    "def isValidPDF(infile):\n",
    "    isValid = True\n",
    "    try:\n",
    "        PyPDF2.PdfFileReader(open(infile, \"rb\"))\n",
    "    except:\n",
    "        isValid = False\n",
    "    return isValid"
   ]
  },
  {
   "cell_type": "code",
   "execution_count": 11,
   "metadata": {},
   "outputs": [],
   "source": [
    "def parsePdfInfo(string):\n",
    "    # an example pdf info string:\n",
    "    # '*#400812 - 22.72MB, 8 pp. - 0.0/10\\n\\n2\\n4\\n6\\n8\\n10\\n\\n (-) - V/V/V - 2151×⇩ - Piupianissimo'\n",
    "    string = string.replace('\\n','')\n",
    "    m = re.search('#(\\d+)\\s', string)\n",
    "    pdf_id = m.group(1)\n",
    "    m = re.search('-\\s(\\d+)×', string)\n",
    "    if m:\n",
    "        num_downloads = int(m.group(1))\n",
    "    else:\n",
    "        num_downloads = 0 # no downloads field\n",
    "    return pdf_id, num_downloads"
   ]
  },
  {
   "cell_type": "code",
   "execution_count": 12,
   "metadata": {},
   "outputs": [],
   "source": [
    "def parseHtml(html_file):\n",
    "    with open(html_file,'r') as f:\n",
    "        text = f.read()\n",
    "    soup = BeautifulSoup(text, 'html.parser')\n",
    "    return soup"
   ]
  },
  {
   "cell_type": "code",
   "execution_count": 13,
   "metadata": {},
   "outputs": [],
   "source": [
    "def extractScoreInfo(node):\n",
    "    \n",
    "    # read all table entries\n",
    "    d = defaultdict(str)\n",
    "    for row in node.find(\"table\").find(\"table\").findAll(\"tr\"):\n",
    "        row_header = row.find(\"th\").text.strip().lower()\n",
    "        row_field = row.find(\"td\").text.strip().lower()\n",
    "        d[row_header] = row_field\n",
    "#         print('{}|{}'.format(row_header, row_field))\n",
    "    \n",
    "    # extract relevant fields\n",
    "    publisherInfo = d['publisher. info.']\n",
    "    copyright = d['copyright']\n",
    "    \n",
    "    # check if valid\n",
    "    isPublicDomain = ('public domain' in copyright) and ('non-pd' not in copyright)\n",
    "    isCreativeCommons = 'creative commons' in copyright\n",
    "    isShareable = isPublicDomain or isCreativeCommons\n",
    "    isManuscript = 'manuscript' in publisherInfo\n",
    "    \n",
    "    return isShareable, isManuscript"
   ]
  },
  {
   "cell_type": "code",
   "execution_count": 27,
   "metadata": {},
   "outputs": [],
   "source": [
    "def is_solo_piece(soup, instruments):\n",
    "    try:\n",
    "        category_tags = soup.find(class_ = \"wp_header\").find(\"table\").findAll(\"span\", class_ = \"plainlinks\")\n",
    "    except:\n",
    "        return (False, \"\")\n",
    "    for tag in category_tags:\n",
    "        category = tag.text  # we want categories of the form \"For (instrument)\"\n",
    "        if category.startswith(\"For\"):\n",
    "            words = category.lower().split()\n",
    "            if len(words) == 2 and words[1] in instruments:\n",
    "                return (True, words[1])\n",
    "             # augment data with trumpet + piano, trumpet + orchestra data\n",
    "            if category in [\"For trumpet, piano\", \"For trumpet, orchestra\"]: \n",
    "                return (True, \"trumpet\")\n",
    "#             if category in [\"For oboe, piano\", \"For oboe, orchestra\"]:\n",
    "            if category == \"For oboe, orchestra\":\n",
    "                return (True, \"oboe\")\n",
    "    \n",
    "    return (False, \"\")"
   ]
  },
  {
   "cell_type": "code",
   "execution_count": 32,
   "metadata": {},
   "outputs": [],
   "source": [
    "# def selectSinglePDF(html_file):\n",
    "#     '''\n",
    "#     Selects a single PDF file from an html metadata file.  First check if the piece category is one of the desired, categories, then\n",
    "#     filter the list of pdfs to ensure that the piece has a suitable copyright and is not a manuscript,and finally,\n",
    "#     within the remainining options select the most popular (i.e. most downloaded) score.  \n",
    "    \n",
    "#     Returns the full path to the selected pdf file and the instrument. If no valid pdfs are found, returns None.\n",
    "#     '''    # get pdf ids, number of downloads\n",
    "#     soup = parseHtml(html_file)\n",
    "#     is_solo, instrument = is_solo_piece(soup, instruments)\n",
    "#     if not is_solo:\n",
    "#         return \"\", \"\"\n",
    "#     scores_list = soup.find_all(class_ = 'we')\n",
    "#     if scores_list is None: # no scores\n",
    "#         return \"\", \"\"\n",
    "#     tuples = [] # populate with (pdf_id, num_downloads)\n",
    "# #     return [score.find_all(\"table\", recursive=False) for score in scores_list]\n",
    "#     for i, child in enumerate(scores_list): # list of scores\n",
    "#         try:\n",
    "#             isShareable, isManuscript = extractScoreInfo(child) # copyright ok & not a manuscript\n",
    "#         except: # incorrectly formatted entry -- skip\n",
    "#             continue\n",
    "#         for pdf_div_tag in child.find_all(\"div\", recursive=False): # may have multiple pdfs\n",
    "#             try:\n",
    "#                 # only keep PDFs whose title is \"complete score\" or \"complete book\"\n",
    "#                 title = pdf_div_tag.find(\"span\", {\"title\": \"Download this file\"}).text.lower()\n",
    "#             except:\n",
    "#                 continue\n",
    "#             # for oboe + piano and oboe + orchestra, only select pieces with a solo PDF available\n",
    "#             if instrument == \"oboe\" and not (\"oboe\" in title or \"solo\" in title):\n",
    "#                 continue\n",
    "#             we_file_info2 = pdf_div_tag.find(class_='we_file_info2')\n",
    "#             if we_file_info2 is not None: # sometimes there are div tags with additional information\n",
    "#                 pdf_id, num_downloads = parsePdfInfo(we_file_info2.text)\n",
    "#                 tuples.append((pdf_id, num_downloads, isShareable, not isManuscript))\n",
    "#     # sort by downloads, verify that PDF can be read\n",
    "#     valid_list = []\n",
    "#     tuples.sort(key = lambda x: x[1], reverse = True)\n",
    "#     piece_dir = html_file[:-9]\n",
    "#     for (pdf_id, num_downloads, isPublicDomain, notManuscript) in tuples:\n",
    "#         fullpath = '{}/{}.pdf'.format(piece_dir, pdf_id)\n",
    "#         # make sure pieces are publicly available and are not manuscripts\n",
    "#         # return the PDF with the most downloads\n",
    "#         if isPublicDomain and notManuscript and isValidPDF(fullpath):\n",
    "#             return fullpath, instrument\n",
    "#     return \"\", \"\"\n",
    "\n",
    "def selectSinglePDF(html_file):\n",
    "    '''\n",
    "    Selects a single PDF file from an html metadata file.  First check if the piece category is one of the desired, categories, then\n",
    "    filter the list of pdfs to ensure that the piece has a suitable copyright and is not a manuscript,and finally,\n",
    "    within the remainining options select the most popular (i.e. most downloaded) score.  \n",
    "    \n",
    "    Returns the full path to the selected pdf file and the instrument. If no valid pdfs are found, returns None.\n",
    "    '''    # get pdf ids, number of downloads\n",
    "    soup = parseHtml(html_file)\n",
    "    is_solo, instrument = is_solo_piece(soup, instruments)\n",
    "    if not is_solo:\n",
    "        return \"\", \"\"\n",
    "    scores_list = soup.find_all(class_ = 'we')\n",
    "    if scores_list is None: # no scores\n",
    "        return \"\", \"\"\n",
    "    tuples = [] # populate with (pdf_id, num_downloads)\n",
    "#     return [score.find_all(\"table\", recursive=False) for score in scores_list]\n",
    "    for i, child in enumerate(scores_list): # list of scores\n",
    "        try:\n",
    "            isShareable, isManuscript = extractScoreInfo(child) # copyright ok & not a manuscript\n",
    "        except: # incorrectly formatted entry -- skip\n",
    "            continue\n",
    "        for pdf_div_tag in child.find_all(\"div\", recursive=False): # may have multiple pdfs\n",
    "            try:\n",
    "                title = pdf_div_tag.find(\"span\", {\"title\": \"Download this file\"}).text.lower()\n",
    "                if instrument == \"oboe + orchestra\" and not (\"oboe\" in title or \"solo\" in title or \"complete score\" in title):\n",
    "                    continue\n",
    "            except:\n",
    "                continue\n",
    "            # for oboe + piano and oboe + orchestra, only select pieces with a solo PDF available\n",
    "#             if instrument == \"oboe + orchestra\" and not (\"oboe\" in title or \"solo\" in title or \"complete score\" in title):\n",
    "#                  continue\n",
    "#             if (instrument == \"trumpet + other\" and not (\"trumpet\" in title or \"solo\" in title)):\n",
    "#                 continue\n",
    "            we_file_info2 = pdf_div_tag.find(class_='we_file_info2')\n",
    "            if we_file_info2 is not None: # sometimes there are div tags with additional information\n",
    "                pdf_id, num_downloads = parsePdfInfo(we_file_info2.text)\n",
    "                tuples.append((pdf_id, num_downloads, isShareable, not isManuscript))\n",
    "    # sort by downloads, verify that PDF can be read\n",
    "    valid_list = []\n",
    "    tuples.sort(key = lambda x: x[1], reverse = True)\n",
    "    piece_dir = html_file[:-9]\n",
    "    for (pdf_id, num_downloads, isPublicDomain, notManuscript) in tuples:\n",
    "        fullpath = '{}/{}.pdf'.format(piece_dir, pdf_id)\n",
    "        # make sure pieces are publicly available and are not manuscripts\n",
    "        # return the PDF with the most downloads\n",
    "        if isPublicDomain and notManuscript and isValidPDF(fullpath):\n",
    "            return fullpath, instrument.split()[0]    # make sure oboe/trumpet + others map to the correct instrument\n",
    "    return \"\", \"\""
   ]
  },
  {
   "cell_type": "code",
   "execution_count": 72,
   "metadata": {},
   "outputs": [],
   "source": [
    "instruments = [\"cello\", \"clarinet\", \"flute\", \"oboe\", \"trumpet\", \"viola\", \"violin\", \"guitar\"]"
   ]
  },
  {
   "cell_type": "code",
   "execution_count": 34,
   "metadata": {},
   "outputs": [],
   "source": [
    "outfile = '/home/kji/InstrumentID/copy_script.sh'\n",
    "imslp_dir = Path('/data/Datasets/imslp/score_scrape/results/composer/')\n",
    "data_dir = '/home/kji/InstrumentID/data/all/'"
   ]
  },
  {
   "cell_type": "code",
   "execution_count": 24,
   "metadata": {},
   "outputs": [],
   "source": [
    "imslp_dir = Path(\"/data/Datasets/imslp/score_scrape/results/composer/Rondeau,_Michel/Trumpet_Sonata_No.3_in_E_minor_\")"
   ]
  },
  {
   "cell_type": "code",
   "execution_count": 35,
   "metadata": {},
   "outputs": [],
   "source": [
    "# if not os.path.exists(outfile):\n",
    "    with open(outfile, 'w') as f:\n",
    "        instrument_counts = defaultdict(int)\n",
    "        for file in imslp_dir.rglob(\"html.txt\"):\n",
    "            file = str(file)\n",
    "            orig_path, instrument = selectSinglePDF(file)\n",
    "            if orig_path != \"\":\n",
    "                instrument_counts[instrument] += 1\n",
    "#                 print(instrument_counts)\n",
    "                new_path = f\"{data_dir}{instrument}/{instrument}_{instrument_counts[instrument]}\"\n",
    "                f.write(f\"cp {orig_path} {new_path}\\n\")"
   ]
  },
  {
   "cell_type": "markdown",
   "metadata": {},
   "source": [
    "# 2. Randomly select 75 PDFs per instrument to be manually labeled"
   ]
  },
  {
   "cell_type": "code",
   "execution_count": 69,
   "metadata": {},
   "outputs": [],
   "source": [
    "dest_dir = '/home/kji/InstrumentID/data/labeled/'\n",
    "samples = 75\n",
    "random.seed(2)"
   ]
  },
  {
   "cell_type": "code",
   "execution_count": 70,
   "metadata": {},
   "outputs": [],
   "source": [
    "def random_instrument_sample(src_dir, dest_dir, num_samples):\n",
    "    filenames = random.sample(os.listdir(src_dir), num_samples)\n",
    "    for name in filenames:\n",
    "        src_path = os.path.join(src_dir, name)\n",
    "        shutil.copy(src_path, dest_dir)"
   ]
  },
  {
   "cell_type": "code",
   "execution_count": 74,
   "metadata": {},
   "outputs": [],
   "source": [
    "for instrument in instruments:\n",
    "    src_dir = data_dir + instrument\n",
    "    dest = dest_dir + instrument\n",
    "    random_instrument_sample(src_dir, dest, samples)"
   ]
  },
  {
   "cell_type": "code",
   "execution_count": null,
   "metadata": {},
   "outputs": [],
   "source": []
  }
 ],
 "metadata": {
  "kernelspec": {
   "display_name": "Python 3",
   "language": "python",
   "name": "python3"
  },
  "language_info": {
   "codemirror_mode": {
    "name": "ipython",
    "version": 3
   },
   "file_extension": ".py",
   "mimetype": "text/x-python",
   "name": "python",
   "nbconvert_exporter": "python",
   "pygments_lexer": "ipython3",
   "version": "3.6.7"
  }
 },
 "nbformat": 4,
 "nbformat_minor": 4
}
