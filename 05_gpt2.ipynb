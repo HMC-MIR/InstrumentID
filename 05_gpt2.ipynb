{
 "cells": [
  {
   "cell_type": "markdown",
   "metadata": {},
   "source": [
    "# GPT-2 Classifier (no pretraining)"
   ]
  },
  {
   "cell_type": "markdown",
   "metadata": {},
   "source": [
    "In this notebook we will train a GPT-2 classifier from scratch for the proxy task.\n",
    "\n",
    "This notebook is adapted from [this](https://towardsdatascience.com/fastai-with-transformers-bert-roberta-xlnet-xlm-distilbert-4f41ee18ecb2) blog post."
   ]
  },
  {
   "cell_type": "code",
   "execution_count": 1,
   "metadata": {},
   "outputs": [],
   "source": [
    "%matplotlib inline\n",
    "%load_ext autoreload\n",
    "%autoreload 2"
   ]
  },
  {
   "cell_type": "code",
   "execution_count": 2,
   "metadata": {},
   "outputs": [
    {
     "name": "stderr",
     "output_type": "stream",
     "text": [
      "/home/dyang/anaconda3/envs/test_env/lib/python3.6/site-packages/tensorflow/python/framework/dtypes.py:523: FutureWarning: Passing (type, 1) or '1type' as a synonym of type is deprecated; in a future version of numpy, it will be understood as (type, (1,)) / '(1,)type'.\n",
      "  _np_qint8 = np.dtype([(\"qint8\", np.int8, 1)])\n",
      "/home/dyang/anaconda3/envs/test_env/lib/python3.6/site-packages/tensorflow/python/framework/dtypes.py:524: FutureWarning: Passing (type, 1) or '1type' as a synonym of type is deprecated; in a future version of numpy, it will be understood as (type, (1,)) / '(1,)type'.\n",
      "  _np_quint8 = np.dtype([(\"quint8\", np.uint8, 1)])\n",
      "/home/dyang/anaconda3/envs/test_env/lib/python3.6/site-packages/tensorflow/python/framework/dtypes.py:525: FutureWarning: Passing (type, 1) or '1type' as a synonym of type is deprecated; in a future version of numpy, it will be understood as (type, (1,)) / '(1,)type'.\n",
      "  _np_qint16 = np.dtype([(\"qint16\", np.int16, 1)])\n",
      "/home/dyang/anaconda3/envs/test_env/lib/python3.6/site-packages/tensorflow/python/framework/dtypes.py:526: FutureWarning: Passing (type, 1) or '1type' as a synonym of type is deprecated; in a future version of numpy, it will be understood as (type, (1,)) / '(1,)type'.\n",
      "  _np_quint16 = np.dtype([(\"quint16\", np.uint16, 1)])\n",
      "/home/dyang/anaconda3/envs/test_env/lib/python3.6/site-packages/tensorflow/python/framework/dtypes.py:527: FutureWarning: Passing (type, 1) or '1type' as a synonym of type is deprecated; in a future version of numpy, it will be understood as (type, (1,)) / '(1,)type'.\n",
      "  _np_qint32 = np.dtype([(\"qint32\", np.int32, 1)])\n",
      "/home/dyang/anaconda3/envs/test_env/lib/python3.6/site-packages/tensorflow/python/framework/dtypes.py:532: FutureWarning: Passing (type, 1) or '1type' as a synonym of type is deprecated; in a future version of numpy, it will be understood as (type, (1,)) / '(1,)type'.\n",
      "  np_resource = np.dtype([(\"resource\", np.ubyte, 1)])\n"
     ]
    }
   ],
   "source": [
    "from transformers import GPT2Model, GPT2DoubleHeadsModel, GPT2Config\n",
    "import eval_models\n",
    "from train_utils import *"
   ]
  },
  {
   "cell_type": "code",
   "execution_count": 3,
   "metadata": {},
   "outputs": [
    {
     "name": "stdout",
     "output_type": "stream",
     "text": [
      "fastai version : 1.0.61\n",
      "transformers version : 2.4.1\n",
      "tokenizers version : 0.4.2\n"
     ]
    }
   ],
   "source": [
    "import fastai\n",
    "import transformers\n",
    "import tokenizers\n",
    "print('fastai version :', fastai.__version__)\n",
    "print('transformers version :', transformers.__version__)\n",
    "print('tokenizers version :', tokenizers.__version__)"
   ]
  },
  {
   "cell_type": "code",
   "execution_count": 4,
   "metadata": {},
   "outputs": [],
   "source": [
    "torch.cuda.set_device(1)"
   ]
  },
  {
   "cell_type": "markdown",
   "metadata": {},
   "source": [
    "### Prep databunch"
   ]
  },
  {
   "cell_type": "code",
   "execution_count": 5,
   "metadata": {},
   "outputs": [],
   "source": [
    "bs = 32\n",
    "seed = 42\n",
    "tok_model_dir = '/home/dyang/InstrumentID/tokenizer/gpt2_tok/shift0''\n",
    "max_seq_len = 256"
   ]
  },
  {
   "cell_type": "code",
   "execution_count": 6,
   "metadata": {
    "scrolled": true
   },
   "outputs": [],
   "source": [
    "cust_tok = CustomTokenizer(TransformersBaseTokenizer, tok_model_dir, max_seq_len)\n",
    "transformer_base_tokenizer = TransformersBaseTokenizer(tok_model_dir, max_seq_len)\n",
    "transformer_vocab =  TransformersVocab(tokenizer = transformer_base_tokenizer._pretrained_tokenizer)"
   ]
  },
  {
   "cell_type": "code",
   "execution_count": 7,
   "metadata": {
    "scrolled": true
   },
   "outputs": [],
   "source": [
    "pad_idx = transformer_base_tokenizer._pretrained_tokenizer.token_to_id('<pad>')\n",
    "cls_idx = transformer_base_tokenizer._pretrained_tokenizer.token_to_id('</s>')\n",
    "cls_idx_other = transformer_base_tokenizer._pretrained_tokenizer.token_to_id('<s>')"
   ]
  },
  {
   "cell_type": "code",
   "execution_count": 8,
   "metadata": {},
   "outputs": [],
   "source": [
    "bpe_path = Path('/home/dyang/InstrumentID/train_data')\n",
    "train_df = pd.read_csv(bpe_path/'train_df-frag128.char.csv')\n",
    "valid_df = pd.read_csv(bpe_path/'valid_df-frag128.char.csv')\n",
    "test_df = pd.read_csv(bpe_path/'test_df-frag128.char.csv')"
   ]
  },
  {
   "cell_type": "code",
   "execution_count": 9,
   "metadata": {},
   "outputs": [
    {
     "data": {
      "text/plain": [
       "1151"
      ]
     },
     "execution_count": 9,
     "metadata": {},
     "output_type": "execute_result"
    }
   ],
   "source": [
    "len(valid_df.iloc[0]['Fragment'])"
   ]
  },
  {
   "cell_type": "code",
   "execution_count": 10,
   "metadata": {},
   "outputs": [
    {
     "data": {
      "text/html": [],
      "text/plain": [
       "<IPython.core.display.HTML object>"
      ]
     },
     "metadata": {},
     "output_type": "display_data"
    },
    {
     "data": {
      "text/html": [],
      "text/plain": [
       "<IPython.core.display.HTML object>"
      ]
     },
     "metadata": {},
     "output_type": "display_data"
    }
   ],
   "source": [
    "data_clas = TextDataBunch.from_df(bpe_path, train_df, valid_df, tokenizer=cust_tok, vocab=transformer_vocab,\n",
    "                                  include_bos=False, include_eos=False, pad_first=False, pad_idx=pad_idx, \n",
    "                                  bs=bs, num_workers=1)"
   ]
  },
  {
   "cell_type": "markdown",
   "metadata": {},
   "source": [
    "### Train Classifier"
   ]
  },
  {
   "cell_type": "code",
   "execution_count": 11,
   "metadata": {},
   "outputs": [],
   "source": [
    "model_class, config_class = GPT2Model, GPT2Config"
   ]
  },
  {
   "cell_type": "code",
   "execution_count": 12,
   "metadata": {},
   "outputs": [],
   "source": [
    "lang_model_path = \"/home/dyang/InstrumentID/config.json\" #/home/dyang/.fastai/data/bscore_lm/bpe_data/models/gpt2_train-target_lm'\n",
    "config = config_class.from_pretrained(lang_model_path)\n",
    "config.num_labels = data_clas.c"
   ]
  },
  {
   "cell_type": "code",
   "execution_count": 24,
   "metadata": {},
   "outputs": [],
   "source": [
    "lang_model_path = '/home/dyang/.fastai/data/bscore_lm/bpe_data/models/gpt2_train-target_lm'\n",
    "config = config_class.from_pretrained(lang_model_path)\n",
    "config.num_labels = data_clas.c"
   ]
  },
  {
   "cell_type": "code",
   "execution_count": 14,
   "metadata": {},
   "outputs": [],
   "source": [
    "transformer_model = model_class(config)\n",
    "gpt2_clas = GPT2Classifier(transformer_model, config, pad_idx, cls_idx)"
   ]
  },
  {
   "cell_type": "code",
   "execution_count": 15,
   "metadata": {},
   "outputs": [],
   "source": [
    "# learner.destroy()\n",
    "# torch.cuda.empty_cache()"
   ]
  },
  {
   "cell_type": "code",
   "execution_count": 25,
   "metadata": {},
   "outputs": [],
   "source": [
    "learner = Learner(data_clas, gpt2_clas, metrics=[accuracy, FBeta(average = 'macro', beta=1)])"
   ]
  },
  {
   "cell_type": "code",
   "execution_count": 17,
   "metadata": {
    "scrolled": true
   },
   "outputs": [
    {
     "data": {
      "text/plain": [
       "GPT2Classifier(\n",
       "  (transformer): GPT2Model(\n",
       "    (wte): Embedding(30000, 768)\n",
       "    (wpe): Embedding(514, 768)\n",
       "    (drop): Dropout(p=0.1, inplace=False)\n",
       "    (h): ModuleList(\n",
       "      (0): Block(\n",
       "        (ln_1): LayerNorm((768,), eps=1e-05, elementwise_affine=True)\n",
       "        (attn): Attention(\n",
       "          (c_attn): Conv1D()\n",
       "          (c_proj): Conv1D()\n",
       "          (attn_dropout): Dropout(p=0.1, inplace=False)\n",
       "          (resid_dropout): Dropout(p=0.1, inplace=False)\n",
       "        )\n",
       "        (ln_2): LayerNorm((768,), eps=1e-05, elementwise_affine=True)\n",
       "        (mlp): MLP(\n",
       "          (c_fc): Conv1D()\n",
       "          (c_proj): Conv1D()\n",
       "          (dropout): Dropout(p=0.1, inplace=False)\n",
       "        )\n",
       "      )\n",
       "      (1): Block(\n",
       "        (ln_1): LayerNorm((768,), eps=1e-05, elementwise_affine=True)\n",
       "        (attn): Attention(\n",
       "          (c_attn): Conv1D()\n",
       "          (c_proj): Conv1D()\n",
       "          (attn_dropout): Dropout(p=0.1, inplace=False)\n",
       "          (resid_dropout): Dropout(p=0.1, inplace=False)\n",
       "        )\n",
       "        (ln_2): LayerNorm((768,), eps=1e-05, elementwise_affine=True)\n",
       "        (mlp): MLP(\n",
       "          (c_fc): Conv1D()\n",
       "          (c_proj): Conv1D()\n",
       "          (dropout): Dropout(p=0.1, inplace=False)\n",
       "        )\n",
       "      )\n",
       "      (2): Block(\n",
       "        (ln_1): LayerNorm((768,), eps=1e-05, elementwise_affine=True)\n",
       "        (attn): Attention(\n",
       "          (c_attn): Conv1D()\n",
       "          (c_proj): Conv1D()\n",
       "          (attn_dropout): Dropout(p=0.1, inplace=False)\n",
       "          (resid_dropout): Dropout(p=0.1, inplace=False)\n",
       "        )\n",
       "        (ln_2): LayerNorm((768,), eps=1e-05, elementwise_affine=True)\n",
       "        (mlp): MLP(\n",
       "          (c_fc): Conv1D()\n",
       "          (c_proj): Conv1D()\n",
       "          (dropout): Dropout(p=0.1, inplace=False)\n",
       "        )\n",
       "      )\n",
       "      (3): Block(\n",
       "        (ln_1): LayerNorm((768,), eps=1e-05, elementwise_affine=True)\n",
       "        (attn): Attention(\n",
       "          (c_attn): Conv1D()\n",
       "          (c_proj): Conv1D()\n",
       "          (attn_dropout): Dropout(p=0.1, inplace=False)\n",
       "          (resid_dropout): Dropout(p=0.1, inplace=False)\n",
       "        )\n",
       "        (ln_2): LayerNorm((768,), eps=1e-05, elementwise_affine=True)\n",
       "        (mlp): MLP(\n",
       "          (c_fc): Conv1D()\n",
       "          (c_proj): Conv1D()\n",
       "          (dropout): Dropout(p=0.1, inplace=False)\n",
       "        )\n",
       "      )\n",
       "      (4): Block(\n",
       "        (ln_1): LayerNorm((768,), eps=1e-05, elementwise_affine=True)\n",
       "        (attn): Attention(\n",
       "          (c_attn): Conv1D()\n",
       "          (c_proj): Conv1D()\n",
       "          (attn_dropout): Dropout(p=0.1, inplace=False)\n",
       "          (resid_dropout): Dropout(p=0.1, inplace=False)\n",
       "        )\n",
       "        (ln_2): LayerNorm((768,), eps=1e-05, elementwise_affine=True)\n",
       "        (mlp): MLP(\n",
       "          (c_fc): Conv1D()\n",
       "          (c_proj): Conv1D()\n",
       "          (dropout): Dropout(p=0.1, inplace=False)\n",
       "        )\n",
       "      )\n",
       "      (5): Block(\n",
       "        (ln_1): LayerNorm((768,), eps=1e-05, elementwise_affine=True)\n",
       "        (attn): Attention(\n",
       "          (c_attn): Conv1D()\n",
       "          (c_proj): Conv1D()\n",
       "          (attn_dropout): Dropout(p=0.1, inplace=False)\n",
       "          (resid_dropout): Dropout(p=0.1, inplace=False)\n",
       "        )\n",
       "        (ln_2): LayerNorm((768,), eps=1e-05, elementwise_affine=True)\n",
       "        (mlp): MLP(\n",
       "          (c_fc): Conv1D()\n",
       "          (c_proj): Conv1D()\n",
       "          (dropout): Dropout(p=0.1, inplace=False)\n",
       "        )\n",
       "      )\n",
       "    )\n",
       "    (ln_f): LayerNorm((768,), eps=1e-05, elementwise_affine=True)\n",
       "  )\n",
       "  (head): SequenceSummary(\n",
       "    (summary): Linear(in_features=768, out_features=8, bias=True)\n",
       "    (activation): Identity()\n",
       "    (first_dropout): Dropout(p=0.1, inplace=False)\n",
       "    (last_dropout): Identity()\n",
       "  )\n",
       ")"
      ]
     },
     "execution_count": 17,
     "metadata": {},
     "output_type": "execute_result"
    }
   ],
   "source": [
    "learner.model"
   ]
  },
  {
   "cell_type": "code",
   "execution_count": 47,
   "metadata": {},
   "outputs": [
    {
     "data": {
      "text/plain": [
       "TextClasDataBunch;\n",
       "\n",
       "Train: LabelList (28800 items)\n",
       "x: TextList\n",
       "<s> 一丄一一一一一一</w> 一丂一一一一一一</w> 一丠一一一一一一</w> 一乀一一一一一一</w> 一乀一一一一一一</w> 一丁一一一一一一</w> 亀一一一一一一一</w> 一丂一一一一一一</w> 一亀一一一一一一</w> 一丐一一一一一一</w> 一丠一一一一一一</w> 一丈一一一一一一</w> 一丂一一一一一一</w> 一丁一一一一一一</w> 一丠一一一一一一</w> 一丂一一一一一一</w> 一丈一一一一一一</w> 一丐一一一一一一</w> 一丈一一一一一一</w> 一丄一一一一一一</w> 一丂一一一一一一</w> 一丐一一一一一一</w> 一丈丁一一一一一</w> 一亄一一一一一一</w> 一丠丄一一一一一</w> 一丐一一一一一一</w> 一丠一一一一一一</w> 一乀一一一一一一</w> 一亀一一一一一一</w> 一丈一一一一一一</w> 一丐一一一一一一</w> 一丠一一一一一一</w> 一丐一一一一一一</w> 一丄一一一一一一</w> 亀一一一一一一一</w> 一丂一一一一一一</w> 一丄一一一一一一</w> 一丈一一一一一一</w> 一乀一一一一一一</w> 一丠一一一一一一</w> 一亀一一一一一一</w> 一丈一一一一一一</w> 一丐一一一一一一</w> 一亀一一一一一一</w> 一乀一一一一一一</w> 一乀一一一一一一</w> 一乀一一一一一一</w> 一丈一一一一一一</w> 一丐一一一一一一</w> 一乀一一一一一一</w> 一丠一一一一一一</w> 一丂一一一一一一</w> 一丄一一一一一一</w> 一丈一一一一一一</w> 一丐一一一一一一</w> 一丠一一一一一一</w> 一丐一一一一一一</w> 一丈一一一一一一</w> 一丐一一一一一一</w> 一丠一一一一一一</w> 一丐一一一一一一</w> 一丈一一一一一一</w> 一丐一一一一一一</w> 一丠一一一一一一</w> 一丐一一一一一一</w> 一丈一一一一一一</w> 一丐一一一一一一</w> 一丠一一一一一一</w> 一丐一一一一一一</w> 一丈一一一一一一</w> 一丐一一一一一一</w> 一丠一一一一一一</w> 一丐一一一一一一</w> 一丈一一一一一一</w> 一丐一一一一一一</w> 一丠一一一一一一</w> 一丐一一一一一一</w> 一丈一一一一一一</w> 一丐一一一一一一</w> 一丠一一一一一一</w> 一丐一一一一一一</w> 一丈一一一一一一</w> 一丐一一一一一一</w> 一丠一一一一一一</w> 一丐一一一一一一</w> 一丠一一一一一一</w> 一乀一一一一一一</w> 一丠一一一一一一</w> 一丐一一一一一一</w> 一丈一一一一一一</w> 一乀一一一一一一</w> 一丠一一一一一一</w> 一丐一一一一一一</w> 一亀一一一一一一</w> 一乀一一一一一一</w> 一丠一一一一一一</w> 一一丄一一一一一</w> 一一丄一一一一一</w> 一一丄一一一一一</w> 一一丄一一一一一</w> 一一丄一一一一一</w> 一一丄一一一一一</w> 一一丄一一一一一</w> 一一丄一一一一一</w> 一一丄一一一一一</w> 一一丄一一一一一</w> 一一丄一一一一一</w> 一一丄一一一一一</w> 一一丄一一一一一</w> 一一丄一一一一一</w> 一一丄一一一一一</w> 一一丂一一一一一</w> 一一丄一一一一一</w> 一一丄一一一一一</w> 一一丂一一一一一</w> 一乄乄一一一一一</w> 一乄乄一一一一一</w> 一乄乄一一一一一</w> 一乄乄一一一一一</w> 一乄乄一一一一一</w> 一一乄一一一一一</w> 一一丢一一一一一</w> 一一乄一一一一一</w> 一乄一一一一一一</w> 一一乄一一一一一</w> 一一丢一一一一一</w> 一一乄一一一一一</w> 一乄一一一一一一</w> </s>,<s> 一亀一一一一一一</w> 一一丄一一一一一</w> 一一丐一一一一一</w> 一一丠一一一一一</w> 一一丐一一一一一</w> 一一丂一一一一一</w> 一一丈一一一一一</w> 一一丐一一一一一</w> 一一丈一一一一一</w> 一一丂一一一一一</w> 一亀一一一一一一</w> 一丐一一一一一一</w> 一丄一一一一一一</w> 一丈一一一一一一</w> 一丐一一一一一一</w> 一丠一一一一一一</w> 一乀一一一一一一</w> 一丐一一一一一一</w> 一乀一一一一一一</w> 一一丁一一一一一</w> 一一丐一一一一一</w> 一一乀一一一一一</w> 一一丁一一一一一</w> 一一丂一一一一一</w> 一一丄一一一一一</w> 一一丈一一一一一</w> 一一丄一一一一一</w> 一一丠一一一一一</w> 一一丐一一一一一</w> 一一丄一一一一一</w> 一一丁一一一一一</w> 一丠一一一一一一</w> 一丐一一一一一一</w> 一丠一一一一一一</w> 一一丁一一一一一</w> 一一丈一一一一一</w> 一一丄一一一一一</w> 一一丁一一一一一</w> 一乀一一一一一一</w> 一丈一一一一一一</w> 一丄一一一一一一</w> 一丈一一一一一一</w> 一丐一一一一一一</w> 一乀一一一一一一</w> 一丠一一一一一一</w> 一丈一一一一一一</w> 一丐一一一一一一</w> 一丠一一一一一一</w> 一乀一一一一一一</w> 一亀一一一一一一</w> 一丠一一一一一一</w> 一乀一一一一一一</w> 一亀一一一一一一</w> 一一丁一一一一一</w> 一一丂一一一一一</w> 一一丐一一一一一</w> 一一丈一一一一一</w> 一一丂一一一一一</w> 一亀一一一一一一</w> 一丐一一一一一一</w> 一丄一一一一一一</w> 一丈一一一一一一</w> 一乀一一一一一一</w> 一一丂一一一一一</w> 一一丁一一一一一</w> 一乀一一一一一一</w> 一丐一一一一一一</w> 一丂一一一一一一</w> 一丂一一一一一一</w> 一丄一一一一一一</w> 一丂一一一一一一</w> 一丁一一一一一一</w> 亀一一一一一一一</w> 亀一一一一一一一</w> 一丄一一一一一一</w> 一丐一一一一一一</w> 一乀一一一一一一</w> 一一丄一一一一一</w> 一亀一一一一一一</w> 一一丁一一一一一</w> 一一丁一一一一一</w> 一一丂一一一一一</w> 一一丁一一一一一</w> 一一丁一一一一一</w> 一亀一一一一一一</w> 一一丁一一一一一</w> 一一丂一一一一一</w> 一一丄一一一一一</w> 一一丂一一一一一</w> 一一丁一一一一一</w> 一丐一一一一一一</w> 一一丁一一一一一</w> 一亀一一一一一一</w> 一丠一一一一一一</w> 一丈一一一一一一</w> 一丐一一一一一一</w> 一丄一一一一一一</w> 一丈一一一一一一</w> 一丐一一一一一一</w> 一丠一一一一一一</w> 一乀一一一一一一</w> 一一丂一一一一一</w> 一一丁一一一一一</w> 一乀一一一一一一</w> 一丐一一一一一一</w> 一丂一一一一一一</w> 一丂一一一一一一</w> 一丈一一一一一一</w> 一丂一一一一一一</w> 一丁一一一一一一</w> 亀一一一一一一一</w> 亀一一一一一一一</w> 一丂一一一一一一</w> 一丐一一一一一一</w> 一乀一一一一一一</w> 一一丁一一一一一</w> 一一丂一一一一一</w> 一一丁一一一一一</w> 一丈一一一一一一</w> 一一丁一一一一一</w> 一亀一一一一一一</w> 一丠一一一一一一</w> 一丈一一一一一一</w> 一丁一一一一一一</w> 乀一一一一一一一</w> 一丁一一一一一一</w> 一丈一一一一一一</w> 一丠一一一一一一</w> </s>,<s> 一丠一一一一一一</w> 一乀一一一一一一</w> 一亀一一一一一一</w> 一丠一一一一一一</w> 一乀一一一一一一</w> 一亀一一一一一一</w> 一一丁一一一一一</w> 一一丂一一一一一</w> 一一丐一一一一一</w> 一一丈一一一一一</w> 一一丂一一一一一</w> 一亀一一一一一一</w> 一丐一一一一一一</w> 一丄一一一一一一</w> 一丈一一一一一一</w> 一乀一一一一一一</w> 一一丂一一一一一</w> 一一丁一一一一一</w> 一乀一一一一一一</w> 一丐一一一一一一</w> 一丂一一一一一一</w> 一丂一一一一一一</w> 一丄一一一一一一</w> 一丂一一一一一一</w> 一丁一一一一一一</w> 亀一一一一一一一</w> 亀一一一一一一一</w> 一丄一一一一一一</w> 一丐一一一一一一</w> 一乀一一一一一一</w> 一一丄一一一一一</w> 一亀一一一一一一</w> 一一丁一一一一一</w> 一一丁一一一一一</w> 一一丂一一一一一</w> 一一丁一一一一一</w> 一一丁一一一一一</w> 一亀一一一一一一</w> 一一丁一一一一一</w> 一一丂一一一一一</w> 一一丄一一一一一</w> 一一丂一一一一一</w> 一一丁一一一一一</w> 一丐一一一一一一</w> 一一丁一一一一一</w> 一亀一一一一一一</w> 一丠一一一一一一</w> 一丈一一一一一一</w> 一丐一一一一一一</w> 一丄一一一一一一</w> 一丈一一一一一一</w> 一丐一一一一一一</w> 一丠一一一一一一</w> 一乀一一一一一一</w> 一一丂一一一一一</w> 一一丁一一一一一</w> 一乀一一一一一一</w> 一丐一一一一一一</w> 一丂一一一一一一</w> 一丂一一一一一一</w> 一丈一一一一一一</w> 一丂一一一一一一</w> 一丁一一一一一一</w> 亀一一一一一一一</w> 亀一一一一一一一</w> 一丂一一一一一一</w> 一丐一一一一一一</w> 一乀一一一一一一</w> 一一丁一一一一一</w> 一一丂一一一一一</w> 一一丁一一一一一</w> 一丈一一一一一一</w> 一一丁一一一一一</w> 一亀一一一一一一</w> 一丠一一一一一一</w> 一丈一一一一一一</w> 一丁一一一一一一</w> 乀一一一一一一一</w> 一丁一一一一一一</w> 一丈一一一一一一</w> 一丠一一一一一一</w> 一丐一一一一一一</w> 一亀一一一一一一</w> 一乀一一一一一一</w> 一丠一一一一一一</w> 一丂一一一一一一</w> 一丄一一一一一一</w> 一丐一一一一一一</w> 一丠一一一一一一</w> 一亀一一一一一一</w> 一一丂一一一一一</w> 一一丁一一一一一</w> 一一丂一一一一一</w> 一一丁一一一一一</w> 一乀一一一一一一</w> 一丈一一一一一一</w> 一丂一一一一一一</w> 一丄一一一一一一</w> 一丐一一一一一一</w> 一丠一一一一一一</w> 一一丁一一一一一</w> 一丠一一一一一一</w> 一丈一一一一一一</w> 一丂一一一一一一</w> 一丐一一一一一一</w> 一丈一一一一一一</w> 一丐一一一一一一</w> 一丠一一一一一一</w> 一乀一一一一一一</w> 一亀一一一一一一</w> 一丂一一一一一一</w> 一丈一一一一一一</w> 一丠一一一一一一</w> 一乀一一一一一一</w> 一一丁一一一一一</w> 一乀一一一一一一</w> 一丐一一一一一一</w> 一丂一一一一一一</w> 一丁一一一一一一</w> 乀一一一一一一一</w> 一丂一一一一一一</w> 一丁一一一一一一</w> 一丄一一一一一一</w> 一丐一一一一一一</w> 一乀一一一一一一</w> 一亀一一一一一一</w> 一一丁一一一一一</w> 一亀一一一一一一</w> </s>,<s> 一丄一一一一一一</w> 一丐一一一一一一</w> 一乀一一一一一一</w> 一一丄一一一一一</w> 一亀一一一一一一</w> 一一丁一一一一一</w> 一一丁一一一一一</w> 一一丂一一一一一</w> 一一丁一一一一一</w> 一一丁一一一一一</w> 一亀一一一一一一</w> 一一丁一一一一一</w> 一一丂一一一一一</w> 一一丄一一一一一</w> 一一丂一一一一一</w> 一一丁一一一一一</w> 一丐一一一一一一</w> 一一丁一一一一一</w> 一亀一一一一一一</w> 一丠一一一一一一</w> 一丈一一一一一一</w> 一丐一一一一一一</w> 一丄一一一一一一</w> 一丈一一一一一一</w> 一丐一一一一一一</w> 一丠一一一一一一</w> 一乀一一一一一一</w> 一一丂一一一一一</w> 一一丁一一一一一</w> 一乀一一一一一一</w> 一丐一一一一一一</w> 一丂一一一一一一</w> 一丂一一一一一一</w> 一丈一一一一一一</w> 一丂一一一一一一</w> 一丁一一一一一一</w> 亀一一一一一一一</w> 亀一一一一一一一</w> 一丂一一一一一一</w> 一丐一一一一一一</w> 一乀一一一一一一</w> 一一丁一一一一一</w> 一一丂一一一一一</w> 一一丁一一一一一</w> 一丈一一一一一一</w> 一一丁一一一一一</w> 一亀一一一一一一</w> 一丠一一一一一一</w> 一丈一一一一一一</w> 一丁一一一一一一</w> 乀一一一一一一一</w> 一丁一一一一一一</w> 一丈一一一一一一</w> 一丠一一一一一一</w> 一丐一一一一一一</w> 一亀一一一一一一</w> 一乀一一一一一一</w> 一丠一一一一一一</w> 一丂一一一一一一</w> 一丄一一一一一一</w> 一丐一一一一一一</w> 一丠一一一一一一</w> 一亀一一一一一一</w> 一一丂一一一一一</w> 一一丁一一一一一</w> 一一丂一一一一一</w> 一一丁一一一一一</w> 一乀一一一一一一</w> 一丈一一一一一一</w> 一丂一一一一一一</w> 一丄一一一一一一</w> 一丐一一一一一一</w> 一丠一一一一一一</w> 一一丁一一一一一</w> 一丠一一一一一一</w> 一丈一一一一一一</w> 一丂一一一一一一</w> 一丐一一一一一一</w> 一丈一一一一一一</w> 一丐一一一一一一</w> 一丠一一一一一一</w> 一乀一一一一一一</w> 一亀一一一一一一</w> 一丂一一一一一一</w> 一丈一一一一一一</w> 一丠一一一一一一</w> 一乀一一一一一一</w> 一一丁一一一一一</w> 一乀一一一一一一</w> 一丐一一一一一一</w> 一丂一一一一一一</w> 一丁一一一一一一</w> 乀一一一一一一一</w> 一丂一一一一一一</w> 一丁一一一一一一</w> 一丄一一一一一一</w> 一丐一一一一一一</w> 一乀一一一一一一</w> 一亀一一一一一一</w> 一一丁一一一一一</w> 一亀一一一一一一</w> 一一丄一一一一一</w> 一一丁一一一一一</w> 一一丂一一一一一</w> 一一丄一一一一一</w> 一一丈一一一一一</w> 一一丐一一一一一</w> 一一丠一一一一一</w> 一一丐一一一一一</w> 一一丄一一一一一</w> 一一丁一一一一一</w> 一丠一一一一一一</w> 一乀一一一一一一</w> 一丠一一一一一一</w> 一丈一一一一一一</w> 一丂一一一一一一</w> 乀一一一一一一一</w> 一丁一一一一一一</w> 一丂一一一一一一</w> 一丄一一一一一一</w> 一丈一一一一一一</w> 一丐一一一一一一</w> 一丐一一一一一一</w> 一亀一一一一一一</w> 一一丂一一一一一</w> 一一丈一一一一一</w> 一一乀一一一一一</w> 一一丐一一一一一</w> </s>,<s> 一一丁一一一一一</w> 一亀一一一一一一</w> 一丠一一一一一一</w> 一丈一一一一一一</w> 一丁一一一一一一</w> 乀一一一一一一一</w> 一丁一一一一一一</w> 一丈一一一一一一</w> 一丠一一一一一一</w> 一丐一一一一一一</w> 一亀一一一一一一</w> 一乀一一一一一一</w> 一丠一一一一一一</w> 一丂一一一一一一</w> 一丄一一一一一一</w> 一丐一一一一一一</w> 一丠一一一一一一</w> 一亀一一一一一一</w> 一一丂一一一一一</w> 一一丁一一一一一</w> 一一丂一一一一一</w> 一一丁一一一一一</w> 一乀一一一一一一</w> 一丈一一一一一一</w> 一丂一一一一一一</w> 一丄一一一一一一</w> 一丐一一一一一一</w> 一丠一一一一一一</w> 一一丁一一一一一</w> 一丠一一一一一一</w> 一丈一一一一一一</w> 一丂一一一一一一</w> 一丐一一一一一一</w> 一丈一一一一一一</w> 一丐一一一一一一</w> 一丠一一一一一一</w> 一乀一一一一一一</w> 一亀一一一一一一</w> 一丂一一一一一一</w> 一丈一一一一一一</w> 一丠一一一一一一</w> 一乀一一一一一一</w> 一一丁一一一一一</w> 一乀一一一一一一</w> 一丐一一一一一一</w> 一丂一一一一一一</w> 一丁一一一一一一</w> 乀一一一一一一一</w> 一丂一一一一一一</w> 一丁一一一一一一</w> 一丄一一一一一一</w> 一丐一一一一一一</w> 一乀一一一一一一</w> 一亀一一一一一一</w> 一一丁一一一一一</w> 一亀一一一一一一</w> 一一丄一一一一一</w> 一一丁一一一一一</w> 一一丂一一一一一</w> 一一丄一一一一一</w> 一一丈一一一一一</w> 一一丐一一一一一</w> 一一丠一一一一一</w> 一一丐一一一一一</w> 一一丄一一一一一</w> 一一丁一一一一一</w> 一丠一一一一一一</w> 一乀一一一一一一</w> 一丠一一一一一一</w> 一丈一一一一一一</w> 一丂一一一一一一</w> 乀一一一一一一一</w> 一丁一一一一一一</w> 一丂一一一一一一</w> 一丄一一一一一一</w> 一丈一一一一一一</w> 一丐一一一一一一</w> 一丐一一一一一一</w> 一亀一一一一一一</w> 一一丂一一一一一</w> 一一丈一一一一一</w> 一一乀一一一一一</w> 一一丐一一一一一</w> 一一丈一一一一一</w> 一一丂一一一一一</w> 一亀一一一一一一</w> 一一丁一一一一一</w> 一丂一一一一一一</w> 一丈一一一一一一</w> 一丠一一一一一一</w> 一亀一一一一一一</w> 一一丁一一一一一</w> 一一丁一一一一一</w> 一一丂一一一一一</w> 一一丈一一一一一</w> 一一丠一一一一一</w> 一一丐一一一一一</w> 一一丄一一一一一</w> 一一丁一一一一一</w> 一丠一一一一一一</w> 一丈一一一一一一</w> 一丠一一一一一一</w> 一丐一一一一一一</w> 一丠一一一一一一</w> 一乀一一一一一一</w> 一亀一一一一一一</w> 一一丁一一一一一</w> 一一丄一一一一一</w> 一一丁一一一一一</w> 一乀一一一一一一</w> 一丈一一一一一一</w> 一丄一一一一一一</w> 一丈一一一一一一</w> 一丐一一一一一一</w> 一丠一一一一一一</w> 一乀一一一一一一</w> 一丠一一一一一一</w> 一丠一一一一一一</w> 一一丁一一一一一</w> 一一丄一一一一一</w> 一一丐一一一一一</w> 一一乀一一一一一</w> 一一丐一一一一一</w> 一一丄一一一一一</w> 一一丁一一一一一</w> 一亀一一一一一一</w> 一乀一一一一一一</w> 一一丄一一一一一</w> </s>\n",
       "y: CategoryList\n",
       "viola,viola,viola,viola,viola\n",
       "Path: /home/dyang/InstrumentID/train_data;\n",
       "\n",
       "Valid: LabelList (9600 items)\n",
       "x: TextList\n",
       "<s> 一丐一一一一一一</w> 一丈一一一一一一</w> 一丄一一一一一一</w> 一丂一一一一一一</w> 一丁一一一一一一</w> 一乀一一一一一一</w> 一亀一一一一一一</w> 一乀一一一一一一</w> 一丠一一一一一一</w> 一丐一一一一一一</w> 一丈一一一一一一</w> 一丄一一一一一一</w> 一丂一一一一一一</w> 一丁一一一一一一</w> 一丁一一一一一一</w> 亀一一一一一一一</w> 亀一一一一一一一</w> 乀一一一一一一一</w> 丠一一一一一一一</w> 丐一一一一一一一</w> 一乐一一一一一一</w> 一亀一一一一一一</w> 一一亀丁一一一一</w> 一一亀一一一一一</w> 一一丁一一一一一</w> 一亀一一一一一一</w> 一乀一一一一一一</w> 一亀丈一一一一一</w> 一乀一一一一一一</w> 一丠一一一一一一</w> 一乀一一一一一一</w> 一丐一一一一一一</w> 一丈一一一一一一</w> 一丄一一一一一一</w> 一丂一一一一一一</w> 一丄一一一一一一</w> 一丈一一一一一一</w> 一丈一一一一一一</w> 一丈一一一一一一</w> 一丐一一一一一一</w> 一丠一一一一一一</w> 一丠一一一一一一</w> 一乀一一一一一一</w> 一丂一一一一一一</w> 一乀一一一一一一</w> 一乀一一一一一一</w> 一亀一一一一一一</w> 一丄一一一一一一</w> 一亀一一一一一一</w> 一一丁一一一一一</w> 一一丂一一一一一</w> 一一丄一一一一一</w> 一一丁一一一一一</w> 一亀一一一一一一</w> 一乀一一一一一一</w> 一亀一一一一一一</w> 一乀一一一一一一</w> 一丠一一一一一一</w> 一乀一一一一一一</w> 一丐一一一一一一</w> 一丈一一一一一一</w> 一丈一一一一一一</w> 一乐一一一一一一</w> 一一丁一一一一一</w> 一亂一一一一一一</w> 一亄一一一一一一</w> 一丈一一一一一一</w> 一丈一一一一一一</w> 一丈一一一一一一</w> 一丐一一一一一一</w> 一丠一一一一一一</w> 一乀一一一一一一</w> 一丠丄一一一一一</w> 一丐一一一一一一</w> 一丐一一一一一一</w> 一丈一一一一一一</w> 一丐一一一一一一</w> 一丐丄一一一一一</w> 一丂丂一一一一一</w> 亀一一一一一一一</w> 亀一一一一一一一</w> 亀一一一一一一一</w> 一丁一一一一一一</w> 一丂一一一一一一</w> 一丂一一一一一一</w> 一丄一一一一一一</w> 亀一一一一一一一</w> 一丐一一一一一一</w> 一丐一一一一一一</w> 一丠一一一一一一</w> 一丂一一一一一一</w> 一亀一一一一一一</w> 一乀一一一一一一</w> 一一一丂一一一一</w> 一乀一一一一一一</w> 一乀一一一一一一</w> 一丠一一一一一一</w> 一丐一一一一一一</w> 一丈一一一一一一</w> 一丄一一一一一一</w> 一丄一一一一一一</w> 一丄一一一一一一</w> 一丄一一一一一一</w> 一丐一一一一一一</w> 一一丠一一一一一</w> 一一丁一一一一一</w> 一丄一一一一一一</w> 一丈一一一一一一</w> 一乀一一一一一一</w> 一乀一一一一一一</w> 一丐一一一一一一</w> 一丠一一一一一一</w> 一乀一一一一一一</w> 一亀一一一一一一</w> 一丠一一一一一一</w> 一丈一一一一一一</w> 一丈一一一一一一</w> 一丈一一一一一一</w> 一丈一一一一一一</w> 一丈一一一一一一</w> 一丈一一一一一一</w> 一丐一一一一一一</w> 一亀一一一一一一</w> 一亀一一一一一一</w> 一丠一一一一一一</w> 一乀一一一一一一</w> 一亀一一一一一一</w> 一一丁一一一一一</w> </s>,<s> 一丁一一一一一一</w> 一丁一一一一一一</w> 亀一一一一一一一</w> 亀一一一一一一一</w> 乀一一一一一一一</w> 丠一一一一一一一</w> 丐一一一一一一一</w> 一乐一一一一一一</w> 一亀一一一一一一</w> 一一亀丁一一一一</w> 一一亀一一一一一</w> 一一丁一一一一一</w> 一亀一一一一一一</w> 一乀一一一一一一</w> 一亀丈一一一一一</w> 一乀一一一一一一</w> 一丠一一一一一一</w> 一乀一一一一一一</w> 一丐一一一一一一</w> 一丈一一一一一一</w> 一丄一一一一一一</w> 一丂一一一一一一</w> 一丄一一一一一一</w> 一丈一一一一一一</w> 一丈一一一一一一</w> 一丈一一一一一一</w> 一丐一一一一一一</w> 一丠一一一一一一</w> 一丠一一一一一一</w> 一乀一一一一一一</w> 一丂一一一一一一</w> 一乀一一一一一一</w> 一乀一一一一一一</w> 一亀一一一一一一</w> 一丄一一一一一一</w> 一亀一一一一一一</w> 一一丁一一一一一</w> 一一丂一一一一一</w> 一一丄一一一一一</w> 一一丁一一一一一</w> 一亀一一一一一一</w> 一乀一一一一一一</w> 一亀一一一一一一</w> 一乀一一一一一一</w> 一丠一一一一一一</w> 一乀一一一一一一</w> 一丐一一一一一一</w> 一丈一一一一一一</w> 一丈一一一一一一</w> 一乐一一一一一一</w> 一一丁一一一一一</w> 一亂一一一一一一</w> 一亄一一一一一一</w> 一丈一一一一一一</w> 一丈一一一一一一</w> 一丈一一一一一一</w> 一丐一一一一一一</w> 一丠一一一一一一</w> 一乀一一一一一一</w> 一丠丄一一一一一</w> 一丐一一一一一一</w> 一丐一一一一一一</w> 一丈一一一一一一</w> 一丐一一一一一一</w> 一丐丄一一一一一</w> 一丂丂一一一一一</w> 亀一一一一一一一</w> 亀一一一一一一一</w> 亀一一一一一一一</w> 一丁一一一一一一</w> 一丂一一一一一一</w> 一丂一一一一一一</w> 一丄一一一一一一</w> 亀一一一一一一一</w> 一丐一一一一一一</w> 一丐一一一一一一</w> 一丠一一一一一一</w> 一丂一一一一一一</w> 一亀一一一一一一</w> 一乀一一一一一一</w> 一一一丂一一一一</w> 一乀一一一一一一</w> 一乀一一一一一一</w> 一丠一一一一一一</w> 一丐一一一一一一</w> 一丈一一一一一一</w> 一丄一一一一一一</w> 一丄一一一一一一</w> 一丄一一一一一一</w> 一丄一一一一一一</w> 一丐一一一一一一</w> 一一丠一一一一一</w> 一一丁一一一一一</w> 一丄一一一一一一</w> 一丈一一一一一一</w> 一乀一一一一一一</w> 一乀一一一一一一</w> 一丐一一一一一一</w> 一丠一一一一一一</w> 一乀一一一一一一</w> 一亀一一一一一一</w> 一丠一一一一一一</w> 一丈一一一一一一</w> 一丈一一一一一一</w> 一丈一一一一一一</w> 一丈一一一一一一</w> 一丈一一一一一一</w> 一丈一一一一一一</w> 一丐一一一一一一</w> 一亀一一一一一一</w> 一亀一一一一一一</w> 一丠一一一一一一</w> 一乀一一一一一一</w> 一亀一一一一一一</w> 一一丁一一一一一</w> 一乀一一一一一一</w> 一丈一一一一一一</w> 一丐一一一一一一</w> 一丁一一一一一一</w> 一丁一一一一一一</w> 一丁一一一一一一</w> 一丂一一一一一一</w> 一丄一一一一一一</w> 一丈一一一一一一</w> 一丄一一一一一一</w> 一丄一一一一一一</w> 一丈一一一一一一</w> 一丐一一一一一一</w> </s>,<s> 一一丁一一一一一</w> 一亀一一一一一一</w> 一乀一一一一一一</w> 一亀丈一一一一一</w> 一乀一一一一一一</w> 一丠一一一一一一</w> 一乀一一一一一一</w> 一丐一一一一一一</w> 一丈一一一一一一</w> 一丄一一一一一一</w> 一丂一一一一一一</w> 一丄一一一一一一</w> 一丈一一一一一一</w> 一丈一一一一一一</w> 一丈一一一一一一</w> 一丐一一一一一一</w> 一丠一一一一一一</w> 一丠一一一一一一</w> 一乀一一一一一一</w> 一丂一一一一一一</w> 一乀一一一一一一</w> 一乀一一一一一一</w> 一亀一一一一一一</w> 一丄一一一一一一</w> 一亀一一一一一一</w> 一一丁一一一一一</w> 一一丂一一一一一</w> 一一丄一一一一一</w> 一一丁一一一一一</w> 一亀一一一一一一</w> 一乀一一一一一一</w> 一亀一一一一一一</w> 一乀一一一一一一</w> 一丠一一一一一一</w> 一乀一一一一一一</w> 一丐一一一一一一</w> 一丈一一一一一一</w> 一丈一一一一一一</w> 一乐一一一一一一</w> 一一丁一一一一一</w> 一亂一一一一一一</w> 一亄一一一一一一</w> 一丈一一一一一一</w> 一丈一一一一一一</w> 一丈一一一一一一</w> 一丐一一一一一一</w> 一丠一一一一一一</w> 一乀一一一一一一</w> 一丠丄一一一一一</w> 一丐一一一一一一</w> 一丐一一一一一一</w> 一丈一一一一一一</w> 一丐一一一一一一</w> 一丐丄一一一一一</w> 一丂丂一一一一一</w> 亀一一一一一一一</w> 亀一一一一一一一</w> 亀一一一一一一一</w> 一丁一一一一一一</w> 一丂一一一一一一</w> 一丂一一一一一一</w> 一丄一一一一一一</w> 亀一一一一一一一</w> 一丐一一一一一一</w> 一丐一一一一一一</w> 一丠一一一一一一</w> 一丂一一一一一一</w> 一亀一一一一一一</w> 一乀一一一一一一</w> 一一一丂一一一一</w> 一乀一一一一一一</w> 一乀一一一一一一</w> 一丠一一一一一一</w> 一丐一一一一一一</w> 一丈一一一一一一</w> 一丄一一一一一一</w> 一丄一一一一一一</w> 一丄一一一一一一</w> 一丄一一一一一一</w> 一丐一一一一一一</w> 一一丠一一一一一</w> 一一丁一一一一一</w> 一丄一一一一一一</w> 一丈一一一一一一</w> 一乀一一一一一一</w> 一乀一一一一一一</w> 一丐一一一一一一</w> 一丠一一一一一一</w> 一乀一一一一一一</w> 一亀一一一一一一</w> 一丠一一一一一一</w> 一丈一一一一一一</w> 一丈一一一一一一</w> 一丈一一一一一一</w> 一丈一一一一一一</w> 一丈一一一一一一</w> 一丈一一一一一一</w> 一丐一一一一一一</w> 一亀一一一一一一</w> 一亀一一一一一一</w> 一丠一一一一一一</w> 一乀一一一一一一</w> 一亀一一一一一一</w> 一一丁一一一一一</w> 一乀一一一一一一</w> 一丈一一一一一一</w> 一丐一一一一一一</w> 一丁一一一一一一</w> 一丁一一一一一一</w> 一丁一一一一一一</w> 一丂一一一一一一</w> 一丄一一一一一一</w> 一丈一一一一一一</w> 一丄一一一一一一</w> 一丄一一一一一一</w> 一丈一一一一一一</w> 一丐一一一一一一</w> 一丠一一一一一一</w> 一丐一一一一一一</w> 一丐一一一一一一</w> 一丠一一一一一一</w> 一乀一一一一一一</w> 一亀一一一一一一</w> 一丠一一一一一一</w> 一丠一一一一一一</w> 一乀一一一一一一</w> 一亀一一一一一一</w> 一一丂一一一一一</w> </s>,<s> 一丁一一一一一一</w> 一丂一一一一一一</w> 一丄一一一一一一</w> 一丈一一一一一一</w> 一丄一一一一一一</w> 一丄一一一一一一</w> 一丈一一一一一一</w> 一丐一一一一一一</w> 一丠一一一一一一</w> 一丐一一一一一一</w> 一丐一一一一一一</w> 一丠一一一一一一</w> 一乀一一一一一一</w> 一亀一一一一一一</w> 一丠一一一一一一</w> 一丠一一一一一一</w> 一乀一一一一一一</w> 一亀一一一一一一</w> 一一丂一一一一一</w> 一一丁一一一一一</w> 一乀一一一一一一</w> 一丈一一一一一一</w> 一丐一一一一一一</w> 一丄一一一一一一</w> 一丄一一一一一一</w> 一丈一一一一一一</w> 一丂一一一一一一</w> 一丄一一一一一一</w> 一丂一一一一一一</w> 一丁一一一一一一</w> 一丄一一一一一一</w> 一丠一一一一一一</w> 一亀一一一一一一</w> 乀一一一一一一一</w> 乀一一一一一一一</w> 一丁一一一一一一</w> 一丈一一一一一一</w> 一丠一一一一一一</w> 丐一一一一一一一</w> 丐一一一一一一一</w> 乀一一一一一一一</w> 一丁一一一一一一</w> 一丂一一一一一一</w> 一丈一一一一一一</w> 一丠一一一一一一</w> 一亀一一一一一一</w> 一一丁一一一一一</w> 一一丄一一一一一</w> 一一丁一一一一一</w> 一一丂一一一一一</w> 一一丄一一一一一</w> 一乀一一一一一一</w> 一乀一一一一一一</w> 一一丁一一一一一</w> 一乀一一一一一一</w> 一亀一一一一一一</w> 一一丁一一一一一</w> 一丄一一一一一一</w> 一丈一一一一一一</w> 一乐一一一一一一</w> 一一丁一一一一一</w> 一丈一一一一一一</w> 一丐一一一一一一</w> 一丠一一一一一一</w> 一乀一一一一一一</w> 一丁一一一一一一</w> 一丂一一一一一一</w> 一丄一一一一一一</w> 一丈一一一一一一</w> 乀一一一一一一一</w> 亀一一一一一一一</w> 一丁一一一一一一</w> 一丂一一一一一一</w> 一丁一一一一一一</w> 一丂一一一一一一</w> 一丄一一一一一一</w> 一丈一一一一一一</w> 一丐一一一一一一</w> 一丄一一一一一一</w> 一丁一一一一一一</w> 一丂一一一一一一</w> 亀一一一一一一一</w> 一丁一一一一一一</w> 一丄一一一一一一</w> 一丐一一一一一一</w> 一乀一一一一一一</w> 一亀一一一一一一</w> 一一丂一一一一一</w> 一一丈一一一一一</w> 一丠一一一一一一</w> 一乀一一一一一一</w> 一一丄一一一一一</w> 一一丂一一一一一</w> 一一丠一一一一一</w> 一一丈一一一一一</w> 一一丂一一一一一</w> 一习一一一一一一</w> 一一丁一一一一一</w> 一丄一一一一一一</w> 一丈一一一一一一</w> 一丠一一一一一一</w> 一一丂一一一一一</w> 一一丄一一一一一</w> 一一丂一一一一一</w> 一一乀一一一一一</w> 一一丈一一一一一</w> 丐一丂一一一一一</w> 一乀一一一一一一</w> 一丠一一一一一一</w> 一丐一一一一一一</w> 一丐一一一一一一</w> 一丐一一一一一一</w> 一丐一一一一一一</w> 一丈一一一一一一</w> 一丄一一一一一一</w> 一丈一一一一一一</w> 一丐一一一一一一</w> 一丐一一一一一一</w> 一丈一一一一一一</w> 一一丁一一一一一</w> 一亀一一一一一一</w> 一乀一一一一一一</w> 一乀一一一一一一</w> 一丠一一一一一一</w> 一丠一一一一一一</w> 一丠一一一一一一</w> 一丠一一一一一一</w> 一丐一一一一一一</w> </s>,<s> 一丂一一一一一一</w> 一丁一一一一一一</w> 一丄一一一一一一</w> 一丠一一一一一一</w> 一亀一一一一一一</w> 乀一一一一一一一</w> 乀一一一一一一一</w> 一丁一一一一一一</w> 一丈一一一一一一</w> 一丠一一一一一一</w> 丐一一一一一一一</w> 丐一一一一一一一</w> 乀一一一一一一一</w> 一丁一一一一一一</w> 一丂一一一一一一</w> 一丈一一一一一一</w> 一丠一一一一一一</w> 一亀一一一一一一</w> 一一丁一一一一一</w> 一一丄一一一一一</w> 一一丁一一一一一</w> 一一丂一一一一一</w> 一一丄一一一一一</w> 一乀一一一一一一</w> 一乀一一一一一一</w> 一一丁一一一一一</w> 一乀一一一一一一</w> 一亀一一一一一一</w> 一一丁一一一一一</w> 一丄一一一一一一</w> 一丈一一一一一一</w> 一乐一一一一一一</w> 一一丁一一一一一</w> 一丈一一一一一一</w> 一丐一一一一一一</w> 一丠一一一一一一</w> 一乀一一一一一一</w> 一丁一一一一一一</w> 一丂一一一一一一</w> 一丄一一一一一一</w> 一丈一一一一一一</w> 乀一一一一一一一</w> 亀一一一一一一一</w> 一丁一一一一一一</w> 一丂一一一一一一</w> 一丁一一一一一一</w> 一丂一一一一一一</w> 一丄一一一一一一</w> 一丈一一一一一一</w> 一丐一一一一一一</w> 一丄一一一一一一</w> 一丁一一一一一一</w> 一丂一一一一一一</w> 亀一一一一一一一</w> 一丁一一一一一一</w> 一丄一一一一一一</w> 一丐一一一一一一</w> 一乀一一一一一一</w> 一亀一一一一一一</w> 一一丂一一一一一</w> 一一丈一一一一一</w> 一丠一一一一一一</w> 一乀一一一一一一</w> 一一丄一一一一一</w> 一一丂一一一一一</w> 一一丠一一一一一</w> 一一丈一一一一一</w> 一一丂一一一一一</w> 一习一一一一一一</w> 一一丁一一一一一</w> 一丄一一一一一一</w> 一丈一一一一一一</w> 一丠一一一一一一</w> 一一丂一一一一一</w> 一一丄一一一一一</w> 一一丂一一一一一</w> 一一乀一一一一一</w> 一一丈一一一一一</w> 丐一丂一一一一一</w> 一乀一一一一一一</w> 一丠一一一一一一</w> 一丐一一一一一一</w> 一丐一一一一一一</w> 一丐一一一一一一</w> 一丐一一一一一一</w> 一丈一一一一一一</w> 一丄一一一一一一</w> 一丈一一一一一一</w> 一丐一一一一一一</w> 一丐一一一一一一</w> 一丈一一一一一一</w> 一一丁一一一一一</w> 一亀一一一一一一</w> 一乀一一一一一一</w> 一乀一一一一一一</w> 一丠一一一一一一</w> 一丠一一一一一一</w> 一丠一一一一一一</w> 一丠一一一一一一</w> 一丐一一一一一一</w> 一丈一一一一一一</w> 一丐丄一一一一一</w> 一丠丄一一一一一</w> 一乐乀一一一一一</w> 一一丁一一一一一</w> 一亀一一一一一一</w> 一乀一一一一一一</w> 一一丂一一一一一</w> 一亀一一一一一一</w> 一一丂一一一一一</w> 一一丁一一一一一</w> 一亀一一一一一一</w> 一乀一一一一一一</w> 一丠一一一一一一</w> 一丐一一一一一一</w> 一丐一一一一一一</w> 一丄一一一一一一</w> 一丄一一一一一一</w> 一丄一一一一一一</w> 一丂一一一一一一</w> 一丄一一一一一一</w> 一丄一一一一一一</w> 一丄一一一一一一</w> 一丄一一一一一一</w> 一丄一一一一一一</w> 一丄一一一一一一</w> 一亁一一一一一一</w> 一乁一一一一一一</w> </s>\n",
       "y: CategoryList\n",
       "oboe,oboe,oboe,oboe,oboe\n",
       "Path: /home/dyang/InstrumentID/train_data;\n",
       "\n",
       "Test: None"
      ]
     },
     "execution_count": 47,
     "metadata": {},
     "output_type": "execute_result"
    }
   ],
   "source": [
    "learner.data"
   ]
  },
  {
   "cell_type": "code",
   "execution_count": 48,
   "metadata": {},
   "outputs": [],
   "source": [
    "list_layers = [learner.model.transformer.wte, \n",
    "               learner.model.transformer.wpe, \n",
    "               learner.model.transformer.h[0],\n",
    "               learner.model.transformer.h[1],\n",
    "               learner.model.transformer.h[2],\n",
    "               learner.model.transformer.h[3],\n",
    "               learner.model.transformer.h[4],\n",
    "               learner.model.transformer.h[5],\n",
    "               learner.model.transformer.ln_f]"
   ]
  },
  {
   "cell_type": "code",
   "execution_count": 49,
   "metadata": {
    "scrolled": true
   },
   "outputs": [
    {
     "name": "stdout",
     "output_type": "stream",
     "text": [
      "[Sequential(\n",
      "  (0): Embedding(30000, 768)\n",
      "), Sequential(\n",
      "  (0): Embedding(514, 768)\n",
      "  (1): Dropout(p=0.1, inplace=False)\n",
      "), Sequential(\n",
      "  (0): LayerNorm((768,), eps=1e-05, elementwise_affine=True)\n",
      "  (1): Conv1D()\n",
      "  (2): Conv1D()\n",
      "  (3): Dropout(p=0.1, inplace=False)\n",
      "  (4): Dropout(p=0.1, inplace=False)\n",
      "  (5): LayerNorm((768,), eps=1e-05, elementwise_affine=True)\n",
      "  (6): Conv1D()\n",
      "  (7): Conv1D()\n",
      "  (8): Dropout(p=0.1, inplace=False)\n",
      "), Sequential(\n",
      "  (0): LayerNorm((768,), eps=1e-05, elementwise_affine=True)\n",
      "  (1): Conv1D()\n",
      "  (2): Conv1D()\n",
      "  (3): Dropout(p=0.1, inplace=False)\n",
      "  (4): Dropout(p=0.1, inplace=False)\n",
      "  (5): LayerNorm((768,), eps=1e-05, elementwise_affine=True)\n",
      "  (6): Conv1D()\n",
      "  (7): Conv1D()\n",
      "  (8): Dropout(p=0.1, inplace=False)\n",
      "), Sequential(\n",
      "  (0): LayerNorm((768,), eps=1e-05, elementwise_affine=True)\n",
      "  (1): Conv1D()\n",
      "  (2): Conv1D()\n",
      "  (3): Dropout(p=0.1, inplace=False)\n",
      "  (4): Dropout(p=0.1, inplace=False)\n",
      "  (5): LayerNorm((768,), eps=1e-05, elementwise_affine=True)\n",
      "  (6): Conv1D()\n",
      "  (7): Conv1D()\n",
      "  (8): Dropout(p=0.1, inplace=False)\n",
      "), Sequential(\n",
      "  (0): LayerNorm((768,), eps=1e-05, elementwise_affine=True)\n",
      "  (1): Conv1D()\n",
      "  (2): Conv1D()\n",
      "  (3): Dropout(p=0.1, inplace=False)\n",
      "  (4): Dropout(p=0.1, inplace=False)\n",
      "  (5): LayerNorm((768,), eps=1e-05, elementwise_affine=True)\n",
      "  (6): Conv1D()\n",
      "  (7): Conv1D()\n",
      "  (8): Dropout(p=0.1, inplace=False)\n",
      "), Sequential(\n",
      "  (0): LayerNorm((768,), eps=1e-05, elementwise_affine=True)\n",
      "  (1): Conv1D()\n",
      "  (2): Conv1D()\n",
      "  (3): Dropout(p=0.1, inplace=False)\n",
      "  (4): Dropout(p=0.1, inplace=False)\n",
      "  (5): LayerNorm((768,), eps=1e-05, elementwise_affine=True)\n",
      "  (6): Conv1D()\n",
      "  (7): Conv1D()\n",
      "  (8): Dropout(p=0.1, inplace=False)\n",
      "), Sequential(\n",
      "  (0): LayerNorm((768,), eps=1e-05, elementwise_affine=True)\n",
      "  (1): Conv1D()\n",
      "  (2): Conv1D()\n",
      "  (3): Dropout(p=0.1, inplace=False)\n",
      "  (4): Dropout(p=0.1, inplace=False)\n",
      "  (5): LayerNorm((768,), eps=1e-05, elementwise_affine=True)\n",
      "  (6): Conv1D()\n",
      "  (7): Conv1D()\n",
      "  (8): Dropout(p=0.1, inplace=False)\n",
      "), Sequential(\n",
      "  (0): LayerNorm((768,), eps=1e-05, elementwise_affine=True)\n",
      "  (1): Linear(in_features=768, out_features=8, bias=True)\n",
      "  (2): Identity()\n",
      "  (3): Dropout(p=0.1, inplace=False)\n",
      "  (4): Identity()\n",
      ")]\n"
     ]
    }
   ],
   "source": [
    "learner.split(list_layers)\n",
    "print(learner.layer_groups)"
   ]
  },
  {
   "cell_type": "code",
   "execution_count": 50,
   "metadata": {},
   "outputs": [],
   "source": [
    "seed_all(seed)"
   ]
  },
  {
   "cell_type": "code",
   "execution_count": 51,
   "metadata": {},
   "outputs": [],
   "source": [
    "learner.unfreeze()"
   ]
  },
  {
   "cell_type": "code",
   "execution_count": 51,
   "metadata": {},
   "outputs": [
    {
     "data": {
      "text/html": [
       "\n",
       "    <div>\n",
       "        <style>\n",
       "            /* Turns off some styling */\n",
       "            progress {\n",
       "                /* gets rid of default border in Firefox and Opera. */\n",
       "                border: none;\n",
       "                /* Needs to be in here for Safari polyfill so background images work as expected. */\n",
       "                background-size: auto;\n",
       "            }\n",
       "            .progress-bar-interrupted, .progress-bar-interrupted::-webkit-progress-bar {\n",
       "                background: #F44336;\n",
       "            }\n",
       "        </style>\n",
       "      <progress value='0' class='' max='1' style='width:300px; height:20px; vertical-align: middle;'></progress>\n",
       "      0.00% [0/1 00:00<00:00]\n",
       "    </div>\n",
       "    \n",
       "<table border=\"1\" class=\"dataframe\">\n",
       "  <thead>\n",
       "    <tr style=\"text-align: left;\">\n",
       "      <th>epoch</th>\n",
       "      <th>train_loss</th>\n",
       "      <th>valid_loss</th>\n",
       "      <th>accuracy</th>\n",
       "      <th>f_beta</th>\n",
       "      <th>time</th>\n",
       "    </tr>\n",
       "  </thead>\n",
       "  <tbody>\n",
       "  </tbody>\n",
       "</table><p>\n",
       "\n",
       "    <div>\n",
       "        <style>\n",
       "            /* Turns off some styling */\n",
       "            progress {\n",
       "                /* gets rid of default border in Firefox and Opera. */\n",
       "                border: none;\n",
       "                /* Needs to be in here for Safari polyfill so background images work as expected. */\n",
       "                background-size: auto;\n",
       "            }\n",
       "            .progress-bar-interrupted, .progress-bar-interrupted::-webkit-progress-bar {\n",
       "                background: #F44336;\n",
       "            }\n",
       "        </style>\n",
       "      <progress value='86' class='' max='900' style='width:300px; height:20px; vertical-align: middle;'></progress>\n",
       "      9.56% [86/900 00:12<02:01 8.2682]\n",
       "    </div>\n",
       "    "
      ],
      "text/plain": [
       "<IPython.core.display.HTML object>"
      ]
     },
     "metadata": {},
     "output_type": "display_data"
    },
    {
     "name": "stdout",
     "output_type": "stream",
     "text": [
      "LR Finder is complete, type {learner_name}.recorder.plot() to see the graph.\n"
     ]
    }
   ],
   "source": [
    "learner.lr_find()"
   ]
  },
  {
   "cell_type": "code",
   "execution_count": 52,
   "metadata": {},
   "outputs": [
    {
     "name": "stdout",
     "output_type": "stream",
     "text": [
      "Min numerical gradient: 9.12E-07\n",
      "Min loss divided by 10: 1.91E-05\n"
     ]
    },
    {
     "data": {
      "image/png": "[encoded data removed]",
      "text/plain": [
       "<Figure size 432x288 with 1 Axes>"
      ]
     },
     "metadata": {
      "needs_background": "light"
     },
     "output_type": "display_data"
    }
   ],
   "source": [
    "learner.recorder.plot(suggestion=True)"
   ]
  },
  {
   "cell_type": "code",
   "execution_count": 26,
   "metadata": {},
   "outputs": [],
   "source": [
    "lr = 1e-5"
   ]
  },
  {
   "cell_type": "code",
   "execution_count": 27,
   "metadata": {
    "scrolled": true
   },
   "outputs": [
    {
     "data": {
      "text/html": [
       "\n",
       "    <div>\n",
       "        <style>\n",
       "            /* Turns off some styling */\n",
       "            progress {\n",
       "                /* gets rid of default border in Firefox and Opera. */\n",
       "                border: none;\n",
       "                /* Needs to be in here for Safari polyfill so background images work as expected. */\n",
       "                background-size: auto;\n",
       "            }\n",
       "            .progress-bar-interrupted, .progress-bar-interrupted::-webkit-progress-bar {\n",
       "                background: #F44336;\n",
       "            }\n",
       "        </style>\n",
       "      <progress value='2' class='' max='8' style='width:300px; height:20px; vertical-align: middle;'></progress>\n",
       "      25.00% [2/8 07:40<23:01]\n",
       "    </div>\n",
       "    \n",
       "<table border=\"1\" class=\"dataframe\">\n",
       "  <thead>\n",
       "    <tr style=\"text-align: left;\">\n",
       "      <th>epoch</th>\n",
       "      <th>train_loss</th>\n",
       "      <th>valid_loss</th>\n",
       "      <th>accuracy</th>\n",
       "      <th>f_beta</th>\n",
       "      <th>time</th>\n",
       "    </tr>\n",
       "  </thead>\n",
       "  <tbody>\n",
       "    <tr>\n",
       "      <td>0</td>\n",
       "      <td>0.479432</td>\n",
       "      <td>2.407869</td>\n",
       "      <td>0.446458</td>\n",
       "      <td>0.446747</td>\n",
       "      <td>03:49</td>\n",
       "    </tr>\n",
       "    <tr>\n",
       "      <td>1</td>\n",
       "      <td>0.462595</td>\n",
       "      <td>2.498089</td>\n",
       "      <td>0.453438</td>\n",
       "      <td>0.456494</td>\n",
       "      <td>03:50</td>\n",
       "    </tr>\n",
       "  </tbody>\n",
       "</table><p>\n",
       "\n",
       "    <div>\n",
       "        <style>\n",
       "            /* Turns off some styling */\n",
       "            progress {\n",
       "                /* gets rid of default border in Firefox and Opera. */\n",
       "                border: none;\n",
       "                /* Needs to be in here for Safari polyfill so background images work as expected. */\n",
       "                background-size: auto;\n",
       "            }\n",
       "            .progress-bar-interrupted, .progress-bar-interrupted::-webkit-progress-bar {\n",
       "                background: #F44336;\n",
       "            }\n",
       "        </style>\n",
       "      <progress value='5' class='' max='900' style='width:300px; height:20px; vertical-align: middle;'></progress>\n",
       "      0.56% [5/900 00:05<16:44 0.4484]\n",
       "    </div>\n",
       "    "
      ],
      "text/plain": [
       "<IPython.core.display.HTML object>"
      ]
     },
     "metadata": {},
     "output_type": "display_data"
    },
    {
     "ename": "KeyboardInterrupt",
     "evalue": "",
     "output_type": "error",
     "traceback": [
      "\u001b[0;31m---------------------------------------------------------------------------\u001b[0m",
      "\u001b[0;31mKeyboardInterrupt\u001b[0m                         Traceback (most recent call last)",
      "\u001b[0;32m<ipython-input-27-c1cf25133bff>\u001b[0m in \u001b[0;36m<module>\u001b[0;34m\u001b[0m\n\u001b[0;32m----> 1\u001b[0;31m \u001b[0mlearner\u001b[0m\u001b[0;34m.\u001b[0m\u001b[0mfit_one_cycle\u001b[0m\u001b[0;34m(\u001b[0m\u001b[0;36m8\u001b[0m\u001b[0;34m,\u001b[0m \u001b[0mlr\u001b[0m\u001b[0;34m,\u001b[0m \u001b[0mmoms\u001b[0m\u001b[0;34m=\u001b[0m\u001b[0;34m(\u001b[0m\u001b[0;36m0.8\u001b[0m\u001b[0;34m,\u001b[0m\u001b[0;36m0.7\u001b[0m\u001b[0;34m)\u001b[0m\u001b[0;34m)\u001b[0m\u001b[0;34m\u001b[0m\u001b[0;34m\u001b[0m\u001b[0m\n\u001b[0m",
      "\u001b[0;32m~/anaconda3/envs/test_env/lib/python3.6/site-packages/fastai/train.py\u001b[0m in \u001b[0;36mfit_one_cycle\u001b[0;34m(learn, cyc_len, max_lr, moms, div_factor, pct_start, final_div, wd, callbacks, tot_epochs, start_epoch)\u001b[0m\n\u001b[1;32m     21\u001b[0m     callbacks.append(OneCycleScheduler(learn, max_lr, moms=moms, div_factor=div_factor, pct_start=pct_start,\n\u001b[1;32m     22\u001b[0m                                        final_div=final_div, tot_epochs=tot_epochs, start_epoch=start_epoch))\n\u001b[0;32m---> 23\u001b[0;31m     \u001b[0mlearn\u001b[0m\u001b[0;34m.\u001b[0m\u001b[0mfit\u001b[0m\u001b[0;34m(\u001b[0m\u001b[0mcyc_len\u001b[0m\u001b[0;34m,\u001b[0m \u001b[0mmax_lr\u001b[0m\u001b[0;34m,\u001b[0m \u001b[0mwd\u001b[0m\u001b[0;34m=\u001b[0m\u001b[0mwd\u001b[0m\u001b[0;34m,\u001b[0m \u001b[0mcallbacks\u001b[0m\u001b[0;34m=\u001b[0m\u001b[0mcallbacks\u001b[0m\u001b[0;34m)\u001b[0m\u001b[0;34m\u001b[0m\u001b[0;34m\u001b[0m\u001b[0m\n\u001b[0m\u001b[1;32m     24\u001b[0m \u001b[0;34m\u001b[0m\u001b[0m\n\u001b[1;32m     25\u001b[0m def fit_fc(learn:Learner, tot_epochs:int=1, lr:float=defaults.lr,  moms:Tuple[float,float]=(0.95,0.85), start_pct:float=0.72,\n",
      "\u001b[0;32m~/anaconda3/envs/test_env/lib/python3.6/site-packages/fastai/basic_train.py\u001b[0m in \u001b[0;36mfit\u001b[0;34m(self, epochs, lr, wd, callbacks)\u001b[0m\n\u001b[1;32m    198\u001b[0m         \u001b[0;32melse\u001b[0m\u001b[0;34m:\u001b[0m \u001b[0mself\u001b[0m\u001b[0;34m.\u001b[0m\u001b[0mopt\u001b[0m\u001b[0;34m.\u001b[0m\u001b[0mlr\u001b[0m\u001b[0;34m,\u001b[0m\u001b[0mself\u001b[0m\u001b[0;34m.\u001b[0m\u001b[0mopt\u001b[0m\u001b[0;34m.\u001b[0m\u001b[0mwd\u001b[0m \u001b[0;34m=\u001b[0m \u001b[0mlr\u001b[0m\u001b[0;34m,\u001b[0m\u001b[0mwd\u001b[0m\u001b[0;34m\u001b[0m\u001b[0;34m\u001b[0m\u001b[0m\n\u001b[1;32m    199\u001b[0m         \u001b[0mcallbacks\u001b[0m \u001b[0;34m=\u001b[0m \u001b[0;34m[\u001b[0m\u001b[0mcb\u001b[0m\u001b[0;34m(\u001b[0m\u001b[0mself\u001b[0m\u001b[0;34m)\u001b[0m \u001b[0;32mfor\u001b[0m \u001b[0mcb\u001b[0m \u001b[0;32min\u001b[0m \u001b[0mself\u001b[0m\u001b[0;34m.\u001b[0m\u001b[0mcallback_fns\u001b[0m \u001b[0;34m+\u001b[0m \u001b[0mlistify\u001b[0m\u001b[0;34m(\u001b[0m\u001b[0mdefaults\u001b[0m\u001b[0;34m.\u001b[0m\u001b[0mextra_callback_fns\u001b[0m\u001b[0;34m)\u001b[0m\u001b[0;34m]\u001b[0m \u001b[0;34m+\u001b[0m \u001b[0mlistify\u001b[0m\u001b[0;34m(\u001b[0m\u001b[0mcallbacks\u001b[0m\u001b[0;34m)\u001b[0m\u001b[0;34m\u001b[0m\u001b[0;34m\u001b[0m\u001b[0m\n\u001b[0;32m--> 200\u001b[0;31m         \u001b[0mfit\u001b[0m\u001b[0;34m(\u001b[0m\u001b[0mepochs\u001b[0m\u001b[0;34m,\u001b[0m \u001b[0mself\u001b[0m\u001b[0;34m,\u001b[0m \u001b[0mmetrics\u001b[0m\u001b[0;34m=\u001b[0m\u001b[0mself\u001b[0m\u001b[0;34m.\u001b[0m\u001b[0mmetrics\u001b[0m\u001b[0;34m,\u001b[0m \u001b[0mcallbacks\u001b[0m\u001b[0;34m=\u001b[0m\u001b[0mself\u001b[0m\u001b[0;34m.\u001b[0m\u001b[0mcallbacks\u001b[0m\u001b[0;34m+\u001b[0m\u001b[0mcallbacks\u001b[0m\u001b[0;34m)\u001b[0m\u001b[0;34m\u001b[0m\u001b[0;34m\u001b[0m\u001b[0m\n\u001b[0m\u001b[1;32m    201\u001b[0m \u001b[0;34m\u001b[0m\u001b[0m\n\u001b[1;32m    202\u001b[0m     \u001b[0;32mdef\u001b[0m \u001b[0mcreate_opt\u001b[0m\u001b[0;34m(\u001b[0m\u001b[0mself\u001b[0m\u001b[0;34m,\u001b[0m \u001b[0mlr\u001b[0m\u001b[0;34m:\u001b[0m\u001b[0mFloats\u001b[0m\u001b[0;34m,\u001b[0m \u001b[0mwd\u001b[0m\u001b[0;34m:\u001b[0m\u001b[0mFloats\u001b[0m\u001b[0;34m=\u001b[0m\u001b[0;36m0.\u001b[0m\u001b[0;34m)\u001b[0m\u001b[0;34m->\u001b[0m\u001b[0;32mNone\u001b[0m\u001b[0;34m:\u001b[0m\u001b[0;34m\u001b[0m\u001b[0;34m\u001b[0m\u001b[0m\n",
      "\u001b[0;32m~/anaconda3/envs/test_env/lib/python3.6/site-packages/fastai/basic_train.py\u001b[0m in \u001b[0;36mfit\u001b[0;34m(epochs, learn, callbacks, metrics)\u001b[0m\n\u001b[1;32m     99\u001b[0m             \u001b[0;32mfor\u001b[0m \u001b[0mxb\u001b[0m\u001b[0;34m,\u001b[0m\u001b[0myb\u001b[0m \u001b[0;32min\u001b[0m \u001b[0mprogress_bar\u001b[0m\u001b[0;34m(\u001b[0m\u001b[0mlearn\u001b[0m\u001b[0;34m.\u001b[0m\u001b[0mdata\u001b[0m\u001b[0;34m.\u001b[0m\u001b[0mtrain_dl\u001b[0m\u001b[0;34m,\u001b[0m \u001b[0mparent\u001b[0m\u001b[0;34m=\u001b[0m\u001b[0mpbar\u001b[0m\u001b[0;34m)\u001b[0m\u001b[0;34m:\u001b[0m\u001b[0;34m\u001b[0m\u001b[0;34m\u001b[0m\u001b[0m\n\u001b[1;32m    100\u001b[0m                 \u001b[0mxb\u001b[0m\u001b[0;34m,\u001b[0m \u001b[0myb\u001b[0m \u001b[0;34m=\u001b[0m \u001b[0mcb_handler\u001b[0m\u001b[0;34m.\u001b[0m\u001b[0mon_batch_begin\u001b[0m\u001b[0;34m(\u001b[0m\u001b[0mxb\u001b[0m\u001b[0;34m,\u001b[0m \u001b[0myb\u001b[0m\u001b[0;34m)\u001b[0m\u001b[0;34m\u001b[0m\u001b[0;34m\u001b[0m\u001b[0m\n\u001b[0;32m--> 101\u001b[0;31m                 \u001b[0mloss\u001b[0m \u001b[0;34m=\u001b[0m \u001b[0mloss_batch\u001b[0m\u001b[0;34m(\u001b[0m\u001b[0mlearn\u001b[0m\u001b[0;34m.\u001b[0m\u001b[0mmodel\u001b[0m\u001b[0;34m,\u001b[0m \u001b[0mxb\u001b[0m\u001b[0;34m,\u001b[0m \u001b[0myb\u001b[0m\u001b[0;34m,\u001b[0m \u001b[0mlearn\u001b[0m\u001b[0;34m.\u001b[0m\u001b[0mloss_func\u001b[0m\u001b[0;34m,\u001b[0m \u001b[0mlearn\u001b[0m\u001b[0;34m.\u001b[0m\u001b[0mopt\u001b[0m\u001b[0;34m,\u001b[0m \u001b[0mcb_handler\u001b[0m\u001b[0;34m)\u001b[0m\u001b[0;34m\u001b[0m\u001b[0;34m\u001b[0m\u001b[0m\n\u001b[0m\u001b[1;32m    102\u001b[0m                 \u001b[0;32mif\u001b[0m \u001b[0mcb_handler\u001b[0m\u001b[0;34m.\u001b[0m\u001b[0mon_batch_end\u001b[0m\u001b[0;34m(\u001b[0m\u001b[0mloss\u001b[0m\u001b[0;34m)\u001b[0m\u001b[0;34m:\u001b[0m \u001b[0;32mbreak\u001b[0m\u001b[0;34m\u001b[0m\u001b[0;34m\u001b[0m\u001b[0m\n\u001b[1;32m    103\u001b[0m \u001b[0;34m\u001b[0m\u001b[0m\n",
      "\u001b[0;32m~/anaconda3/envs/test_env/lib/python3.6/site-packages/fastai/basic_train.py\u001b[0m in \u001b[0;36mloss_batch\u001b[0;34m(model, xb, yb, loss_func, opt, cb_handler)\u001b[0m\n\u001b[1;32m     36\u001b[0m         \u001b[0;32mif\u001b[0m \u001b[0;32mnot\u001b[0m \u001b[0mcb_handler\u001b[0m\u001b[0;34m.\u001b[0m\u001b[0mon_step_end\u001b[0m\u001b[0;34m(\u001b[0m\u001b[0;34m)\u001b[0m\u001b[0;34m:\u001b[0m     \u001b[0mopt\u001b[0m\u001b[0;34m.\u001b[0m\u001b[0mzero_grad\u001b[0m\u001b[0;34m(\u001b[0m\u001b[0;34m)\u001b[0m\u001b[0;34m\u001b[0m\u001b[0;34m\u001b[0m\u001b[0m\n\u001b[1;32m     37\u001b[0m \u001b[0;34m\u001b[0m\u001b[0m\n\u001b[0;32m---> 38\u001b[0;31m     \u001b[0;32mreturn\u001b[0m \u001b[0mloss\u001b[0m\u001b[0;34m.\u001b[0m\u001b[0mdetach\u001b[0m\u001b[0;34m(\u001b[0m\u001b[0;34m)\u001b[0m\u001b[0;34m.\u001b[0m\u001b[0mcpu\u001b[0m\u001b[0;34m(\u001b[0m\u001b[0;34m)\u001b[0m\u001b[0;34m\u001b[0m\u001b[0;34m\u001b[0m\u001b[0m\n\u001b[0m\u001b[1;32m     39\u001b[0m \u001b[0;34m\u001b[0m\u001b[0m\n\u001b[1;32m     40\u001b[0m def get_preds(model:nn.Module, dl:DataLoader, pbar:Optional[PBar]=None, cb_handler:Optional[CallbackHandler]=None,\n",
      "\u001b[0;31mKeyboardInterrupt\u001b[0m: "
     ]
    }
   ],
   "source": [
    "learner.fit_one_cycle(8, lr, moms=(0.8,0.7))"
   ]
  },
  {
   "cell_type": "code",
   "execution_count": 20,
   "metadata": {},
   "outputs": [],
   "source": [
    "learner.save('gpt2_clas-frag128')\n",
    "#learner.load('gpt2_clas')"
   ]
  },
  {
   "cell_type": "markdown",
   "metadata": {},
   "source": [
    "### Evaluate Classifier"
   ]
  },
  {
   "cell_type": "markdown",
   "metadata": {},
   "source": [
    "Evaluate on the proxy task -- classifying fixed-length chunks of bootleg score features."
   ]
  },
  {
   "cell_type": "code",
   "execution_count": 28,
   "metadata": {},
   "outputs": [
    {
     "data": {
      "text/html": [],
      "text/plain": [
       "<IPython.core.display.HTML object>"
      ]
     },
     "metadata": {},
     "output_type": "display_data"
    },
    {
     "data": {
      "text/html": [],
      "text/plain": [
       "<IPython.core.display.HTML object>"
      ]
     },
     "metadata": {},
     "output_type": "display_data"
    }
   ],
   "source": [
    "data_clas_test = TextDataBunch.from_df(bpe_path, train_df, test_df, tokenizer=cust_tok, vocab=transformer_vocab,\n",
    "                                  include_bos=False, include_eos=False, pad_first=False, pad_idx=pad_idx, \n",
    "                                  bs=bs, num_workers=1)"
   ]
  },
  {
   "cell_type": "code",
   "execution_count": 29,
   "metadata": {},
   "outputs": [
    {
     "data": {
      "text/html": [],
      "text/plain": [
       "<IPython.core.display.HTML object>"
      ]
     },
     "metadata": {},
     "output_type": "display_data"
    },
    {
     "data": {
      "text/plain": [
       "[2.9551425, tensor(0.3919), tensor(0.3957)]"
      ]
     },
     "execution_count": 29,
     "metadata": {},
     "output_type": "execute_result"
    }
   ],
   "source": [
    "learner.validate(data_clas_test.valid_dl)"
   ]
  },
  {
   "cell_type": "markdown",
   "metadata": {},
   "source": [
    "Evaluate on the original task -- classifying pages of sheet music.  We can evaluate our models in two ways:\n",
    "- applying the model to a variable length sequence\n",
    "- applying the model to multiple fixed-length windows and averaging the predictions\n",
    "\n",
    "First we evaluate the model on variable length inputs.  Report results with and without applying priors."
   ]
  },
  {
   "cell_type": "code",
   "execution_count": 23,
   "metadata": {
    "scrolled": true
   },
   "outputs": [],
   "source": [
    "train_fullpage_df = pd.read_csv(bpe_path/'train_df.fullpage.char.csv')\n",
    "valid_fullpage_df = pd.read_csv(bpe_path/'valid_df.fullpage.char.csv')\n",
    "test_fullpage_df = pd.read_csv(bpe_path/'test_df.fullpage.char.csv')"
   ]
  },
  {
   "cell_type": "code",
   "execution_count": 24,
   "metadata": {},
   "outputs": [
    {
     "data": {
      "text/html": [],
      "text/plain": [
       "<IPython.core.display.HTML object>"
      ]
     },
     "metadata": {},
     "output_type": "display_data"
    },
    {
     "data": {
      "text/html": [],
      "text/plain": [
       "<IPython.core.display.HTML object>"
      ]
     },
     "metadata": {},
     "output_type": "display_data"
    },
    {
     "data": {
      "text/html": [],
      "text/plain": [
       "<IPython.core.display.HTML object>"
      ]
     },
     "metadata": {},
     "output_type": "display_data"
    }
   ],
   "source": [
    "data_clas_test = TextDataBunch.from_df(bpe_path, train_fullpage_df, valid_fullpage_df, test_fullpage_df,\n",
    "                                       tokenizer=cust_tok, vocab=transformer_vocab, include_bos=False, \n",
    "                                       include_eos=False, pad_first=False, pad_idx=pad_idx, bs=bs, num_workers=1)"
   ]
  },
  {
   "cell_type": "code",
   "execution_count": 25,
   "metadata": {},
   "outputs": [
    {
     "data": {
      "text/html": [],
      "text/plain": [
       "<IPython.core.display.HTML object>"
      ]
     },
     "metadata": {},
     "output_type": "display_data"
    },
    {
     "data": {
      "text/plain": [
       "((0.3688156008720398, 0.40254873037338257),\n",
       " (0.3845426492825089, 0.39610937114910577))"
      ]
     },
     "execution_count": 25,
     "metadata": {},
     "output_type": "execute_result"
    }
   ],
   "source": [
    "(acc, acc_with_prior), (f1, f1_with_prior) = eval_models.calcAccuracy_fullpage(learner, bpe_path, train_fullpage_df, valid_fullpage_df, test_fullpage_df, databunch=data_clas_test)\n",
    "(acc, acc_with_prior), (f1, f1_with_prior)"
   ]
  },
  {
   "cell_type": "markdown",
   "metadata": {},
   "source": [
    "Now we evaluate the model by considering multiple fixed-length windows and averaging the predictions."
   ]
  },
  {
   "cell_type": "code",
   "execution_count": 26,
   "metadata": {
    "scrolled": true
   },
   "outputs": [
    {
     "ename": "FileNotFoundError",
     "evalue": "[Errno 2] File /home/dyang/InstrumentID/train_data/test.ensemble64.char.csv does not exist: '/home/dyang/InstrumentID/train_data/test.ensemble64.char.csv'",
     "output_type": "error",
     "traceback": [
      "\u001b[0;31m---------------------------------------------------------------------------\u001b[0m",
      "\u001b[0;31mFileNotFoundError\u001b[0m                         Traceback (most recent call last)",
      "\u001b[0;32m<ipython-input-26-660c480fa63b>\u001b[0m in \u001b[0;36m<module>\u001b[0;34m\u001b[0m\n\u001b[0;32m----> 1\u001b[0;31m \u001b[0mtest_ensemble_df\u001b[0m \u001b[0;34m=\u001b[0m \u001b[0mpd\u001b[0m\u001b[0;34m.\u001b[0m\u001b[0mread_csv\u001b[0m\u001b[0;34m(\u001b[0m\u001b[0mbpe_path\u001b[0m\u001b[0;34m/\u001b[0m\u001b[0;34m'test.ensemble64.char.csv'\u001b[0m\u001b[0;34m)\u001b[0m\u001b[0;34m\u001b[0m\u001b[0;34m\u001b[0m\u001b[0m\n\u001b[0m",
      "\u001b[0;32m~/anaconda3/envs/test_env/lib/python3.6/site-packages/pandas/io/parsers.py\u001b[0m in \u001b[0;36mparser_f\u001b[0;34m(filepath_or_buffer, sep, delimiter, header, names, index_col, usecols, squeeze, prefix, mangle_dupe_cols, dtype, engine, converters, true_values, false_values, skipinitialspace, skiprows, skipfooter, nrows, na_values, keep_default_na, na_filter, verbose, skip_blank_lines, parse_dates, infer_datetime_format, keep_date_col, date_parser, dayfirst, cache_dates, iterator, chunksize, compression, thousands, decimal, lineterminator, quotechar, quoting, doublequote, escapechar, comment, encoding, dialect, error_bad_lines, warn_bad_lines, delim_whitespace, low_memory, memory_map, float_precision)\u001b[0m\n\u001b[1;32m    674\u001b[0m         )\n\u001b[1;32m    675\u001b[0m \u001b[0;34m\u001b[0m\u001b[0m\n\u001b[0;32m--> 676\u001b[0;31m         \u001b[0;32mreturn\u001b[0m \u001b[0m_read\u001b[0m\u001b[0;34m(\u001b[0m\u001b[0mfilepath_or_buffer\u001b[0m\u001b[0;34m,\u001b[0m \u001b[0mkwds\u001b[0m\u001b[0;34m)\u001b[0m\u001b[0;34m\u001b[0m\u001b[0;34m\u001b[0m\u001b[0m\n\u001b[0m\u001b[1;32m    677\u001b[0m \u001b[0;34m\u001b[0m\u001b[0m\n\u001b[1;32m    678\u001b[0m     \u001b[0mparser_f\u001b[0m\u001b[0;34m.\u001b[0m\u001b[0m__name__\u001b[0m \u001b[0;34m=\u001b[0m \u001b[0mname\u001b[0m\u001b[0;34m\u001b[0m\u001b[0;34m\u001b[0m\u001b[0m\n",
      "\u001b[0;32m~/anaconda3/envs/test_env/lib/python3.6/site-packages/pandas/io/parsers.py\u001b[0m in \u001b[0;36m_read\u001b[0;34m(filepath_or_buffer, kwds)\u001b[0m\n\u001b[1;32m    446\u001b[0m \u001b[0;34m\u001b[0m\u001b[0m\n\u001b[1;32m    447\u001b[0m     \u001b[0;31m# Create the parser.\u001b[0m\u001b[0;34m\u001b[0m\u001b[0;34m\u001b[0m\u001b[0;34m\u001b[0m\u001b[0m\n\u001b[0;32m--> 448\u001b[0;31m     \u001b[0mparser\u001b[0m \u001b[0;34m=\u001b[0m \u001b[0mTextFileReader\u001b[0m\u001b[0;34m(\u001b[0m\u001b[0mfp_or_buf\u001b[0m\u001b[0;34m,\u001b[0m \u001b[0;34m**\u001b[0m\u001b[0mkwds\u001b[0m\u001b[0;34m)\u001b[0m\u001b[0;34m\u001b[0m\u001b[0;34m\u001b[0m\u001b[0m\n\u001b[0m\u001b[1;32m    449\u001b[0m \u001b[0;34m\u001b[0m\u001b[0m\n\u001b[1;32m    450\u001b[0m     \u001b[0;32mif\u001b[0m \u001b[0mchunksize\u001b[0m \u001b[0;32mor\u001b[0m \u001b[0miterator\u001b[0m\u001b[0;34m:\u001b[0m\u001b[0;34m\u001b[0m\u001b[0;34m\u001b[0m\u001b[0m\n",
      "\u001b[0;32m~/anaconda3/envs/test_env/lib/python3.6/site-packages/pandas/io/parsers.py\u001b[0m in \u001b[0;36m__init__\u001b[0;34m(self, f, engine, **kwds)\u001b[0m\n\u001b[1;32m    878\u001b[0m             \u001b[0mself\u001b[0m\u001b[0;34m.\u001b[0m\u001b[0moptions\u001b[0m\u001b[0;34m[\u001b[0m\u001b[0;34m\"has_index_names\"\u001b[0m\u001b[0;34m]\u001b[0m \u001b[0;34m=\u001b[0m \u001b[0mkwds\u001b[0m\u001b[0;34m[\u001b[0m\u001b[0;34m\"has_index_names\"\u001b[0m\u001b[0;34m]\u001b[0m\u001b[0;34m\u001b[0m\u001b[0;34m\u001b[0m\u001b[0m\n\u001b[1;32m    879\u001b[0m \u001b[0;34m\u001b[0m\u001b[0m\n\u001b[0;32m--> 880\u001b[0;31m         \u001b[0mself\u001b[0m\u001b[0;34m.\u001b[0m\u001b[0m_make_engine\u001b[0m\u001b[0;34m(\u001b[0m\u001b[0mself\u001b[0m\u001b[0;34m.\u001b[0m\u001b[0mengine\u001b[0m\u001b[0;34m)\u001b[0m\u001b[0;34m\u001b[0m\u001b[0;34m\u001b[0m\u001b[0m\n\u001b[0m\u001b[1;32m    881\u001b[0m \u001b[0;34m\u001b[0m\u001b[0m\n\u001b[1;32m    882\u001b[0m     \u001b[0;32mdef\u001b[0m \u001b[0mclose\u001b[0m\u001b[0;34m(\u001b[0m\u001b[0mself\u001b[0m\u001b[0;34m)\u001b[0m\u001b[0;34m:\u001b[0m\u001b[0;34m\u001b[0m\u001b[0;34m\u001b[0m\u001b[0m\n",
      "\u001b[0;32m~/anaconda3/envs/test_env/lib/python3.6/site-packages/pandas/io/parsers.py\u001b[0m in \u001b[0;36m_make_engine\u001b[0;34m(self, engine)\u001b[0m\n\u001b[1;32m   1112\u001b[0m     \u001b[0;32mdef\u001b[0m \u001b[0m_make_engine\u001b[0m\u001b[0;34m(\u001b[0m\u001b[0mself\u001b[0m\u001b[0;34m,\u001b[0m \u001b[0mengine\u001b[0m\u001b[0;34m=\u001b[0m\u001b[0;34m\"c\"\u001b[0m\u001b[0;34m)\u001b[0m\u001b[0;34m:\u001b[0m\u001b[0;34m\u001b[0m\u001b[0;34m\u001b[0m\u001b[0m\n\u001b[1;32m   1113\u001b[0m         \u001b[0;32mif\u001b[0m \u001b[0mengine\u001b[0m \u001b[0;34m==\u001b[0m \u001b[0;34m\"c\"\u001b[0m\u001b[0;34m:\u001b[0m\u001b[0;34m\u001b[0m\u001b[0;34m\u001b[0m\u001b[0m\n\u001b[0;32m-> 1114\u001b[0;31m             \u001b[0mself\u001b[0m\u001b[0;34m.\u001b[0m\u001b[0m_engine\u001b[0m \u001b[0;34m=\u001b[0m \u001b[0mCParserWrapper\u001b[0m\u001b[0;34m(\u001b[0m\u001b[0mself\u001b[0m\u001b[0;34m.\u001b[0m\u001b[0mf\u001b[0m\u001b[0;34m,\u001b[0m \u001b[0;34m**\u001b[0m\u001b[0mself\u001b[0m\u001b[0;34m.\u001b[0m\u001b[0moptions\u001b[0m\u001b[0;34m)\u001b[0m\u001b[0;34m\u001b[0m\u001b[0;34m\u001b[0m\u001b[0m\n\u001b[0m\u001b[1;32m   1115\u001b[0m         \u001b[0;32melse\u001b[0m\u001b[0;34m:\u001b[0m\u001b[0;34m\u001b[0m\u001b[0;34m\u001b[0m\u001b[0m\n\u001b[1;32m   1116\u001b[0m             \u001b[0;32mif\u001b[0m \u001b[0mengine\u001b[0m \u001b[0;34m==\u001b[0m \u001b[0;34m\"python\"\u001b[0m\u001b[0;34m:\u001b[0m\u001b[0;34m\u001b[0m\u001b[0;34m\u001b[0m\u001b[0m\n",
      "\u001b[0;32m~/anaconda3/envs/test_env/lib/python3.6/site-packages/pandas/io/parsers.py\u001b[0m in \u001b[0;36m__init__\u001b[0;34m(self, src, **kwds)\u001b[0m\n\u001b[1;32m   1889\u001b[0m         \u001b[0mkwds\u001b[0m\u001b[0;34m[\u001b[0m\u001b[0;34m\"usecols\"\u001b[0m\u001b[0;34m]\u001b[0m \u001b[0;34m=\u001b[0m \u001b[0mself\u001b[0m\u001b[0;34m.\u001b[0m\u001b[0musecols\u001b[0m\u001b[0;34m\u001b[0m\u001b[0;34m\u001b[0m\u001b[0m\n\u001b[1;32m   1890\u001b[0m \u001b[0;34m\u001b[0m\u001b[0m\n\u001b[0;32m-> 1891\u001b[0;31m         \u001b[0mself\u001b[0m\u001b[0;34m.\u001b[0m\u001b[0m_reader\u001b[0m \u001b[0;34m=\u001b[0m \u001b[0mparsers\u001b[0m\u001b[0;34m.\u001b[0m\u001b[0mTextReader\u001b[0m\u001b[0;34m(\u001b[0m\u001b[0msrc\u001b[0m\u001b[0;34m,\u001b[0m \u001b[0;34m**\u001b[0m\u001b[0mkwds\u001b[0m\u001b[0;34m)\u001b[0m\u001b[0;34m\u001b[0m\u001b[0;34m\u001b[0m\u001b[0m\n\u001b[0m\u001b[1;32m   1892\u001b[0m         \u001b[0mself\u001b[0m\u001b[0;34m.\u001b[0m\u001b[0munnamed_cols\u001b[0m \u001b[0;34m=\u001b[0m \u001b[0mself\u001b[0m\u001b[0;34m.\u001b[0m\u001b[0m_reader\u001b[0m\u001b[0;34m.\u001b[0m\u001b[0munnamed_cols\u001b[0m\u001b[0;34m\u001b[0m\u001b[0;34m\u001b[0m\u001b[0m\n\u001b[1;32m   1893\u001b[0m \u001b[0;34m\u001b[0m\u001b[0m\n",
      "\u001b[0;32mpandas/_libs/parsers.pyx\u001b[0m in \u001b[0;36mpandas._libs.parsers.TextReader.__cinit__\u001b[0;34m()\u001b[0m\n",
      "\u001b[0;32mpandas/_libs/parsers.pyx\u001b[0m in \u001b[0;36mpandas._libs.parsers.TextReader._setup_parser_source\u001b[0;34m()\u001b[0m\n",
      "\u001b[0;31mFileNotFoundError\u001b[0m: [Errno 2] File /home/dyang/InstrumentID/train_data/test.ensemble64.char.csv does not exist: '/home/dyang/InstrumentID/train_data/test.ensemble64.char.csv'"
     ]
    }
   ],
   "source": [
    "test_ensemble_df = pd.read_csv(bpe_path/'test.ensemble64.char.csv')"
   ]
  },
  {
   "cell_type": "code",
   "execution_count": null,
   "metadata": {},
   "outputs": [],
   "source": [
    "data_clas_test = TextDataBunch.from_df(bpe_path, train_fullpage_df, valid_fullpage_df, test_ensemble_df,\n",
    "                                       text_cols = 'text', label_cols = 'label', tokenizer=cust_tok, \n",
    "                                       vocab=transformer_vocab, include_bos=False, include_eos=False, \n",
    "                                       pad_first=False, pad_idx=pad_idx, bs=bs, num_workers=1)"
   ]
  },
  {
   "cell_type": "code",
   "execution_count": null,
   "metadata": {},
   "outputs": [],
   "source": [
    "(acc, acc_with_prior), (f1, f1_with_prior) = eval_models.calcAccuracy_fullpage(learner, bpe_path, train_fullpage_df, valid_fullpage_df, test_ensemble_df, databunch=data_clas_test, ensembled=True)\n",
    "(acc, acc_with_prior), (f1, f1_with_prior)"
   ]
  },
  {
   "cell_type": "markdown",
   "metadata": {},
   "source": [
    "### Error Analysis"
   ]
  },
  {
   "cell_type": "code",
   "execution_count": 42,
   "metadata": {},
   "outputs": [
    {
     "data": {
      "text/html": [],
      "text/plain": [
       "<IPython.core.display.HTML object>"
      ]
     },
     "metadata": {},
     "output_type": "display_data"
    }
   ],
   "source": [
    "interp = ClassificationInterpretation.from_learner(learner)"
   ]
  },
  {
   "cell_type": "code",
   "execution_count": 43,
   "metadata": {},
   "outputs": [
    {
     "data": {
      "image/png": "[encoded data removed]",
      "text/plain": [
       "<Figure size 864x864 with 1 Axes>"
      ]
     },
     "metadata": {
      "needs_background": "light"
     },
     "output_type": "display_data"
    }
   ],
   "source": [
    "interp.plot_confusion_matrix(figsize=(12,12))"
   ]
  },
  {
   "cell_type": "code",
   "execution_count": 4,
   "metadata": {
    "scrolled": false
   },
   "outputs": [
    {
     "data": {
      "text/plain": [
       "<BarContainer object of 3 artists>"
      ]
     },
     "execution_count": 4,
     "metadata": {},
     "output_type": "execute_result"
    },
    {
     "data": {
      "image/png": "[encoded data removed]",
      "text/plain": [
       "<Figure size 432x288 with 1 Axes>"
      ]
     },
     "metadata": {
      "needs_background": "light"
     },
     "output_type": "display_data"
    }
   ],
   "source": [
    "import matplotlib.pyplot as plt\n",
    "plt.bar(['No PT','Target PT','Unlabeled PT'],[.374,.176, 0.117])"
   ]
  },
  {
   "cell_type": "code",
   "execution_count": 7,
   "metadata": {},
   "outputs": [
    {
     "data": {
      "image/png": "[encoded data removed]",
      "text/plain": [
       "<Figure size 432x288 with 1 Axes>"
      ]
     },
     "metadata": {
      "needs_background": "light"
     },
     "output_type": "display_data"
    }
   ],
   "source": [
    "import numpy as np\n",
    "labels = ['No PT','Target PT','Unlabeled PT']\n",
    "men_means = [.374,.176, 0.117]\n",
    "women_means = [.324,.101, 0.1119]\n",
    "\n",
    "x = np.arange(len(labels))  # the label locations\n",
    "width = 0.35  # the width of the bars\n",
    "\n",
    "fig, ax = plt.subplots()\n",
    "rects1 = ax.bar(x - width/2, men_means, width, label='Proxy')\n",
    "rects2 = ax.bar(x + width/2, women_means, width, label='Fullpage')\n"
   ]
  },
  {
   "cell_type": "code",
   "execution_count": null,
   "metadata": {},
   "outputs": [],
   "source": []
  }
 ],
 "metadata": {
  "kernelspec": {
   "display_name": "Python 3",
   "language": "python",
   "name": "python3"
  },
  "language_info": {
   "codemirror_mode": {
    "name": "ipython",
    "version": 3
   },
   "file_extension": ".py",
   "mimetype": "text/x-python",
   "name": "python",
   "nbconvert_exporter": "python",
   "pygments_lexer": "ipython3",
   "version": "3.6.7"
  },
  "toc": {
   "base_numbering": 1,
   "nav_menu": {},
   "number_sections": false,
   "sideBar": true,
   "skip_h1_title": true,
   "title_cell": "Table of Contents",
   "title_sidebar": "Contents",
   "toc_cell": false,
   "toc_position": {},
   "toc_section_display": true,
   "toc_window_display": false
  }
 },
 "nbformat": 4,
 "nbformat_minor": 2
}
