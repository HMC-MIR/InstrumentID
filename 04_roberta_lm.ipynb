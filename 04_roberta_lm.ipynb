{
 "cells": [
  {
   "cell_type": "markdown",
   "metadata": {},
   "source": [
    "# Training a RoBERTa Language Model"
   ]
  },
  {
   "cell_type": "markdown",
   "metadata": {},
   "source": [
    "In this notebook we train a RoBERTa language model on the IMSLP and/or target data.  This code can be used to train two different language models: (a) one that is trained on target data, and (b) one that is trained on IMSLP data and finetuned on target data.  For (a), you can stop at the end of the section entitled \"Train Language Model\".\n",
    "\n",
    "Note that this notebook needs to be run in a different virtual environment from previous notebooks because it requires a different version of the transformers library than is used by the fastai library.  This environment is specified in requirements_lm.txt."
   ]
  },
  {
   "cell_type": "code",
   "execution_count": 21,
   "metadata": {},
   "outputs": [],
   "source": [
    "%matplotlib inline"
   ]
  },
  {
   "cell_type": "code",
   "execution_count": 22,
   "metadata": {},
   "outputs": [],
   "source": [
    "from pathlib import Path\n",
    "import json\n",
    "from train_utils import plotLosses\n",
    "import transformers"
   ]
  },
  {
   "cell_type": "code",
   "execution_count": 23,
   "metadata": {},
   "outputs": [],
   "source": [
    "bpe_path = Path('/home/dyang/InstrumentID/')\n",
    "bpe_path.mkdir(exist_ok=True, parents=True)"
   ]
  },
  {
   "cell_type": "markdown",
   "metadata": {},
   "source": [
    "### Train Language Model"
   ]
  },
  {
   "cell_type": "code",
   "execution_count": 24,
   "metadata": {},
   "outputs": [],
   "source": [
    "data_type = 'target' # 'target' or 'imslp'"
   ]
  },
  {
   "cell_type": "code",
   "execution_count": 25,
   "metadata": {},
   "outputs": [],
   "source": [
    "lm_train_file = bpe_path'+lm_train_data/bpe_data-imslp_train.txt'\n",
    "lm_valid_file =bpe_path+'lm_train_data/bpe_data-imslp_valid.txt'\n",
    "tok_path = Path(bpe_path+'roberta_tok/shift0')\n",
    "output_model_path = bpe_path+'roBERTa_train_lm-imslp-shift0'"
   ]
  },
  {
   "cell_type": "code",
   "execution_count": 26,
   "metadata": {},
   "outputs": [],
   "source": [
    "# changes from defaults:\n",
    "# vocab_size: 30522 -> 30000\n",
    "# num_hidden_layers: 12 -> 6\n",
    "# max_position_embeddings: 512 -> 514 (or 258)\n",
    "# type_vocab_size: 2 -> 1\n",
    "# layer_norm_eps: 1e-12 -> 1e-5\n",
    "config = {\n",
    "    \"architectures\": [\n",
    "        \"RobertaForMaskedLM\"\n",
    "    ],\n",
    "    \"attention_probs_dropout_prob\": 0.1,\n",
    "    \"hidden_act\": \"gelu\",\n",
    "    \"hidden_dropout_prob\": 0.1,\n",
    "    \"hidden_size\": 768,\n",
    "    \"initializer_range\": 0.02,\n",
    "    \"intermediate_size\": 3072,\n",
    "    \"layer_norm_eps\": 1e-05,\n",
    "    \"max_position_embeddings\": 514,\n",
    "    \"model_type\": \"roberta\",\n",
    "    \"num_attention_heads\": 12,\n",
    "    \"num_hidden_layers\": 6,\n",
    "    \"type_vocab_size\": 1,\n",
    "    \"vocab_size\": 30000\n",
    "    }"
   ]
  },
  {
   "cell_type": "code",
   "execution_count": 27,
   "metadata": {},
   "outputs": [],
   "source": [
    "with open(f\"{tok_path}/config.json\", 'w') as fp:\n",
    "    json.dump(config, fp)"
   ]
  },
  {
   "cell_type": "code",
   "execution_count": 29,
   "metadata": {},
   "outputs": [],
   "source": [
    "cmd = f\"\"\"\n",
    "python ./run_language_modeling.py\n",
    "--train_data_file {lm_train_file}\n",
    "--output_dir {output_model_path}\n",
    "--model_type roberta\n",
    "--eval_data_file {lm_valid_file}\n",
    "--line_by_line\n",
    "--mlm\n",
    "--config_name {tok_path}\n",
    "--tokenizer_name {tok_path}\n",
    "--do_train\n",
    "--do_eval\n",
    "--evaluate_during_training\n",
    "--per_gpu_train_batch_size 20\n",
    "--per_gpu_eval_batch_size 20\n",
    "--learning_rate 1e-4\n",
    "--num_train_epochs 60\n",
    "--logging_steps 163\n",
    "--save_steps 815\n",
    "--seed 42\n",
    "--overwrite_output_dir\n",
    "\"\"\".replace(\"\\n\", \" \")\n",
    "#--should_continue'\n",
    "#--save_total_limit 2\n",
    "\n",
    "# target ctx258: batch 26, epoch = 126 steps, 60 epochs\n",
    "# imslp ctx258: batch 26, epoch = 4419 steps, 8 epochs\n",
    "# target ctx514: batch 20, epoch = 163 steps, 60 epochs\n",
    "# imslp ctx514: batch 20, epoch = 5744 steps, 8 epochs"
   ]
  },
  {
   "cell_type": "code",
   "execution_count": 30,
   "metadata": {},
   "outputs": [],
   "source": [
    "!echo {cmd} > train_roberta_imslp.sh"
   ]
  },
  {
   "cell_type": "code",
   "execution_count": 10,
   "metadata": {
    "scrolled": true
   },
   "outputs": [
    {
     "name": "stdout",
     "output_type": "stream",
     "text": [
      "/home/dyang/anaconda3/envs/test_env/lib/python3.6/site-packages/tensorflow/python/framework/dtypes.py:523: FutureWarning: Passing (type, 1) or '1type' as a synonym of type is deprecated; in a future version of numpy, it will be understood as (type, (1,)) / '(1,)type'.\n",
      "  _np_qint8 = np.dtype([(\"qint8\", np.int8, 1)])\n",
      "/home/dyang/anaconda3/envs/test_env/lib/python3.6/site-packages/tensorflow/python/framework/dtypes.py:524: FutureWarning: Passing (type, 1) or '1type' as a synonym of type is deprecated; in a future version of numpy, it will be understood as (type, (1,)) / '(1,)type'.\n",
      "  _np_quint8 = np.dtype([(\"quint8\", np.uint8, 1)])\n",
      "/home/dyang/anaconda3/envs/test_env/lib/python3.6/site-packages/tensorflow/python/framework/dtypes.py:525: FutureWarning: Passing (type, 1) or '1type' as a synonym of type is deprecated; in a future version of numpy, it will be understood as (type, (1,)) / '(1,)type'.\n",
      "  _np_qint16 = np.dtype([(\"qint16\", np.int16, 1)])\n",
      "/home/dyang/anaconda3/envs/test_env/lib/python3.6/site-packages/tensorflow/python/framework/dtypes.py:526: FutureWarning: Passing (type, 1) or '1type' as a synonym of type is deprecated; in a future version of numpy, it will be understood as (type, (1,)) / '(1,)type'.\n",
      "  _np_quint16 = np.dtype([(\"quint16\", np.uint16, 1)])\n",
      "/home/dyang/anaconda3/envs/test_env/lib/python3.6/site-packages/tensorflow/python/framework/dtypes.py:527: FutureWarning: Passing (type, 1) or '1type' as a synonym of type is deprecated; in a future version of numpy, it will be understood as (type, (1,)) / '(1,)type'.\n",
      "  _np_qint32 = np.dtype([(\"qint32\", np.int32, 1)])\n",
      "/home/dyang/anaconda3/envs/test_env/lib/python3.6/site-packages/tensorflow/python/framework/dtypes.py:532: FutureWarning: Passing (type, 1) or '1type' as a synonym of type is deprecated; in a future version of numpy, it will be understood as (type, (1,)) / '(1,)type'.\n",
      "  np_resource = np.dtype([(\"resource\", np.ubyte, 1)])\n",
      "----------------------------------------\n",
      "-1\n",
      "cuda\n",
      "1\n",
      "----------------------------------------------------\n",
      "10/13/2020 02:47:58 - WARNING - __main__ -   Process rank: -1, device: cuda, n_gpu: 1, distributed training: False, 16-bits training: False\n",
      "10/13/2020 02:47:58 - INFO - transformers.configuration_utils -   loading configuration file /home/dyang/InstrumentID/tokenizer/roberta_tok/shift0/config.json\n",
      "10/13/2020 02:47:58 - INFO - transformers.configuration_utils -   Model config RobertaConfig {\n",
      "  \"architectures\": [\n",
      "    \"RobertaForMaskedLM\"\n",
      "  ],\n",
      "  \"attention_probs_dropout_prob\": 0.1,\n",
      "  \"bos_token_id\": 0,\n",
      "  \"do_sample\": false,\n",
      "  \"eos_token_ids\": 0,\n",
      "  \"finetuning_task\": null,\n",
      "  \"hidden_act\": \"gelu\",\n",
      "  \"hidden_dropout_prob\": 0.1,\n",
      "  \"hidden_size\": 768,\n",
      "  \"id2label\": {\n",
      "    \"0\": \"LABEL_0\",\n",
      "    \"1\": \"LABEL_1\"\n",
      "  },\n",
      "  \"initializer_range\": 0.02,\n",
      "  \"intermediate_size\": 3072,\n",
      "  \"is_decoder\": false,\n",
      "  \"label2id\": {\n",
      "    \"LABEL_0\": 0,\n",
      "    \"LABEL_1\": 1\n",
      "  },\n",
      "  \"layer_norm_eps\": 1e-05,\n",
      "  \"length_penalty\": 1.0,\n",
      "  \"max_length\": 20,\n",
      "  \"max_position_embeddings\": 514,\n",
      "  \"model_type\": \"roberta\",\n",
      "  \"num_attention_heads\": 12,\n",
      "  \"num_beams\": 1,\n",
      "  \"num_hidden_layers\": 6,\n",
      "  \"num_labels\": 2,\n",
      "  \"num_return_sequences\": 1,\n",
      "  \"output_attentions\": false,\n",
      "  \"output_hidden_states\": false,\n",
      "  \"output_past\": true,\n",
      "  \"pad_token_id\": 0,\n",
      "  \"pruned_heads\": {},\n",
      "  \"repetition_penalty\": 1.0,\n",
      "  \"temperature\": 1.0,\n",
      "  \"top_k\": 50,\n",
      "  \"top_p\": 1.0,\n",
      "  \"torchscript\": false,\n",
      "  \"type_vocab_size\": 1,\n",
      "  \"use_bfloat16\": false,\n",
      "  \"vocab_size\": 30000\n",
      "}\n",
      "\n",
      "10/13/2020 02:47:58 - INFO - transformers.tokenization_utils -   Model name '/home/dyang/InstrumentID/tokenizer/roberta_tok/shift0' not found in model shortcut name list (roberta-base, roberta-large, roberta-large-mnli, distilroberta-base, roberta-base-openai-detector, roberta-large-openai-detector). Assuming '/home/dyang/InstrumentID/tokenizer/roberta_tok/shift0' is a path, a model identifier, or url to a directory containing tokenizer files.\n",
      "10/13/2020 02:47:58 - INFO - transformers.tokenization_utils -   Didn't find file /home/dyang/InstrumentID/tokenizer/roberta_tok/shift0/added_tokens.json. We won't load it.\n",
      "10/13/2020 02:47:58 - INFO - transformers.tokenization_utils -   Didn't find file /home/dyang/InstrumentID/tokenizer/roberta_tok/shift0/special_tokens_map.json. We won't load it.\n",
      "10/13/2020 02:47:58 - INFO - transformers.tokenization_utils -   Didn't find file /home/dyang/InstrumentID/tokenizer/roberta_tok/shift0/tokenizer_config.json. We won't load it.\n",
      "10/13/2020 02:47:58 - INFO - transformers.tokenization_utils -   loading file /home/dyang/InstrumentID/tokenizer/roberta_tok/shift0/vocab.json\n",
      "10/13/2020 02:47:58 - INFO - transformers.tokenization_utils -   loading file /home/dyang/InstrumentID/tokenizer/roberta_tok/shift0/merges.txt\n",
      "10/13/2020 02:47:58 - INFO - transformers.tokenization_utils -   loading file None\n",
      "10/13/2020 02:47:58 - INFO - transformers.tokenization_utils -   loading file None\n",
      "10/13/2020 02:47:58 - INFO - transformers.tokenization_utils -   loading file None\n",
      "10/13/2020 02:47:58 - INFO - __main__ -   Training new model from scratch\n",
      "^C\n",
      "Traceback (most recent call last):\n",
      "  File \"./run_language_modeling.py\", line 869, in <module>\n",
      "    main()\n",
      "  File \"./run_language_modeling.py\", line 800, in main\n",
      "    model = model_class(config=config)\n",
      "  File \"/home/dyang/anaconda3/envs/test_env/lib/python3.6/site-packages/transformers/modeling_roberta.py\", line 184, in __init__\n",
      "    self.init_weights()\n",
      "  File \"/home/dyang/anaconda3/envs/test_env/lib/python3.6/site-packages/transformers/modeling_utils.py\", line 252, in init_weights\n",
      "    self.apply(self._init_weights)\n",
      "  File \"/home/dyang/anaconda3/envs/test_env/lib/python3.6/site-packages/torch/nn/modules/module.py\", line 440, in apply\n",
      "    module.apply(fn)\n",
      "  File \"/home/dyang/anaconda3/envs/test_env/lib/python3.6/site-packages/torch/nn/modules/module.py\", line 440, in apply\n",
      "    module.apply(fn)\n",
      "  File \"/home/dyang/anaconda3/envs/test_env/lib/python3.6/site-packages/torch/nn/modules/module.py\", line 440, in apply\n",
      "    module.apply(fn)\n",
      "  [Previous line repeated 3 more times]\n",
      "  File \"/home/dyang/anaconda3/envs/test_env/lib/python3.6/site-packages/torch/nn/modules/module.py\", line 441, in apply\n",
      "    fn(self)\n",
      "  File \"/home/dyang/anaconda3/envs/test_env/lib/python3.6/site-packages/transformers/modeling_bert.py\", line 541, in _init_weights\n",
      "    module.weight.data.normal_(mean=0.0, std=self.config.initializer_range)\n",
      "KeyboardInterrupt\n"
     ]
    }
   ],
   "source": [
    "#you may need to run this in a bash shell with correct virtual environment\n",
    "!./train_roberta_imslp.sh"
   ]
  },
  {
   "cell_type": "code",
   "execution_count": 34,
   "metadata": {
    "scrolled": true
   },
   "outputs": [
    {
     "data": {
      "image/png": "[encoded data removed]",
      "text/plain": [
       "<Figure size 432x288 with 1 Axes>"
      ]
     },
     "metadata": {
      "needs_background": "light"
     },
     "output_type": "display_data"
    }
   ],
   "source": [
    "with open(f\"{'roBERTa_train_lm-imslp-shift0'}/config.json\", 'w') as fp:\n",
    "    json.dump(config, fp)\n",
    "plotLosses('roBERTa_train_lm-imslp-shift0'+'/eval_results.txt')"
   ]
  },
  {
   "cell_type": "markdown",
   "metadata": {},
   "source": [
    "### Finetune Language Model"
   ]
  },
  {
   "cell_type": "markdown",
   "metadata": {},
   "source": [
    "This section only applies for the LM trained on IMSLP data."
   ]
  },
  {
   "cell_type": "code",
   "execution_count": 36,
   "metadata": {},
   "outputs": [],
   "source": [
    "finetuned_models_path = bpe_path+'roBERTa_train_lm-finetune-shift0'\n",
    "lm_train_file = bpe_path+'lm_train_data/bpe_data-target_train-shift0.txt'\n",
    "lm_valid_file = bpe_path+'lm_train_data/bpe_data-target_valid-shift0.txt'\n",
    "output_model_path = bpe_path+'/roBERTa_train_lm-all-shift0'"
   ]
  },
  {
   "cell_type": "code",
   "execution_count": 41,
   "metadata": {},
   "outputs": [],
   "source": [
    "cmd = f\"\"\"\n",
    "python ./run_language_modeling.py\n",
    "--train_data_file {lm_train_file}\n",
    "--output_dir {finetuned_models_path}\n",
    "--model_type roberta\n",
    "--eval_data_file {lm_valid_file}\n",
    "--line_by_line\n",
    "--model_name_or_path {output_model_path}\n",
    "--tokenizer_name {output_model_path}\n",
    "--mlm\n",
    "--do_train\n",
    "--do_eval\n",
    "--evaluate_during_training\n",
    "--per_gpu_train_batch_size 20\n",
    "--per_gpu_eval_batch_size 20\n",
    "--learning_rate 5e-5\n",
    "--num_train_epochs 50\n",
    "--logging_steps 163\n",
    "--save_steps 326\n",
    "--seed 42\n",
    "--overwrite_output_dir\n",
    "\"\"\".replace(\"\\n\", \" \")\n",
    "#--should_continue\n",
    "#--save_total_limit 2"
   ]
  },
  {
   "cell_type": "code",
   "execution_count": 42,
   "metadata": {},
   "outputs": [],
   "source": [
    "!echo {cmd} > train_lm.sh"
   ]
  },
  {
   "cell_type": "code",
   "execution_count": 49,
   "metadata": {},
   "outputs": [
    {
     "data": {
      "image/png": "[encoded data removed]",
      "text/plain": [
       "<Figure size 432x288 with 1 Axes>"
      ]
     },
     "metadata": {
      "needs_background": "light"
     },
     "output_type": "display_data"
    }
   ],
   "source": [
    "plotLosses(finetuned_models_path+'/eval_results.txt')"
   ]
  },
  {
   "cell_type": "code",
   "execution_count": null,
   "metadata": {},
   "outputs": [],
   "source": []
  }
 ],
 "metadata": {
  "kernelspec": {
   "display_name": "Python 3",
   "language": "python",
   "name": "python3"
  },
  "language_info": {
   "codemirror_mode": {
    "name": "ipython",
    "version": 3
   },
   "file_extension": ".py",
   "mimetype": "text/x-python",
   "name": "python",
   "nbconvert_exporter": "python",
   "pygments_lexer": "ipython3",
   "version": "3.6.7"
  },
  "toc": {
   "base_numbering": 1,
   "nav_menu": {},
   "number_sections": false,
   "sideBar": true,
   "skip_h1_title": true,
   "title_cell": "Table of Contents",
   "title_sidebar": "Contents",
   "toc_cell": false,
   "toc_position": {},
   "toc_section_display": true,
   "toc_window_display": false
  }
 },
 "nbformat": 4,
 "nbformat_minor": 2
}
